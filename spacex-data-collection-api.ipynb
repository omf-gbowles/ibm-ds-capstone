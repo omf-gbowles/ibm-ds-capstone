{
    "cells": [
        {
            "cell_type": "markdown",
            "metadata": {
                "application/vnd.databricks.v1+cell": {
                    "cellMetadata": {},
                    "inputWidgets": {},
                    "nuid": "599d20a3-003d-4116-8168-dbdbfc85cfb9",
                    "showTitle": false,
                    "title": ""
                }
            },
            "source": "<p style=\"text-align:center\">\n    <a href=\"https://skills.network/?utm_medium=Exinfluencer&utm_source=Exinfluencer&utm_content=000026UJ&utm_term=10006555&utm_id=NA-SkillsNetwork-Channel-SkillsNetworkCoursesIBMDS0321ENSkillsNetwork865-2022-01-01\" target=\"_blank\">\n    <img src=\"https://cf-courses-data.s3.us.cloud-object-storage.appdomain.cloud/assets/logos/SN_web_lightmode.png\" width=\"200\" alt=\"Skills Network Logo\"  />\n    </a>\n</p>"
        },
        {
            "cell_type": "markdown",
            "metadata": {
                "application/vnd.databricks.v1+cell": {
                    "cellMetadata": {},
                    "inputWidgets": {},
                    "nuid": "4575e2cf-2561-443a-93f5-88a409c93e17",
                    "showTitle": false,
                    "title": ""
                }
            },
            "source": "# **SpaceX  Falcon 9 first stage Landing Prediction**"
        },
        {
            "cell_type": "markdown",
            "metadata": {
                "application/vnd.databricks.v1+cell": {
                    "cellMetadata": {},
                    "inputWidgets": {},
                    "nuid": "64647986-ef96-493b-a7e3-62042f5f7bee",
                    "showTitle": false,
                    "title": ""
                }
            },
            "source": "# Lab 1: Collecting the data"
        },
        {
            "cell_type": "markdown",
            "metadata": {
                "application/vnd.databricks.v1+cell": {
                    "cellMetadata": {},
                    "inputWidgets": {},
                    "nuid": "547d9e6a-81ad-498b-b8dd-5975d1df2828",
                    "showTitle": false,
                    "title": ""
                }
            },
            "source": "Estimated time needed: **45** minutes"
        },
        {
            "cell_type": "markdown",
            "metadata": {
                "application/vnd.databricks.v1+cell": {
                    "cellMetadata": {},
                    "inputWidgets": {},
                    "nuid": "49f9af43-e7ec-45fd-8cbe-73d5e674356e",
                    "showTitle": false,
                    "title": ""
                }
            },
            "source": "In this capstone, we will predict if the Falcon 9 first stage will land successfully. SpaceX advertises Falcon 9 rocket launches on its website with a cost of 62 million dollars; other providers cost upward of 165 million dollars each, much of the savings is because SpaceX can reuse the first stage. Therefore if we can determine if the first stage will land, we can determine the cost of a launch. This information can be used if an alternate company wants to bid against SpaceX for a rocket launch. In this lab, you will collect and make sure the data is in the correct format from an API. The following is an example of a successful and launch."
        },
        {
            "cell_type": "markdown",
            "metadata": {
                "application/vnd.databricks.v1+cell": {
                    "cellMetadata": {},
                    "inputWidgets": {},
                    "nuid": "3782810a-d7d3-4dee-a796-c0239f84910f",
                    "showTitle": false,
                    "title": ""
                }
            },
            "source": "![](https://cf-courses-data.s3.us.cloud-object-storage.appdomain.cloud/IBMDeveloperSkillsNetwork-DS0701EN-SkillsNetwork/lab_v2/images/landing_1.gif)"
        },
        {
            "cell_type": "markdown",
            "metadata": {
                "application/vnd.databricks.v1+cell": {
                    "cellMetadata": {},
                    "inputWidgets": {},
                    "nuid": "d1a68bd9-5b77-4e07-ac68-6db6948f3d36",
                    "showTitle": false,
                    "title": ""
                }
            },
            "source": "Several examples of an unsuccessful landing are shown here:"
        },
        {
            "cell_type": "markdown",
            "metadata": {
                "application/vnd.databricks.v1+cell": {
                    "cellMetadata": {},
                    "inputWidgets": {},
                    "nuid": "a2abcec6-c3eb-46a6-b9dd-472127574e52",
                    "showTitle": false,
                    "title": ""
                }
            },
            "source": "![](https://cf-courses-data.s3.us.cloud-object-storage.appdomain.cloud/IBMDeveloperSkillsNetwork-DS0701EN-SkillsNetwork/lab_v2/images/crash.gif)"
        },
        {
            "cell_type": "markdown",
            "metadata": {
                "application/vnd.databricks.v1+cell": {
                    "cellMetadata": {},
                    "inputWidgets": {},
                    "nuid": "e54f9c29-6d81-47bf-889d-4744829df6a2",
                    "showTitle": false,
                    "title": ""
                }
            },
            "source": "Most unsuccessful landings are planned. Space X performs a controlled landing in the oceans."
        },
        {
            "cell_type": "markdown",
            "metadata": {
                "application/vnd.databricks.v1+cell": {
                    "cellMetadata": {},
                    "inputWidgets": {},
                    "nuid": "ca006545-9e14-4c37-9509-d4181a6cecdd",
                    "showTitle": false,
                    "title": ""
                }
            },
            "source": "## Objectives"
        },
        {
            "cell_type": "markdown",
            "metadata": {
                "application/vnd.databricks.v1+cell": {
                    "cellMetadata": {},
                    "inputWidgets": {},
                    "nuid": "337f6262-6147-423d-a8c4-1ca1e3c4b833",
                    "showTitle": false,
                    "title": ""
                }
            },
            "source": "In this lab, you will make a get request to the SpaceX API. You will also do some basic data wrangling and formating. \n\n- Request to the SpaceX API\n- Clean the requested data"
        },
        {
            "cell_type": "markdown",
            "metadata": {
                "application/vnd.databricks.v1+cell": {
                    "cellMetadata": {},
                    "inputWidgets": {},
                    "nuid": "3ed240aa-5eb5-40d4-8904-d10b56e96439",
                    "showTitle": false,
                    "title": ""
                }
            },
            "source": "----"
        },
        {
            "cell_type": "markdown",
            "metadata": {
                "application/vnd.databricks.v1+cell": {
                    "cellMetadata": {},
                    "inputWidgets": {},
                    "nuid": "afd69b6e-e033-44c9-b734-0d13d9eefb51",
                    "showTitle": false,
                    "title": ""
                }
            },
            "source": "## Import Libraries and Define Auxiliary Functions"
        },
        {
            "cell_type": "markdown",
            "metadata": {
                "application/vnd.databricks.v1+cell": {
                    "cellMetadata": {},
                    "inputWidgets": {},
                    "nuid": "98d216ce-7021-4b07-a419-ed747f4fa341",
                    "showTitle": false,
                    "title": ""
                }
            },
            "source": "We will import the following libraries into the lab"
        },
        {
            "cell_type": "code",
            "execution_count": 0,
            "metadata": {
                "application/vnd.databricks.v1+cell": {
                    "cellMetadata": {
                        "byteLimit": 2048000,
                        "rowLimit": 10000
                    },
                    "inputWidgets": {},
                    "nuid": "d8de240b-8225-4afd-8b3c-c116803ac99e",
                    "showTitle": false,
                    "title": ""
                }
            },
            "outputs": [
                {
                    "data": {
                        "text/html": "<style scoped>\n  .ansiout {\n    display: block;\n    unicode-bidi: embed;\n    white-space: pre-wrap;\n    word-wrap: break-word;\n    word-break: break-all;\n    font-family: \"Source Code Pro\", \"Menlo\", monospace;;\n    font-size: 13px;\n    color: #555;\n    margin-left: 4px;\n    line-height: 19px;\n  }\n</style>\n<div class=\"ansiout\"></div>"
                    },
                    "metadata": {
                        "application/vnd.databricks.v1+output": {
                            "addedWidgets": {},
                            "arguments": {},
                            "data": "<div class=\"ansiout\"></div>",
                            "datasetInfos": [],
                            "metadata": {},
                            "removedWidgets": [],
                            "type": "html"
                        }
                    },
                    "output_type": "display_data"
                }
            ],
            "source": "# Requests allows us to make HTTP requests which we will use to get data from an API\nimport requests\n# Pandas is a software library written for the Python programming language for data manipulation and analysis.\nimport pandas as pd\n# NumPy is a library for the Python programming language, adding support for large, multi-dimensional arrays and matrices, along with a large collection of high-level mathematical functions to operate on these arrays\nimport numpy as np\n# Datetime is a library that allows us to represent dates\nimport datetime\n\n# Setting this option will print all collumns of a dataframe\npd.set_option('display.max_columns', None)\n# Setting this option will print all of the data in a feature\npd.set_option('display.max_colwidth', None)"
        },
        {
            "cell_type": "markdown",
            "metadata": {
                "application/vnd.databricks.v1+cell": {
                    "cellMetadata": {},
                    "inputWidgets": {},
                    "nuid": "eeca9e15-f3f1-4287-ae63-44150a08865d",
                    "showTitle": false,
                    "title": ""
                }
            },
            "source": "Below we will define a series of helper functions that will help us use the API to extract information using identification numbers in the launch data.\n\nFrom the <code>rocket</code> column we would like to learn the booster name."
        },
        {
            "cell_type": "code",
            "execution_count": 0,
            "metadata": {
                "application/vnd.databricks.v1+cell": {
                    "cellMetadata": {
                        "byteLimit": 2048000,
                        "rowLimit": 10000
                    },
                    "inputWidgets": {},
                    "nuid": "887e184d-585b-4dbf-9285-8856aad9ce7b",
                    "showTitle": false,
                    "title": ""
                }
            },
            "outputs": [
                {
                    "data": {
                        "text/html": "<style scoped>\n  .ansiout {\n    display: block;\n    unicode-bidi: embed;\n    white-space: pre-wrap;\n    word-wrap: break-word;\n    word-break: break-all;\n    font-family: \"Source Code Pro\", \"Menlo\", monospace;;\n    font-size: 13px;\n    color: #555;\n    margin-left: 4px;\n    line-height: 19px;\n  }\n</style>\n<div class=\"ansiout\"></div>"
                    },
                    "metadata": {
                        "application/vnd.databricks.v1+output": {
                            "addedWidgets": {},
                            "arguments": {},
                            "data": "<div class=\"ansiout\"></div>",
                            "datasetInfos": [],
                            "metadata": {},
                            "removedWidgets": [],
                            "type": "html"
                        }
                    },
                    "output_type": "display_data"
                }
            ],
            "source": "# Takes the dataset and uses the rocket column to call the API and append the data to the list\ndef getBoosterVersion(data):\n    for x in data['rocket']:\n       if x:\n        response = requests.get(\"https://api.spacexdata.com/v4/rockets/\"+str(x)).json()\n        BoosterVersion.append(response['name'])"
        },
        {
            "cell_type": "markdown",
            "metadata": {
                "application/vnd.databricks.v1+cell": {
                    "cellMetadata": {},
                    "inputWidgets": {},
                    "nuid": "69e9882c-9608-4861-938a-f685198a8532",
                    "showTitle": false,
                    "title": ""
                }
            },
            "source": "From the <code>launchpad</code> we would like to know the name of the launch site being used, the logitude, and the latitude."
        },
        {
            "cell_type": "code",
            "execution_count": 0,
            "metadata": {
                "application/vnd.databricks.v1+cell": {
                    "cellMetadata": {
                        "byteLimit": 2048000,
                        "rowLimit": 10000
                    },
                    "inputWidgets": {},
                    "nuid": "ef8c8a7b-ed2d-47f6-bbc6-fc8b4424fab2",
                    "showTitle": false,
                    "title": ""
                }
            },
            "outputs": [
                {
                    "data": {
                        "text/html": "<style scoped>\n  .ansiout {\n    display: block;\n    unicode-bidi: embed;\n    white-space: pre-wrap;\n    word-wrap: break-word;\n    word-break: break-all;\n    font-family: \"Source Code Pro\", \"Menlo\", monospace;;\n    font-size: 13px;\n    color: #555;\n    margin-left: 4px;\n    line-height: 19px;\n  }\n</style>\n<div class=\"ansiout\"></div>"
                    },
                    "metadata": {
                        "application/vnd.databricks.v1+output": {
                            "addedWidgets": {},
                            "arguments": {},
                            "data": "<div class=\"ansiout\"></div>",
                            "datasetInfos": [],
                            "metadata": {},
                            "removedWidgets": [],
                            "type": "html"
                        }
                    },
                    "output_type": "display_data"
                }
            ],
            "source": "# Takes the dataset and uses the launchpad column to call the API and append the data to the list\ndef getLaunchSite(data):\n    for x in data['launchpad']:\n       if x:\n         response = requests.get(\"https://api.spacexdata.com/v4/launchpads/\"+str(x)).json()\n         Longitude.append(response['longitude'])\n         Latitude.append(response['latitude'])\n         LaunchSite.append(response['name'])"
        },
        {
            "cell_type": "markdown",
            "metadata": {
                "application/vnd.databricks.v1+cell": {
                    "cellMetadata": {},
                    "inputWidgets": {},
                    "nuid": "9eadee01-ec1b-4a76-a0a2-4ef5ea58fcd5",
                    "showTitle": false,
                    "title": ""
                }
            },
            "source": "From the <code>payload</code> we would like to learn the mass of the payload and the orbit that it is going to."
        },
        {
            "cell_type": "code",
            "execution_count": 0,
            "metadata": {
                "application/vnd.databricks.v1+cell": {
                    "cellMetadata": {
                        "byteLimit": 2048000,
                        "rowLimit": 10000
                    },
                    "inputWidgets": {},
                    "nuid": "4c6eb467-0ec2-4ab0-bece-8c3dac0eaa24",
                    "showTitle": false,
                    "title": ""
                }
            },
            "outputs": [
                {
                    "data": {
                        "text/html": "<style scoped>\n  .ansiout {\n    display: block;\n    unicode-bidi: embed;\n    white-space: pre-wrap;\n    word-wrap: break-word;\n    word-break: break-all;\n    font-family: \"Source Code Pro\", \"Menlo\", monospace;;\n    font-size: 13px;\n    color: #555;\n    margin-left: 4px;\n    line-height: 19px;\n  }\n</style>\n<div class=\"ansiout\"></div>"
                    },
                    "metadata": {
                        "application/vnd.databricks.v1+output": {
                            "addedWidgets": {},
                            "arguments": {},
                            "data": "<div class=\"ansiout\"></div>",
                            "datasetInfos": [],
                            "metadata": {},
                            "removedWidgets": [],
                            "type": "html"
                        }
                    },
                    "output_type": "display_data"
                }
            ],
            "source": "# Takes the dataset and uses the payloads column to call the API and append the data to the lists\ndef getPayloadData(data):\n    for load in data['payloads']:\n       if load:\n        response = requests.get(\"https://api.spacexdata.com/v4/payloads/\"+load).json()\n        PayloadMass.append(response['mass_kg'])\n        Orbit.append(response['orbit'])"
        },
        {
            "cell_type": "markdown",
            "metadata": {
                "application/vnd.databricks.v1+cell": {
                    "cellMetadata": {},
                    "inputWidgets": {},
                    "nuid": "6047e27c-f429-4c46-9c13-5dca02ed6a8b",
                    "showTitle": false,
                    "title": ""
                }
            },
            "source": "From <code>cores</code> we would like to learn the outcome of the landing, the type of the landing, number of flights with that core, whether gridfins were used, wheter the core is reused, wheter legs were used, the landing pad used, the block of the core which is a number used to seperate version of cores, the number of times this specific core has been reused, and the serial of the core."
        },
        {
            "cell_type": "code",
            "execution_count": 0,
            "metadata": {
                "application/vnd.databricks.v1+cell": {
                    "cellMetadata": {
                        "byteLimit": 2048000,
                        "rowLimit": 10000
                    },
                    "inputWidgets": {},
                    "nuid": "bd3bb4c3-62e7-4542-a8f4-312b73bfff1a",
                    "showTitle": false,
                    "title": ""
                }
            },
            "outputs": [
                {
                    "data": {
                        "text/html": "<style scoped>\n  .ansiout {\n    display: block;\n    unicode-bidi: embed;\n    white-space: pre-wrap;\n    word-wrap: break-word;\n    word-break: break-all;\n    font-family: \"Source Code Pro\", \"Menlo\", monospace;;\n    font-size: 13px;\n    color: #555;\n    margin-left: 4px;\n    line-height: 19px;\n  }\n</style>\n<div class=\"ansiout\"></div>"
                    },
                    "metadata": {
                        "application/vnd.databricks.v1+output": {
                            "addedWidgets": {},
                            "arguments": {},
                            "data": "<div class=\"ansiout\"></div>",
                            "datasetInfos": [],
                            "metadata": {},
                            "removedWidgets": [],
                            "type": "html"
                        }
                    },
                    "output_type": "display_data"
                }
            ],
            "source": "# Takes the dataset and uses the cores column to call the API and append the data to the lists\ndef getCoreData(data):\n    for core in data['cores']:\n            if core['core'] != None:\n                response = requests.get(\"https://api.spacexdata.com/v4/cores/\"+core['core']).json()\n                Block.append(response['block'])\n                ReusedCount.append(response['reuse_count'])\n                Serial.append(response['serial'])\n            else:\n                Block.append(None)\n                ReusedCount.append(None)\n                Serial.append(None)\n            Outcome.append(str(core['landing_success'])+' '+str(core['landing_type']))\n            Flights.append(core['flight'])\n            GridFins.append(core['gridfins'])\n            Reused.append(core['reused'])\n            Legs.append(core['legs'])\n            LandingPad.append(core['landpad'])"
        },
        {
            "cell_type": "markdown",
            "metadata": {
                "application/vnd.databricks.v1+cell": {
                    "cellMetadata": {},
                    "inputWidgets": {},
                    "nuid": "b741d35d-a0ee-4ad7-b58c-3ab8643f90f9",
                    "showTitle": false,
                    "title": ""
                }
            },
            "source": "Now let's start requesting rocket launch data from SpaceX API with the following URL:"
        },
        {
            "cell_type": "code",
            "execution_count": 0,
            "metadata": {
                "application/vnd.databricks.v1+cell": {
                    "cellMetadata": {
                        "byteLimit": 2048000,
                        "rowLimit": 10000
                    },
                    "inputWidgets": {},
                    "nuid": "c4b757c2-48a8-49ca-a1a1-0ccd1dc70b7e",
                    "showTitle": false,
                    "title": ""
                }
            },
            "outputs": [
                {
                    "data": {
                        "text/html": "<style scoped>\n  .ansiout {\n    display: block;\n    unicode-bidi: embed;\n    white-space: pre-wrap;\n    word-wrap: break-word;\n    word-break: break-all;\n    font-family: \"Source Code Pro\", \"Menlo\", monospace;;\n    font-size: 13px;\n    color: #555;\n    margin-left: 4px;\n    line-height: 19px;\n  }\n</style>\n<div class=\"ansiout\"></div>"
                    },
                    "metadata": {
                        "application/vnd.databricks.v1+output": {
                            "addedWidgets": {},
                            "arguments": {},
                            "data": "<div class=\"ansiout\"></div>",
                            "datasetInfos": [],
                            "metadata": {},
                            "removedWidgets": [],
                            "type": "html"
                        }
                    },
                    "output_type": "display_data"
                }
            ],
            "source": "spacex_url=\"https://api.spacexdata.com/v4/launches/past\""
        },
        {
            "cell_type": "code",
            "execution_count": 0,
            "metadata": {
                "application/vnd.databricks.v1+cell": {
                    "cellMetadata": {
                        "byteLimit": 2048000,
                        "rowLimit": 10000
                    },
                    "inputWidgets": {},
                    "nuid": "241fa574-c655-456c-825e-9df45da82522",
                    "showTitle": false,
                    "title": ""
                }
            },
            "outputs": [
                {
                    "data": {
                        "text/html": "<style scoped>\n  .ansiout {\n    display: block;\n    unicode-bidi: embed;\n    white-space: pre-wrap;\n    word-wrap: break-word;\n    word-break: break-all;\n    font-family: \"Source Code Pro\", \"Menlo\", monospace;;\n    font-size: 13px;\n    color: #555;\n    margin-left: 4px;\n    line-height: 19px;\n  }\n</style>\n<div class=\"ansiout\"></div>"
                    },
                    "metadata": {
                        "application/vnd.databricks.v1+output": {
                            "addedWidgets": {},
                            "arguments": {},
                            "data": "<div class=\"ansiout\"></div>",
                            "datasetInfos": [],
                            "metadata": {},
                            "removedWidgets": [],
                            "type": "html"
                        }
                    },
                    "output_type": "display_data"
                }
            ],
            "source": "response = requests.get(spacex_url)"
        },
        {
            "cell_type": "markdown",
            "metadata": {
                "application/vnd.databricks.v1+cell": {
                    "cellMetadata": {},
                    "inputWidgets": {},
                    "nuid": "5e9e8e71-e09f-4e6a-904e-ea5dce59cb19",
                    "showTitle": false,
                    "title": ""
                }
            },
            "source": "Check the content of the response"
        },
        {
            "cell_type": "code",
            "execution_count": 0,
            "metadata": {
                "application/vnd.databricks.v1+cell": {
                    "cellMetadata": {
                        "byteLimit": 2048000,
                        "rowLimit": 10000
                    },
                    "inputWidgets": {},
                    "nuid": "fba9c529-a898-4320-893f-1fa3a00a53ab",
                    "showTitle": false,
                    "title": ""
                }
            },
            "outputs": [
                {
                    "data": {
                        "text/html": "<style scoped>\n  .ansiout {\n    display: block;\n    unicode-bidi: embed;\n    white-space: pre-wrap;\n    word-wrap: break-word;\n    word-break: break-all;\n    font-family: \"Source Code Pro\", \"Menlo\", monospace;;\n    font-size: 13px;\n    color: #555;\n    margin-left: 4px;\n    line-height: 19px;\n  }\n</style>\n<div class=\"ansiout\">b&#39;[{&#34;fairings&#34;:{&#34;reused&#34;:false,&#34;recovery_attempt&#34;:false,&#34;recovered&#34;:false,&#34;ships&#34;:[]},&#34;links&#34;:{&#34;patch&#34;:{&#34;small&#34;:&#34;https://images2.imgbox.com/94/f2/NN6Ph45r_o.png&#34;,&#34;large&#34;:&#34;https://images2.imgbox.com/5b/02/QcxHUb5V_o.png&#34;},&#34;reddit&#34;:{&#34;campaign&#34;:null,&#34;launch&#34;:null,&#34;media&#34;:null,&#34;recovery&#34;:null},&#34;flickr&#34;:{&#34;small&#34;:[],&#34;original&#34;:[]},&#34;presskit&#34;:null,&#34;webcast&#34;:&#34;https://www.youtube.com/watch?v=0a_00nJ_Y88&#34;,&#34;youtube_id&#34;:&#34;0a_00nJ_Y88&#34;,&#34;article&#34;:&#34;https://www.space.com/2196-spacex-inaugural-falcon-1-rocket-lost-launch.html&#34;,&#34;wikipedia&#34;:&#34;https://en.wikipedia.org/wiki/DemoSat&#34;},&#34;static_fire_date_utc&#34;:&#34;2006-03-17T00:00:00.000Z&#34;,&#34;static_fire_date_unix&#34;:1142553600,&#34;net&#34;:false,&#34;window&#34;:0,&#34;rocket&#34;:&#34;5e9d0d95eda69955f709d1eb&#34;,&#34;success&#34;:false,&#34;failures&#34;:[{&#34;time&#34;:33,&#34;altitude&#34;:null,&#34;reason&#34;:&#34;merlin engine failure&#34;}],&#34;details&#34;:&#34;Engine failure at 33 seconds and loss of vehicle&#34;,&#34;crew&#34;:[],&#34;ships&#34;:[],&#34;capsules&#34;:[],&#34;payloads&#34;:[&#34;5eb0e4b5b6c3bb0006eeb1e1&#34;],&#34;launchpad&#34;:&#34;5e9e4502f5090995de566f86&#34;,&#34;flight_number&#34;:1,&#34;name&#34;:&#34;FalconSat&#34;,&#34;date_utc&#34;:&#34;2006-03-24T22:30:00.000Z&#34;,&#34;date_unix&#34;:1143239400,&#34;date_local&#34;:&#34;2006-03-25T10:30:00+12:00&#34;,&#34;date_precision&#34;:&#34;hour&#34;,&#34;upcoming&#34;:false,&#34;cores&#34;:[{&#34;core&#34;:&#34;5e9e289df35918033d3b2623&#34;,&#34;flight&#34;:1,&#34;gridfins&#34;:false,&#34;legs&#34;:false,&#34;reused&#34;:false,&#34;landing_attempt&#34;:false,&#34;landing_success&#34;:null,&#34;landing_type&#34;:null,&#34;landpad&#34;:null}],&#34;auto_update&#34;:true,&#34;tbd&#34;:false,&#34;launch_library_id&#34;:null,&#34;id&#34;:&#34;5eb87cd9ffd86e000604b32a&#34;},{&#34;fairings&#34;:{&#34;reused&#34;:false,&#34;recovery_attempt&#34;:false,&#34;recovered&#34;:false,&#34;ships&#34;:[]},&#34;links&#34;:{&#34;patch&#34;:{&#34;small&#34;:&#34;https://images2.imgbox.com/f9/4a/ZboXReNb_o.png&#34;,&#34;large&#34;:&#34;https://images2.imgbox.com/80/a2/bkWotCIS_o.png&#34;},&#34;reddit&#34;:{&#34;campaign&#34;:null,&#34;launch&#34;:null,&#34;media&#34;:null,&#34;recovery&#34;:null},&#34;flickr&#34;:{&#34;small&#34;:[],&#34;original&#34;:[]},&#34;presskit&#34;:null,&#34;webcast&#34;:&#34;https://www.youtube.com/watch?v=Lk4zQ2wP-Nc&#34;,&#34;youtube_id&#34;:&#34;Lk4zQ2wP-Nc&#34;,&#34;article&#34;:&#34;https://www.space.com/3590-spacex-falcon-1-rocket-fails-reach-orbit.html&#34;,&#34;wikipedia&#34;:&#34;https://en.wikipedia.org/wiki/DemoSat&#34;},&#34;static_fire_date_utc&#34;:null,&#34;static_fire_date_unix&#34;:null,&#34;net&#34;:false,&#34;window&#34;:0,&#34;rocket&#34;:&#34;5e9d0d95eda69955f709d1eb&#34;,&#34;success&#34;:false,&#34;failures&#34;:[{&#34;time&#34;:301,&#34;altitude&#34;:289,&#34;reason&#34;:&#34;harmonic oscillation leading to premature engine shutdown&#34;}],&#34;details&#34;:&#34;Successful first stage burn and transition to second stage, maximum altitude 289 km, Premature engine shutdown at T+7 min 30 s, Failed to reach orbit, Failed to recover first stage&#34;,&#34;crew&#34;:[],&#34;ships&#34;:[],&#34;capsules&#34;:[],&#34;payloads&#34;:[&#34;5eb0e4b6b6c3bb0006eeb1e2&#34;],&#34;launchpad&#34;:&#34;5e9e4502f5090995de566f86&#34;,&#34;flight_number&#34;:2,&#34;name&#34;:&#34;DemoSat&#34;,&#34;date_utc&#34;:&#34;2007-03-21T01:10:00.000Z&#34;,&#34;date_unix&#34;:1174439400,&#34;date_local&#34;:&#34;2007-03-21T13:10:00+12:00&#34;,&#34;date_precision&#34;:&#34;hour&#34;,&#34;upcoming&#34;:false,&#34;cores&#34;:[{&#34;core&#34;:&#34;5e9e289ef35918416a3b2624&#34;,&#34;flight&#34;:1,&#34;gridfins&#34;:false,&#34;legs&#34;:false,&#34;reused&#34;:false,&#34;landing_attempt&#34;:false,&#34;landing_success&#34;:null,&#34;landing_type&#34;:null,&#34;landpad&#34;:null}],&#34;auto_update&#34;:true,&#34;tbd&#34;:false,&#34;launch_library_id&#34;:null,&#34;id&#34;:&#34;5eb87cdaffd86e000604b32b&#34;},{&#34;fairings&#34;:{&#34;reused&#34;:false,&#34;recovery_attempt&#34;:false,&#34;recovered&#34;:false,&#34;ships&#34;:[]},&#34;links&#34;:{&#34;patch&#34;:{&#34;small&#34;:&#34;https://images2.imgbox.com/6c/cb/na1tzhHs_o.png&#34;,&#34;large&#34;:&#34;https://images2.imgbox.com/4a/80/k1oAkY0k_o.png&#34;},&#34;reddit&#34;:{&#34;campaign&#34;:null,&#34;launch&#34;:null,&#34;media&#34;:null,&#34;recovery&#34;:null},&#34;flickr&#34;:{&#34;small&#34;:[],&#34;original&#34;:[]},&#34;presskit&#34;:null,&#34;webcast&#34;:&#34;https://www.youtube.com/watch?v=v0w9p3U8860&#34;,&#34;youtube_id&#34;:&#34;v0w9p3U8860&#34;,&#34;article&#34;:&#34;http://www.spacex.com/news/2013/02/11/falcon-1-flight-3-mission-summary&#34;,&#34;wikipedia&#34;:&#34;https://en.wikipedia.org/wiki/Trailblazer_(satellite)&#34;},&#34;static_fire_date_utc&#34;:null,&#34;static_fire_date_unix&#34;:null,&#34;net&#34;:false,&#34;window&#34;:0,&#34;rocket&#34;:&#34;5e9d0d95eda69955f709d1eb&#34;,&#34;success&#34;:false,&#34;failures&#34;:[{&#34;time&#34;:140,&#34;altitude&#34;:35,&#34;reason&#34;:&#34;residual stage-1 thrust led to collision between stage 1 and stage 2&#34;}],&#34;details&#34;:&#34;Residual stage 1 thrust led to collision between stage 1 and stage 2&#34;,&#34;crew&#34;:[],&#34;ships&#34;:[],&#34;capsules&#34;:[],&#34;payloads&#34;:[&#34;5eb0e4b6b6c3bb0006eeb1e3&#34;,&#34;5eb0e4b6b6c3bb0006eeb1e4&#34;],&#34;launchpad&#34;:&#34;5e9e4502f5090995de566f86&#34;,&#34;flight_number&#34;:3,&#34;name&#34;:&#34;Trailblazer&#34;,&#34;date_utc&#34;:&#34;2008-08-03T03:34:00.000Z&#34;,&#34;date_unix&#34;:1217734440,&#34;date_local&#34;:&#34;2008-08-03T15:34:00+12:00&#34;,&#34;date_precision&#34;:&#34;hour&#34;,&#34;upcoming&#34;:false,&#34;cores&#34;:[{&#34;core&#34;:&#34;5e9e289ef3591814873b2625&#34;,&#34;flight&#34;:1,&#34;gridfins&#34;:false,&#34;legs&#34;:false,&#34;reused&#34;:false,&#34;landing_attempt&#34;:false,&#34;landing_success&#34;:null,&#34;landing_type&#34;:null,&#34;landpad&#34;:null}],&#34;auto_update&#34;:true,&#34;tbd&#34;:false,&#34;launch_library_id&#34;:null,&#34;id&#34;:&#34;5eb87cdbffd86e000604b32c&#34;},{&#34;fairings&#34;:{&#34;reused&#34;:false,&#34;recovery_attempt&#34;:false,&#34;recovered&#34;:false,&#34;ships&#34;:[]},&#34;links&#34;:{&#34;patch&#34;:{&#34;small&#34;:&#34;https://images2.imgbox.com/95/39/sRqN7rsv_o.png&#34;,&#34;large&#34;:&#34;https://images2.imgbox.com/a3/99/qswRYzE8_o.png&#34;},&#34;reddit&#34;:{&#34;campaign&#34;:null,&#34;launch&#34;:null,&#34;media&#34;:null,&#34;recovery&#34;:null},&#34;flickr&#34;:{&#34;small&#34;:[],&#34;original&#34;:[]},&#34;presskit&#34;:null,&#34;webcast&#34;:&#34;https://www.youtube.com/watch?v=dLQ2tZEH6G0&#34;,&#34;youtube_id&#34;:&#34;dLQ2tZEH6G0&#34;,&#34;article&#34;:&#34;https://en.wikipedia.org/wiki/Ratsat&#34;,&#34;wikipedia&#34;:&#34;https://en.wikipedia.org/wiki/Ratsat&#34;},&#34;static_fire_date_utc&#34;:&#34;2008-09-20T00:00:00.000Z&#34;,&#34;static_fire_date_unix&#34;:1221868800,&#34;net&#34;:false,&#34;window&#34;:0,&#34;rocket&#34;:&#34;5e9d0d95eda69955f709d1eb&#34;,&#34;success&#34;:true,&#34;failures&#34;:[],&#34;details&#34;:&#34;Ratsat was carried to orbit on the first successful orbital launch of any privately funded and developed, liquid-propelled carrier rocket, the\\xc2\\xa0SpaceX Falcon 1&#34;,&#34;crew&#34;:[],&#34;ships&#34;:[],&#34;capsules&#34;:[],&#34;payloads&#34;:[&#34;5eb0e4b7b6c3bb0006eeb1e5&#34;],&#34;launchpad&#34;:&#34;5e9e4502f5090995de566f86&#34;,&#34;flight_number&#34;:4,&#34;name&#34;:&#34;RatSat&#34;,&#34;date_utc&#34;:&#34;2008-09-28T23:15:00.000Z&#34;,&#34;date_unix&#34;:1222643700,&#34;date_local&#34;:&#34;2008-09-28T11:15:00+12:00&#34;,&#34;date_precision&#34;:&#34;hour&#34;,&#34;upcoming&#34;:false,&#34;cores&#34;:[{&#34;core&#34;:&#34;5e9e289ef3591855dc3b2626&#34;,&#34;flight&#34;:1,&#34;gridfins&#34;:false,&#34;legs&#34;:false,&#34;reused&#34;:false,&#34;landing_attempt&#34;:false,&#34;landing_success&#34;:null,&#34;landing_type&#34;:null,&#34;landpad&#34;:null}],&#34;auto_update&#34;:true,&#34;tbd&#34;:false,&#34;launch_library_id&#34;:null,&#34;id&#34;:&#34;5eb87cdbffd86e000604b32d&#34;},{&#34;fairings&#34;:{&#34;reused&#34;:false,&#34;recovery_attempt&#34;:false,&#34;recovered&#34;:false,&#34;ships&#34;:[]},&#34;links&#34;:{&#34;patch&#34;:{&#34;small&#34;:&#34;https://images2.imgbox.com/ab/5a/Pequxd5d_o.png&#34;,&#34;large&#34;:&#34;https://images2.imgbox.com/92/e4/7Cf6MLY0_o.png&#34;},&#34;reddit&#34;:{&#34;campaign&#34;:null,&#34;launch&#34;:null,&#34;media&#34;:null,&#34;recovery&#34;:null},&#34;flickr&#34;:{&#34;small&#34;:[],&#34;original&#34;:[]},&#34;presskit&#34;:&#34;http://www.spacex.com/press/2012/12/19/spacexs-falcon-1-successfully-delivers-razaksat-satellite-orbit&#34;,&#34;webcast&#34;:&#34;https://www.youtube.com/watch?v=yTaIDooc8Og&#34;,&#34;youtube_id&#34;:&#34;yTaIDooc8Og&#34;,&#34;article&#34;:&#34;http://www.spacex.com/news/2013/02/12/falcon-1-flight-5&#34;,&#34;wikipedia&#34;:&#34;https://en.wikipedia.org/wiki/RazakSAT&#34;},&#34;static_fire_date_utc&#34;:null,&#34;static_fire_date_unix&#34;:null,&#34;net&#34;:false,&#34;window&#34;:0,&#34;rocket&#34;:&#34;5e9d0d95eda69955f709d1eb&#34;,&#34;success&#34;:true,&#34;failures&#34;:[],&#34;details&#34;:null,&#34;crew&#34;:[],&#34;ships&#34;:[],&#34;capsules&#34;:[],&#34;payloads&#34;:[&#34;5eb0e4b7b6c3bb0006eeb1e6&#34;],&#34;launchpad&#34;:&#34;5e9e4502f5090995de566f86&#34;,&#34;flight_number&#34;:5,&#34;name&#34;:&#34;RazakSat&#34;,&#34;date_utc&#34;:&#34;2009-07-13T03:35:00.000Z&#34;,&#34;date_unix&#34;:1247456100,&#34;date_local&#34;:&#34;2009-07-13T15:35:00+12:00&#34;,&#34;date_precision&#34;:&#34;hour&#34;,&#34;upcoming&#34;:false,&#34;cores&#34;:[{&#34;core&#34;:&#34;5e9e289ef359184f103b2627&#34;,&#34;flight&#34;:1,&#34;gridfins&#34;:false,&#34;legs&#34;:false,&#34;reused&#34;:false,&#34;landing_attempt&#34;:false,&#34;landing_success&#34;:null,&#34;landing_type&#34;:null,&#34;landpad&#34;:null}],&#34;auto_update&#34;:true,&#34;tbd&#34;:false,&#34;launch_library_id&#34;:null,&#34;id&#34;:&#34;5eb87cdcffd86e000604b32e&#34;},{&#34;fairings&#34;:{&#34;reused&#34;:null,&#34;recovery_attempt&#34;:null,&#34;recovered&#34;:null,&#34;ships&#34;:[]},&#34;links&#34;:{&#34;patch&#34;:{&#34;small&#34;:&#34;https://images2.imgbox.com/73/7f/u7BKqv2C_o.png&#34;,&#34;large&#34;:&#34;https://images2.imgbox.com/66/b4/8KZsjbt4_o.png&#34;},&#34;reddit&#34;:{&#34;campaign&#34;:null,&#34;launch&#34;:null,&#34;media&#34;:null,&#34;recovery&#34;:null},&#34;flickr&#34;:{&#34;small&#34;:[],&#34;original&#34;:[]},&#34;presskit&#34;:&#34;http://forum.nasaspaceflight.com/index.php?action=dlattach;topic=21869.0;attach=230821&#34;,&#34;webcast&#34;:&#34;https://www.youtube.com/watch?v=nxSxgBKlYws&#34;,&#34;youtube_id&#34;:&#34;nxSxgBKlYws&#34;,&#34;article&#34;:&#34;http://www.spacex.com/news/2013/02/12/falcon-9-flight-1&#34;,&#34;wikipedia&#34;:&#34;https://en.wikipedia.org/wiki/Dragon_Spacecraft_Qualification_Unit&#34;},&#34;static_fire_date_utc&#34;:&#34;2010-03-13T00:00:00.000Z&#34;,&#34;static_fire_date_unix&#34;:1268438400,&#34;net&#34;:false,&#34;window&#34;:0,&#34;rocket&#34;:&#34;5e9d0d95eda69973a809d1ec&#34;,&#34;success&#34;:true,&#34;failures&#34;:[],&#34;details&#34;:null,&#34;crew&#34;:[],&#34;ships&#34;:[],&#34;capsules&#34;:[],&#34;payloads&#34;:[&#34;5eb0e4b7b6c3bb0006eeb1e7&#34;],&#34;launchpad&#34;:&#34;5e9e4501f509094ba4566f84&#34;,&#34;flight_number&#34;:6,&#34;name&#34;:&#34;Falcon 9 Test Flight&#34;,&#34;date_utc&#34;:&#34;2010-06-04T18:45:00.000Z&#34;,&#34;date_unix&#34;:1275677100,&#34;date_local&#34;:&#34;2010-06-04T14:45:00-04:00&#34;,&#34;date_precision&#34;:&#34;hour&#34;,&#34;upcoming&#34;:false,&#34;cores&#34;:[{&#34;core&#34;:&#34;5e9e289ef359185f2b3b2628&#34;,&#34;flight&#34;:1,&#34;gridfins&#34;:false,&#34;legs&#34;:false,&#34;reused&#34;:false,&#34;landing_attempt&#34;:false,&#34;landing_success&#34;:null,&#34;landing_type&#34;:null,&#34;landpad&#34;:null}],&#34;auto_update&#34;:true,&#34;tbd&#34;:false,&#34;launch_library_id&#34;:null,&#34;id&#34;:&#34;5eb87cddffd86e000604b32f&#34;},{&#34;fairings&#34;:null,&#34;links&#34;:{&#34;patch&#34;:{&#34;small&#34;:&#34;https://images2.imgbox.com/fa/dc/FOUDQ0Sn_o.png&#34;,&#34;large&#34;:&#34;https://images2.imgbox.com/04/6e/kniggvWD_o.png&#34;},&#34;reddit&#34;:{&#34;campaign&#34;:null,&#34;launch&#34;:null,&#34;media&#34;:null,&#34;recovery&#34;:null},&#34;flickr&#34;:{&#34;small&#34;:[],&#34;original&#34;:[]},&#34;presskit&#34;:&#34;http://www.spacex.com/files/downloads/cots1-20101206.pdf&#34;,&#34;webcast&#34;:&#34;https://www.youtube.com/watch?v=cdLITgWKe_0&#34;,&#34;youtube_id&#34;:&#34;cdLITgWKe_0&#34;,&#34;article&#34;:&#34;https://en.wikipedia.org/wiki/SpaceX_COTS_Demo_Flight_1&#34;,&#34;wikipedia&#34;:&#34;https://en.wikipedia.org/wiki/SpaceX_COTS_Demo_Flight_1&#34;},&#34;static_fire_date_utc&#34;:&#34;2010-12-04T00:00:00.000Z&#34;,&#34;static_fire_date_unix&#34;:1291420800,&#34;net&#34;:false,&#34;window&#34;:0,&#34;rocket&#34;:&#34;5e9d0d95eda69973a809d1ec&#34;,&#34;success&#34;:true,&#34;failures&#34;:[],&#34;details&#34;:null,&#34;crew&#34;:[],&#34;ships&#34;:[&#34;5ea6ed2d080df4000697c901&#34;],&#34;capsules&#34;:[&#34;5e9e2c5bf35918ed873b2664&#34;],&#34;payloads&#34;:[&#34;5eb0e4b9b6c3bb0006eeb1e8&#34;,&#34;5eb0e4b9b6c3bb0006eeb1e9&#34;],&#34;launchpad&#34;:&#34;5e9e4501f509094ba4566f84&#34;,&#34;flight_number&#34;:7,&#34;name&#34;:&#34;COTS 1&#34;,&#34;date_utc&#34;:&#34;2010-12-08T15:43:00.000Z&#34;,&#34;date_unix&#34;:1291822980,&#34;date_local&#34;:&#34;2010-12-08T11:43:00-04:00&#34;,&#34;date_precision&#34;:&#34;hour&#34;,&#34;upcoming&#34;:false,&#34;cores&#34;:[{&#34;core&#34;:&#34;5e9e289ef35918187c3b2629&#34;,&#34;flight&#34;:1,&#34;gridfins&#34;:false,&#34;legs&#34;:false,&#34;reused&#34;:false,&#34;landing_attempt&#34;:false,&#34;landing_success&#34;:null,&#34;landing_type&#34;:null,&#34;landpad&#34;:null}],&#34;auto_update&#34;:true,&#34;tbd&#34;:false,&#34;launch_library_id&#34;:null,&#34;id&#34;:&#34;5eb87cdeffd86e000604b330&#34;},{&#34;fairings&#34;:null,&#34;links&#34;:{&#34;patch&#34;:{&#34;small&#34;:&#34;https://images2.imgbox.com/c5/f4/XfLVgbaO_o.png&#34;,&#34;large&#34;:&#34;https://images2.imgbox.com/94/8d/YnZ1SLsT_o.png&#34;},&#34;reddit&#34;:{&#34;campaign&#34;:null,&#34;launch&#34;:null,&#34;media&#34;:null,&#34;recovery&#34;:null},&#34;flickr&#34;:{&#34;small&#34;:[],&#34;original&#34;:[]},&#34;presskit&#34;:&#34;https://www.nasa.gov/pdf/649910main_cots2_presskit_051412.pdf&#34;,&#34;webcast&#34;:&#34;https://www.youtube.com/watch?v=tpQzDbAY7yI&#34;,&#34;youtube_id&#34;:&#34;tpQzDbAY7yI&#34;,&#34;article&#34;:&#34;https://en.wikipedia.org/wiki/Dragon_C2%2B&#34;,&#34;wikipedia&#34;:&#34;https://en.wikipedia.org/wiki/Dragon_C2%2B&#34;},&#34;static_fire_date_utc&#34;:&#34;2012-04-30T00:00:00.000Z&#34;,&#34;static_fire_date_unix&#34;:1335744000,&#34;net&#34;:false,&#34;window&#34;:0,&#34;rocket&#34;:&#34;5e9d0d95eda69973a809d1ec&#34;,&#34;success&#34;:true,&#34;failures&#34;:[],&#34;details&#34;:&#34;Launch was scrubbed on first attempt, second launch attempt was successful&#34;,&#34;crew&#34;:[],&#34;ships&#34;:[&#34;5ea6ed2d080df4000697c901&#34;],&#34;capsules&#34;:[&#34;5e9e2c5bf3591882af3b2665&#34;],&#34;payloads&#34;:[&#34;5eb0e4bab6c3bb0006eeb1ea&#34;],&#34;launchpad&#34;:&#34;5e9e4501f509094ba4566f84&#34;,&#34;flight_number&#34;:8,&#34;name&#34;:&#34;COTS 2&#34;,&#34;date_utc&#34;:&#34;2012-05-22T07:44:00.000Z&#34;,&#34;date_unix&#34;:1335944640,&#34;date_local&#34;:&#34;2012-05-22T03:44:00-04:00&#34;,&#34;date_precision&#34;:&#34;hour&#34;,&#34;upcoming&#34;:false,&#34;cores&#34;:[{&#34;core&#34;:&#34;5e9e289ef35918f39c3b262a&#34;,&#34;flight&#34;:1,&#34;gridfins&#34;:false,&#34;legs&#34;:false,&#34;reused&#34;:false,&#34;landing_attempt&#34;:false,&#34;landing_success&#34;:null,&#34;landing_type&#34;:null,&#34;landpad&#34;:null}],&#34;auto_update&#34;:true,&#34;tbd&#34;:false,&#34;launch_library_id&#34;:null,&#34;id&#34;:&#34;5eb87cdfffd86e000604b331&#34;},{&#34;fairings&#34;:null,&#34;links&#34;:{&#34;patch&#34;:{&#34;small&#34;:&#34;https://images2.imgbox.com/3e/91/hlGiK49a_o.png&#34;,&#34;large&#34;:&#34;https://images2.imgbox.com/fb/42/0V9JgYQS_o.png&#34;},&#34;reddit&#34;:{&#34;campaign&#34;:null,&#34;launch&#34;:null,&#34;media&#34;:null,&#34;recovery&#34;:null},&#34;flickr&#34;:{&#34;small&#34;:[],&#34;original&#34;:[]},&#34;presskit&#34;:&#34;https://www.nasa.gov/pdf/694166main_SpaceXCRS-1PressKit.pdf&#34;,&#34;webcast&#34;:&#34;https://www.youtube.com/watch?v=-Vk3hiV_zXU&#34;,&#34;youtube_id&#34;:&#34;-Vk3hiV_zXU&#34;,&#34;article&#34;:&#34;https://www.nasa.gov/mission_pages/station/main/spacex-crs1-target.html&#34;,&#34;wikipedia&#34;:&#34;https://en.wikipedia.org/wiki/SpaceX_CRS-1&#34;},&#34;static_fire_date_utc&#34;:&#34;2012-09-29T00:00:00.000Z&#34;,&#34;static_fire_date_unix&#34;:1348876800,&#34;net&#34;:false,&#34;window&#34;:0,&#34;rocket&#34;:&#34;5e9d0d95eda69973a809d1ec&#34;,&#34;success&#34;:true,&#34;failures&#34;:[],&#34;details&#34;:&#34;CRS-1 successful, but the secondary payload was inserted into abnormally low orbit and lost due to Falcon 9 boost stage engine failure, ISS visiting vehicle safety rules, and the primary payload owner\\&#39;s contractual right to decline a second ignition of the second stage under some conditions.&#34;,&#34;crew&#34;:[],&#34;ships&#34;:[&#34;5ea6ed2d080df4000697c902&#34;],&#34;capsules&#34;:[&#34;5e9e2c5bf3591835983b2666&#34;],&#34;payloads&#34;:[&#34;5eb0e4bab6c3bb0006eeb1eb&#34;,&#34;5eb0e4bab6c3bb0006eeb1ec&#34;],&#34;launchpad&#34;:&#34;5e9e4501f509094ba4566f84&#34;,&#34;flight_number&#34;:9,&#34;name&#34;:&#34;CRS-1&#34;,&#34;date_utc&#34;:&#34;2012-10-08T00:35:00.000Z&#34;,&#34;date_unix&#34;:1349656500,&#34;date_local&#34;:&#34;2012-10-08T20:35:00-04:00&#34;,&#34;date_precision&#34;:&#34;hour&#34;,&#34;upcoming&#34;:false,&#34;cores&#34;:[{&#34;core&#34;:&#34;5e9e289ff3591821a73b262b&#34;,&#34;flight&#34;:1,&#34;gridfins&#34;:false,&#34;legs&#34;:false,&#34;reused&#34;:false,&#34;landing_attempt&#34;:false,&#34;landing_success&#34;:null,&#34;landing_type&#34;:null,&#34;landpad&#34;:null}],&#34;auto_update&#34;:true,&#34;tbd&#34;:false,&#34;launch_library_id&#34;:null,&#34;id&#34;:&#34;5eb87ce0ffd86e000604b332&#34;},{&#34;fairings&#34;:null,&#34;links&#34;:{&#34;patch&#34;:{&#34;small&#34;:&#34;https://images2.imgbox.com/bd/fe/lXUYKL28_o.png&#34;,&#34;large&#34;:&#34;https://images2.imgbox.com/bc/c5/fHN3m8KV_o.png&#34;},&#34;reddit&#34;:{&#34;campaign&#34;:null,&#34;launch&#34;:&#34;https://www.reddit.com/r/space/comments/19gm5f/live_coverage_spacex_crs2_launch_to_the_iss/c8nvah4&#34;,&#34;media&#34;:null,&#34;recovery&#34;:null},&#34;flickr&#34;:{&#34;small&#34;:[],&#34;original&#34;:[]},&#34;presskit&#34;:&#34;https://www.nasa.gov/sites/default/files/files/Orb2_PRESS_KIT.pdf&#34;,&#34;webcast&#34;:&#34;https://www.youtube.com/watch?v=ik0ElKl5kW4&#34;,&#34;youtube_id&#34;:&#34;ik0ElKl5kW4&#34;,&#34;article&#34;:&#34;https://en.wikipedia.org/wiki/SpaceX_CRS-2&#34;,&#34;wikipedia&#34;:&#34;https://en.wikipedia.org/wiki/SpaceX_CRS-2&#34;},&#34;static_fire_date_utc&#34;:&#34;2013-02-25T18:30:00.000Z&#34;,&#34;static_fire_date_unix&#34;:1361817000,&#34;net&#34;:false,&#34;window&#34;:0,&#34;rocket&#34;:&#34;5e9d0d95eda69973a809d1ec&#34;,&#34;success&#34;:true,&#34;failures&#34;:[],&#34;details&#34;:&#34;Last launch of the original Falcon 9 v1.0 launch vehicle&#34;,&#34;crew&#34;:[],&#34;ships&#34;:[&#34;5ea6ed2d080df4000697c902&#34;],&#34;capsules&#34;:[&#34;5e9e2c5bf359189ef23b2667&#34;],&#34;payloads&#34;:[&#34;5eb0e4bbb6c3bb0006eeb1ed&#34;],&#34;launchpad&#34;:&#34;5e9e4501f509094ba4566f84&#34;,&#34;flight_number&#34;:10,&#34;name&#34;:&#34;CRS-2&#34;,&#34;date_utc&#34;:&#34;2013-03-01T19:10:00.000Z&#34;,&#34;date_unix&#34;:1362165000,&#34;date_local&#34;:&#34;2013-03-01T15:10:00-04:00&#34;,&#34;date_precision&#34;:&#34;hour&#34;,&#34;upcoming&#34;:false,&#34;cores&#34;:[{&#34;core&#34;:&#34;5e9e289ff3591884e03b262c&#34;,&#34;flight&#34;:1,&#34;gridfins&#34;:false,&#34;legs&#34;:false,&#34;reused&#34;:false,&#34;landing_attempt&#34;:false,&#34;landing_success&#34;:null,&#34;landing_type&#34;:null,&#34;landpad&#34;:null}],&#34;auto_update&#34;:true,&#34;tbd&#34;:false,&#34;launch_library_id&#34;:null,&#34;id&#34;:&#34;5eb87ce1ffd86e000604b333&#34;},{&#34;fairings&#34;:{&#34;reused&#34;:false,&#34;recovery_attempt&#34;:false,&#34;recovered&#34;:false,&#34;ships&#34;:[]},&#34;links&#34;:{&#34;patch&#34;:{&#34;small&#34;:&#34;https://images2.imgbox.com/f8/27/XwZPEhTJ_o.png&#34;,&#34;large&#34;:&#34;https://images2.imgbox.com/ae/62/D6SZleUG_o.png&#34;},&#34;reddit&#34;:{&#34;campaign&#34;:null,&#34;launch&#34;:&#34;http://www.reddit.com/r/spacex/comments/1ndlay&#34;,&#34;media&#34;:null,&#34;recovery&#34;:null},&#34;flickr&#34;:{&#34;small&#34;:[],&#34;original&#34;:[]},&#34;presskit&#34;:&#34;https://spaceflightnow.com/falcon9/006/UpgradedF9DemoMission_PressKit.pdf&#34;,&#34;webcast&#34;:&#34;https://www.youtube.com/watch?v=uFefasS6bhc&#34;,&#34;youtube_id&#34;:&#34;uFefasS6bhc&#34;,&#34;article&#34;:&#34;http://www.parabolicarc.com/2013/09/29/falcon-9-launch-payloads-orbit-vandenberg/&#34;,&#34;wikipedia&#34;:&#34;https://en.wikipedia.org/wiki/CASSIOPE&#34;},&#34;static_fire_date_utc&#34;:&#34;2013-09-19T00:00:00.000Z&#34;,&#34;static_fire_date_unix&#34;:1379548800,&#34;net&#34;:false,&#34;window&#34;:0,&#34;rocket&#34;:&#34;5e9d0d95eda69973a809d1ec&#34;,&#34;success&#34;:true,&#34;failures&#34;:[],&#34;details&#34;:&#34;Commercial mission and first Falcon 9 v1.1 flight, with improved 13-tonne to LEO capacity. Following second-stage separation from the first stage, an attempt was made to perform an ocean touchdown test of the discarded booster vehicle. The test provided good test data on the experiment-its primary objective-but as the booster neared the ocean, aerodynamic forces caused an uncontrollable roll. The center engine, depleted of fuel by centrifugal force, shut down resulting in the impact and destruction of the vehicle.&#34;,&#34;crew&#34;:[],&#34;ships&#34;:[&#34;5ea6ed2d080df4000697c903&#34;],&#34;capsules&#34;:[],&#34;payloads&#34;:[&#34;5eb0e4bbb6c3bb0006eeb1ee&#34;],&#34;launchpad&#34;:&#34;5e9e4502f509092b78566f87&#34;,&#34;flight_number&#34;:11,&#34;name&#34;:&#34;CASSIOPE&#34;,&#34;date_utc&#34;:&#34;2013-09-29T16:00:00.000Z&#34;,&#34;date_unix&#34;:1380470400,&#34;date_local&#34;:&#34;2013-09-29T09:00:00-07:00&#34;,&#34;date_precision&#34;:&#34;hour&#34;,&#34;upcoming&#34;:false,&#34;cores&#34;:[{&#34;core&#34;:&#34;5e9e289ff359180ae23b262d&#34;,&#34;flight&#34;:1,&#34;gridfins&#34;:false,&#34;legs&#34;:false,&#34;reused&#34;:false,&#34;landing_attempt&#34;:true,&#34;landing_success&#34;:false,&#34;landing_type&#34;:&#34;Ocean&#34;,&#34;landpad&#34;:null}],&#34;auto_update&#34;:true,&#34;tbd&#34;:false,&#34;launch_library_id&#34;:null,&#34;id&#34;:&#34;5eb87ce1ffd86e000604b334&#34;},{&#34;fairings&#34;:{&#34;reused&#34;:false,&#34;recovery_attempt&#34;:false,&#34;recovered&#34;:false,&#34;ships&#34;:[]},&#34;links&#34;:{&#34;patch&#34;:{&#34;small&#34;:&#34;https://images2.imgbox.com/4e/f8/rqu7XWMF_o.png&#34;,&#34;large&#34;:&#34;https://images2.imgbox.com/41/b7/H6vprzuB_o.png&#34;},&#34;reddit&#34;:{&#34;campaign&#34;:null,&#34;launch&#34;:&#34;http://www.reddit.com/r/spacex/comments/1ryy1n&#34;,&#34;media&#34;:null,&#34;recovery&#34;:null},&#34;flickr&#34;:{&#34;small&#34;:[],&#34;original&#34;:[]},&#34;presskit&#34;:&#34;http://www.spacex.com/sites/spacex/files/spacex_ses-8launch_presskit.pdf&#34;,&#34;webcast&#34;:&#34;https://www.youtube.com/watch?v=aAj5xapImEs&#34;,&#34;youtube_id&#34;:&#34;aAj5xapImEs&#34;,&#34;article&#34;:&#34;https://www.nasaspaceflight.com/2013/12/spacex-falcon-9-v1-1-milestone-ses-8-launch/&#34;,&#34;wikipedia&#34;:&#34;https://en.wikipedia.org/wiki/SES-8&#34;},&#34;static_fire_date_utc&#34;:&#34;2013-11-22T06:26:00.000Z&#34;,&#34;static_fire_date_unix&#34;:1385101560,&#34;net&#34;:false,&#34;window&#34;:0,&#34;rocket&#34;:&#34;5e9d0d95eda69973a809d1ec&#34;,&#34;success&#34;:true,&#34;failures&#34;:[],&#34;details&#34;:&#34;First GTO launch for Falcon 9&#34;,&#34;crew&#34;:[],&#34;ships&#34;:[],&#34;capsules&#34;:[],&#34;payloads&#34;:[&#34;5eb0e4bbb6c3bb0006eeb1ef&#34;],&#34;launchpad&#34;:&#34;5e9e4501f509094ba4566f84&#34;,&#34;flight_number&#34;:12,&#34;name&#34;:&#34;SES-8&#34;,&#34;date_utc&#34;:&#34;2013-12-03T22:41:00.000Z&#34;,&#34;date_unix&#34;:1386110460,&#34;date_local&#34;:&#34;2013-12-03T18:41:00-04:00&#34;,&#34;date_precision&#34;:&#34;hour&#34;,&#34;upcoming&#34;:false,&#34;cores&#34;:[{&#34;core&#34;:&#34;5e9e289ff35918862c3b262e&#34;,&#34;flight&#34;:1,&#34;gridfins&#34;:false,&#34;legs&#34;:false,&#34;reused&#34;:false,&#34;landing_attempt&#34;:false,&#34;landing_success&#34;:null,&#34;landing_type&#34;:null,&#34;landpad&#34;:null}],&#34;auto_update&#34;:true,&#34;tbd&#34;:false,&#34;launch_library_id&#34;:null,&#34;id&#34;:&#34;5eb87ce2ffd86e000604b335&#34;},{&#34;fairings&#34;:{&#34;reused&#34;:false,&#34;recovery_attempt&#34;:false,&#34;recovered&#34;:false,&#34;ships&#34;:[]},&#34;links&#34;:{&#34;patch&#34;:{&#34;small&#34;:&#34;https://images2.imgbox.com/5c/20/AsqTXJDC_o.png&#34;,&#34;large&#34;:&#34;https://images2.imgbox.com/f5/fa/JvLWfNZz_o.png&#34;},&#34;reddit&#34;:{&#34;campaign&#34;:null,&#34;launch&#34;:&#34;http://www.reddit.com/r/spacex/comments/1ujoc0&#34;,&#34;media&#34;:null,&#34;recovery&#34;:null},&#34;flickr&#34;:{&#34;small&#34;:[],&#34;original&#34;:[&#34;https://farm9.staticflickr.com/8617/16789019815_f99a165dc5_o.jpg&#34;,&#34;https://farm8.staticflickr.com/7619/16763151866_35a0a4d8e1_o.jpg&#34;,&#34;https://farm9.staticflickr.com/8569/16169086873_4d8829832e_o.png&#34;]},&#34;presskit&#34;:&#34;http://www.spacex.com/sites/spacex/files/spacex_thaicom6_presskit.pdf&#34;,&#34;webcast&#34;:&#34;https://www.youtube.com/watch?v=AnSNRzMEmCU&#34;,&#34;youtube_id&#34;:&#34;AnSNRzMEmCU&#34;,&#34;article&#34;:&#34;http://spacenews.com/38959spacex-delivers-thaicom-6-satellite-to-orbit/&#34;,&#34;wikipedia&#34;:&#34;https://en.wikipedia.org/wiki/Thaicom_6&#34;},&#34;static_fire_date_utc&#34;:&#34;2013-12-28T00:00:00.000Z&#34;,&#34;static_fire_date_unix&#34;:1388188800,&#34;net&#34;:false,&#34;window&#34;:0,&#34;rocket&#34;:&#34;5e9d0d95eda69973a809d1ec&#34;,&#34;success&#34;:true,&#34;failures&#34;:[],&#34;details&#34;:&#34;Second GTO launch for Falcon 9. The USAF evaluated launch data from this flight as part of a separate certification program for SpaceX to qualify to fly U.S. military payloads and found that the Thaicom 6 launch had \\\\&#34;unacceptable fuel reserves at engine cutoff of the stage 2 second burnoff\\\\&#34;&#34;,&#34;crew&#34;:[],&#34;ships&#34;:[],&#34;capsules&#34;:[],&#34;payloads&#34;:[&#34;5eb0e4bbb6c3bb0006eeb1f0&#34;],&#34;launchpad&#34;:&#34;5e9e4501f509094ba4566f84&#34;,&#34;flight_number&#34;:13,&#34;name&#34;:&#34;Thaicom 6&#34;,&#34;date_utc&#34;:&#34;2014-01-06T18:06:00.000Z&#34;,&#34;date_unix&#34;:1389031560,&#34;date_local&#34;:&#34;2014-01-06T14:06:00-04:00&#34;,&#34;date_precision&#34;:&#34;hour&#34;,&#34;upcoming&#34;:false,&#34;cores&#34;:[{&#34;core&#34;:&#34;5e9e289ff3591878603b262f&#34;,&#34;flight&#34;:1,&#34;gridfins&#34;:false,&#34;legs&#34;:false,&#34;reused&#34;:false,&#34;landing_attempt&#34;:false,&#34;landing_success&#34;:null,&#34;landing_type&#34;:null,&#34;landpad&#34;:null}],&#34;auto_update&#34;:true,&#34;tbd&#34;:false,&#34;launch_library_id&#34;:null,&#34;id&#34;:&#34;5eb87ce3ffd86e000604b336&#34;},{&#34;fairings&#34;:null,&#34;links&#34;:{&#34;patch&#34;:{&#34;small&#34;:&#34;https://images2.imgbox.com/ae/3c/yVvE2vVh_o.png&#34;,&#34;large&#34;:&#34;https://images2.imgbox.com/82/c7/bbs0gt88_o.png&#34;},&#34;reddit&#34;:{&#34;campaign&#34;:null,&#34;launch&#34;:&#34;http://www.reddit.com/r/spacex/comments/22zo8c&#34;,&#34;media&#34;:null,&#34;recovery&#34;:null},&#34;flickr&#34;:{&#34;small&#34;:[],&#34;original&#34;:[&#34;https://farm8.staticflickr.com/7615/16670240949_8d43db0e36_o.jpg&#34;,&#34;https://farm9.staticflickr.com/8597/16856369125_e97cd30ef7_o.jpg&#34;,&#34;https://farm8.staticflickr.com/7586/16166732954_9338dc859c_o.jpg&#34;,&#34;https://farm8.staticflickr.com/7603/16855223522_462da54e84_o.jpg&#34;,&#34;https://farm8.staticflickr.com/7618/16234010894_e1210ec300_o.jpg&#34;,&#34;https://farm8.staticflickr.com/7617/16855338881_69542a2fa9_o.jpg&#34;]},&#34;presskit&#34;:&#34;http://www.spacex.com/sites/spacex/files/spacexcrs-3_presskit_042014.pdf&#34;,&#34;webcast&#34;:&#34;https://www.youtube.com/watch?v=Od-lON4bTyQ&#34;,&#34;youtube_id&#34;:&#34;Od-lON4bTyQ&#34;,&#34;article&#34;:&#34;https://newatlas.com/crs-3-launch-spacex/31671/&#34;,&#34;wikipedia&#34;:&#34;https://en.wikipedia.org/wiki/SpaceX_CRS-3&#34;},&#34;static_fire_date_utc&#34;:&#34;2014-03-08T00:00:00.000Z&#34;,&#34;static_fire_date_unix&#34;:1394236800,&#34;net&#34;:false,&#34;window&#34;:0,&#34;rocket&#34;:&#34;5e9d0d95eda69973a809d1ec&#34;,&#34;success&#34;:true,&#34;failures&#34;:[],&#34;details&#34;:&#34;Following second-stage separation, SpaceX conducted a second controlled-descent test of the discarded booster vehicle and achieved the first successful controlled ocean touchdown of a liquid-rocket-engine orbital booster. Following touchdown the first stage tipped over as expected and was destroyed. This was the first Falcon 9 booster to fly with extensible landing legs and the first Dragon mission with the Falcon 9 v1.1 launch vehicle.&#34;,&#34;crew&#34;:[],&#34;ships&#34;:[&#34;5ea6ed2d080df4000697c902&#34;],&#34;capsules&#34;:[&#34;5e9e2c5bf3591859a63b2668&#34;],&#34;payloads&#34;:[&#34;5eb0e4bbb6c3bb0006eeb1f1&#34;],&#34;launchpad&#34;:&#34;5e9e4501f509094ba4566f84&#34;,&#34;flight_number&#34;:14,&#34;name&#34;:&#34;CRS-3&#34;,&#34;date_utc&#34;:&#34;2014-04-18T19:25:00.000Z&#34;,&#34;date_unix&#34;:1397849100,&#34;date_local&#34;:&#34;2014-04-18T15:25:00-04:00&#34;,&#34;date_precision&#34;:&#34;hour&#34;,&#34;upcoming&#34;:false,&#34;cores&#34;:[{&#34;core&#34;:&#34;5e9e289ff3591829343b2630&#34;,&#34;flight&#34;:1,&#34;gridfins&#34;:false,&#34;legs&#34;:true,&#34;reused&#34;:false,&#34;landing_attempt&#34;:true,&#34;landing_success&#34;:true,&#34;landing_type&#34;:&#34;Ocean&#34;,&#34;landpad&#34;:null}],&#34;auto_update&#34;:true,&#34;tbd&#34;:false,&#34;launch_library_id&#34;:null,&#34;id&#34;:&#34;5eb87ce4ffd86e000604b337&#34;},{&#34;fairings&#34;:{&#34;reused&#34;:false,&#34;recovery_attempt&#34;:false,&#34;recovered&#34;:false,&#34;ships&#34;:[]},&#34;links&#34;:{&#34;patch&#34;:{&#34;small&#34;:&#34;https://images2.imgbox.com/a4/44/YWAUBkOe_o.png&#34;,&#34;large&#34;:&#34;https://images2.imgbox.com/fd/41/FUnfqHHH_o.png&#34;},&#34;reddit&#34;:{&#34;campaign&#34;:null,&#34;launch&#34;:&#34;http://www.reddit.com/r/spacex/comments/2aany2&#34;,&#34;media&#34;:null,&#34;recovery&#34;:null},&#34;flickr&#34;:{&#34;small&#34;:[],&#34;original&#34;:[&#34;https://farm8.staticflickr.com/7585/16602893909_1181317089_o.jpg&#34;,&#34;https://farm9.staticflickr.com/8747/16581738577_83e0690136_o.png&#34;,&#34;https://farm8.staticflickr.com/7285/16581736047_6fd536ab11_o.jpg&#34;,&#34;https://farm8.staticflickr.com/7597/16789021675_35f0148f78_o.jpg&#34;,&#34;https://farm8.staticflickr.com/7631/16236321533_829ae07b42_o.jpg&#34;,&#34;https://farm9.staticflickr.com/8726/16830422056_26c2265bbc_o.jpg&#34;,&#34;https://farm9.staticflickr.com/8591/16670149079_33d6cc3631_o.jpg&#34;]},&#34;presskit&#34;:&#34;http://www.spacex.com/sites/spacex/files/spacex_orbcomm_presskit_final.pdf&#34;,&#34;webcast&#34;:&#34;https://www.youtube.com/watch?v=lbHnSu-DLR4&#34;,&#34;youtube_id&#34;:&#34;lbHnSu-DLR4&#34;,&#34;article&#34;:&#34;https://www.orbcomm.com/en/networks/satellite/orbcomm-og2&#34;,&#34;wikipedia&#34;:&#34;https://en.wikipedia.org/wiki/Falcon_9_flight_10&#34;},&#34;static_fire_date_utc&#34;:&#34;2015-12-19T04:57:00.000Z&#34;,&#34;static_fire_date_unix&#34;:1450501020,&#34;net&#34;:false,&#34;window&#34;:0,&#34;rocket&#34;:&#34;5e9d0d95eda69973a809d1ec&#34;,&#34;success&#34;:true,&#34;failures&#34;:[],&#34;details&#34;:&#34;Total payload mass was 1,316 kg (2,901 lb) : 6 satellites weighing 172 kg each, plus two 142-kg mass simulators. This was the second Falcon 9 booster equipped with landing legs. Following second-stage separation, SpaceX conducted a controlled-descent test of the first stage, which successfully decelerated from\\xc2\\xa0hypersonic velocity in the upper atmosphere, made reentry and landing burns, deployed its legs and touched down on the ocean surface. As with the previous mission, the first stage then tipped over as expected and was not recovered.&#34;,&#34;crew&#34;:[],&#34;ships&#34;:[],&#34;capsules&#34;:[],&#34;payloads&#34;:[&#34;5eb0e4bcb6c3bb0006eeb1f2&#34;],&#34;launchpad&#34;:&#34;5e9e4501f509094ba4566f84&#34;,&#34;flight_number&#34;:15,&#34;name&#34;:&#34;OG-2 Mission 1&#34;,&#34;date_utc&#34;:&#34;2014-07-14T15:15:00.000Z&#34;,&#34;date_unix&#34;:1405350900,&#34;date_local&#34;:&#34;2014-07-14T11:15:00-04:00&#34;,&#34;date_precision&#34;:&#34;hour&#34;,&#34;upcoming&#34;:false,&#34;cores&#34;:[{&#34;core&#34;:&#34;5e9e28a0f3591870a63b2631&#34;,&#34;flight&#34;:1,&#34;gridfins&#34;:false,&#34;legs&#34;:true,&#34;reused&#34;:false,&#34;landing_attempt&#34;:true,&#34;landing_success&#34;:true,&#34;landing_type&#34;:&#34;Ocean&#34;,&#34;landpad&#34;:null}],&#34;auto_update&#34;:true,&#34;tbd&#34;:false,&#34;launch_library_id&#34;:null,&#34;id&#34;:&#34;5eb87ce4ffd86e000604b338&#34;},{&#34;fairings&#34;:{&#34;reused&#34;:false,&#34;recovery_attempt&#34;:false,&#34;recovered&#34;:false,&#34;ships&#34;:[]},&#34;links&#34;:{&#34;patch&#34;:{&#34;small&#34;:&#34;https://images2.imgbox.com/dd/4d/szidadu8_o.png&#34;,&#34;large&#34;:&#34;https://images2.imgbox.com/60/3f/hwK01Qce_o.png&#34;},&#34;reddit&#34;:{&#34;campaign&#34;:null,&#34;launch&#34;:&#34;http://www.reddit.com/r/spacex/comments/2fenrv&#34;,&#34;media&#34;:null,&#34;recovery&#34;:null},&#34;flickr&#34;:{&#34;small&#34;:[],&#34;original&#34;:[&#34;https://farm9.staticflickr.com/8638/16855192031_962f7b1113_o.jpg&#34;,&#34;https://farm8.staticflickr.com/7603/16648925347_769a6009c7_o.jpg&#34;,&#34;https://farm9.staticflickr.com/8687/16789027675_cde1bd098a_o.jpg&#34;,&#34;https://farm8.staticflickr.com/7629/16668638138_7acf13cfb5_o.jpg&#34;,&#34;https://farm8.staticflickr.com/7281/16668845950_7680146525_o.jpg&#34;,&#34;https://farm8.staticflickr.com/7626/16233865484_10d9925b5d_o.jpg&#34;]},&#34;presskit&#34;:&#34;https://spaceflightnow.com/falcon9/011/presskit.pdf&#34;,&#34;webcast&#34;:&#34;https://www.youtube.com/watch?v=essrkMGlw5s&#34;,&#34;youtube_id&#34;:&#34;essrkMGlw5s&#34;,&#34;article&#34;:&#34;http://spacenews.com/41497spacex-launches-first-of-two-satellites-for-asiasat/&#34;,&#34;wikipedia&#34;:&#34;https://en.wikipedia.org/wiki/AsiaSat_8&#34;},&#34;static_fire_date_utc&#34;:&#34;2014-07-31T23:35:15.000Z&#34;,&#34;static_fire_date_unix&#34;:1406849715,&#34;net&#34;:false,&#34;window&#34;:0,&#34;rocket&#34;:&#34;5e9d0d95eda69973a809d1ec&#34;,&#34;success&#34;:true,&#34;failures&#34;:[],&#34;details&#34;:null,&#34;crew&#34;:[],&#34;ships&#34;:[],&#34;capsules&#34;:[],&#34;payloads&#34;:[&#34;5eb0e4bcb6c3bb0006eeb1f3&#34;],&#34;launchpad&#34;:&#34;5e9e4501f509094ba4566f84&#34;,&#34;flight_number&#34;:16,&#34;name&#34;:&#34;AsiaSat 8&#34;,&#34;date_utc&#34;:&#34;2014-08-05T08:00:00.000Z&#34;,&#34;date_unix&#34;:1407225600,&#34;date_local&#34;:&#34;2014-08-05T04:00:00-04:00&#34;,&#34;date_precision&#34;:&#34;hour&#34;,&#34;upcoming&#34;:false,&#34;cores&#34;:[{&#34;core&#34;:&#34;5e9e28a0f359186e2e3b2632&#34;,&#34;flight&#34;:1,&#34;gridfins&#34;:false,&#34;legs&#34;:false,&#34;reused&#34;:false,&#34;landing_attempt&#34;:false,&#34;landing_success&#34;:null,&#34;landing_type&#34;:null,&#34;landpad&#34;:null}],&#34;auto_update&#34;:true,&#34;tbd&#34;:false,&#34;launch_library_id&#34;:null,&#34;id&#34;:&#34;5eb87ce5ffd86e000604b339&#34;},{&#34;fairings&#34;:{&#34;reused&#34;:false,&#34;recovery_attempt&#34;:false,&#34;recovered&#34;:false,&#34;ships&#34;:[]},&#34;links&#34;:{&#34;patch&#34;:{&#34;small&#34;:&#34;https://images2.imgbox.com/d4/ea/jdJqr6He_o.png&#34;,&#34;large&#34;:&#34;https://images2.imgbox.com/5a/f0/b3TgnmVr_o.png&#34;},&#34;reddit&#34;:{&#34;campaign&#34;:null,&#34;launch&#34;:&#34;http://www.reddit.com/r/spacex/comments/2fenrv&#34;,&#34;media&#34;:null,&#34;recovery&#34;:null},&#34;flickr&#34;:{&#34;small&#34;:[],&#34;original&#34;:[&#34;https://farm8.staticflickr.com/7604/16169087563_0e3559ab5b_o.jpg&#34;,&#34;https://farm9.staticflickr.com/8742/16233828644_96738200b2_o.jpg&#34;,&#34;https://farm8.staticflickr.com/7645/16601443698_e70315d1ed_o.jpg&#34;,&#34;https://farm9.staticflickr.com/8730/16830335046_5f017c17be_o.jpg&#34;,&#34;https://farm9.staticflickr.com/8637/16855040322_57671ab8eb_o.jpg&#34;]},&#34;presskit&#34;:&#34;https://www.spaceflightnow.com/falcon9/012/presskit.pdf&#34;,&#34;webcast&#34;:&#34;https://www.youtube.com/watch?v=39ninsyTRk8&#34;,&#34;youtube_id&#34;:&#34;39ninsyTRk8&#34;,&#34;article&#34;:&#34;https://www.space.com/27052-spacex-launches-asiasat6-satellite.html&#34;,&#34;wikipedia&#34;:&#34;https://en.wikipedia.org/wiki/AsiaSat_6&#34;},&#34;static_fire_date_utc&#34;:&#34;2014-08-22T23:51:18.000Z&#34;,&#34;static_fire_date_unix&#34;:1408751478,&#34;net&#34;:false,&#34;window&#34;:7200,&#34;rocket&#34;:&#34;5e9d0d95eda69973a809d1ec&#34;,&#34;success&#34;:true,&#34;failures&#34;:[],&#34;details&#34;:null,&#34;crew&#34;:[],&#34;ships&#34;:[],&#34;capsules&#34;:[],&#34;payloads&#34;:[&#34;5eb0e4bcb6c3bb0006eeb1f4&#34;],&#34;launchpad&#34;:&#34;5e9e4501f509094ba4566f84&#34;,&#34;flight_number&#34;:17,&#34;name&#34;:&#34;AsiaSat 6&#34;,&#34;date_utc&#34;:&#34;2014-09-07T05:00:00.000Z&#34;,&#34;date_unix&#34;:1410066000,&#34;date_local&#34;:&#34;2014-09-07T01:00:00-04:00&#34;,&#34;date_precision&#34;:&#34;hour&#34;,&#34;upcoming&#34;:false,&#34;cores&#34;:[{&#34;core&#34;:&#34;5e9e28a0f35918b1bc3b2633&#34;,&#34;flight&#34;:1,&#34;gridfins&#34;:false,&#34;legs&#34;:false,&#34;reused&#34;:false,&#34;landing_attempt&#34;:false,&#34;landing_success&#34;:null,&#34;landing_type&#34;:null,&#34;landpad&#34;:null}],&#34;auto_update&#34;:true,&#34;tbd&#34;:false,&#34;launch_library_id&#34;:null,&#34;id&#34;:&#34;5eb87ce6ffd86e000604b33a&#34;},{&#34;fairings&#34;:null,&#34;links&#34;:{&#34;patch&#34;:{&#34;small&#34;:&#34;https://images2.imgbox.com/7b/fb/Mm0LdwGY_o.png&#34;,&#34;large&#34;:&#34;https://images2.imgbox.com/21/13/ps1yJZFD_o.png&#34;},&#34;reddit&#34;:{&#34;campaign&#34;:null,&#34;launch&#34;:&#34;http://www.reddit.com/r/spacex/comments/2grxer&#34;,&#34;media&#34;:null,&#34;recovery&#34;:null},&#34;flickr&#34;:{&#34;small&#34;:[],&#34;original&#34;:[&#34;https://farm8.staticflickr.com/7608/16661753958_9f61f777e7_o.jpg&#34;,&#34;https://farm9.staticflickr.com/8593/16763199166_38ba2cafc8_o.jpg&#34;,&#34;https://farm9.staticflickr.com/8655/16789074175_ba03989359_o.png&#34;,&#34;https://farm9.staticflickr.com/8659/16166761954_ebc2a72b2a_o.jpg&#34;,&#34;https://farm9.staticflickr.com/8620/16642025217_a6852b9499_o.jpg&#34;]},&#34;presskit&#34;:&#34;https://www.nasa.gov/sites/default/files/files/SpaceX_NASA_CRS-4_PressKit.pdf&#34;,&#34;webcast&#34;:&#34;https://www.youtube.com/watch?v=7YkCh7uOw1Y&#34;,&#34;youtube_id&#34;:&#34;7YkCh7uOw1Y&#34;,&#34;article&#34;:&#34;https://www.nasa.gov/press/2014/september/nasa-cargo-launches-to-space-station-aboard-spacex-resupply-mission-0&#34;,&#34;wikipedia&#34;:&#34;https://en.wikipedia.org/wiki/SpaceX_CRS-4&#34;},&#34;static_fire_date_utc&#34;:&#34;2014-09-17T00:00:00.000Z&#34;,&#34;static_fire_date_unix&#34;:1410912000,&#34;net&#34;:false,&#34;window&#34;:0,&#34;rocket&#34;:&#34;5e9d0d95eda69973a809d1ec&#34;,&#34;success&#34;:true,&#34;failures&#34;:[],&#34;details&#34;:null,&#34;crew&#34;:[],&#34;ships&#34;:[&#34;5ea6ed2d080df4000697c902&#34;],&#34;capsules&#34;:[&#34;5e9e2c5bf3591880643b2669&#34;],&#34;payloads&#34;:[&#34;5eb0e4bcb6c3bb0006eeb1f5&#34;],&#34;launchpad&#34;:&#34;5e9e4501f509094ba4566f84&#34;,&#34;flight_number&#34;:18,&#34;name&#34;:&#34;CRS-4&#34;,&#34;date_utc&#34;:&#34;2014-09-21T05:52:00.000Z&#34;,&#34;date_unix&#34;:1411278720,&#34;date_local&#34;:&#34;2014-09-21T01:52:00-04:00&#34;,&#34;date_precision&#34;:&#34;hour&#34;,&#34;upcoming&#34;:false,&#34;cores&#34;:[{&#34;core&#34;:&#34;5e9e28a0f359184a683b2634&#34;,&#34;flight&#34;:1,&#34;gridfins&#34;:false,&#34;legs&#34;:false,&#34;reused&#34;:false,&#34;landing_attempt&#34;:true,&#34;landing_success&#34;:false,&#34;landing_type&#34;:&#34;Ocean&#34;,&#34;landpad&#34;:null}],&#34;auto_update&#34;:true,&#34;tbd&#34;:false,&#34;launch_library_id&#34;:null,&#34;id&#34;:&#34;5eb87ce7ffd86e000604b33b&#34;},{&#34;fairings&#34;:null,&#34;links&#34;:{&#34;patch&#34;:{&#34;small&#34;:&#34;https://images2.imgbox.com/df/53/3Ik1KR2O_o.png&#34;,&#34;large&#34;:&#34;https://images2.imgbox.com/ed/f3/MdEzr8rE_o.png&#34;},&#34;reddit&#34;:{&#34;campaign&#34;:null,&#34;launch&#34;:&#34;http://www.reddit.com/r/spacex/comments/2rrdha&#34;,&#34;media&#34;:null,&#34;recovery&#34;:null},&#34;flickr&#34;:{&#34;small&#34;:[],&#34;original&#34;:[&#34;https://farm9.staticflickr.com/8666/16511391418_bb5cdbbd71_o.jpg&#34;,&#34;https://farm9.staticflickr.com/8612/16848173281_035bdc6009_o.jpg&#34;,&#34;https://farm9.staticflickr.com/8571/16699496805_bf39747618_o.jpg&#34;,&#34;https://farm9.staticflickr.com/8650/16699496705_187e4e53fd_o.jpg&#34;,&#34;https://farm9.staticflickr.com/8663/16077174554_370937efbe_o.jpg&#34;,&#34;https://farm9.staticflickr.com/8638/16512101410_83763eb9ea_o.jpg&#34;,&#34;https://farm9.staticflickr.com/8653/16077173984_17885d4bea_o.jpg&#34;,&#34;https://farm8.staticflickr.com/7635/16848159582_40c0f9d25f_o.jpg&#34;]},&#34;presskit&#34;:&#34;http://www.spacex.com/sites/spacex/files/spacex_nasa_crs-5_presskit.pdf&#34;,&#34;webcast&#34;:&#34;https://www.youtube.com/watch?v=p7x-SumbynI&#34;,&#34;youtube_id&#34;:&#34;p7x-SumbynI&#34;,&#34;article&#34;:&#34;https://spaceflightnow.com/2015/01/10/dragon-successfully-launched-rocket-recovery-demo-crash-lands/&#34;,&#34;wikipedia&#34;:&#34;https://en.wikipedia.org/wiki/SpaceX_CRS-5&#34;},&#34;static_fire_date_utc&#34;:&#34;2014-12-19T00:00:00.000Z&#34;,&#34;static_fire_date_unix&#34;:1418947200,&#34;net&#34;:false,&#34;window&#34;:0,&#34;rocket&#34;:&#34;5e9d0d95eda69973a809d1ec&#34;,&#34;success&#34;:true,&#34;failures&#34;:[],&#34;details&#34;:&#34;Following second stage separation, SpaceX performed a test flight which attempted to return the first stage of the Falcon 9 through the atmosphere and land it on an approximately 90-by-50-meter (300 ft x 160 ft) floating platform-called the autonomous spaceport drone ship. Many of the test objectives were achieved, including precision control of the rocket\\&#39;s descent to land on the platform at a specific point in the Atlantic ocean, and a large amount of test data was obtained from the first use of grid fin control surfaces used for more precise reentry positioning. The grid fin control system ran out of hydraulic fluid a minute before landing and the landing itself resulted in a crash.&#34;,&#34;crew&#34;:[],&#34;ships&#34;:[&#34;5ea6ed2e080df4000697c906&#34;,&#34;5ea6ed2f080df4000697c90b&#34;,&#34;5ea6ed2f080df4000697c90c&#34;,&#34;5ea6ed2f080df4000697c90f&#34;,&#34;5ea6ed30080df4000697c912&#34;],&#34;capsules&#34;:[&#34;5e9e2c5bf35918165f3b266a&#34;],&#34;payloads&#34;:[&#34;5eb0e4bdb6c3bb0006eeb1f6&#34;],&#34;launchpad&#34;:&#34;5e9e4501f509094ba4566f84&#34;,&#34;flight_number&#34;:19,&#34;name&#34;:&#34;CRS-5&#34;,&#34;date_utc&#34;:&#34;2015-01-10T09:47:00.000Z&#34;,&#34;date_unix&#34;:1420883220,&#34;date_local&#34;:&#34;2015-01-10T05:47:00-04:00&#34;,&#34;date_precision&#34;:&#34;hour&#34;,&#34;upcoming&#34;:false,&#34;cores&#34;:[{&#34;core&#34;:&#34;5e9e28a0f359187a3c3b2635&#34;,&#34;flight&#34;:1,&#34;gridfins&#34;:true,&#34;legs&#34;:true,&#34;reused&#34;:false,&#34;landing_attempt&#34;:true,&#34;landing_success&#34;:false,&#34;landing_type&#34;:&#34;ASDS&#34;,&#34;landpad&#34;:&#34;5e9e3032383ecb761634e7cb&#34;}],&#34;auto_update&#34;:true,&#34;tbd&#34;:false,&#34;launch_library_id&#34;:null,&#34;id&#34;:&#34;5eb87ce8ffd86e000604b33c&#34;},{&#34;fairings&#34;:{&#34;reused&#34;:false,&#34;recovery_attempt&#34;:false,&#34;recovered&#34;:false,&#34;ships&#34;:[]},&#34;links&#34;:{&#34;patch&#34;:{&#34;small&#34;:&#34;https://images2.imgbox.com/bc/a6/uDYvXvql_o.png&#34;,&#34;large&#34;:&#34;https://images2.imgbox.com/30/47/WmtGcjW8_o.png&#34;},&#34;reddit&#34;:{&#34;campaign&#34;:null,&#34;launch&#34;:&#34;http://www.reddit.com/r/spacex/comments/2vjm9e&#34;,&#34;media&#34;:null,&#34;recovery&#34;:null},&#34;flickr&#34;:{&#34;small&#34;:[],&#34;original&#34;:[&#34;https://farm9.staticflickr.com/8619/16511407538_9a25c5d8c6_o.jpg&#34;,&#34;https://farm9.staticflickr.com/8665/16697946612_1284e952b0_o.jpg&#34;,&#34;https://farm9.staticflickr.com/8570/16698990475_16524a93de_o.jpg&#34;,&#34;https://farm9.staticflickr.com/8681/16512864259_e849e496b1_o.jpg&#34;,&#34;https://farm9.staticflickr.com/8637/16079045013_1f0fab9b54_o.jpg&#34;,&#34;https://farm9.staticflickr.com/8601/16512864369_2bb896c344_o.jpg&#34;,&#34;https://farm9.staticflickr.com/8646/16697693861_a038331e0a_o.jpg&#34;,&#34;https://farm9.staticflickr.com/8680/16511407248_093635a243_o.jpg&#34;,&#34;https://farm9.staticflickr.com/8654/16511594820_451f194d53_o.jpg&#34;,&#34;https://farm9.staticflickr.com/8603/16673054016_472fb42a20_o.jpg&#34;]},&#34;presskit&#34;:&#34;http://www.spacex.com/press/2015/02/11/dscovr-launch-update&#34;,&#34;webcast&#34;:&#34;https://www.youtube.com/watch?v=OvHJSIKP0Hg&#34;,&#34;youtube_id&#34;:&#34;OvHJSIKP0Hg&#34;,&#34;article&#34;:&#34;https://spaceflightnow.com/2015/02/12/space-weather-observatory-blasts-off-after-17-year-wait/&#34;,&#34;wikipedia&#34;:&#34;https://en.wikipedia.org/wiki/Deep_Space_Climate_Observatory&#34;},&#34;static_fire_date_utc&#34;:&#34;2015-01-31T00:00:00.000Z&#34;,&#34;static_fire_date_unix&#34;:1422662400,&#34;net&#34;:false,&#34;window&#34;:0,&#34;rocket&#34;:&#34;5e9d0d95eda69973a809d1ec&#34;,&#34;success&#34;:true,&#34;failures&#34;:[],&#34;details&#34;:&#34;First launch under USAF\\&#39;s OSP 3 launch contract. First SpaceX launch to put a satellite to an orbit with an orbital altitude many times the distance to the Moon: Sun-Earth libration point L1. The first stage made a test flight descent to an over-ocean landing within 10 m (33 ft) of its intended target.&#34;,&#34;crew&#34;:[],&#34;ships&#34;:[&#34;5ea6ed2e080df4000697c906&#34;,&#34;5ea6ed2f080df4000697c90b&#34;,&#34;5ea6ed2f080df4000697c90c&#34;],&#34;capsules&#34;:[],&#34;payloads&#34;:[&#34;5eb0e4bdb6c3bb0006eeb1f7&#34;],&#34;launchpad&#34;:&#34;5e9e4501f509094ba4566f84&#34;,&#34;flight_number&#34;:20,&#34;name&#34;:&#34;DSCOVR&#34;,&#34;date_utc&#34;:&#34;2015-02-11T23:03:00.000Z&#34;,&#34;date_unix&#34;:1423695780,&#34;date_local&#34;:&#34;2015-02-11T19:03:00-04:00&#34;,&#34;date_precision&#34;:&#34;hour&#34;,&#34;upcoming&#34;:false,&#34;cores&#34;:[{&#34;core&#34;:&#34;5e9e28a0f3591885be3b2636&#34;,&#34;flight&#34;:1,&#34;gridfins&#34;:true,&#34;legs&#34;:true,&#34;reused&#34;:false,&#34;landing_attempt&#34;:true,&#34;landing_success&#34;:true,&#34;landing_type&#34;:&#34;Ocean&#34;,&#34;landpad&#34;:null}],&#34;auto_update&#34;:true,&#34;tbd&#34;:false,&#34;launch_library_id&#34;:null,&#34;id&#34;:&#34;5eb87ceaffd86e000604b33d&#34;},{&#34;fairings&#34;:{&#34;reused&#34;:false,&#34;recovery_attempt&#34;:false,&#34;recovered&#34;:false,&#34;ships&#34;:[]},&#34;links&#34;:{&#34;patch&#34;:{&#34;small&#34;:&#34;https://images2.imgbox.com/2b/65/8Hd65fHz_o.png&#34;,&#34;large&#34;:&#34;https://images2.imgbox.com/3f/c9/ZczpJ97M_o.png&#34;},&#34;reddit&#34;:{&#34;campaign&#34;:null,&#34;launch&#34;:&#34;http://www.reddit.com/r/spacex/comments/2x81fc&#34;,&#34;media&#34;:&#34;https://www.reddit.com/r/spacex/comments/2xmumx&#34;,&#34;recovery&#34;:null},&#34;flickr&#34;:{&#34;small&#34;:[],&#34;original&#34;:[&#34;https://farm9.staticflickr.com/8749/16788442562_ed460c2d9e_o.jpg&#34;,&#34;https://farm9.staticflickr.com/8586/16510243060_48d6a9b1f6_o.jpg&#34;,&#34;https://farm9.staticflickr.com/8641/16490359747_c043b8c61a_o.jpg&#34;,&#34;https://farm9.staticflickr.com/8636/16510241270_ca83157509_o.jpg&#34;,&#34;https://farm8.staticflickr.com/7618/16601658850_13b826e705_o.jpg&#34;,&#34;https://farm9.staticflickr.com/8617/16510041628_883af57512_o.jpg&#34;]},&#34;presskit&#34;:&#34;http://www.spacex.com/sites/spacex/files/abs-eutelsatfactsheet.pdf&#34;,&#34;webcast&#34;:&#34;https://www.youtube.com/watch?v=mN7lyaCBzT8&#34;,&#34;youtube_id&#34;:&#34;mN7lyaCBzT8&#34;,&#34;article&#34;:&#34;https://www.space.com/28702-spacex-rocket-launches-satellites-video.html&#34;,&#34;wikipedia&#34;:&#34;https://en.wikipedia.org/wiki/ABS-3A&#34;},&#34;static_fire_date_utc&#34;:&#34;2015-02-25T19:10:00.000Z&#34;,&#34;static_fire_date_unix&#34;:1424891400,&#34;net&#34;:false,&#34;window&#34;:0,&#34;rocket&#34;:&#34;5e9d0d95eda69973a809d1ec&#34;,&#34;success&#34;:true,&#34;failures&#34;:[],&#34;details&#34;:&#34;The launch was Boeing\\&#39;s first-ever conjoined launch of a lighter-weight dual-commsat stack that was specifically designed to take advantage of the lower-cost SpaceX Falcon 9 launch vehicle. Per satellite, launch costs were less than $30 million. The ABS satellite reached its final destination ahead of schedule and started operations on September 10.&#34;,&#34;crew&#34;:[],&#34;ships&#34;:[],&#34;capsules&#34;:[],&#34;payloads&#34;:[&#34;5eb0e4bdb6c3bb0006eeb1f8&#34;,&#34;5eb0e4bdb6c3bb0006eeb1f9&#34;],&#34;launchpad&#34;:&#34;5e9e4501f509094ba4566f84&#34;,&#34;flight_number&#34;:21,&#34;name&#34;:&#34;ABS-3A / Eutelsat 115W B&#34;,&#34;date_utc&#34;:&#34;2015-03-02T03:50:00.000Z&#34;,&#34;date_unix&#34;:1425268200,&#34;date_local&#34;:&#34;2015-03-02T23:50:00-04:00&#34;,&#34;date_precision&#34;:&#34;hour&#34;,&#34;upcoming&#34;:false,&#34;cores&#34;:[{&#34;core&#34;:&#34;5e9e28a0f35918c0893b2637&#34;,&#34;flight&#34;:1,&#34;gridfins&#34;:false,&#34;legs&#34;:false,&#34;reused&#34;:false,&#34;landing_attempt&#34;:false,&#34;landing_success&#34;:null,&#34;landing_type&#34;:null,&#34;landpad&#34;:null}],&#34;auto_update&#34;:true,&#34;tbd&#34;:false,&#34;launch_library_id&#34;:null,&#34;id&#34;:&#34;5eb87ceaffd86e000604b33e&#34;},{&#34;fairings&#34;:null,&#34;links&#34;:{&#34;patch&#34;:{&#34;small&#34;:&#34;https://images2.imgbox.com/75/39/TJU6xWM5_o.png&#34;,&#34;large&#34;:&#34;https://images2.imgbox.com/c7/02/2XvCh1yD_o.png&#34;},&#34;reddit&#34;:{&#34;campaign&#34;:null,&#34;launch&#34;:&#34;https://www.reddit.com/r/spacex/comments/32jnyd&#34;,&#34;media&#34;:&#34;https://www.reddit.com/r/spacex/comments/32lw5y&#34;,&#34;recovery&#34;:null},&#34;flickr&#34;:{&#34;small&#34;:[],&#34;original&#34;:[&#34;https://farm8.staticflickr.com/7624/17170624642_e5949d160e_o.jpg&#34;,&#34;https://farm8.staticflickr.com/7708/17170624402_f6de506461_o.jpg&#34;,&#34;https://farm8.staticflickr.com/7658/17170624462_2efc977fee_o.jpg&#34;,&#34;https://farm8.staticflickr.com/7611/17171659711_42597fefed_o.jpg&#34;,&#34;https://farm9.staticflickr.com/8774/17170624412_7091dbd04a_o.jpg&#34;]},&#34;presskit&#34;:&#34;https://www.nasa.gov/sites/default/files/files/SpaceX_NASA_CRS-6_PressKit.pdf&#34;,&#34;webcast&#34;:&#34;https://www.youtube.com/watch?v=csVpa25iqH0&#34;,&#34;youtube_id&#34;:&#34;csVpa25iqH0&#34;,&#34;article&#34;:&#34;https://spaceflightnow.com/2015/04/14/falcon-9-successfully-launches-descends-to-off-balance-landing/&#34;,&#34;wikipedia&#34;:&#34;https://en.wikipedia.org/wiki/SpaceX_CRS-6&#34;},&#34;static_fire_date_utc&#34;:&#34;2015-04-11T00:00:00.000Z&#34;,&#34;static_fire_date_unix&#34;:1428710400,&#34;net&#34;:false,&#34;window&#34;:0,&#34;rocket&#34;:&#34;5e9d0d95eda69973a809d1ec&#34;,&#34;success&#34;:true,&#34;failures&#34;:[],&#34;details&#34;:&#34;Following the first-stage boost, SpaceX attempted a controlled-descent test of the first stage. The first stage contacted the ship, but soon tipped over due to excess lateral velocity caused by a stuck throttle valve resulting in a later-than-intended downthrottle.&#34;,&#34;crew&#34;:[],&#34;ships&#34;:[&#34;5ea6ed2e080df4000697c906&#34;,&#34;5ea6ed2f080df4000697c90b&#34;,&#34;5ea6ed2f080df4000697c90c&#34;,&#34;5ea6ed2f080df4000697c90f&#34;,&#34;5ea6ed30080df4000697c912&#34;],&#34;capsules&#34;:[&#34;5e9e2c5cf359188bfb3b266b&#34;],&#34;payloads&#34;:[&#34;5eb0e4bdb6c3bb0006eeb1fa&#34;],&#34;launchpad&#34;:&#34;5e9e4501f509094ba4566f84&#34;,&#34;flight_number&#34;:22,&#34;name&#34;:&#34;CRS-6&#34;,&#34;date_utc&#34;:&#34;2015-04-14T20:10:00.000Z&#34;,&#34;date_unix&#34;:1429042200,&#34;date_local&#34;:&#34;2015-04-14T16:10:00-04:00&#34;,&#34;date_precision&#34;:&#34;hour&#34;,&#34;upcoming&#34;:false,&#34;cores&#34;:[{&#34;core&#34;:&#34;5e9e28a1f359186d533b2638&#34;,&#34;flight&#34;:1,&#34;gridfins&#34;:true,&#34;legs&#34;:true,&#34;reused&#34;:false,&#34;landing_attempt&#34;:true,&#34;landing_success&#34;:false,&#34;landing_type&#34;:&#34;ASDS&#34;,&#34;landpad&#34;:&#34;5e9e3032383ecb761634e7cb&#34;}],&#34;auto_update&#34;:true,&#34;tbd&#34;:false,&#34;launch_library_id&#34;:null,&#34;id&#34;:&#34;5eb87cecffd86e000604b33f&#34;},{&#34;fairings&#34;:{&#34;reused&#34;:false,&#34;recovery_attempt&#34;:false,&#34;recovered&#34;:false,&#34;ships&#34;:[]},&#34;links&#34;:{&#34;patch&#34;:{&#34;small&#34;:&#34;https://images2.imgbox.com/a6/9b/IzWT1pYC_o.png&#34;,&#34;large&#34;:&#34;https://images2.imgbox.com/a1/dc/grsyEfA5_o.png&#34;},&#34;reddit&#34;:{&#34;campaign&#34;:null,&#34;launch&#34;:&#34;https://www.reddit.com/r/spacex/comments/33xqcj&#34;,&#34;media&#34;:&#34;https://www.reddit.com/r/spacex/comments/3439s3&#34;,&#34;recovery&#34;:null},&#34;flickr&#34;:{&#34;small&#34;:[],&#34;original&#34;:[&#34;https://farm8.staticflickr.com/7695/17138865668_18dcce7072_o.jpg&#34;,&#34;https://farm8.staticflickr.com/7677/16706406093_61a8f9c2f8_o.jpg&#34;,&#34;https://farm8.staticflickr.com/7691/17324793792_2dd13ea3f3_o.jpg&#34;,&#34;https://farm8.staticflickr.com/7691/17139094400_b94ce1ff56_o.jpg&#34;,&#34;https://farm9.staticflickr.com/8739/17140415959_38b5ee8bc6_o.jpg&#34;,&#34;https://farm8.staticflickr.com/7735/16704192574_e3a0a6fac2_o.jpg&#34;]},&#34;presskit&#34;:&#34;http://www.spacex.com/sites/spacex/files/spacexthalesfactsheet_final.pdf&#34;,&#34;webcast&#34;:&#34;https://www.youtube.com/watch?v=nBwAYT_ogj4&#34;,&#34;youtube_id&#34;:&#34;nBwAYT_ogj4&#34;,&#34;article&#34;:&#34;https://spaceflightnow.com/2015/04/28/falcon-9-rocket-powers-into-space-with-satellite-for-turkmenistan/&#34;,&#34;wikipedia&#34;:&#34;https://en.wikipedia.org/wiki/T%C3%BCrkmen%C3%84lem_52%C2%B0E_/_MonacoSAT&#34;},&#34;static_fire_date_utc&#34;:&#34;2015-04-22T11:11:00.000Z&#34;,&#34;static_fire_date_unix&#34;:1429701060,&#34;net&#34;:false,&#34;window&#34;:0,&#34;rocket&#34;:&#34;5e9d0d95eda69973a809d1ec&#34;,&#34;success&#34;:true,&#34;failures&#34;:[],&#34;details&#34;:null,&#34;crew&#34;:[],&#34;ships&#34;:[],&#34;capsules&#34;:[],&#34;payloads&#34;:[&#34;5eb0e4beb6c3bb0006eeb1fb&#34;],&#34;launchpad&#34;:&#34;5e9e4501f509094ba4566f84&#34;,&#34;flight_number&#34;:23,&#34;name&#34;:&#34;T\\xc3\\xbcrkmen\\xc3\\x84lem 52\\xc2\\xb0E / MonacoSAT&#34;,&#34;date_utc&#34;:&#34;2015-04-27T23:03:00.000Z&#34;,&#34;date_unix&#34;:1430175780,&#34;date_local&#34;:&#34;2015-04-27T19:03:00-04:00&#34;,&#34;date_precision&#34;:&#34;hour&#34;,&#34;upcoming&#34;:false,&#34;cores&#34;:[{&#34;core&#34;:&#34;5e9e28a1f35918233f3b2639&#34;,&#34;flight&#34;:1,&#34;gridfins&#34;:false,&#34;legs&#34;:false,&#34;reused&#34;:false,&#34;landing_attempt&#34;:false,&#34;landing_success&#34;:null,&#34;landing_type&#34;:null,&#34;landpad&#34;:null}],&#34;auto_update&#34;:true,&#34;tbd&#34;:false,&#34;launch_library_id&#34;:null,&#34;id&#34;:&#34;5eb87cedffd86e000604b340&#34;},{&#34;fairings&#34;:null,&#34;links&#34;:{&#34;patch&#34;:{&#34;small&#34;:&#34;https://images2.imgbox.com/53/12/gFtcOQuX_o.png&#34;,&#34;large&#34;:&#34;https://images2.imgbox.com/7a/51/NfgiMpar_o.png&#34;},&#34;reddit&#34;:{&#34;campaign&#34;:null,&#34;launch&#34;:&#34;https://www.reddit.com/r/spacex/comments/3b27hk&#34;,&#34;media&#34;:&#34;https://www.reddit.com/r/spacex/comments/3berj3&#34;,&#34;recovery&#34;:null},&#34;flickr&#34;:{&#34;small&#34;:[],&#34;original&#34;:[&#34;https://farm1.staticflickr.com/344/19045370790_f20f29cd8d_o.jpg&#34;,&#34;https://farm1.staticflickr.com/287/18999110808_6e153fed64_o.jpg&#34;]},&#34;presskit&#34;:&#34;https://www.nasa.gov/sites/default/files/atoms/files/spacex_nasa_crs-7_presskit.pdf&#34;,&#34;webcast&#34;:&#34;https://www.youtube.com/watch?v=PuNymhcTtSQ&#34;,&#34;youtube_id&#34;:&#34;PuNymhcTtSQ&#34;,&#34;article&#34;:&#34;https://spaceflightnow.com/2015/06/28/falcon-9-rocket-destroyed-in-launch-mishap/&#34;,&#34;wikipedia&#34;:&#34;https://en.wikipedia.org/wiki/SpaceX_CRS-7&#34;},&#34;static_fire_date_utc&#34;:&#34;2015-06-26T05:00:00.000Z&#34;,&#34;static_fire_date_unix&#34;:1435294800,&#34;net&#34;:false,&#34;window&#34;:0,&#34;rocket&#34;:&#34;5e9d0d95eda69973a809d1ec&#34;,&#34;success&#34;:false,&#34;failures&#34;:[{&#34;time&#34;:139,&#34;altitude&#34;:40,&#34;reason&#34;:&#34;helium tank overpressure lead to the second stage LOX tank explosion&#34;}],&#34;details&#34;:&#34;Launch performance was nominal until an overpressure incident in the second-stage LOX tank, leading to vehicle breakup at T+150 seconds. The Dragon capsule survived the explosion but was lost upon splashdown because its software did not contain provisions for parachute deployment on launch vehicle failure.&#34;,&#34;crew&#34;:[],&#34;ships&#34;:[&#34;5ea6ed2e080df4000697c906&#34;,&#34;5ea6ed2f080df4000697c90b&#34;,&#34;5ea6ed2f080df4000697c90c&#34;],&#34;capsules&#34;:[&#34;5e9e2c5cf35918407d3b266c&#34;],&#34;payloads&#34;:[&#34;5eb0e4beb6c3bb0006eeb1fc&#34;],&#34;launchpad&#34;:&#34;5e9e4501f509094ba4566f84&#34;,&#34;flight_number&#34;:24,&#34;name&#34;:&#34;CRS-7&#34;,&#34;date_utc&#34;:&#34;2015-06-28T14:21:00.000Z&#34;,&#34;date_unix&#34;:1435501260,&#34;date_local&#34;:&#34;2015-06-28T10:21:00-04:00&#34;,&#34;date_precision&#34;:&#34;hour&#34;,&#34;upcoming&#34;:false,&#34;cores&#34;:[{&#34;core&#34;:&#34;5e9e28a1f35918683c3b263a&#34;,&#34;flight&#34;:1,&#34;gridfins&#34;:true,&#34;legs&#34;:true,&#34;reused&#34;:false,&#34;landing_attempt&#34;:true,&#34;landing_success&#34;:null,&#34;landing_type&#34;:&#34;ASDS&#34;,&#34;landpad&#34;:&#34;5e9e3032383ecb6bb234e7ca&#34;}],&#34;auto_update&#34;:true,&#34;tbd&#34;:false,&#34;launch_library_id&#34;:null,&#34;id&#34;:&#34;5eb87ceeffd86e000604b341&#34;},{&#34;fairings&#34;:{&#34;reused&#34;:false,&#34;recovery_attempt&#34;:false,&#34;recovered&#34;:false,&#34;ships&#34;:[]},&#34;links&#34;:{&#34;patch&#34;:{&#34;small&#34;:&#34;https://images2.imgbox.com/6a/7e/J7IQfBqg_o.png&#34;,&#34;large&#34;:&#34;https://images2.imgbox.com/99/d4/0aIlpFpw_o.png&#34;},&#34;reddit&#34;:{&#34;campaign&#34;:null,&#34;launch&#34;:&#34;https://www.reddit.com/r/spacex/comments/3xgxh5&#34;,&#34;media&#34;:&#34;https://www.reddit.com/r/spacex/comments/3xm83h/&#34;,&#34;recovery&#34;:null},&#34;flickr&#34;:{&#34;small&#34;:[],&#34;original&#34;:[&#34;https://farm2.staticflickr.com/1648/23827554109_837b21739e_o.jpg&#34;,&#34;https://farm1.staticflickr.com/597/23802553412_d41e4dcc64_o.jpg&#34;,&#34;https://farm6.staticflickr.com/5806/23802550622_9ff8c90098_o.jpg&#34;,&#34;https://farm1.staticflickr.com/571/23604164970_2a1a2366e4_o.jpg&#34;,&#34;https://farm6.staticflickr.com/5773/23271687254_5e64d726ba_o.jpg&#34;,&#34;https://farm6.staticflickr.com/5766/23526044959_5bfe74bc88_o.jpg&#34;,&#34;https://farm6.staticflickr.com/5723/23785609832_83038751d1_o.jpg&#34;,&#34;https://farm1.staticflickr.com/715/23833499336_d3fde6a25a_o.jpg&#34;]},&#34;presskit&#34;:&#34;http://www.spacex.com/sites/spacex/files/spacex_orbcomm_press_kit_final2.pdf&#34;,&#34;webcast&#34;:&#34;https://www.youtube.com/watch?v=O5bTbVbe4e4&#34;,&#34;youtube_id&#34;:&#34;O5bTbVbe4e4&#34;,&#34;article&#34;:&#34;https://spaceflightnow.com/2015/12/22/round-trip-rocket-flight-gives-spacex-a-trifecta-of-successes/&#34;,&#34;wikipedia&#34;:&#34;https://en.wikipedia.org/wiki/Falcon_9_flight_20&#34;},&#34;static_fire_date_utc&#34;:&#34;2015-12-19T00:09:00.000Z&#34;,&#34;static_fire_date_unix&#34;:1450483740,&#34;net&#34;:false,&#34;window&#34;:0,&#34;rocket&#34;:&#34;5e9d0d95eda69973a809d1ec&#34;,&#34;success&#34;:true,&#34;failures&#34;:[],&#34;details&#34;:&#34;Total payload mass was 2,034 kg (4,484 lb) : 11 satellites weighing 172 kg each, plus a 142-kg mass simulator. This was the first launch of the upgraded v1.1 variant (later called Falcon 9 Full Thrust), with a 30 percent power increase. Orbcomm had originally agreed to be the third flight of the enhanced-thrust rocket, but the change to the maiden flight position was announced in October 2015. SpaceX received a permit from the FAA to land the booster on solid ground at Cape Canaveral, and succeeded.&#34;,&#34;crew&#34;:[],&#34;ships&#34;:[],&#34;capsules&#34;:[],&#34;payloads&#34;:[&#34;5eb0e4beb6c3bb0006eeb1fd&#34;],&#34;launchpad&#34;:&#34;5e9e4501f509094ba4566f84&#34;,&#34;flight_number&#34;:25,&#34;name&#34;:&#34;OG-2 Mission 2&#34;,&#34;date_utc&#34;:&#34;2015-12-22T01:29:00.000Z&#34;,&#34;date_unix&#34;:1450747740,&#34;date_local&#34;:&#34;2015-12-22T21:29:00-04:00&#34;,&#34;date_precision&#34;:&#34;hour&#34;,&#34;upcoming&#34;:false,&#34;cores&#34;:[{&#34;core&#34;:&#34;5e9e28a1f3591867753b263b&#34;,&#34;flight&#34;:1,&#34;gridfins&#34;:true,&#34;legs&#34;:true,&#34;reused&#34;:false,&#34;landing_attempt&#34;:true,&#34;landing_success&#34;:true,&#34;landing_type&#34;:&#34;RTLS&#34;,&#34;landpad&#34;:&#34;5e9e3032383ecb267a34e7c7&#34;}],&#34;auto_update&#34;:true,&#34;tbd&#34;:false,&#34;launch_library_id&#34;:null,&#34;id&#34;:&#34;5eb87cefffd86e000604b342&#34;},{&#34;fairings&#34;:{&#34;reused&#34;:false,&#34;recovery_attempt&#34;:false,&#34;recovered&#34;:false,&#34;ships&#34;:[]},&#34;links&#34;:{&#34;patch&#34;:{&#34;small&#34;:&#34;https://images2.imgbox.com/8a/44/PSksEBjD_o.png&#34;,&#34;large&#34;:&#34;https://images2.imgbox.com/d9/c9/57ioWDgW_o.png&#34;},&#34;reddit&#34;:{&#34;campaign&#34;:null,&#34;launch&#34;:&#34;https://www.reddit.com/r/spacex/comments/417weg&#34;,&#34;media&#34;:&#34;https://www.reddit.com/r/spacex/comments/41cvdm&#34;,&#34;recovery&#34;:null},&#34;flickr&#34;:{&#34;small&#34;:[],&#34;original&#34;:[&#34;https://farm2.staticflickr.com/1460/24382360351_9b1f2fcabc_o.jpg&#34;,&#34;https://farm2.staticflickr.com/1669/24423604506_27d3c4548b_o.jpg&#34;,&#34;https://farm2.staticflickr.com/1618/24151425850_1cb6040569_o.jpg&#34;,&#34;https://farm2.staticflickr.com/1622/24127012370_07edc62046_o.jpg&#34;,&#34;https://farm2.staticflickr.com/1508/24127011190_92ef932c96_o.jpg&#34;,&#34;https://farm2.staticflickr.com/1591/23778325594_08231286fc_o.jpg&#34;,&#34;https://farm2.staticflickr.com/1542/24038722499_34c10216a3_o.jpg&#34;]},&#34;presskit&#34;:&#34;http://www.spacex.com/sites/spacex/files/spacex_jason3_press_kit.pdf&#34;,&#34;webcast&#34;:&#34;https://www.youtube.com/watch?v=ivdKRJzl6y0&#34;,&#34;youtube_id&#34;:&#34;ivdKRJzl6y0&#34;,&#34;article&#34;:&#34;https://spaceflightnow.com/2016/01/18/satellite-launched-to-measure-motions-of-the-oceans/&#34;,&#34;wikipedia&#34;:&#34;https://en.wikipedia.org/wiki/Jason-3&#34;},&#34;static_fire_date_utc&#34;:&#34;2016-01-11T18:42:00.000Z&#34;,&#34;static_fire_date_unix&#34;:1452537720,&#34;net&#34;:false,&#34;window&#34;:0,&#34;rocket&#34;:&#34;5e9d0d95eda69973a809d1ec&#34;,&#34;success&#34;:true,&#34;failures&#34;:[],&#34;details&#34;:&#34;First launch of NASA and NOAA joint science mission under the NLS II launch contract (not related to NASA CRS or USAF OSP3 contracts). Last launch of the original Falcon 9 v1.1 launch vehicle. The Jason-3 satellite was successfully deployed to target orbit. SpaceX again attempted a recovery of the first stage booster by landing on an autonomous drone ship; this time located in the Pacific Ocean. The first stage did achieve a soft-landing on the ship, but a lockout on one of the landing legs failed to latch, so that the booster fell over and exploded.&#34;,&#34;crew&#34;:[],&#34;ships&#34;:[&#34;5ea6ed2f080df4000697c910&#34;,&#34;5ea6ed30080df4000697c912&#34;,&#34;5ea6ed30080df4000697c914&#34;],&#34;capsules&#34;:[],&#34;payloads&#34;:[&#34;5eb0e4beb6c3bb0006eeb1fe&#34;],&#34;launchpad&#34;:&#34;5e9e4502f509092b78566f87&#34;,&#34;flight_number&#34;:26,&#34;name&#34;:&#34;Jason 3&#34;,&#34;date_utc&#34;:&#34;2016-01-17T15:42:00.000Z&#34;,&#34;date_unix&#34;:1453045320,&#34;date_local&#34;:&#34;2016-01-17T08:42:00-07:00&#34;,&#34;date_precision&#34;:&#34;hour&#34;,&#34;upcoming&#34;:false,&#34;cores&#34;:[{&#34;core&#34;:&#34;5e9e28a1f3591842fa3b263c&#34;,&#34;flight&#34;:1,&#34;gridfins&#34;:true,&#34;legs&#34;:true,&#34;reused&#34;:false,&#34;landing_attempt&#34;:true,&#34;landing_success&#34;:false,&#34;landing_type&#34;:&#34;ASDS&#34;,&#34;landpad&#34;:&#34;5e9e3033383ecbb9e534e7cc&#34;}],&#34;auto_update&#34;:true,&#34;tbd&#34;:false,&#34;launch_library_id&#34;:null,&#34;id&#34;:&#34;5eb87cf0ffd86e000604b343&#34;},{&#34;fairings&#34;:{&#34;reused&#34;:false,&#34;recovery_attempt&#34;:false,&#34;recovered&#34;:false,&#34;ships&#34;:[]},&#34;links&#34;:{&#34;patch&#34;:{&#34;small&#34;:&#34;https://images2.imgbox.com/7f/15/rjv54Es5_o.png&#34;,&#34;large&#34;:&#34;https://images2.imgbox.com/c9/7f/EQ1g4Iv2_o.png&#34;},&#34;reddit&#34;:{&#34;campaign&#34;:null,&#34;launch&#34;:&#34;https://www.reddit.com/r/spacex/comments/48u4yq&#34;,&#34;media&#34;:&#34;https://www.reddit.com/r/spacex/comments/472k8c&#34;,&#34;recovery&#34;:null},&#34;flickr&#34;:{&#34;small&#34;:[],&#34;original&#34;:[&#34;https://farm2.staticflickr.com/1623/25395662282_942fd68ba3_o.jpg&#34;,&#34;https://farm2.staticflickr.com/1458/25395661442_bfd783f18a_o.jpg&#34;,&#34;https://farm2.staticflickr.com/1641/25421381351_38390bcb8e_o.jpg&#34;,&#34;https://farm2.staticflickr.com/1616/25514167315_b19b0a4365_o.jpg&#34;,&#34;https://farm2.staticflickr.com/1482/24883160354_b03cefd416_o.jpg&#34;,&#34;https://farm2.staticflickr.com/1653/25420915781_8fc648b4a4_o.jpg&#34;,&#34;http\n*** WARNING: skipped 366641 bytes of output ***\n\n\n</div>"
                    },
                    "metadata": {
                        "application/vnd.databricks.v1+output": {
                            "addedWidgets": {},
                            "arguments": {},
                            "data": "<div class=\"ansiout\">b&#39;[{&#34;fairings&#34;:{&#34;reused&#34;:false,&#34;recovery_attempt&#34;:false,&#34;recovered&#34;:false,&#34;ships&#34;:[]},&#34;links&#34;:{&#34;patch&#34;:{&#34;small&#34;:&#34;https://images2.imgbox.com/94/f2/NN6Ph45r_o.png&#34;,&#34;large&#34;:&#34;https://images2.imgbox.com/5b/02/QcxHUb5V_o.png&#34;},&#34;reddit&#34;:{&#34;campaign&#34;:null,&#34;launch&#34;:null,&#34;media&#34;:null,&#34;recovery&#34;:null},&#34;flickr&#34;:{&#34;small&#34;:[],&#34;original&#34;:[]},&#34;presskit&#34;:null,&#34;webcast&#34;:&#34;https://www.youtube.com/watch?v=0a_00nJ_Y88&#34;,&#34;youtube_id&#34;:&#34;0a_00nJ_Y88&#34;,&#34;article&#34;:&#34;https://www.space.com/2196-spacex-inaugural-falcon-1-rocket-lost-launch.html&#34;,&#34;wikipedia&#34;:&#34;https://en.wikipedia.org/wiki/DemoSat&#34;},&#34;static_fire_date_utc&#34;:&#34;2006-03-17T00:00:00.000Z&#34;,&#34;static_fire_date_unix&#34;:1142553600,&#34;net&#34;:false,&#34;window&#34;:0,&#34;rocket&#34;:&#34;5e9d0d95eda69955f709d1eb&#34;,&#34;success&#34;:false,&#34;failures&#34;:[{&#34;time&#34;:33,&#34;altitude&#34;:null,&#34;reason&#34;:&#34;merlin engine failure&#34;}],&#34;details&#34;:&#34;Engine failure at 33 seconds and loss of vehicle&#34;,&#34;crew&#34;:[],&#34;ships&#34;:[],&#34;capsules&#34;:[],&#34;payloads&#34;:[&#34;5eb0e4b5b6c3bb0006eeb1e1&#34;],&#34;launchpad&#34;:&#34;5e9e4502f5090995de566f86&#34;,&#34;flight_number&#34;:1,&#34;name&#34;:&#34;FalconSat&#34;,&#34;date_utc&#34;:&#34;2006-03-24T22:30:00.000Z&#34;,&#34;date_unix&#34;:1143239400,&#34;date_local&#34;:&#34;2006-03-25T10:30:00+12:00&#34;,&#34;date_precision&#34;:&#34;hour&#34;,&#34;upcoming&#34;:false,&#34;cores&#34;:[{&#34;core&#34;:&#34;5e9e289df35918033d3b2623&#34;,&#34;flight&#34;:1,&#34;gridfins&#34;:false,&#34;legs&#34;:false,&#34;reused&#34;:false,&#34;landing_attempt&#34;:false,&#34;landing_success&#34;:null,&#34;landing_type&#34;:null,&#34;landpad&#34;:null}],&#34;auto_update&#34;:true,&#34;tbd&#34;:false,&#34;launch_library_id&#34;:null,&#34;id&#34;:&#34;5eb87cd9ffd86e000604b32a&#34;},{&#34;fairings&#34;:{&#34;reused&#34;:false,&#34;recovery_attempt&#34;:false,&#34;recovered&#34;:false,&#34;ships&#34;:[]},&#34;links&#34;:{&#34;patch&#34;:{&#34;small&#34;:&#34;https://images2.imgbox.com/f9/4a/ZboXReNb_o.png&#34;,&#34;large&#34;:&#34;https://images2.imgbox.com/80/a2/bkWotCIS_o.png&#34;},&#34;reddit&#34;:{&#34;campaign&#34;:null,&#34;launch&#34;:null,&#34;media&#34;:null,&#34;recovery&#34;:null},&#34;flickr&#34;:{&#34;small&#34;:[],&#34;original&#34;:[]},&#34;presskit&#34;:null,&#34;webcast&#34;:&#34;https://www.youtube.com/watch?v=Lk4zQ2wP-Nc&#34;,&#34;youtube_id&#34;:&#34;Lk4zQ2wP-Nc&#34;,&#34;article&#34;:&#34;https://www.space.com/3590-spacex-falcon-1-rocket-fails-reach-orbit.html&#34;,&#34;wikipedia&#34;:&#34;https://en.wikipedia.org/wiki/DemoSat&#34;},&#34;static_fire_date_utc&#34;:null,&#34;static_fire_date_unix&#34;:null,&#34;net&#34;:false,&#34;window&#34;:0,&#34;rocket&#34;:&#34;5e9d0d95eda69955f709d1eb&#34;,&#34;success&#34;:false,&#34;failures&#34;:[{&#34;time&#34;:301,&#34;altitude&#34;:289,&#34;reason&#34;:&#34;harmonic oscillation leading to premature engine shutdown&#34;}],&#34;details&#34;:&#34;Successful first stage burn and transition to second stage, maximum altitude 289 km, Premature engine shutdown at T+7 min 30 s, Failed to reach orbit, Failed to recover first stage&#34;,&#34;crew&#34;:[],&#34;ships&#34;:[],&#34;capsules&#34;:[],&#34;payloads&#34;:[&#34;5eb0e4b6b6c3bb0006eeb1e2&#34;],&#34;launchpad&#34;:&#34;5e9e4502f5090995de566f86&#34;,&#34;flight_number&#34;:2,&#34;name&#34;:&#34;DemoSat&#34;,&#34;date_utc&#34;:&#34;2007-03-21T01:10:00.000Z&#34;,&#34;date_unix&#34;:1174439400,&#34;date_local&#34;:&#34;2007-03-21T13:10:00+12:00&#34;,&#34;date_precision&#34;:&#34;hour&#34;,&#34;upcoming&#34;:false,&#34;cores&#34;:[{&#34;core&#34;:&#34;5e9e289ef35918416a3b2624&#34;,&#34;flight&#34;:1,&#34;gridfins&#34;:false,&#34;legs&#34;:false,&#34;reused&#34;:false,&#34;landing_attempt&#34;:false,&#34;landing_success&#34;:null,&#34;landing_type&#34;:null,&#34;landpad&#34;:null}],&#34;auto_update&#34;:true,&#34;tbd&#34;:false,&#34;launch_library_id&#34;:null,&#34;id&#34;:&#34;5eb87cdaffd86e000604b32b&#34;},{&#34;fairings&#34;:{&#34;reused&#34;:false,&#34;recovery_attempt&#34;:false,&#34;recovered&#34;:false,&#34;ships&#34;:[]},&#34;links&#34;:{&#34;patch&#34;:{&#34;small&#34;:&#34;https://images2.imgbox.com/6c/cb/na1tzhHs_o.png&#34;,&#34;large&#34;:&#34;https://images2.imgbox.com/4a/80/k1oAkY0k_o.png&#34;},&#34;reddit&#34;:{&#34;campaign&#34;:null,&#34;launch&#34;:null,&#34;media&#34;:null,&#34;recovery&#34;:null},&#34;flickr&#34;:{&#34;small&#34;:[],&#34;original&#34;:[]},&#34;presskit&#34;:null,&#34;webcast&#34;:&#34;https://www.youtube.com/watch?v=v0w9p3U8860&#34;,&#34;youtube_id&#34;:&#34;v0w9p3U8860&#34;,&#34;article&#34;:&#34;http://www.spacex.com/news/2013/02/11/falcon-1-flight-3-mission-summary&#34;,&#34;wikipedia&#34;:&#34;https://en.wikipedia.org/wiki/Trailblazer_(satellite)&#34;},&#34;static_fire_date_utc&#34;:null,&#34;static_fire_date_unix&#34;:null,&#34;net&#34;:false,&#34;window&#34;:0,&#34;rocket&#34;:&#34;5e9d0d95eda69955f709d1eb&#34;,&#34;success&#34;:false,&#34;failures&#34;:[{&#34;time&#34;:140,&#34;altitude&#34;:35,&#34;reason&#34;:&#34;residual stage-1 thrust led to collision between stage 1 and stage 2&#34;}],&#34;details&#34;:&#34;Residual stage 1 thrust led to collision between stage 1 and stage 2&#34;,&#34;crew&#34;:[],&#34;ships&#34;:[],&#34;capsules&#34;:[],&#34;payloads&#34;:[&#34;5eb0e4b6b6c3bb0006eeb1e3&#34;,&#34;5eb0e4b6b6c3bb0006eeb1e4&#34;],&#34;launchpad&#34;:&#34;5e9e4502f5090995de566f86&#34;,&#34;flight_number&#34;:3,&#34;name&#34;:&#34;Trailblazer&#34;,&#34;date_utc&#34;:&#34;2008-08-03T03:34:00.000Z&#34;,&#34;date_unix&#34;:1217734440,&#34;date_local&#34;:&#34;2008-08-03T15:34:00+12:00&#34;,&#34;date_precision&#34;:&#34;hour&#34;,&#34;upcoming&#34;:false,&#34;cores&#34;:[{&#34;core&#34;:&#34;5e9e289ef3591814873b2625&#34;,&#34;flight&#34;:1,&#34;gridfins&#34;:false,&#34;legs&#34;:false,&#34;reused&#34;:false,&#34;landing_attempt&#34;:false,&#34;landing_success&#34;:null,&#34;landing_type&#34;:null,&#34;landpad&#34;:null}],&#34;auto_update&#34;:true,&#34;tbd&#34;:false,&#34;launch_library_id&#34;:null,&#34;id&#34;:&#34;5eb87cdbffd86e000604b32c&#34;},{&#34;fairings&#34;:{&#34;reused&#34;:false,&#34;recovery_attempt&#34;:false,&#34;recovered&#34;:false,&#34;ships&#34;:[]},&#34;links&#34;:{&#34;patch&#34;:{&#34;small&#34;:&#34;https://images2.imgbox.com/95/39/sRqN7rsv_o.png&#34;,&#34;large&#34;:&#34;https://images2.imgbox.com/a3/99/qswRYzE8_o.png&#34;},&#34;reddit&#34;:{&#34;campaign&#34;:null,&#34;launch&#34;:null,&#34;media&#34;:null,&#34;recovery&#34;:null},&#34;flickr&#34;:{&#34;small&#34;:[],&#34;original&#34;:[]},&#34;presskit&#34;:null,&#34;webcast&#34;:&#34;https://www.youtube.com/watch?v=dLQ2tZEH6G0&#34;,&#34;youtube_id&#34;:&#34;dLQ2tZEH6G0&#34;,&#34;article&#34;:&#34;https://en.wikipedia.org/wiki/Ratsat&#34;,&#34;wikipedia&#34;:&#34;https://en.wikipedia.org/wiki/Ratsat&#34;},&#34;static_fire_date_utc&#34;:&#34;2008-09-20T00:00:00.000Z&#34;,&#34;static_fire_date_unix&#34;:1221868800,&#34;net&#34;:false,&#34;window&#34;:0,&#34;rocket&#34;:&#34;5e9d0d95eda69955f709d1eb&#34;,&#34;success&#34;:true,&#34;failures&#34;:[],&#34;details&#34;:&#34;Ratsat was carried to orbit on the first successful orbital launch of any privately funded and developed, liquid-propelled carrier rocket, the\\xc2\\xa0SpaceX Falcon 1&#34;,&#34;crew&#34;:[],&#34;ships&#34;:[],&#34;capsules&#34;:[],&#34;payloads&#34;:[&#34;5eb0e4b7b6c3bb0006eeb1e5&#34;],&#34;launchpad&#34;:&#34;5e9e4502f5090995de566f86&#34;,&#34;flight_number&#34;:4,&#34;name&#34;:&#34;RatSat&#34;,&#34;date_utc&#34;:&#34;2008-09-28T23:15:00.000Z&#34;,&#34;date_unix&#34;:1222643700,&#34;date_local&#34;:&#34;2008-09-28T11:15:00+12:00&#34;,&#34;date_precision&#34;:&#34;hour&#34;,&#34;upcoming&#34;:false,&#34;cores&#34;:[{&#34;core&#34;:&#34;5e9e289ef3591855dc3b2626&#34;,&#34;flight&#34;:1,&#34;gridfins&#34;:false,&#34;legs&#34;:false,&#34;reused&#34;:false,&#34;landing_attempt&#34;:false,&#34;landing_success&#34;:null,&#34;landing_type&#34;:null,&#34;landpad&#34;:null}],&#34;auto_update&#34;:true,&#34;tbd&#34;:false,&#34;launch_library_id&#34;:null,&#34;id&#34;:&#34;5eb87cdbffd86e000604b32d&#34;},{&#34;fairings&#34;:{&#34;reused&#34;:false,&#34;recovery_attempt&#34;:false,&#34;recovered&#34;:false,&#34;ships&#34;:[]},&#34;links&#34;:{&#34;patch&#34;:{&#34;small&#34;:&#34;https://images2.imgbox.com/ab/5a/Pequxd5d_o.png&#34;,&#34;large&#34;:&#34;https://images2.imgbox.com/92/e4/7Cf6MLY0_o.png&#34;},&#34;reddit&#34;:{&#34;campaign&#34;:null,&#34;launch&#34;:null,&#34;media&#34;:null,&#34;recovery&#34;:null},&#34;flickr&#34;:{&#34;small&#34;:[],&#34;original&#34;:[]},&#34;presskit&#34;:&#34;http://www.spacex.com/press/2012/12/19/spacexs-falcon-1-successfully-delivers-razaksat-satellite-orbit&#34;,&#34;webcast&#34;:&#34;https://www.youtube.com/watch?v=yTaIDooc8Og&#34;,&#34;youtube_id&#34;:&#34;yTaIDooc8Og&#34;,&#34;article&#34;:&#34;http://www.spacex.com/news/2013/02/12/falcon-1-flight-5&#34;,&#34;wikipedia&#34;:&#34;https://en.wikipedia.org/wiki/RazakSAT&#34;},&#34;static_fire_date_utc&#34;:null,&#34;static_fire_date_unix&#34;:null,&#34;net&#34;:false,&#34;window&#34;:0,&#34;rocket&#34;:&#34;5e9d0d95eda69955f709d1eb&#34;,&#34;success&#34;:true,&#34;failures&#34;:[],&#34;details&#34;:null,&#34;crew&#34;:[],&#34;ships&#34;:[],&#34;capsules&#34;:[],&#34;payloads&#34;:[&#34;5eb0e4b7b6c3bb0006eeb1e6&#34;],&#34;launchpad&#34;:&#34;5e9e4502f5090995de566f86&#34;,&#34;flight_number&#34;:5,&#34;name&#34;:&#34;RazakSat&#34;,&#34;date_utc&#34;:&#34;2009-07-13T03:35:00.000Z&#34;,&#34;date_unix&#34;:1247456100,&#34;date_local&#34;:&#34;2009-07-13T15:35:00+12:00&#34;,&#34;date_precision&#34;:&#34;hour&#34;,&#34;upcoming&#34;:false,&#34;cores&#34;:[{&#34;core&#34;:&#34;5e9e289ef359184f103b2627&#34;,&#34;flight&#34;:1,&#34;gridfins&#34;:false,&#34;legs&#34;:false,&#34;reused&#34;:false,&#34;landing_attempt&#34;:false,&#34;landing_success&#34;:null,&#34;landing_type&#34;:null,&#34;landpad&#34;:null}],&#34;auto_update&#34;:true,&#34;tbd&#34;:false,&#34;launch_library_id&#34;:null,&#34;id&#34;:&#34;5eb87cdcffd86e000604b32e&#34;},{&#34;fairings&#34;:{&#34;reused&#34;:null,&#34;recovery_attempt&#34;:null,&#34;recovered&#34;:null,&#34;ships&#34;:[]},&#34;links&#34;:{&#34;patch&#34;:{&#34;small&#34;:&#34;https://images2.imgbox.com/73/7f/u7BKqv2C_o.png&#34;,&#34;large&#34;:&#34;https://images2.imgbox.com/66/b4/8KZsjbt4_o.png&#34;},&#34;reddit&#34;:{&#34;campaign&#34;:null,&#34;launch&#34;:null,&#34;media&#34;:null,&#34;recovery&#34;:null},&#34;flickr&#34;:{&#34;small&#34;:[],&#34;original&#34;:[]},&#34;presskit&#34;:&#34;http://forum.nasaspaceflight.com/index.php?action=dlattach;topic=21869.0;attach=230821&#34;,&#34;webcast&#34;:&#34;https://www.youtube.com/watch?v=nxSxgBKlYws&#34;,&#34;youtube_id&#34;:&#34;nxSxgBKlYws&#34;,&#34;article&#34;:&#34;http://www.spacex.com/news/2013/02/12/falcon-9-flight-1&#34;,&#34;wikipedia&#34;:&#34;https://en.wikipedia.org/wiki/Dragon_Spacecraft_Qualification_Unit&#34;},&#34;static_fire_date_utc&#34;:&#34;2010-03-13T00:00:00.000Z&#34;,&#34;static_fire_date_unix&#34;:1268438400,&#34;net&#34;:false,&#34;window&#34;:0,&#34;rocket&#34;:&#34;5e9d0d95eda69973a809d1ec&#34;,&#34;success&#34;:true,&#34;failures&#34;:[],&#34;details&#34;:null,&#34;crew&#34;:[],&#34;ships&#34;:[],&#34;capsules&#34;:[],&#34;payloads&#34;:[&#34;5eb0e4b7b6c3bb0006eeb1e7&#34;],&#34;launchpad&#34;:&#34;5e9e4501f509094ba4566f84&#34;,&#34;flight_number&#34;:6,&#34;name&#34;:&#34;Falcon 9 Test Flight&#34;,&#34;date_utc&#34;:&#34;2010-06-04T18:45:00.000Z&#34;,&#34;date_unix&#34;:1275677100,&#34;date_local&#34;:&#34;2010-06-04T14:45:00-04:00&#34;,&#34;date_precision&#34;:&#34;hour&#34;,&#34;upcoming&#34;:false,&#34;cores&#34;:[{&#34;core&#34;:&#34;5e9e289ef359185f2b3b2628&#34;,&#34;flight&#34;:1,&#34;gridfins&#34;:false,&#34;legs&#34;:false,&#34;reused&#34;:false,&#34;landing_attempt&#34;:false,&#34;landing_success&#34;:null,&#34;landing_type&#34;:null,&#34;landpad&#34;:null}],&#34;auto_update&#34;:true,&#34;tbd&#34;:false,&#34;launch_library_id&#34;:null,&#34;id&#34;:&#34;5eb87cddffd86e000604b32f&#34;},{&#34;fairings&#34;:null,&#34;links&#34;:{&#34;patch&#34;:{&#34;small&#34;:&#34;https://images2.imgbox.com/fa/dc/FOUDQ0Sn_o.png&#34;,&#34;large&#34;:&#34;https://images2.imgbox.com/04/6e/kniggvWD_o.png&#34;},&#34;reddit&#34;:{&#34;campaign&#34;:null,&#34;launch&#34;:null,&#34;media&#34;:null,&#34;recovery&#34;:null},&#34;flickr&#34;:{&#34;small&#34;:[],&#34;original&#34;:[]},&#34;presskit&#34;:&#34;http://www.spacex.com/files/downloads/cots1-20101206.pdf&#34;,&#34;webcast&#34;:&#34;https://www.youtube.com/watch?v=cdLITgWKe_0&#34;,&#34;youtube_id&#34;:&#34;cdLITgWKe_0&#34;,&#34;article&#34;:&#34;https://en.wikipedia.org/wiki/SpaceX_COTS_Demo_Flight_1&#34;,&#34;wikipedia&#34;:&#34;https://en.wikipedia.org/wiki/SpaceX_COTS_Demo_Flight_1&#34;},&#34;static_fire_date_utc&#34;:&#34;2010-12-04T00:00:00.000Z&#34;,&#34;static_fire_date_unix&#34;:1291420800,&#34;net&#34;:false,&#34;window&#34;:0,&#34;rocket&#34;:&#34;5e9d0d95eda69973a809d1ec&#34;,&#34;success&#34;:true,&#34;failures&#34;:[],&#34;details&#34;:null,&#34;crew&#34;:[],&#34;ships&#34;:[&#34;5ea6ed2d080df4000697c901&#34;],&#34;capsules&#34;:[&#34;5e9e2c5bf35918ed873b2664&#34;],&#34;payloads&#34;:[&#34;5eb0e4b9b6c3bb0006eeb1e8&#34;,&#34;5eb0e4b9b6c3bb0006eeb1e9&#34;],&#34;launchpad&#34;:&#34;5e9e4501f509094ba4566f84&#34;,&#34;flight_number&#34;:7,&#34;name&#34;:&#34;COTS 1&#34;,&#34;date_utc&#34;:&#34;2010-12-08T15:43:00.000Z&#34;,&#34;date_unix&#34;:1291822980,&#34;date_local&#34;:&#34;2010-12-08T11:43:00-04:00&#34;,&#34;date_precision&#34;:&#34;hour&#34;,&#34;upcoming&#34;:false,&#34;cores&#34;:[{&#34;core&#34;:&#34;5e9e289ef35918187c3b2629&#34;,&#34;flight&#34;:1,&#34;gridfins&#34;:false,&#34;legs&#34;:false,&#34;reused&#34;:false,&#34;landing_attempt&#34;:false,&#34;landing_success&#34;:null,&#34;landing_type&#34;:null,&#34;landpad&#34;:null}],&#34;auto_update&#34;:true,&#34;tbd&#34;:false,&#34;launch_library_id&#34;:null,&#34;id&#34;:&#34;5eb87cdeffd86e000604b330&#34;},{&#34;fairings&#34;:null,&#34;links&#34;:{&#34;patch&#34;:{&#34;small&#34;:&#34;https://images2.imgbox.com/c5/f4/XfLVgbaO_o.png&#34;,&#34;large&#34;:&#34;https://images2.imgbox.com/94/8d/YnZ1SLsT_o.png&#34;},&#34;reddit&#34;:{&#34;campaign&#34;:null,&#34;launch&#34;:null,&#34;media&#34;:null,&#34;recovery&#34;:null},&#34;flickr&#34;:{&#34;small&#34;:[],&#34;original&#34;:[]},&#34;presskit&#34;:&#34;https://www.nasa.gov/pdf/649910main_cots2_presskit_051412.pdf&#34;,&#34;webcast&#34;:&#34;https://www.youtube.com/watch?v=tpQzDbAY7yI&#34;,&#34;youtube_id&#34;:&#34;tpQzDbAY7yI&#34;,&#34;article&#34;:&#34;https://en.wikipedia.org/wiki/Dragon_C2%2B&#34;,&#34;wikipedia&#34;:&#34;https://en.wikipedia.org/wiki/Dragon_C2%2B&#34;},&#34;static_fire_date_utc&#34;:&#34;2012-04-30T00:00:00.000Z&#34;,&#34;static_fire_date_unix&#34;:1335744000,&#34;net&#34;:false,&#34;window&#34;:0,&#34;rocket&#34;:&#34;5e9d0d95eda69973a809d1ec&#34;,&#34;success&#34;:true,&#34;failures&#34;:[],&#34;details&#34;:&#34;Launch was scrubbed on first attempt, second launch attempt was successful&#34;,&#34;crew&#34;:[],&#34;ships&#34;:[&#34;5ea6ed2d080df4000697c901&#34;],&#34;capsules&#34;:[&#34;5e9e2c5bf3591882af3b2665&#34;],&#34;payloads&#34;:[&#34;5eb0e4bab6c3bb0006eeb1ea&#34;],&#34;launchpad&#34;:&#34;5e9e4501f509094ba4566f84&#34;,&#34;flight_number&#34;:8,&#34;name&#34;:&#34;COTS 2&#34;,&#34;date_utc&#34;:&#34;2012-05-22T07:44:00.000Z&#34;,&#34;date_unix&#34;:1335944640,&#34;date_local&#34;:&#34;2012-05-22T03:44:00-04:00&#34;,&#34;date_precision&#34;:&#34;hour&#34;,&#34;upcoming&#34;:false,&#34;cores&#34;:[{&#34;core&#34;:&#34;5e9e289ef35918f39c3b262a&#34;,&#34;flight&#34;:1,&#34;gridfins&#34;:false,&#34;legs&#34;:false,&#34;reused&#34;:false,&#34;landing_attempt&#34;:false,&#34;landing_success&#34;:null,&#34;landing_type&#34;:null,&#34;landpad&#34;:null}],&#34;auto_update&#34;:true,&#34;tbd&#34;:false,&#34;launch_library_id&#34;:null,&#34;id&#34;:&#34;5eb87cdfffd86e000604b331&#34;},{&#34;fairings&#34;:null,&#34;links&#34;:{&#34;patch&#34;:{&#34;small&#34;:&#34;https://images2.imgbox.com/3e/91/hlGiK49a_o.png&#34;,&#34;large&#34;:&#34;https://images2.imgbox.com/fb/42/0V9JgYQS_o.png&#34;},&#34;reddit&#34;:{&#34;campaign&#34;:null,&#34;launch&#34;:null,&#34;media&#34;:null,&#34;recovery&#34;:null},&#34;flickr&#34;:{&#34;small&#34;:[],&#34;original&#34;:[]},&#34;presskit&#34;:&#34;https://www.nasa.gov/pdf/694166main_SpaceXCRS-1PressKit.pdf&#34;,&#34;webcast&#34;:&#34;https://www.youtube.com/watch?v=-Vk3hiV_zXU&#34;,&#34;youtube_id&#34;:&#34;-Vk3hiV_zXU&#34;,&#34;article&#34;:&#34;https://www.nasa.gov/mission_pages/station/main/spacex-crs1-target.html&#34;,&#34;wikipedia&#34;:&#34;https://en.wikipedia.org/wiki/SpaceX_CRS-1&#34;},&#34;static_fire_date_utc&#34;:&#34;2012-09-29T00:00:00.000Z&#34;,&#34;static_fire_date_unix&#34;:1348876800,&#34;net&#34;:false,&#34;window&#34;:0,&#34;rocket&#34;:&#34;5e9d0d95eda69973a809d1ec&#34;,&#34;success&#34;:true,&#34;failures&#34;:[],&#34;details&#34;:&#34;CRS-1 successful, but the secondary payload was inserted into abnormally low orbit and lost due to Falcon 9 boost stage engine failure, ISS visiting vehicle safety rules, and the primary payload owner\\&#39;s contractual right to decline a second ignition of the second stage under some conditions.&#34;,&#34;crew&#34;:[],&#34;ships&#34;:[&#34;5ea6ed2d080df4000697c902&#34;],&#34;capsules&#34;:[&#34;5e9e2c5bf3591835983b2666&#34;],&#34;payloads&#34;:[&#34;5eb0e4bab6c3bb0006eeb1eb&#34;,&#34;5eb0e4bab6c3bb0006eeb1ec&#34;],&#34;launchpad&#34;:&#34;5e9e4501f509094ba4566f84&#34;,&#34;flight_number&#34;:9,&#34;name&#34;:&#34;CRS-1&#34;,&#34;date_utc&#34;:&#34;2012-10-08T00:35:00.000Z&#34;,&#34;date_unix&#34;:1349656500,&#34;date_local&#34;:&#34;2012-10-08T20:35:00-04:00&#34;,&#34;date_precision&#34;:&#34;hour&#34;,&#34;upcoming&#34;:false,&#34;cores&#34;:[{&#34;core&#34;:&#34;5e9e289ff3591821a73b262b&#34;,&#34;flight&#34;:1,&#34;gridfins&#34;:false,&#34;legs&#34;:false,&#34;reused&#34;:false,&#34;landing_attempt&#34;:false,&#34;landing_success&#34;:null,&#34;landing_type&#34;:null,&#34;landpad&#34;:null}],&#34;auto_update&#34;:true,&#34;tbd&#34;:false,&#34;launch_library_id&#34;:null,&#34;id&#34;:&#34;5eb87ce0ffd86e000604b332&#34;},{&#34;fairings&#34;:null,&#34;links&#34;:{&#34;patch&#34;:{&#34;small&#34;:&#34;https://images2.imgbox.com/bd/fe/lXUYKL28_o.png&#34;,&#34;large&#34;:&#34;https://images2.imgbox.com/bc/c5/fHN3m8KV_o.png&#34;},&#34;reddit&#34;:{&#34;campaign&#34;:null,&#34;launch&#34;:&#34;https://www.reddit.com/r/space/comments/19gm5f/live_coverage_spacex_crs2_launch_to_the_iss/c8nvah4&#34;,&#34;media&#34;:null,&#34;recovery&#34;:null},&#34;flickr&#34;:{&#34;small&#34;:[],&#34;original&#34;:[]},&#34;presskit&#34;:&#34;https://www.nasa.gov/sites/default/files/files/Orb2_PRESS_KIT.pdf&#34;,&#34;webcast&#34;:&#34;https://www.youtube.com/watch?v=ik0ElKl5kW4&#34;,&#34;youtube_id&#34;:&#34;ik0ElKl5kW4&#34;,&#34;article&#34;:&#34;https://en.wikipedia.org/wiki/SpaceX_CRS-2&#34;,&#34;wikipedia&#34;:&#34;https://en.wikipedia.org/wiki/SpaceX_CRS-2&#34;},&#34;static_fire_date_utc&#34;:&#34;2013-02-25T18:30:00.000Z&#34;,&#34;static_fire_date_unix&#34;:1361817000,&#34;net&#34;:false,&#34;window&#34;:0,&#34;rocket&#34;:&#34;5e9d0d95eda69973a809d1ec&#34;,&#34;success&#34;:true,&#34;failures&#34;:[],&#34;details&#34;:&#34;Last launch of the original Falcon 9 v1.0 launch vehicle&#34;,&#34;crew&#34;:[],&#34;ships&#34;:[&#34;5ea6ed2d080df4000697c902&#34;],&#34;capsules&#34;:[&#34;5e9e2c5bf359189ef23b2667&#34;],&#34;payloads&#34;:[&#34;5eb0e4bbb6c3bb0006eeb1ed&#34;],&#34;launchpad&#34;:&#34;5e9e4501f509094ba4566f84&#34;,&#34;flight_number&#34;:10,&#34;name&#34;:&#34;CRS-2&#34;,&#34;date_utc&#34;:&#34;2013-03-01T19:10:00.000Z&#34;,&#34;date_unix&#34;:1362165000,&#34;date_local&#34;:&#34;2013-03-01T15:10:00-04:00&#34;,&#34;date_precision&#34;:&#34;hour&#34;,&#34;upcoming&#34;:false,&#34;cores&#34;:[{&#34;core&#34;:&#34;5e9e289ff3591884e03b262c&#34;,&#34;flight&#34;:1,&#34;gridfins&#34;:false,&#34;legs&#34;:false,&#34;reused&#34;:false,&#34;landing_attempt&#34;:false,&#34;landing_success&#34;:null,&#34;landing_type&#34;:null,&#34;landpad&#34;:null}],&#34;auto_update&#34;:true,&#34;tbd&#34;:false,&#34;launch_library_id&#34;:null,&#34;id&#34;:&#34;5eb87ce1ffd86e000604b333&#34;},{&#34;fairings&#34;:{&#34;reused&#34;:false,&#34;recovery_attempt&#34;:false,&#34;recovered&#34;:false,&#34;ships&#34;:[]},&#34;links&#34;:{&#34;patch&#34;:{&#34;small&#34;:&#34;https://images2.imgbox.com/f8/27/XwZPEhTJ_o.png&#34;,&#34;large&#34;:&#34;https://images2.imgbox.com/ae/62/D6SZleUG_o.png&#34;},&#34;reddit&#34;:{&#34;campaign&#34;:null,&#34;launch&#34;:&#34;http://www.reddit.com/r/spacex/comments/1ndlay&#34;,&#34;media&#34;:null,&#34;recovery&#34;:null},&#34;flickr&#34;:{&#34;small&#34;:[],&#34;original&#34;:[]},&#34;presskit&#34;:&#34;https://spaceflightnow.com/falcon9/006/UpgradedF9DemoMission_PressKit.pdf&#34;,&#34;webcast&#34;:&#34;https://www.youtube.com/watch?v=uFefasS6bhc&#34;,&#34;youtube_id&#34;:&#34;uFefasS6bhc&#34;,&#34;article&#34;:&#34;http://www.parabolicarc.com/2013/09/29/falcon-9-launch-payloads-orbit-vandenberg/&#34;,&#34;wikipedia&#34;:&#34;https://en.wikipedia.org/wiki/CASSIOPE&#34;},&#34;static_fire_date_utc&#34;:&#34;2013-09-19T00:00:00.000Z&#34;,&#34;static_fire_date_unix&#34;:1379548800,&#34;net&#34;:false,&#34;window&#34;:0,&#34;rocket&#34;:&#34;5e9d0d95eda69973a809d1ec&#34;,&#34;success&#34;:true,&#34;failures&#34;:[],&#34;details&#34;:&#34;Commercial mission and first Falcon 9 v1.1 flight, with improved 13-tonne to LEO capacity. Following second-stage separation from the first stage, an attempt was made to perform an ocean touchdown test of the discarded booster vehicle. The test provided good test data on the experiment-its primary objective-but as the booster neared the ocean, aerodynamic forces caused an uncontrollable roll. The center engine, depleted of fuel by centrifugal force, shut down resulting in the impact and destruction of the vehicle.&#34;,&#34;crew&#34;:[],&#34;ships&#34;:[&#34;5ea6ed2d080df4000697c903&#34;],&#34;capsules&#34;:[],&#34;payloads&#34;:[&#34;5eb0e4bbb6c3bb0006eeb1ee&#34;],&#34;launchpad&#34;:&#34;5e9e4502f509092b78566f87&#34;,&#34;flight_number&#34;:11,&#34;name&#34;:&#34;CASSIOPE&#34;,&#34;date_utc&#34;:&#34;2013-09-29T16:00:00.000Z&#34;,&#34;date_unix&#34;:1380470400,&#34;date_local&#34;:&#34;2013-09-29T09:00:00-07:00&#34;,&#34;date_precision&#34;:&#34;hour&#34;,&#34;upcoming&#34;:false,&#34;cores&#34;:[{&#34;core&#34;:&#34;5e9e289ff359180ae23b262d&#34;,&#34;flight&#34;:1,&#34;gridfins&#34;:false,&#34;legs&#34;:false,&#34;reused&#34;:false,&#34;landing_attempt&#34;:true,&#34;landing_success&#34;:false,&#34;landing_type&#34;:&#34;Ocean&#34;,&#34;landpad&#34;:null}],&#34;auto_update&#34;:true,&#34;tbd&#34;:false,&#34;launch_library_id&#34;:null,&#34;id&#34;:&#34;5eb87ce1ffd86e000604b334&#34;},{&#34;fairings&#34;:{&#34;reused&#34;:false,&#34;recovery_attempt&#34;:false,&#34;recovered&#34;:false,&#34;ships&#34;:[]},&#34;links&#34;:{&#34;patch&#34;:{&#34;small&#34;:&#34;https://images2.imgbox.com/4e/f8/rqu7XWMF_o.png&#34;,&#34;large&#34;:&#34;https://images2.imgbox.com/41/b7/H6vprzuB_o.png&#34;},&#34;reddit&#34;:{&#34;campaign&#34;:null,&#34;launch&#34;:&#34;http://www.reddit.com/r/spacex/comments/1ryy1n&#34;,&#34;media&#34;:null,&#34;recovery&#34;:null},&#34;flickr&#34;:{&#34;small&#34;:[],&#34;original&#34;:[]},&#34;presskit&#34;:&#34;http://www.spacex.com/sites/spacex/files/spacex_ses-8launch_presskit.pdf&#34;,&#34;webcast&#34;:&#34;https://www.youtube.com/watch?v=aAj5xapImEs&#34;,&#34;youtube_id&#34;:&#34;aAj5xapImEs&#34;,&#34;article&#34;:&#34;https://www.nasaspaceflight.com/2013/12/spacex-falcon-9-v1-1-milestone-ses-8-launch/&#34;,&#34;wikipedia&#34;:&#34;https://en.wikipedia.org/wiki/SES-8&#34;},&#34;static_fire_date_utc&#34;:&#34;2013-11-22T06:26:00.000Z&#34;,&#34;static_fire_date_unix&#34;:1385101560,&#34;net&#34;:false,&#34;window&#34;:0,&#34;rocket&#34;:&#34;5e9d0d95eda69973a809d1ec&#34;,&#34;success&#34;:true,&#34;failures&#34;:[],&#34;details&#34;:&#34;First GTO launch for Falcon 9&#34;,&#34;crew&#34;:[],&#34;ships&#34;:[],&#34;capsules&#34;:[],&#34;payloads&#34;:[&#34;5eb0e4bbb6c3bb0006eeb1ef&#34;],&#34;launchpad&#34;:&#34;5e9e4501f509094ba4566f84&#34;,&#34;flight_number&#34;:12,&#34;name&#34;:&#34;SES-8&#34;,&#34;date_utc&#34;:&#34;2013-12-03T22:41:00.000Z&#34;,&#34;date_unix&#34;:1386110460,&#34;date_local&#34;:&#34;2013-12-03T18:41:00-04:00&#34;,&#34;date_precision&#34;:&#34;hour&#34;,&#34;upcoming&#34;:false,&#34;cores&#34;:[{&#34;core&#34;:&#34;5e9e289ff35918862c3b262e&#34;,&#34;flight&#34;:1,&#34;gridfins&#34;:false,&#34;legs&#34;:false,&#34;reused&#34;:false,&#34;landing_attempt&#34;:false,&#34;landing_success&#34;:null,&#34;landing_type&#34;:null,&#34;landpad&#34;:null}],&#34;auto_update&#34;:true,&#34;tbd&#34;:false,&#34;launch_library_id&#34;:null,&#34;id&#34;:&#34;5eb87ce2ffd86e000604b335&#34;},{&#34;fairings&#34;:{&#34;reused&#34;:false,&#34;recovery_attempt&#34;:false,&#34;recovered&#34;:false,&#34;ships&#34;:[]},&#34;links&#34;:{&#34;patch&#34;:{&#34;small&#34;:&#34;https://images2.imgbox.com/5c/20/AsqTXJDC_o.png&#34;,&#34;large&#34;:&#34;https://images2.imgbox.com/f5/fa/JvLWfNZz_o.png&#34;},&#34;reddit&#34;:{&#34;campaign&#34;:null,&#34;launch&#34;:&#34;http://www.reddit.com/r/spacex/comments/1ujoc0&#34;,&#34;media&#34;:null,&#34;recovery&#34;:null},&#34;flickr&#34;:{&#34;small&#34;:[],&#34;original&#34;:[&#34;https://farm9.staticflickr.com/8617/16789019815_f99a165dc5_o.jpg&#34;,&#34;https://farm8.staticflickr.com/7619/16763151866_35a0a4d8e1_o.jpg&#34;,&#34;https://farm9.staticflickr.com/8569/16169086873_4d8829832e_o.png&#34;]},&#34;presskit&#34;:&#34;http://www.spacex.com/sites/spacex/files/spacex_thaicom6_presskit.pdf&#34;,&#34;webcast&#34;:&#34;https://www.youtube.com/watch?v=AnSNRzMEmCU&#34;,&#34;youtube_id&#34;:&#34;AnSNRzMEmCU&#34;,&#34;article&#34;:&#34;http://spacenews.com/38959spacex-delivers-thaicom-6-satellite-to-orbit/&#34;,&#34;wikipedia&#34;:&#34;https://en.wikipedia.org/wiki/Thaicom_6&#34;},&#34;static_fire_date_utc&#34;:&#34;2013-12-28T00:00:00.000Z&#34;,&#34;static_fire_date_unix&#34;:1388188800,&#34;net&#34;:false,&#34;window&#34;:0,&#34;rocket&#34;:&#34;5e9d0d95eda69973a809d1ec&#34;,&#34;success&#34;:true,&#34;failures&#34;:[],&#34;details&#34;:&#34;Second GTO launch for Falcon 9. The USAF evaluated launch data from this flight as part of a separate certification program for SpaceX to qualify to fly U.S. military payloads and found that the Thaicom 6 launch had \\\\&#34;unacceptable fuel reserves at engine cutoff of the stage 2 second burnoff\\\\&#34;&#34;,&#34;crew&#34;:[],&#34;ships&#34;:[],&#34;capsules&#34;:[],&#34;payloads&#34;:[&#34;5eb0e4bbb6c3bb0006eeb1f0&#34;],&#34;launchpad&#34;:&#34;5e9e4501f509094ba4566f84&#34;,&#34;flight_number&#34;:13,&#34;name&#34;:&#34;Thaicom 6&#34;,&#34;date_utc&#34;:&#34;2014-01-06T18:06:00.000Z&#34;,&#34;date_unix&#34;:1389031560,&#34;date_local&#34;:&#34;2014-01-06T14:06:00-04:00&#34;,&#34;date_precision&#34;:&#34;hour&#34;,&#34;upcoming&#34;:false,&#34;cores&#34;:[{&#34;core&#34;:&#34;5e9e289ff3591878603b262f&#34;,&#34;flight&#34;:1,&#34;gridfins&#34;:false,&#34;legs&#34;:false,&#34;reused&#34;:false,&#34;landing_attempt&#34;:false,&#34;landing_success&#34;:null,&#34;landing_type&#34;:null,&#34;landpad&#34;:null}],&#34;auto_update&#34;:true,&#34;tbd&#34;:false,&#34;launch_library_id&#34;:null,&#34;id&#34;:&#34;5eb87ce3ffd86e000604b336&#34;},{&#34;fairings&#34;:null,&#34;links&#34;:{&#34;patch&#34;:{&#34;small&#34;:&#34;https://images2.imgbox.com/ae/3c/yVvE2vVh_o.png&#34;,&#34;large&#34;:&#34;https://images2.imgbox.com/82/c7/bbs0gt88_o.png&#34;},&#34;reddit&#34;:{&#34;campaign&#34;:null,&#34;launch&#34;:&#34;http://www.reddit.com/r/spacex/comments/22zo8c&#34;,&#34;media&#34;:null,&#34;recovery&#34;:null},&#34;flickr&#34;:{&#34;small&#34;:[],&#34;original&#34;:[&#34;https://farm8.staticflickr.com/7615/16670240949_8d43db0e36_o.jpg&#34;,&#34;https://farm9.staticflickr.com/8597/16856369125_e97cd30ef7_o.jpg&#34;,&#34;https://farm8.staticflickr.com/7586/16166732954_9338dc859c_o.jpg&#34;,&#34;https://farm8.staticflickr.com/7603/16855223522_462da54e84_o.jpg&#34;,&#34;https://farm8.staticflickr.com/7618/16234010894_e1210ec300_o.jpg&#34;,&#34;https://farm8.staticflickr.com/7617/16855338881_69542a2fa9_o.jpg&#34;]},&#34;presskit&#34;:&#34;http://www.spacex.com/sites/spacex/files/spacexcrs-3_presskit_042014.pdf&#34;,&#34;webcast&#34;:&#34;https://www.youtube.com/watch?v=Od-lON4bTyQ&#34;,&#34;youtube_id&#34;:&#34;Od-lON4bTyQ&#34;,&#34;article&#34;:&#34;https://newatlas.com/crs-3-launch-spacex/31671/&#34;,&#34;wikipedia&#34;:&#34;https://en.wikipedia.org/wiki/SpaceX_CRS-3&#34;},&#34;static_fire_date_utc&#34;:&#34;2014-03-08T00:00:00.000Z&#34;,&#34;static_fire_date_unix&#34;:1394236800,&#34;net&#34;:false,&#34;window&#34;:0,&#34;rocket&#34;:&#34;5e9d0d95eda69973a809d1ec&#34;,&#34;success&#34;:true,&#34;failures&#34;:[],&#34;details&#34;:&#34;Following second-stage separation, SpaceX conducted a second controlled-descent test of the discarded booster vehicle and achieved the first successful controlled ocean touchdown of a liquid-rocket-engine orbital booster. Following touchdown the first stage tipped over as expected and was destroyed. This was the first Falcon 9 booster to fly with extensible landing legs and the first Dragon mission with the Falcon 9 v1.1 launch vehicle.&#34;,&#34;crew&#34;:[],&#34;ships&#34;:[&#34;5ea6ed2d080df4000697c902&#34;],&#34;capsules&#34;:[&#34;5e9e2c5bf3591859a63b2668&#34;],&#34;payloads&#34;:[&#34;5eb0e4bbb6c3bb0006eeb1f1&#34;],&#34;launchpad&#34;:&#34;5e9e4501f509094ba4566f84&#34;,&#34;flight_number&#34;:14,&#34;name&#34;:&#34;CRS-3&#34;,&#34;date_utc&#34;:&#34;2014-04-18T19:25:00.000Z&#34;,&#34;date_unix&#34;:1397849100,&#34;date_local&#34;:&#34;2014-04-18T15:25:00-04:00&#34;,&#34;date_precision&#34;:&#34;hour&#34;,&#34;upcoming&#34;:false,&#34;cores&#34;:[{&#34;core&#34;:&#34;5e9e289ff3591829343b2630&#34;,&#34;flight&#34;:1,&#34;gridfins&#34;:false,&#34;legs&#34;:true,&#34;reused&#34;:false,&#34;landing_attempt&#34;:true,&#34;landing_success&#34;:true,&#34;landing_type&#34;:&#34;Ocean&#34;,&#34;landpad&#34;:null}],&#34;auto_update&#34;:true,&#34;tbd&#34;:false,&#34;launch_library_id&#34;:null,&#34;id&#34;:&#34;5eb87ce4ffd86e000604b337&#34;},{&#34;fairings&#34;:{&#34;reused&#34;:false,&#34;recovery_attempt&#34;:false,&#34;recovered&#34;:false,&#34;ships&#34;:[]},&#34;links&#34;:{&#34;patch&#34;:{&#34;small&#34;:&#34;https://images2.imgbox.com/a4/44/YWAUBkOe_o.png&#34;,&#34;large&#34;:&#34;https://images2.imgbox.com/fd/41/FUnfqHHH_o.png&#34;},&#34;reddit&#34;:{&#34;campaign&#34;:null,&#34;launch&#34;:&#34;http://www.reddit.com/r/spacex/comments/2aany2&#34;,&#34;media&#34;:null,&#34;recovery&#34;:null},&#34;flickr&#34;:{&#34;small&#34;:[],&#34;original&#34;:[&#34;https://farm8.staticflickr.com/7585/16602893909_1181317089_o.jpg&#34;,&#34;https://farm9.staticflickr.com/8747/16581738577_83e0690136_o.png&#34;,&#34;https://farm8.staticflickr.com/7285/16581736047_6fd536ab11_o.jpg&#34;,&#34;https://farm8.staticflickr.com/7597/16789021675_35f0148f78_o.jpg&#34;,&#34;https://farm8.staticflickr.com/7631/16236321533_829ae07b42_o.jpg&#34;,&#34;https://farm9.staticflickr.com/8726/16830422056_26c2265bbc_o.jpg&#34;,&#34;https://farm9.staticflickr.com/8591/16670149079_33d6cc3631_o.jpg&#34;]},&#34;presskit&#34;:&#34;http://www.spacex.com/sites/spacex/files/spacex_orbcomm_presskit_final.pdf&#34;,&#34;webcast&#34;:&#34;https://www.youtube.com/watch?v=lbHnSu-DLR4&#34;,&#34;youtube_id&#34;:&#34;lbHnSu-DLR4&#34;,&#34;article&#34;:&#34;https://www.orbcomm.com/en/networks/satellite/orbcomm-og2&#34;,&#34;wikipedia&#34;:&#34;https://en.wikipedia.org/wiki/Falcon_9_flight_10&#34;},&#34;static_fire_date_utc&#34;:&#34;2015-12-19T04:57:00.000Z&#34;,&#34;static_fire_date_unix&#34;:1450501020,&#34;net&#34;:false,&#34;window&#34;:0,&#34;rocket&#34;:&#34;5e9d0d95eda69973a809d1ec&#34;,&#34;success&#34;:true,&#34;failures&#34;:[],&#34;details&#34;:&#34;Total payload mass was 1,316 kg (2,901 lb) : 6 satellites weighing 172 kg each, plus two 142-kg mass simulators. This was the second Falcon 9 booster equipped with landing legs. Following second-stage separation, SpaceX conducted a controlled-descent test of the first stage, which successfully decelerated from\\xc2\\xa0hypersonic velocity in the upper atmosphere, made reentry and landing burns, deployed its legs and touched down on the ocean surface. As with the previous mission, the first stage then tipped over as expected and was not recovered.&#34;,&#34;crew&#34;:[],&#34;ships&#34;:[],&#34;capsules&#34;:[],&#34;payloads&#34;:[&#34;5eb0e4bcb6c3bb0006eeb1f2&#34;],&#34;launchpad&#34;:&#34;5e9e4501f509094ba4566f84&#34;,&#34;flight_number&#34;:15,&#34;name&#34;:&#34;OG-2 Mission 1&#34;,&#34;date_utc&#34;:&#34;2014-07-14T15:15:00.000Z&#34;,&#34;date_unix&#34;:1405350900,&#34;date_local&#34;:&#34;2014-07-14T11:15:00-04:00&#34;,&#34;date_precision&#34;:&#34;hour&#34;,&#34;upcoming&#34;:false,&#34;cores&#34;:[{&#34;core&#34;:&#34;5e9e28a0f3591870a63b2631&#34;,&#34;flight&#34;:1,&#34;gridfins&#34;:false,&#34;legs&#34;:true,&#34;reused&#34;:false,&#34;landing_attempt&#34;:true,&#34;landing_success&#34;:true,&#34;landing_type&#34;:&#34;Ocean&#34;,&#34;landpad&#34;:null}],&#34;auto_update&#34;:true,&#34;tbd&#34;:false,&#34;launch_library_id&#34;:null,&#34;id&#34;:&#34;5eb87ce4ffd86e000604b338&#34;},{&#34;fairings&#34;:{&#34;reused&#34;:false,&#34;recovery_attempt&#34;:false,&#34;recovered&#34;:false,&#34;ships&#34;:[]},&#34;links&#34;:{&#34;patch&#34;:{&#34;small&#34;:&#34;https://images2.imgbox.com/dd/4d/szidadu8_o.png&#34;,&#34;large&#34;:&#34;https://images2.imgbox.com/60/3f/hwK01Qce_o.png&#34;},&#34;reddit&#34;:{&#34;campaign&#34;:null,&#34;launch&#34;:&#34;http://www.reddit.com/r/spacex/comments/2fenrv&#34;,&#34;media&#34;:null,&#34;recovery&#34;:null},&#34;flickr&#34;:{&#34;small&#34;:[],&#34;original&#34;:[&#34;https://farm9.staticflickr.com/8638/16855192031_962f7b1113_o.jpg&#34;,&#34;https://farm8.staticflickr.com/7603/16648925347_769a6009c7_o.jpg&#34;,&#34;https://farm9.staticflickr.com/8687/16789027675_cde1bd098a_o.jpg&#34;,&#34;https://farm8.staticflickr.com/7629/16668638138_7acf13cfb5_o.jpg&#34;,&#34;https://farm8.staticflickr.com/7281/16668845950_7680146525_o.jpg&#34;,&#34;https://farm8.staticflickr.com/7626/16233865484_10d9925b5d_o.jpg&#34;]},&#34;presskit&#34;:&#34;https://spaceflightnow.com/falcon9/011/presskit.pdf&#34;,&#34;webcast&#34;:&#34;https://www.youtube.com/watch?v=essrkMGlw5s&#34;,&#34;youtube_id&#34;:&#34;essrkMGlw5s&#34;,&#34;article&#34;:&#34;http://spacenews.com/41497spacex-launches-first-of-two-satellites-for-asiasat/&#34;,&#34;wikipedia&#34;:&#34;https://en.wikipedia.org/wiki/AsiaSat_8&#34;},&#34;static_fire_date_utc&#34;:&#34;2014-07-31T23:35:15.000Z&#34;,&#34;static_fire_date_unix&#34;:1406849715,&#34;net&#34;:false,&#34;window&#34;:0,&#34;rocket&#34;:&#34;5e9d0d95eda69973a809d1ec&#34;,&#34;success&#34;:true,&#34;failures&#34;:[],&#34;details&#34;:null,&#34;crew&#34;:[],&#34;ships&#34;:[],&#34;capsules&#34;:[],&#34;payloads&#34;:[&#34;5eb0e4bcb6c3bb0006eeb1f3&#34;],&#34;launchpad&#34;:&#34;5e9e4501f509094ba4566f84&#34;,&#34;flight_number&#34;:16,&#34;name&#34;:&#34;AsiaSat 8&#34;,&#34;date_utc&#34;:&#34;2014-08-05T08:00:00.000Z&#34;,&#34;date_unix&#34;:1407225600,&#34;date_local&#34;:&#34;2014-08-05T04:00:00-04:00&#34;,&#34;date_precision&#34;:&#34;hour&#34;,&#34;upcoming&#34;:false,&#34;cores&#34;:[{&#34;core&#34;:&#34;5e9e28a0f359186e2e3b2632&#34;,&#34;flight&#34;:1,&#34;gridfins&#34;:false,&#34;legs&#34;:false,&#34;reused&#34;:false,&#34;landing_attempt&#34;:false,&#34;landing_success&#34;:null,&#34;landing_type&#34;:null,&#34;landpad&#34;:null}],&#34;auto_update&#34;:true,&#34;tbd&#34;:false,&#34;launch_library_id&#34;:null,&#34;id&#34;:&#34;5eb87ce5ffd86e000604b339&#34;},{&#34;fairings&#34;:{&#34;reused&#34;:false,&#34;recovery_attempt&#34;:false,&#34;recovered&#34;:false,&#34;ships&#34;:[]},&#34;links&#34;:{&#34;patch&#34;:{&#34;small&#34;:&#34;https://images2.imgbox.com/d4/ea/jdJqr6He_o.png&#34;,&#34;large&#34;:&#34;https://images2.imgbox.com/5a/f0/b3TgnmVr_o.png&#34;},&#34;reddit&#34;:{&#34;campaign&#34;:null,&#34;launch&#34;:&#34;http://www.reddit.com/r/spacex/comments/2fenrv&#34;,&#34;media&#34;:null,&#34;recovery&#34;:null},&#34;flickr&#34;:{&#34;small&#34;:[],&#34;original&#34;:[&#34;https://farm8.staticflickr.com/7604/16169087563_0e3559ab5b_o.jpg&#34;,&#34;https://farm9.staticflickr.com/8742/16233828644_96738200b2_o.jpg&#34;,&#34;https://farm8.staticflickr.com/7645/16601443698_e70315d1ed_o.jpg&#34;,&#34;https://farm9.staticflickr.com/8730/16830335046_5f017c17be_o.jpg&#34;,&#34;https://farm9.staticflickr.com/8637/16855040322_57671ab8eb_o.jpg&#34;]},&#34;presskit&#34;:&#34;https://www.spaceflightnow.com/falcon9/012/presskit.pdf&#34;,&#34;webcast&#34;:&#34;https://www.youtube.com/watch?v=39ninsyTRk8&#34;,&#34;youtube_id&#34;:&#34;39ninsyTRk8&#34;,&#34;article&#34;:&#34;https://www.space.com/27052-spacex-launches-asiasat6-satellite.html&#34;,&#34;wikipedia&#34;:&#34;https://en.wikipedia.org/wiki/AsiaSat_6&#34;},&#34;static_fire_date_utc&#34;:&#34;2014-08-22T23:51:18.000Z&#34;,&#34;static_fire_date_unix&#34;:1408751478,&#34;net&#34;:false,&#34;window&#34;:7200,&#34;rocket&#34;:&#34;5e9d0d95eda69973a809d1ec&#34;,&#34;success&#34;:true,&#34;failures&#34;:[],&#34;details&#34;:null,&#34;crew&#34;:[],&#34;ships&#34;:[],&#34;capsules&#34;:[],&#34;payloads&#34;:[&#34;5eb0e4bcb6c3bb0006eeb1f4&#34;],&#34;launchpad&#34;:&#34;5e9e4501f509094ba4566f84&#34;,&#34;flight_number&#34;:17,&#34;name&#34;:&#34;AsiaSat 6&#34;,&#34;date_utc&#34;:&#34;2014-09-07T05:00:00.000Z&#34;,&#34;date_unix&#34;:1410066000,&#34;date_local&#34;:&#34;2014-09-07T01:00:00-04:00&#34;,&#34;date_precision&#34;:&#34;hour&#34;,&#34;upcoming&#34;:false,&#34;cores&#34;:[{&#34;core&#34;:&#34;5e9e28a0f35918b1bc3b2633&#34;,&#34;flight&#34;:1,&#34;gridfins&#34;:false,&#34;legs&#34;:false,&#34;reused&#34;:false,&#34;landing_attempt&#34;:false,&#34;landing_success&#34;:null,&#34;landing_type&#34;:null,&#34;landpad&#34;:null}],&#34;auto_update&#34;:true,&#34;tbd&#34;:false,&#34;launch_library_id&#34;:null,&#34;id&#34;:&#34;5eb87ce6ffd86e000604b33a&#34;},{&#34;fairings&#34;:null,&#34;links&#34;:{&#34;patch&#34;:{&#34;small&#34;:&#34;https://images2.imgbox.com/7b/fb/Mm0LdwGY_o.png&#34;,&#34;large&#34;:&#34;https://images2.imgbox.com/21/13/ps1yJZFD_o.png&#34;},&#34;reddit&#34;:{&#34;campaign&#34;:null,&#34;launch&#34;:&#34;http://www.reddit.com/r/spacex/comments/2grxer&#34;,&#34;media&#34;:null,&#34;recovery&#34;:null},&#34;flickr&#34;:{&#34;small&#34;:[],&#34;original&#34;:[&#34;https://farm8.staticflickr.com/7608/16661753958_9f61f777e7_o.jpg&#34;,&#34;https://farm9.staticflickr.com/8593/16763199166_38ba2cafc8_o.jpg&#34;,&#34;https://farm9.staticflickr.com/8655/16789074175_ba03989359_o.png&#34;,&#34;https://farm9.staticflickr.com/8659/16166761954_ebc2a72b2a_o.jpg&#34;,&#34;https://farm9.staticflickr.com/8620/16642025217_a6852b9499_o.jpg&#34;]},&#34;presskit&#34;:&#34;https://www.nasa.gov/sites/default/files/files/SpaceX_NASA_CRS-4_PressKit.pdf&#34;,&#34;webcast&#34;:&#34;https://www.youtube.com/watch?v=7YkCh7uOw1Y&#34;,&#34;youtube_id&#34;:&#34;7YkCh7uOw1Y&#34;,&#34;article&#34;:&#34;https://www.nasa.gov/press/2014/september/nasa-cargo-launches-to-space-station-aboard-spacex-resupply-mission-0&#34;,&#34;wikipedia&#34;:&#34;https://en.wikipedia.org/wiki/SpaceX_CRS-4&#34;},&#34;static_fire_date_utc&#34;:&#34;2014-09-17T00:00:00.000Z&#34;,&#34;static_fire_date_unix&#34;:1410912000,&#34;net&#34;:false,&#34;window&#34;:0,&#34;rocket&#34;:&#34;5e9d0d95eda69973a809d1ec&#34;,&#34;success&#34;:true,&#34;failures&#34;:[],&#34;details&#34;:null,&#34;crew&#34;:[],&#34;ships&#34;:[&#34;5ea6ed2d080df4000697c902&#34;],&#34;capsules&#34;:[&#34;5e9e2c5bf3591880643b2669&#34;],&#34;payloads&#34;:[&#34;5eb0e4bcb6c3bb0006eeb1f5&#34;],&#34;launchpad&#34;:&#34;5e9e4501f509094ba4566f84&#34;,&#34;flight_number&#34;:18,&#34;name&#34;:&#34;CRS-4&#34;,&#34;date_utc&#34;:&#34;2014-09-21T05:52:00.000Z&#34;,&#34;date_unix&#34;:1411278720,&#34;date_local&#34;:&#34;2014-09-21T01:52:00-04:00&#34;,&#34;date_precision&#34;:&#34;hour&#34;,&#34;upcoming&#34;:false,&#34;cores&#34;:[{&#34;core&#34;:&#34;5e9e28a0f359184a683b2634&#34;,&#34;flight&#34;:1,&#34;gridfins&#34;:false,&#34;legs&#34;:false,&#34;reused&#34;:false,&#34;landing_attempt&#34;:true,&#34;landing_success&#34;:false,&#34;landing_type&#34;:&#34;Ocean&#34;,&#34;landpad&#34;:null}],&#34;auto_update&#34;:true,&#34;tbd&#34;:false,&#34;launch_library_id&#34;:null,&#34;id&#34;:&#34;5eb87ce7ffd86e000604b33b&#34;},{&#34;fairings&#34;:null,&#34;links&#34;:{&#34;patch&#34;:{&#34;small&#34;:&#34;https://images2.imgbox.com/df/53/3Ik1KR2O_o.png&#34;,&#34;large&#34;:&#34;https://images2.imgbox.com/ed/f3/MdEzr8rE_o.png&#34;},&#34;reddit&#34;:{&#34;campaign&#34;:null,&#34;launch&#34;:&#34;http://www.reddit.com/r/spacex/comments/2rrdha&#34;,&#34;media&#34;:null,&#34;recovery&#34;:null},&#34;flickr&#34;:{&#34;small&#34;:[],&#34;original&#34;:[&#34;https://farm9.staticflickr.com/8666/16511391418_bb5cdbbd71_o.jpg&#34;,&#34;https://farm9.staticflickr.com/8612/16848173281_035bdc6009_o.jpg&#34;,&#34;https://farm9.staticflickr.com/8571/16699496805_bf39747618_o.jpg&#34;,&#34;https://farm9.staticflickr.com/8650/16699496705_187e4e53fd_o.jpg&#34;,&#34;https://farm9.staticflickr.com/8663/16077174554_370937efbe_o.jpg&#34;,&#34;https://farm9.staticflickr.com/8638/16512101410_83763eb9ea_o.jpg&#34;,&#34;https://farm9.staticflickr.com/8653/16077173984_17885d4bea_o.jpg&#34;,&#34;https://farm8.staticflickr.com/7635/16848159582_40c0f9d25f_o.jpg&#34;]},&#34;presskit&#34;:&#34;http://www.spacex.com/sites/spacex/files/spacex_nasa_crs-5_presskit.pdf&#34;,&#34;webcast&#34;:&#34;https://www.youtube.com/watch?v=p7x-SumbynI&#34;,&#34;youtube_id&#34;:&#34;p7x-SumbynI&#34;,&#34;article&#34;:&#34;https://spaceflightnow.com/2015/01/10/dragon-successfully-launched-rocket-recovery-demo-crash-lands/&#34;,&#34;wikipedia&#34;:&#34;https://en.wikipedia.org/wiki/SpaceX_CRS-5&#34;},&#34;static_fire_date_utc&#34;:&#34;2014-12-19T00:00:00.000Z&#34;,&#34;static_fire_date_unix&#34;:1418947200,&#34;net&#34;:false,&#34;window&#34;:0,&#34;rocket&#34;:&#34;5e9d0d95eda69973a809d1ec&#34;,&#34;success&#34;:true,&#34;failures&#34;:[],&#34;details&#34;:&#34;Following second stage separation, SpaceX performed a test flight which attempted to return the first stage of the Falcon 9 through the atmosphere and land it on an approximately 90-by-50-meter (300 ft x 160 ft) floating platform-called the autonomous spaceport drone ship. Many of the test objectives were achieved, including precision control of the rocket\\&#39;s descent to land on the platform at a specific point in the Atlantic ocean, and a large amount of test data was obtained from the first use of grid fin control surfaces used for more precise reentry positioning. The grid fin control system ran out of hydraulic fluid a minute before landing and the landing itself resulted in a crash.&#34;,&#34;crew&#34;:[],&#34;ships&#34;:[&#34;5ea6ed2e080df4000697c906&#34;,&#34;5ea6ed2f080df4000697c90b&#34;,&#34;5ea6ed2f080df4000697c90c&#34;,&#34;5ea6ed2f080df4000697c90f&#34;,&#34;5ea6ed30080df4000697c912&#34;],&#34;capsules&#34;:[&#34;5e9e2c5bf35918165f3b266a&#34;],&#34;payloads&#34;:[&#34;5eb0e4bdb6c3bb0006eeb1f6&#34;],&#34;launchpad&#34;:&#34;5e9e4501f509094ba4566f84&#34;,&#34;flight_number&#34;:19,&#34;name&#34;:&#34;CRS-5&#34;,&#34;date_utc&#34;:&#34;2015-01-10T09:47:00.000Z&#34;,&#34;date_unix&#34;:1420883220,&#34;date_local&#34;:&#34;2015-01-10T05:47:00-04:00&#34;,&#34;date_precision&#34;:&#34;hour&#34;,&#34;upcoming&#34;:false,&#34;cores&#34;:[{&#34;core&#34;:&#34;5e9e28a0f359187a3c3b2635&#34;,&#34;flight&#34;:1,&#34;gridfins&#34;:true,&#34;legs&#34;:true,&#34;reused&#34;:false,&#34;landing_attempt&#34;:true,&#34;landing_success&#34;:false,&#34;landing_type&#34;:&#34;ASDS&#34;,&#34;landpad&#34;:&#34;5e9e3032383ecb761634e7cb&#34;}],&#34;auto_update&#34;:true,&#34;tbd&#34;:false,&#34;launch_library_id&#34;:null,&#34;id&#34;:&#34;5eb87ce8ffd86e000604b33c&#34;},{&#34;fairings&#34;:{&#34;reused&#34;:false,&#34;recovery_attempt&#34;:false,&#34;recovered&#34;:false,&#34;ships&#34;:[]},&#34;links&#34;:{&#34;patch&#34;:{&#34;small&#34;:&#34;https://images2.imgbox.com/bc/a6/uDYvXvql_o.png&#34;,&#34;large&#34;:&#34;https://images2.imgbox.com/30/47/WmtGcjW8_o.png&#34;},&#34;reddit&#34;:{&#34;campaign&#34;:null,&#34;launch&#34;:&#34;http://www.reddit.com/r/spacex/comments/2vjm9e&#34;,&#34;media&#34;:null,&#34;recovery&#34;:null},&#34;flickr&#34;:{&#34;small&#34;:[],&#34;original&#34;:[&#34;https://farm9.staticflickr.com/8619/16511407538_9a25c5d8c6_o.jpg&#34;,&#34;https://farm9.staticflickr.com/8665/16697946612_1284e952b0_o.jpg&#34;,&#34;https://farm9.staticflickr.com/8570/16698990475_16524a93de_o.jpg&#34;,&#34;https://farm9.staticflickr.com/8681/16512864259_e849e496b1_o.jpg&#34;,&#34;https://farm9.staticflickr.com/8637/16079045013_1f0fab9b54_o.jpg&#34;,&#34;https://farm9.staticflickr.com/8601/16512864369_2bb896c344_o.jpg&#34;,&#34;https://farm9.staticflickr.com/8646/16697693861_a038331e0a_o.jpg&#34;,&#34;https://farm9.staticflickr.com/8680/16511407248_093635a243_o.jpg&#34;,&#34;https://farm9.staticflickr.com/8654/16511594820_451f194d53_o.jpg&#34;,&#34;https://farm9.staticflickr.com/8603/16673054016_472fb42a20_o.jpg&#34;]},&#34;presskit&#34;:&#34;http://www.spacex.com/press/2015/02/11/dscovr-launch-update&#34;,&#34;webcast&#34;:&#34;https://www.youtube.com/watch?v=OvHJSIKP0Hg&#34;,&#34;youtube_id&#34;:&#34;OvHJSIKP0Hg&#34;,&#34;article&#34;:&#34;https://spaceflightnow.com/2015/02/12/space-weather-observatory-blasts-off-after-17-year-wait/&#34;,&#34;wikipedia&#34;:&#34;https://en.wikipedia.org/wiki/Deep_Space_Climate_Observatory&#34;},&#34;static_fire_date_utc&#34;:&#34;2015-01-31T00:00:00.000Z&#34;,&#34;static_fire_date_unix&#34;:1422662400,&#34;net&#34;:false,&#34;window&#34;:0,&#34;rocket&#34;:&#34;5e9d0d95eda69973a809d1ec&#34;,&#34;success&#34;:true,&#34;failures&#34;:[],&#34;details&#34;:&#34;First launch under USAF\\&#39;s OSP 3 launch contract. First SpaceX launch to put a satellite to an orbit with an orbital altitude many times the distance to the Moon: Sun-Earth libration point L1. The first stage made a test flight descent to an over-ocean landing within 10 m (33 ft) of its intended target.&#34;,&#34;crew&#34;:[],&#34;ships&#34;:[&#34;5ea6ed2e080df4000697c906&#34;,&#34;5ea6ed2f080df4000697c90b&#34;,&#34;5ea6ed2f080df4000697c90c&#34;],&#34;capsules&#34;:[],&#34;payloads&#34;:[&#34;5eb0e4bdb6c3bb0006eeb1f7&#34;],&#34;launchpad&#34;:&#34;5e9e4501f509094ba4566f84&#34;,&#34;flight_number&#34;:20,&#34;name&#34;:&#34;DSCOVR&#34;,&#34;date_utc&#34;:&#34;2015-02-11T23:03:00.000Z&#34;,&#34;date_unix&#34;:1423695780,&#34;date_local&#34;:&#34;2015-02-11T19:03:00-04:00&#34;,&#34;date_precision&#34;:&#34;hour&#34;,&#34;upcoming&#34;:false,&#34;cores&#34;:[{&#34;core&#34;:&#34;5e9e28a0f3591885be3b2636&#34;,&#34;flight&#34;:1,&#34;gridfins&#34;:true,&#34;legs&#34;:true,&#34;reused&#34;:false,&#34;landing_attempt&#34;:true,&#34;landing_success&#34;:true,&#34;landing_type&#34;:&#34;Ocean&#34;,&#34;landpad&#34;:null}],&#34;auto_update&#34;:true,&#34;tbd&#34;:false,&#34;launch_library_id&#34;:null,&#34;id&#34;:&#34;5eb87ceaffd86e000604b33d&#34;},{&#34;fairings&#34;:{&#34;reused&#34;:false,&#34;recovery_attempt&#34;:false,&#34;recovered&#34;:false,&#34;ships&#34;:[]},&#34;links&#34;:{&#34;patch&#34;:{&#34;small&#34;:&#34;https://images2.imgbox.com/2b/65/8Hd65fHz_o.png&#34;,&#34;large&#34;:&#34;https://images2.imgbox.com/3f/c9/ZczpJ97M_o.png&#34;},&#34;reddit&#34;:{&#34;campaign&#34;:null,&#34;launch&#34;:&#34;http://www.reddit.com/r/spacex/comments/2x81fc&#34;,&#34;media&#34;:&#34;https://www.reddit.com/r/spacex/comments/2xmumx&#34;,&#34;recovery&#34;:null},&#34;flickr&#34;:{&#34;small&#34;:[],&#34;original&#34;:[&#34;https://farm9.staticflickr.com/8749/16788442562_ed460c2d9e_o.jpg&#34;,&#34;https://farm9.staticflickr.com/8586/16510243060_48d6a9b1f6_o.jpg&#34;,&#34;https://farm9.staticflickr.com/8641/16490359747_c043b8c61a_o.jpg&#34;,&#34;https://farm9.staticflickr.com/8636/16510241270_ca83157509_o.jpg&#34;,&#34;https://farm8.staticflickr.com/7618/16601658850_13b826e705_o.jpg&#34;,&#34;https://farm9.staticflickr.com/8617/16510041628_883af57512_o.jpg&#34;]},&#34;presskit&#34;:&#34;http://www.spacex.com/sites/spacex/files/abs-eutelsatfactsheet.pdf&#34;,&#34;webcast&#34;:&#34;https://www.youtube.com/watch?v=mN7lyaCBzT8&#34;,&#34;youtube_id&#34;:&#34;mN7lyaCBzT8&#34;,&#34;article&#34;:&#34;https://www.space.com/28702-spacex-rocket-launches-satellites-video.html&#34;,&#34;wikipedia&#34;:&#34;https://en.wikipedia.org/wiki/ABS-3A&#34;},&#34;static_fire_date_utc&#34;:&#34;2015-02-25T19:10:00.000Z&#34;,&#34;static_fire_date_unix&#34;:1424891400,&#34;net&#34;:false,&#34;window&#34;:0,&#34;rocket&#34;:&#34;5e9d0d95eda69973a809d1ec&#34;,&#34;success&#34;:true,&#34;failures&#34;:[],&#34;details&#34;:&#34;The launch was Boeing\\&#39;s first-ever conjoined launch of a lighter-weight dual-commsat stack that was specifically designed to take advantage of the lower-cost SpaceX Falcon 9 launch vehicle. Per satellite, launch costs were less than $30 million. The ABS satellite reached its final destination ahead of schedule and started operations on September 10.&#34;,&#34;crew&#34;:[],&#34;ships&#34;:[],&#34;capsules&#34;:[],&#34;payloads&#34;:[&#34;5eb0e4bdb6c3bb0006eeb1f8&#34;,&#34;5eb0e4bdb6c3bb0006eeb1f9&#34;],&#34;launchpad&#34;:&#34;5e9e4501f509094ba4566f84&#34;,&#34;flight_number&#34;:21,&#34;name&#34;:&#34;ABS-3A / Eutelsat 115W B&#34;,&#34;date_utc&#34;:&#34;2015-03-02T03:50:00.000Z&#34;,&#34;date_unix&#34;:1425268200,&#34;date_local&#34;:&#34;2015-03-02T23:50:00-04:00&#34;,&#34;date_precision&#34;:&#34;hour&#34;,&#34;upcoming&#34;:false,&#34;cores&#34;:[{&#34;core&#34;:&#34;5e9e28a0f35918c0893b2637&#34;,&#34;flight&#34;:1,&#34;gridfins&#34;:false,&#34;legs&#34;:false,&#34;reused&#34;:false,&#34;landing_attempt&#34;:false,&#34;landing_success&#34;:null,&#34;landing_type&#34;:null,&#34;landpad&#34;:null}],&#34;auto_update&#34;:true,&#34;tbd&#34;:false,&#34;launch_library_id&#34;:null,&#34;id&#34;:&#34;5eb87ceaffd86e000604b33e&#34;},{&#34;fairings&#34;:null,&#34;links&#34;:{&#34;patch&#34;:{&#34;small&#34;:&#34;https://images2.imgbox.com/75/39/TJU6xWM5_o.png&#34;,&#34;large&#34;:&#34;https://images2.imgbox.com/c7/02/2XvCh1yD_o.png&#34;},&#34;reddit&#34;:{&#34;campaign&#34;:null,&#34;launch&#34;:&#34;https://www.reddit.com/r/spacex/comments/32jnyd&#34;,&#34;media&#34;:&#34;https://www.reddit.com/r/spacex/comments/32lw5y&#34;,&#34;recovery&#34;:null},&#34;flickr&#34;:{&#34;small&#34;:[],&#34;original&#34;:[&#34;https://farm8.staticflickr.com/7624/17170624642_e5949d160e_o.jpg&#34;,&#34;https://farm8.staticflickr.com/7708/17170624402_f6de506461_o.jpg&#34;,&#34;https://farm8.staticflickr.com/7658/17170624462_2efc977fee_o.jpg&#34;,&#34;https://farm8.staticflickr.com/7611/17171659711_42597fefed_o.jpg&#34;,&#34;https://farm9.staticflickr.com/8774/17170624412_7091dbd04a_o.jpg&#34;]},&#34;presskit&#34;:&#34;https://www.nasa.gov/sites/default/files/files/SpaceX_NASA_CRS-6_PressKit.pdf&#34;,&#34;webcast&#34;:&#34;https://www.youtube.com/watch?v=csVpa25iqH0&#34;,&#34;youtube_id&#34;:&#34;csVpa25iqH0&#34;,&#34;article&#34;:&#34;https://spaceflightnow.com/2015/04/14/falcon-9-successfully-launches-descends-to-off-balance-landing/&#34;,&#34;wikipedia&#34;:&#34;https://en.wikipedia.org/wiki/SpaceX_CRS-6&#34;},&#34;static_fire_date_utc&#34;:&#34;2015-04-11T00:00:00.000Z&#34;,&#34;static_fire_date_unix&#34;:1428710400,&#34;net&#34;:false,&#34;window&#34;:0,&#34;rocket&#34;:&#34;5e9d0d95eda69973a809d1ec&#34;,&#34;success&#34;:true,&#34;failures&#34;:[],&#34;details&#34;:&#34;Following the first-stage boost, SpaceX attempted a controlled-descent test of the first stage. The first stage contacted the ship, but soon tipped over due to excess lateral velocity caused by a stuck throttle valve resulting in a later-than-intended downthrottle.&#34;,&#34;crew&#34;:[],&#34;ships&#34;:[&#34;5ea6ed2e080df4000697c906&#34;,&#34;5ea6ed2f080df4000697c90b&#34;,&#34;5ea6ed2f080df4000697c90c&#34;,&#34;5ea6ed2f080df4000697c90f&#34;,&#34;5ea6ed30080df4000697c912&#34;],&#34;capsules&#34;:[&#34;5e9e2c5cf359188bfb3b266b&#34;],&#34;payloads&#34;:[&#34;5eb0e4bdb6c3bb0006eeb1fa&#34;],&#34;launchpad&#34;:&#34;5e9e4501f509094ba4566f84&#34;,&#34;flight_number&#34;:22,&#34;name&#34;:&#34;CRS-6&#34;,&#34;date_utc&#34;:&#34;2015-04-14T20:10:00.000Z&#34;,&#34;date_unix&#34;:1429042200,&#34;date_local&#34;:&#34;2015-04-14T16:10:00-04:00&#34;,&#34;date_precision&#34;:&#34;hour&#34;,&#34;upcoming&#34;:false,&#34;cores&#34;:[{&#34;core&#34;:&#34;5e9e28a1f359186d533b2638&#34;,&#34;flight&#34;:1,&#34;gridfins&#34;:true,&#34;legs&#34;:true,&#34;reused&#34;:false,&#34;landing_attempt&#34;:true,&#34;landing_success&#34;:false,&#34;landing_type&#34;:&#34;ASDS&#34;,&#34;landpad&#34;:&#34;5e9e3032383ecb761634e7cb&#34;}],&#34;auto_update&#34;:true,&#34;tbd&#34;:false,&#34;launch_library_id&#34;:null,&#34;id&#34;:&#34;5eb87cecffd86e000604b33f&#34;},{&#34;fairings&#34;:{&#34;reused&#34;:false,&#34;recovery_attempt&#34;:false,&#34;recovered&#34;:false,&#34;ships&#34;:[]},&#34;links&#34;:{&#34;patch&#34;:{&#34;small&#34;:&#34;https://images2.imgbox.com/a6/9b/IzWT1pYC_o.png&#34;,&#34;large&#34;:&#34;https://images2.imgbox.com/a1/dc/grsyEfA5_o.png&#34;},&#34;reddit&#34;:{&#34;campaign&#34;:null,&#34;launch&#34;:&#34;https://www.reddit.com/r/spacex/comments/33xqcj&#34;,&#34;media&#34;:&#34;https://www.reddit.com/r/spacex/comments/3439s3&#34;,&#34;recovery&#34;:null},&#34;flickr&#34;:{&#34;small&#34;:[],&#34;original&#34;:[&#34;https://farm8.staticflickr.com/7695/17138865668_18dcce7072_o.jpg&#34;,&#34;https://farm8.staticflickr.com/7677/16706406093_61a8f9c2f8_o.jpg&#34;,&#34;https://farm8.staticflickr.com/7691/17324793792_2dd13ea3f3_o.jpg&#34;,&#34;https://farm8.staticflickr.com/7691/17139094400_b94ce1ff56_o.jpg&#34;,&#34;https://farm9.staticflickr.com/8739/17140415959_38b5ee8bc6_o.jpg&#34;,&#34;https://farm8.staticflickr.com/7735/16704192574_e3a0a6fac2_o.jpg&#34;]},&#34;presskit&#34;:&#34;http://www.spacex.com/sites/spacex/files/spacexthalesfactsheet_final.pdf&#34;,&#34;webcast&#34;:&#34;https://www.youtube.com/watch?v=nBwAYT_ogj4&#34;,&#34;youtube_id&#34;:&#34;nBwAYT_ogj4&#34;,&#34;article&#34;:&#34;https://spaceflightnow.com/2015/04/28/falcon-9-rocket-powers-into-space-with-satellite-for-turkmenistan/&#34;,&#34;wikipedia&#34;:&#34;https://en.wikipedia.org/wiki/T%C3%BCrkmen%C3%84lem_52%C2%B0E_/_MonacoSAT&#34;},&#34;static_fire_date_utc&#34;:&#34;2015-04-22T11:11:00.000Z&#34;,&#34;static_fire_date_unix&#34;:1429701060,&#34;net&#34;:false,&#34;window&#34;:0,&#34;rocket&#34;:&#34;5e9d0d95eda69973a809d1ec&#34;,&#34;success&#34;:true,&#34;failures&#34;:[],&#34;details&#34;:null,&#34;crew&#34;:[],&#34;ships&#34;:[],&#34;capsules&#34;:[],&#34;payloads&#34;:[&#34;5eb0e4beb6c3bb0006eeb1fb&#34;],&#34;launchpad&#34;:&#34;5e9e4501f509094ba4566f84&#34;,&#34;flight_number&#34;:23,&#34;name&#34;:&#34;T\\xc3\\xbcrkmen\\xc3\\x84lem 52\\xc2\\xb0E / MonacoSAT&#34;,&#34;date_utc&#34;:&#34;2015-04-27T23:03:00.000Z&#34;,&#34;date_unix&#34;:1430175780,&#34;date_local&#34;:&#34;2015-04-27T19:03:00-04:00&#34;,&#34;date_precision&#34;:&#34;hour&#34;,&#34;upcoming&#34;:false,&#34;cores&#34;:[{&#34;core&#34;:&#34;5e9e28a1f35918233f3b2639&#34;,&#34;flight&#34;:1,&#34;gridfins&#34;:false,&#34;legs&#34;:false,&#34;reused&#34;:false,&#34;landing_attempt&#34;:false,&#34;landing_success&#34;:null,&#34;landing_type&#34;:null,&#34;landpad&#34;:null}],&#34;auto_update&#34;:true,&#34;tbd&#34;:false,&#34;launch_library_id&#34;:null,&#34;id&#34;:&#34;5eb87cedffd86e000604b340&#34;},{&#34;fairings&#34;:null,&#34;links&#34;:{&#34;patch&#34;:{&#34;small&#34;:&#34;https://images2.imgbox.com/53/12/gFtcOQuX_o.png&#34;,&#34;large&#34;:&#34;https://images2.imgbox.com/7a/51/NfgiMpar_o.png&#34;},&#34;reddit&#34;:{&#34;campaign&#34;:null,&#34;launch&#34;:&#34;https://www.reddit.com/r/spacex/comments/3b27hk&#34;,&#34;media&#34;:&#34;https://www.reddit.com/r/spacex/comments/3berj3&#34;,&#34;recovery&#34;:null},&#34;flickr&#34;:{&#34;small&#34;:[],&#34;original&#34;:[&#34;https://farm1.staticflickr.com/344/19045370790_f20f29cd8d_o.jpg&#34;,&#34;https://farm1.staticflickr.com/287/18999110808_6e153fed64_o.jpg&#34;]},&#34;presskit&#34;:&#34;https://www.nasa.gov/sites/default/files/atoms/files/spacex_nasa_crs-7_presskit.pdf&#34;,&#34;webcast&#34;:&#34;https://www.youtube.com/watch?v=PuNymhcTtSQ&#34;,&#34;youtube_id&#34;:&#34;PuNymhcTtSQ&#34;,&#34;article&#34;:&#34;https://spaceflightnow.com/2015/06/28/falcon-9-rocket-destroyed-in-launch-mishap/&#34;,&#34;wikipedia&#34;:&#34;https://en.wikipedia.org/wiki/SpaceX_CRS-7&#34;},&#34;static_fire_date_utc&#34;:&#34;2015-06-26T05:00:00.000Z&#34;,&#34;static_fire_date_unix&#34;:1435294800,&#34;net&#34;:false,&#34;window&#34;:0,&#34;rocket&#34;:&#34;5e9d0d95eda69973a809d1ec&#34;,&#34;success&#34;:false,&#34;failures&#34;:[{&#34;time&#34;:139,&#34;altitude&#34;:40,&#34;reason&#34;:&#34;helium tank overpressure lead to the second stage LOX tank explosion&#34;}],&#34;details&#34;:&#34;Launch performance was nominal until an overpressure incident in the second-stage LOX tank, leading to vehicle breakup at T+150 seconds. The Dragon capsule survived the explosion but was lost upon splashdown because its software did not contain provisions for parachute deployment on launch vehicle failure.&#34;,&#34;crew&#34;:[],&#34;ships&#34;:[&#34;5ea6ed2e080df4000697c906&#34;,&#34;5ea6ed2f080df4000697c90b&#34;,&#34;5ea6ed2f080df4000697c90c&#34;],&#34;capsules&#34;:[&#34;5e9e2c5cf35918407d3b266c&#34;],&#34;payloads&#34;:[&#34;5eb0e4beb6c3bb0006eeb1fc&#34;],&#34;launchpad&#34;:&#34;5e9e4501f509094ba4566f84&#34;,&#34;flight_number&#34;:24,&#34;name&#34;:&#34;CRS-7&#34;,&#34;date_utc&#34;:&#34;2015-06-28T14:21:00.000Z&#34;,&#34;date_unix&#34;:1435501260,&#34;date_local&#34;:&#34;2015-06-28T10:21:00-04:00&#34;,&#34;date_precision&#34;:&#34;hour&#34;,&#34;upcoming&#34;:false,&#34;cores&#34;:[{&#34;core&#34;:&#34;5e9e28a1f35918683c3b263a&#34;,&#34;flight&#34;:1,&#34;gridfins&#34;:true,&#34;legs&#34;:true,&#34;reused&#34;:false,&#34;landing_attempt&#34;:true,&#34;landing_success&#34;:null,&#34;landing_type&#34;:&#34;ASDS&#34;,&#34;landpad&#34;:&#34;5e9e3032383ecb6bb234e7ca&#34;}],&#34;auto_update&#34;:true,&#34;tbd&#34;:false,&#34;launch_library_id&#34;:null,&#34;id&#34;:&#34;5eb87ceeffd86e000604b341&#34;},{&#34;fairings&#34;:{&#34;reused&#34;:false,&#34;recovery_attempt&#34;:false,&#34;recovered&#34;:false,&#34;ships&#34;:[]},&#34;links&#34;:{&#34;patch&#34;:{&#34;small&#34;:&#34;https://images2.imgbox.com/6a/7e/J7IQfBqg_o.png&#34;,&#34;large&#34;:&#34;https://images2.imgbox.com/99/d4/0aIlpFpw_o.png&#34;},&#34;reddit&#34;:{&#34;campaign&#34;:null,&#34;launch&#34;:&#34;https://www.reddit.com/r/spacex/comments/3xgxh5&#34;,&#34;media&#34;:&#34;https://www.reddit.com/r/spacex/comments/3xm83h/&#34;,&#34;recovery&#34;:null},&#34;flickr&#34;:{&#34;small&#34;:[],&#34;original&#34;:[&#34;https://farm2.staticflickr.com/1648/23827554109_837b21739e_o.jpg&#34;,&#34;https://farm1.staticflickr.com/597/23802553412_d41e4dcc64_o.jpg&#34;,&#34;https://farm6.staticflickr.com/5806/23802550622_9ff8c90098_o.jpg&#34;,&#34;https://farm1.staticflickr.com/571/23604164970_2a1a2366e4_o.jpg&#34;,&#34;https://farm6.staticflickr.com/5773/23271687254_5e64d726ba_o.jpg&#34;,&#34;https://farm6.staticflickr.com/5766/23526044959_5bfe74bc88_o.jpg&#34;,&#34;https://farm6.staticflickr.com/5723/23785609832_83038751d1_o.jpg&#34;,&#34;https://farm1.staticflickr.com/715/23833499336_d3fde6a25a_o.jpg&#34;]},&#34;presskit&#34;:&#34;http://www.spacex.com/sites/spacex/files/spacex_orbcomm_press_kit_final2.pdf&#34;,&#34;webcast&#34;:&#34;https://www.youtube.com/watch?v=O5bTbVbe4e4&#34;,&#34;youtube_id&#34;:&#34;O5bTbVbe4e4&#34;,&#34;article&#34;:&#34;https://spaceflightnow.com/2015/12/22/round-trip-rocket-flight-gives-spacex-a-trifecta-of-successes/&#34;,&#34;wikipedia&#34;:&#34;https://en.wikipedia.org/wiki/Falcon_9_flight_20&#34;},&#34;static_fire_date_utc&#34;:&#34;2015-12-19T00:09:00.000Z&#34;,&#34;static_fire_date_unix&#34;:1450483740,&#34;net&#34;:false,&#34;window&#34;:0,&#34;rocket&#34;:&#34;5e9d0d95eda69973a809d1ec&#34;,&#34;success&#34;:true,&#34;failures&#34;:[],&#34;details&#34;:&#34;Total payload mass was 2,034 kg (4,484 lb) : 11 satellites weighing 172 kg each, plus a 142-kg mass simulator. This was the first launch of the upgraded v1.1 variant (later called Falcon 9 Full Thrust), with a 30 percent power increase. Orbcomm had originally agreed to be the third flight of the enhanced-thrust rocket, but the change to the maiden flight position was announced in October 2015. SpaceX received a permit from the FAA to land the booster on solid ground at Cape Canaveral, and succeeded.&#34;,&#34;crew&#34;:[],&#34;ships&#34;:[],&#34;capsules&#34;:[],&#34;payloads&#34;:[&#34;5eb0e4beb6c3bb0006eeb1fd&#34;],&#34;launchpad&#34;:&#34;5e9e4501f509094ba4566f84&#34;,&#34;flight_number&#34;:25,&#34;name&#34;:&#34;OG-2 Mission 2&#34;,&#34;date_utc&#34;:&#34;2015-12-22T01:29:00.000Z&#34;,&#34;date_unix&#34;:1450747740,&#34;date_local&#34;:&#34;2015-12-22T21:29:00-04:00&#34;,&#34;date_precision&#34;:&#34;hour&#34;,&#34;upcoming&#34;:false,&#34;cores&#34;:[{&#34;core&#34;:&#34;5e9e28a1f3591867753b263b&#34;,&#34;flight&#34;:1,&#34;gridfins&#34;:true,&#34;legs&#34;:true,&#34;reused&#34;:false,&#34;landing_attempt&#34;:true,&#34;landing_success&#34;:true,&#34;landing_type&#34;:&#34;RTLS&#34;,&#34;landpad&#34;:&#34;5e9e3032383ecb267a34e7c7&#34;}],&#34;auto_update&#34;:true,&#34;tbd&#34;:false,&#34;launch_library_id&#34;:null,&#34;id&#34;:&#34;5eb87cefffd86e000604b342&#34;},{&#34;fairings&#34;:{&#34;reused&#34;:false,&#34;recovery_attempt&#34;:false,&#34;recovered&#34;:false,&#34;ships&#34;:[]},&#34;links&#34;:{&#34;patch&#34;:{&#34;small&#34;:&#34;https://images2.imgbox.com/8a/44/PSksEBjD_o.png&#34;,&#34;large&#34;:&#34;https://images2.imgbox.com/d9/c9/57ioWDgW_o.png&#34;},&#34;reddit&#34;:{&#34;campaign&#34;:null,&#34;launch&#34;:&#34;https://www.reddit.com/r/spacex/comments/417weg&#34;,&#34;media&#34;:&#34;https://www.reddit.com/r/spacex/comments/41cvdm&#34;,&#34;recovery&#34;:null},&#34;flickr&#34;:{&#34;small&#34;:[],&#34;original&#34;:[&#34;https://farm2.staticflickr.com/1460/24382360351_9b1f2fcabc_o.jpg&#34;,&#34;https://farm2.staticflickr.com/1669/24423604506_27d3c4548b_o.jpg&#34;,&#34;https://farm2.staticflickr.com/1618/24151425850_1cb6040569_o.jpg&#34;,&#34;https://farm2.staticflickr.com/1622/24127012370_07edc62046_o.jpg&#34;,&#34;https://farm2.staticflickr.com/1508/24127011190_92ef932c96_o.jpg&#34;,&#34;https://farm2.staticflickr.com/1591/23778325594_08231286fc_o.jpg&#34;,&#34;https://farm2.staticflickr.com/1542/24038722499_34c10216a3_o.jpg&#34;]},&#34;presskit&#34;:&#34;http://www.spacex.com/sites/spacex/files/spacex_jason3_press_kit.pdf&#34;,&#34;webcast&#34;:&#34;https://www.youtube.com/watch?v=ivdKRJzl6y0&#34;,&#34;youtube_id&#34;:&#34;ivdKRJzl6y0&#34;,&#34;article&#34;:&#34;https://spaceflightnow.com/2016/01/18/satellite-launched-to-measure-motions-of-the-oceans/&#34;,&#34;wikipedia&#34;:&#34;https://en.wikipedia.org/wiki/Jason-3&#34;},&#34;static_fire_date_utc&#34;:&#34;2016-01-11T18:42:00.000Z&#34;,&#34;static_fire_date_unix&#34;:1452537720,&#34;net&#34;:false,&#34;window&#34;:0,&#34;rocket&#34;:&#34;5e9d0d95eda69973a809d1ec&#34;,&#34;success&#34;:true,&#34;failures&#34;:[],&#34;details&#34;:&#34;First launch of NASA and NOAA joint science mission under the NLS II launch contract (not related to NASA CRS or USAF OSP3 contracts). Last launch of the original Falcon 9 v1.1 launch vehicle. The Jason-3 satellite was successfully deployed to target orbit. SpaceX again attempted a recovery of the first stage booster by landing on an autonomous drone ship; this time located in the Pacific Ocean. The first stage did achieve a soft-landing on the ship, but a lockout on one of the landing legs failed to latch, so that the booster fell over and exploded.&#34;,&#34;crew&#34;:[],&#34;ships&#34;:[&#34;5ea6ed2f080df4000697c910&#34;,&#34;5ea6ed30080df4000697c912&#34;,&#34;5ea6ed30080df4000697c914&#34;],&#34;capsules&#34;:[],&#34;payloads&#34;:[&#34;5eb0e4beb6c3bb0006eeb1fe&#34;],&#34;launchpad&#34;:&#34;5e9e4502f509092b78566f87&#34;,&#34;flight_number&#34;:26,&#34;name&#34;:&#34;Jason 3&#34;,&#34;date_utc&#34;:&#34;2016-01-17T15:42:00.000Z&#34;,&#34;date_unix&#34;:1453045320,&#34;date_local&#34;:&#34;2016-01-17T08:42:00-07:00&#34;,&#34;date_precision&#34;:&#34;hour&#34;,&#34;upcoming&#34;:false,&#34;cores&#34;:[{&#34;core&#34;:&#34;5e9e28a1f3591842fa3b263c&#34;,&#34;flight&#34;:1,&#34;gridfins&#34;:true,&#34;legs&#34;:true,&#34;reused&#34;:false,&#34;landing_attempt&#34;:true,&#34;landing_success&#34;:false,&#34;landing_type&#34;:&#34;ASDS&#34;,&#34;landpad&#34;:&#34;5e9e3033383ecbb9e534e7cc&#34;}],&#34;auto_update&#34;:true,&#34;tbd&#34;:false,&#34;launch_library_id&#34;:null,&#34;id&#34;:&#34;5eb87cf0ffd86e000604b343&#34;},{&#34;fairings&#34;:{&#34;reused&#34;:false,&#34;recovery_attempt&#34;:false,&#34;recovered&#34;:false,&#34;ships&#34;:[]},&#34;links&#34;:{&#34;patch&#34;:{&#34;small&#34;:&#34;https://images2.imgbox.com/7f/15/rjv54Es5_o.png&#34;,&#34;large&#34;:&#34;https://images2.imgbox.com/c9/7f/EQ1g4Iv2_o.png&#34;},&#34;reddit&#34;:{&#34;campaign&#34;:null,&#34;launch&#34;:&#34;https://www.reddit.com/r/spacex/comments/48u4yq&#34;,&#34;media&#34;:&#34;https://www.reddit.com/r/spacex/comments/472k8c&#34;,&#34;recovery&#34;:null},&#34;flickr&#34;:{&#34;small&#34;:[],&#34;original&#34;:[&#34;https://farm2.staticflickr.com/1623/25395662282_942fd68ba3_o.jpg&#34;,&#34;https://farm2.staticflickr.com/1458/25395661442_bfd783f18a_o.jpg&#34;,&#34;https://farm2.staticflickr.com/1641/25421381351_38390bcb8e_o.jpg&#34;,&#34;https://farm2.staticflickr.com/1616/25514167315_b19b0a4365_o.jpg&#34;,&#34;https://farm2.staticflickr.com/1482/24883160354_b03cefd416_o.jpg&#34;,&#34;https://farm2.staticflickr.com/1653/25420915781_8fc648b4a4_o.jpg&#34;,&#34;http\n*** WARNING: skipped 366641 bytes of output ***\n\n\n</div>",
                            "datasetInfos": [],
                            "metadata": {},
                            "removedWidgets": [],
                            "type": "html"
                        }
                    },
                    "output_type": "display_data"
                }
            ],
            "source": "print(response.content)"
        },
        {
            "cell_type": "markdown",
            "metadata": {
                "application/vnd.databricks.v1+cell": {
                    "cellMetadata": {},
                    "inputWidgets": {},
                    "nuid": "206072d2-9852-4d14-8368-41bad0a0a432",
                    "showTitle": false,
                    "title": ""
                }
            },
            "source": "You should see the response contains massive information about SpaceX launches. Next, let's try to discover some more relevant information for this project."
        },
        {
            "cell_type": "markdown",
            "metadata": {
                "application/vnd.databricks.v1+cell": {
                    "cellMetadata": {},
                    "inputWidgets": {},
                    "nuid": "d61eefdd-9464-493e-bd4d-85bf11ff571a",
                    "showTitle": false,
                    "title": ""
                }
            },
            "source": "### Task 1: Request and parse the SpaceX launch data using the GET request"
        },
        {
            "cell_type": "markdown",
            "metadata": {
                "application/vnd.databricks.v1+cell": {
                    "cellMetadata": {},
                    "inputWidgets": {},
                    "nuid": "78c2a1c5-228e-4c09-a1d2-5430efb8656e",
                    "showTitle": false,
                    "title": ""
                }
            },
            "source": "To make the requested JSON results more consistent, we will use the following static response object for this project:"
        },
        {
            "cell_type": "code",
            "execution_count": 0,
            "metadata": {
                "application/vnd.databricks.v1+cell": {
                    "cellMetadata": {
                        "byteLimit": 2048000,
                        "rowLimit": 10000
                    },
                    "inputWidgets": {},
                    "nuid": "144243b4-0edd-48db-a615-0c65b826a74e",
                    "showTitle": false,
                    "title": ""
                }
            },
            "outputs": [
                {
                    "data": {
                        "text/html": "<style scoped>\n  .ansiout {\n    display: block;\n    unicode-bidi: embed;\n    white-space: pre-wrap;\n    word-wrap: break-word;\n    word-break: break-all;\n    font-family: \"Source Code Pro\", \"Menlo\", monospace;;\n    font-size: 13px;\n    color: #555;\n    margin-left: 4px;\n    line-height: 19px;\n  }\n</style>\n<div class=\"ansiout\"></div>"
                    },
                    "metadata": {
                        "application/vnd.databricks.v1+output": {
                            "addedWidgets": {},
                            "arguments": {},
                            "data": "<div class=\"ansiout\"></div>",
                            "datasetInfos": [],
                            "metadata": {},
                            "removedWidgets": [],
                            "type": "html"
                        }
                    },
                    "output_type": "display_data"
                }
            ],
            "source": "static_json_url='https://cf-courses-data.s3.us.cloud-object-storage.appdomain.cloud/IBM-DS0321EN-SkillsNetwork/datasets/API_call_spacex_api.json'"
        },
        {
            "cell_type": "markdown",
            "metadata": {
                "application/vnd.databricks.v1+cell": {
                    "cellMetadata": {},
                    "inputWidgets": {},
                    "nuid": "9abc36be-696d-48ba-b20f-8f98ba3c02a7",
                    "showTitle": false,
                    "title": ""
                }
            },
            "source": "We should see that the request was successfull with the 200 status response code"
        },
        {
            "cell_type": "code",
            "execution_count": 0,
            "metadata": {
                "application/vnd.databricks.v1+cell": {
                    "cellMetadata": {
                        "byteLimit": 2048000,
                        "rowLimit": 10000
                    },
                    "inputWidgets": {},
                    "nuid": "52e600cb-50bd-4147-b5b7-4c2b7aa73c39",
                    "showTitle": false,
                    "title": ""
                }
            },
            "outputs": [
                {
                    "data": {
                        "text/html": "<style scoped>\n  .ansiout {\n    display: block;\n    unicode-bidi: embed;\n    white-space: pre-wrap;\n    word-wrap: break-word;\n    word-break: break-all;\n    font-family: \"Source Code Pro\", \"Menlo\", monospace;;\n    font-size: 13px;\n    color: #555;\n    margin-left: 4px;\n    line-height: 19px;\n  }\n</style>\n<div class=\"ansiout\">Out[10]: 200</div>"
                    },
                    "metadata": {
                        "application/vnd.databricks.v1+output": {
                            "addedWidgets": {},
                            "arguments": {},
                            "data": "<div class=\"ansiout\">Out[10]: 200</div>",
                            "datasetInfos": [],
                            "metadata": {},
                            "removedWidgets": [],
                            "type": "html"
                        }
                    },
                    "output_type": "display_data"
                }
            ],
            "source": "response.status_code"
        },
        {
            "cell_type": "markdown",
            "metadata": {
                "application/vnd.databricks.v1+cell": {
                    "cellMetadata": {},
                    "inputWidgets": {},
                    "nuid": "ac4681a6-239e-49c7-99ff-724c8bee29c5",
                    "showTitle": false,
                    "title": ""
                }
            },
            "source": "Now we decode the response content as a Json using <code>.json()</code> and turn it into a Pandas dataframe using <code>.json_normalize()</code>"
        },
        {
            "cell_type": "code",
            "execution_count": 0,
            "metadata": {
                "application/vnd.databricks.v1+cell": {
                    "cellMetadata": {
                        "byteLimit": 2048000,
                        "rowLimit": 10000
                    },
                    "inputWidgets": {},
                    "nuid": "4562ec70-a3e3-48bc-83cf-ed836a3bfebd",
                    "showTitle": false,
                    "title": ""
                }
            },
            "outputs": [
                {
                    "data": {
                        "text/html": "<style scoped>\n  .ansiout {\n    display: block;\n    unicode-bidi: embed;\n    white-space: pre-wrap;\n    word-wrap: break-word;\n    word-break: break-all;\n    font-family: \"Source Code Pro\", \"Menlo\", monospace;;\n    font-size: 13px;\n    color: #555;\n    margin-left: 4px;\n    line-height: 19px;\n  }\n</style>\n<div class=\"ansiout\"></div>"
                    },
                    "metadata": {
                        "application/vnd.databricks.v1+output": {
                            "addedWidgets": {},
                            "arguments": {},
                            "data": "<div class=\"ansiout\"></div>",
                            "datasetInfos": [],
                            "metadata": {},
                            "removedWidgets": [],
                            "type": "html"
                        }
                    },
                    "output_type": "display_data"
                }
            ],
            "source": "# Use json_normalize meethod to convert the json result into a dataframe\nresponse = requests.get(static_json_url)\nr = response.json()\ndata = pd.json_normalize(r)"
        },
        {
            "cell_type": "markdown",
            "metadata": {
                "application/vnd.databricks.v1+cell": {
                    "cellMetadata": {},
                    "inputWidgets": {},
                    "nuid": "c6743d24-43f1-4655-a471-c4abfa448b7b",
                    "showTitle": false,
                    "title": ""
                }
            },
            "source": "Using the dataframe <code>data</code> print the first 5 rows"
        },
        {
            "cell_type": "code",
            "execution_count": 0,
            "metadata": {
                "application/vnd.databricks.v1+cell": {
                    "cellMetadata": {
                        "byteLimit": 2048000,
                        "rowLimit": 10000
                    },
                    "inputWidgets": {},
                    "nuid": "59714207-0023-41a7-9a81-f25ec65d14a9",
                    "showTitle": false,
                    "title": ""
                }
            },
            "outputs": [
                {
                    "data": {
                        "text/html": "<style scoped>\n  .ansiout {\n    display: block;\n    unicode-bidi: embed;\n    white-space: pre-wrap;\n    word-wrap: break-word;\n    word-break: break-all;\n    font-family: \"Source Code Pro\", \"Menlo\", monospace;;\n    font-size: 13px;\n    color: #555;\n    margin-left: 4px;\n    line-height: 19px;\n  }\n</style>\n<div class=\"ansiout\">       static_fire_date_utc  static_fire_date_unix    tbd    net  window  \\\n0  2006-03-17T00:00:00.000Z           1.142554e+09  False  False     0.0   \n1                      None                    NaN  False  False     0.0   \n2                      None                    NaN  False  False     0.0   \n3  2008-09-20T00:00:00.000Z           1.221869e+09  False  False     0.0   \n4                      None                    NaN  False  False     0.0   \n\n                     rocket  success  \\\n0  5e9d0d95eda69955f709d1eb    False   \n1  5e9d0d95eda69955f709d1eb    False   \n2  5e9d0d95eda69955f709d1eb    False   \n3  5e9d0d95eda69955f709d1eb     True   \n4  5e9d0d95eda69955f709d1eb     True   \n\n                                                                                                                                                                                details  \\\n0                                                                                                                                      Engine failure at 33 seconds and loss of vehicle   \n1  Successful first stage burn and transition to second stage, maximum altitude 289 km, Premature engine shutdown at T+7 min 30 s, Failed to reach orbit, Failed to recover first stage   \n2                                                                                                                  Residual stage 1 thrust led to collision between stage 1 and stage 2   \n3                        Ratsat was carried to orbit on the first successful orbital launch of any privately funded and developed, liquid-propelled carrier rocket, the\u00a0SpaceX Falcon 1   \n4                                                                                                                                                                                  None   \n\n  crew ships capsules                                              payloads  \\\n0   []    []       []                            [5eb0e4b5b6c3bb0006eeb1e1]   \n1   []    []       []                            [5eb0e4b6b6c3bb0006eeb1e2]   \n2   []    []       []  [5eb0e4b6b6c3bb0006eeb1e3, 5eb0e4b6b6c3bb0006eeb1e4]   \n3   []    []       []                            [5eb0e4b7b6c3bb0006eeb1e5]   \n4   []    []       []                            [5eb0e4b7b6c3bb0006eeb1e6]   \n\n                  launchpad  auto_update  \\\n0  5e9e4502f5090995de566f86         True   \n1  5e9e4502f5090995de566f86         True   \n2  5e9e4502f5090995de566f86         True   \n3  5e9e4502f5090995de566f86         True   \n4  5e9e4502f5090995de566f86         True   \n\n                                                                                                            failures  \\\n0                                                [{&#39;time&#39;: 33, &#39;altitude&#39;: None, &#39;reason&#39;: &#39;merlin engine failure&#39;}]   \n1            [{&#39;time&#39;: 301, &#39;altitude&#39;: 289, &#39;reason&#39;: &#39;harmonic oscillation leading to premature engine shutdown&#39;}]   \n2  [{&#39;time&#39;: 140, &#39;altitude&#39;: 35, &#39;reason&#39;: &#39;residual stage-1 thrust led to collision between stage 1 and stage 2&#39;}]   \n3                                                                                                                 []   \n4                                                                                                                 []   \n\n   flight_number         name                  date_utc   date_unix  \\\n0              1    FalconSat  2006-03-24T22:30:00.000Z  1143239400   \n1              2      DemoSat  2007-03-21T01:10:00.000Z  1174439400   \n2              3  Trailblazer  2008-08-03T03:34:00.000Z  1217734440   \n3              4       RatSat  2008-09-28T23:15:00.000Z  1222643700   \n4              5     RazakSat  2009-07-13T03:35:00.000Z  1247456100   \n\n                  date_local date_precision  upcoming  \\\n0  2006-03-25T10:30:00+12:00           hour     False   \n1  2007-03-21T13:10:00+12:00           hour     False   \n2  2008-08-03T15:34:00+12:00           hour     False   \n3  2008-09-28T11:15:00+12:00           hour     False   \n4  2009-07-13T15:35:00+12:00           hour     False   \n\n                                                                                                                                                                                              cores  \\\n0  [{&#39;core&#39;: &#39;5e9e289df35918033d3b2623&#39;, &#39;flight&#39;: 1, &#39;gridfins&#39;: False, &#39;legs&#39;: False, &#39;reused&#39;: False, &#39;landing_attempt&#39;: False, &#39;landing_success&#39;: None, &#39;landing_type&#39;: None, &#39;landpad&#39;: None}]   \n1  [{&#39;core&#39;: &#39;5e9e289ef35918416a3b2624&#39;, &#39;flight&#39;: 1, &#39;gridfins&#39;: False, &#39;legs&#39;: False, &#39;reused&#39;: False, &#39;landing_attempt&#39;: False, &#39;landing_success&#39;: None, &#39;landing_type&#39;: None, &#39;landpad&#39;: None}]   \n2  [{&#39;core&#39;: &#39;5e9e289ef3591814873b2625&#39;, &#39;flight&#39;: 1, &#39;gridfins&#39;: False, &#39;legs&#39;: False, &#39;reused&#39;: False, &#39;landing_attempt&#39;: False, &#39;landing_success&#39;: None, &#39;landing_type&#39;: None, &#39;landpad&#39;: None}]   \n3  [{&#39;core&#39;: &#39;5e9e289ef3591855dc3b2626&#39;, &#39;flight&#39;: 1, &#39;gridfins&#39;: False, &#39;legs&#39;: False, &#39;reused&#39;: False, &#39;landing_attempt&#39;: False, &#39;landing_success&#39;: None, &#39;landing_type&#39;: None, &#39;landpad&#39;: None}]   \n4  [{&#39;core&#39;: &#39;5e9e289ef359184f103b2627&#39;, &#39;flight&#39;: 1, &#39;gridfins&#39;: False, &#39;legs&#39;: False, &#39;reused&#39;: False, &#39;landing_attempt&#39;: False, &#39;landing_success&#39;: None, &#39;landing_type&#39;: None, &#39;landpad&#39;: None}]   \n\n                         id fairings.reused fairings.recovery_attempt  \\\n0  5eb87cd9ffd86e000604b32a           False                     False   \n1  5eb87cdaffd86e000604b32b           False                     False   \n2  5eb87cdbffd86e000604b32c           False                     False   \n3  5eb87cdbffd86e000604b32d           False                     False   \n4  5eb87cdcffd86e000604b32e           False                     False   \n\n  fairings.recovered fairings.ships  \\\n0              False             []   \n1              False             []   \n2              False             []   \n3              False             []   \n4              False             []   \n\n                                 links.patch.small  \\\n0  https://images2.imgbox.com/3c/0e/T8iJcSN3_o.png   \n1  https://images2.imgbox.com/4f/e3/I0lkuJ2e_o.png   \n2  https://images2.imgbox.com/3d/86/cnu0pan8_o.png   \n3  https://images2.imgbox.com/e9/c9/T8CfiSYb_o.png   \n4  https://images2.imgbox.com/a7/ba/NBZSw3Ho_o.png   \n\n                                 links.patch.large links.reddit.campaign  \\\n0  https://images2.imgbox.com/40/e3/GypSkayF_o.png                  None   \n1  https://images2.imgbox.com/be/e7/iNqsqVYM_o.png                  None   \n2  https://images2.imgbox.com/4b/bd/d8UxLh4q_o.png                  None   \n3  https://images2.imgbox.com/e0/a7/FNjvKlXW_o.png                  None   \n4  https://images2.imgbox.com/8d/fc/0qdZMWWx_o.png                  None   \n\n  links.reddit.launch links.reddit.media links.reddit.recovery  \\\n0                None               None                  None   \n1                None               None                  None   \n2                None               None                  None   \n3                None               None                  None   \n4                None               None                  None   \n\n  links.flickr.small links.flickr.original  \\\n0                 []                    []   \n1                 []                    []   \n2                 []                    []   \n3                 []                    []   \n4                 []                    []   \n\n                                                                                           links.presskit  \\\n0                                                                                                    None   \n1                                                                                                    None   \n2                                                                                                    None   \n3                                                                                                    None   \n4  http://www.spacex.com/press/2012/12/19/spacexs-falcon-1-successfully-delivers-razaksat-satellite-orbit   \n\n                                 links.webcast links.youtube_id  \\\n0  https://www.youtube.com/watch?v=0a_00nJ_Y88      0a_00nJ_Y88   \n1  https://www.youtube.com/watch?v=Lk4zQ2wP-Nc      Lk4zQ2wP-Nc   \n2  https://www.youtube.com/watch?v=v0w9p3U8860      v0w9p3U8860   \n3  https://www.youtube.com/watch?v=dLQ2tZEH6G0      dLQ2tZEH6G0   \n4  https://www.youtube.com/watch?v=yTaIDooc8Og      yTaIDooc8Og   \n\n                                                                  links.article  \\\n0  https://www.space.com/2196-spacex-inaugural-falcon-1-rocket-lost-launch.html   \n1      https://www.space.com/3590-spacex-falcon-1-rocket-fails-reach-orbit.html   \n2       http://www.spacex.com/news/2013/02/11/falcon-1-flight-3-mission-summary   \n3                                          https://en.wikipedia.org/wiki/Ratsat   \n4                       http://www.spacex.com/news/2013/02/12/falcon-1-flight-5   \n\n                                         links.wikipedia  fairings  \n0                  https://en.wikipedia.org/wiki/DemoSat       NaN  \n1                  https://en.wikipedia.org/wiki/DemoSat       NaN  \n2  https://en.wikipedia.org/wiki/Trailblazer_(satellite)       NaN  \n3                   https://en.wikipedia.org/wiki/Ratsat       NaN  \n4                 https://en.wikipedia.org/wiki/RazakSAT       NaN  \n</div>"
                    },
                    "metadata": {
                        "application/vnd.databricks.v1+output": {
                            "addedWidgets": {},
                            "arguments": {},
                            "data": "<div class=\"ansiout\">       static_fire_date_utc  static_fire_date_unix    tbd    net  window  \\\n0  2006-03-17T00:00:00.000Z           1.142554e+09  False  False     0.0   \n1                      None                    NaN  False  False     0.0   \n2                      None                    NaN  False  False     0.0   \n3  2008-09-20T00:00:00.000Z           1.221869e+09  False  False     0.0   \n4                      None                    NaN  False  False     0.0   \n\n                     rocket  success  \\\n0  5e9d0d95eda69955f709d1eb    False   \n1  5e9d0d95eda69955f709d1eb    False   \n2  5e9d0d95eda69955f709d1eb    False   \n3  5e9d0d95eda69955f709d1eb     True   \n4  5e9d0d95eda69955f709d1eb     True   \n\n                                                                                                                                                                                details  \\\n0                                                                                                                                      Engine failure at 33 seconds and loss of vehicle   \n1  Successful first stage burn and transition to second stage, maximum altitude 289 km, Premature engine shutdown at T+7 min 30 s, Failed to reach orbit, Failed to recover first stage   \n2                                                                                                                  Residual stage 1 thrust led to collision between stage 1 and stage 2   \n3                        Ratsat was carried to orbit on the first successful orbital launch of any privately funded and developed, liquid-propelled carrier rocket, the\u00a0SpaceX Falcon 1   \n4                                                                                                                                                                                  None   \n\n  crew ships capsules                                              payloads  \\\n0   []    []       []                            [5eb0e4b5b6c3bb0006eeb1e1]   \n1   []    []       []                            [5eb0e4b6b6c3bb0006eeb1e2]   \n2   []    []       []  [5eb0e4b6b6c3bb0006eeb1e3, 5eb0e4b6b6c3bb0006eeb1e4]   \n3   []    []       []                            [5eb0e4b7b6c3bb0006eeb1e5]   \n4   []    []       []                            [5eb0e4b7b6c3bb0006eeb1e6]   \n\n                  launchpad  auto_update  \\\n0  5e9e4502f5090995de566f86         True   \n1  5e9e4502f5090995de566f86         True   \n2  5e9e4502f5090995de566f86         True   \n3  5e9e4502f5090995de566f86         True   \n4  5e9e4502f5090995de566f86         True   \n\n                                                                                                            failures  \\\n0                                                [{&#39;time&#39;: 33, &#39;altitude&#39;: None, &#39;reason&#39;: &#39;merlin engine failure&#39;}]   \n1            [{&#39;time&#39;: 301, &#39;altitude&#39;: 289, &#39;reason&#39;: &#39;harmonic oscillation leading to premature engine shutdown&#39;}]   \n2  [{&#39;time&#39;: 140, &#39;altitude&#39;: 35, &#39;reason&#39;: &#39;residual stage-1 thrust led to collision between stage 1 and stage 2&#39;}]   \n3                                                                                                                 []   \n4                                                                                                                 []   \n\n   flight_number         name                  date_utc   date_unix  \\\n0              1    FalconSat  2006-03-24T22:30:00.000Z  1143239400   \n1              2      DemoSat  2007-03-21T01:10:00.000Z  1174439400   \n2              3  Trailblazer  2008-08-03T03:34:00.000Z  1217734440   \n3              4       RatSat  2008-09-28T23:15:00.000Z  1222643700   \n4              5     RazakSat  2009-07-13T03:35:00.000Z  1247456100   \n\n                  date_local date_precision  upcoming  \\\n0  2006-03-25T10:30:00+12:00           hour     False   \n1  2007-03-21T13:10:00+12:00           hour     False   \n2  2008-08-03T15:34:00+12:00           hour     False   \n3  2008-09-28T11:15:00+12:00           hour     False   \n4  2009-07-13T15:35:00+12:00           hour     False   \n\n                                                                                                                                                                                              cores  \\\n0  [{&#39;core&#39;: &#39;5e9e289df35918033d3b2623&#39;, &#39;flight&#39;: 1, &#39;gridfins&#39;: False, &#39;legs&#39;: False, &#39;reused&#39;: False, &#39;landing_attempt&#39;: False, &#39;landing_success&#39;: None, &#39;landing_type&#39;: None, &#39;landpad&#39;: None}]   \n1  [{&#39;core&#39;: &#39;5e9e289ef35918416a3b2624&#39;, &#39;flight&#39;: 1, &#39;gridfins&#39;: False, &#39;legs&#39;: False, &#39;reused&#39;: False, &#39;landing_attempt&#39;: False, &#39;landing_success&#39;: None, &#39;landing_type&#39;: None, &#39;landpad&#39;: None}]   \n2  [{&#39;core&#39;: &#39;5e9e289ef3591814873b2625&#39;, &#39;flight&#39;: 1, &#39;gridfins&#39;: False, &#39;legs&#39;: False, &#39;reused&#39;: False, &#39;landing_attempt&#39;: False, &#39;landing_success&#39;: None, &#39;landing_type&#39;: None, &#39;landpad&#39;: None}]   \n3  [{&#39;core&#39;: &#39;5e9e289ef3591855dc3b2626&#39;, &#39;flight&#39;: 1, &#39;gridfins&#39;: False, &#39;legs&#39;: False, &#39;reused&#39;: False, &#39;landing_attempt&#39;: False, &#39;landing_success&#39;: None, &#39;landing_type&#39;: None, &#39;landpad&#39;: None}]   \n4  [{&#39;core&#39;: &#39;5e9e289ef359184f103b2627&#39;, &#39;flight&#39;: 1, &#39;gridfins&#39;: False, &#39;legs&#39;: False, &#39;reused&#39;: False, &#39;landing_attempt&#39;: False, &#39;landing_success&#39;: None, &#39;landing_type&#39;: None, &#39;landpad&#39;: None}]   \n\n                         id fairings.reused fairings.recovery_attempt  \\\n0  5eb87cd9ffd86e000604b32a           False                     False   \n1  5eb87cdaffd86e000604b32b           False                     False   \n2  5eb87cdbffd86e000604b32c           False                     False   \n3  5eb87cdbffd86e000604b32d           False                     False   \n4  5eb87cdcffd86e000604b32e           False                     False   \n\n  fairings.recovered fairings.ships  \\\n0              False             []   \n1              False             []   \n2              False             []   \n3              False             []   \n4              False             []   \n\n                                 links.patch.small  \\\n0  https://images2.imgbox.com/3c/0e/T8iJcSN3_o.png   \n1  https://images2.imgbox.com/4f/e3/I0lkuJ2e_o.png   \n2  https://images2.imgbox.com/3d/86/cnu0pan8_o.png   \n3  https://images2.imgbox.com/e9/c9/T8CfiSYb_o.png   \n4  https://images2.imgbox.com/a7/ba/NBZSw3Ho_o.png   \n\n                                 links.patch.large links.reddit.campaign  \\\n0  https://images2.imgbox.com/40/e3/GypSkayF_o.png                  None   \n1  https://images2.imgbox.com/be/e7/iNqsqVYM_o.png                  None   \n2  https://images2.imgbox.com/4b/bd/d8UxLh4q_o.png                  None   \n3  https://images2.imgbox.com/e0/a7/FNjvKlXW_o.png                  None   \n4  https://images2.imgbox.com/8d/fc/0qdZMWWx_o.png                  None   \n\n  links.reddit.launch links.reddit.media links.reddit.recovery  \\\n0                None               None                  None   \n1                None               None                  None   \n2                None               None                  None   \n3                None               None                  None   \n4                None               None                  None   \n\n  links.flickr.small links.flickr.original  \\\n0                 []                    []   \n1                 []                    []   \n2                 []                    []   \n3                 []                    []   \n4                 []                    []   \n\n                                                                                           links.presskit  \\\n0                                                                                                    None   \n1                                                                                                    None   \n2                                                                                                    None   \n3                                                                                                    None   \n4  http://www.spacex.com/press/2012/12/19/spacexs-falcon-1-successfully-delivers-razaksat-satellite-orbit   \n\n                                 links.webcast links.youtube_id  \\\n0  https://www.youtube.com/watch?v=0a_00nJ_Y88      0a_00nJ_Y88   \n1  https://www.youtube.com/watch?v=Lk4zQ2wP-Nc      Lk4zQ2wP-Nc   \n2  https://www.youtube.com/watch?v=v0w9p3U8860      v0w9p3U8860   \n3  https://www.youtube.com/watch?v=dLQ2tZEH6G0      dLQ2tZEH6G0   \n4  https://www.youtube.com/watch?v=yTaIDooc8Og      yTaIDooc8Og   \n\n                                                                  links.article  \\\n0  https://www.space.com/2196-spacex-inaugural-falcon-1-rocket-lost-launch.html   \n1      https://www.space.com/3590-spacex-falcon-1-rocket-fails-reach-orbit.html   \n2       http://www.spacex.com/news/2013/02/11/falcon-1-flight-3-mission-summary   \n3                                          https://en.wikipedia.org/wiki/Ratsat   \n4                       http://www.spacex.com/news/2013/02/12/falcon-1-flight-5   \n\n                                         links.wikipedia  fairings  \n0                  https://en.wikipedia.org/wiki/DemoSat       NaN  \n1                  https://en.wikipedia.org/wiki/DemoSat       NaN  \n2  https://en.wikipedia.org/wiki/Trailblazer_(satellite)       NaN  \n3                   https://en.wikipedia.org/wiki/Ratsat       NaN  \n4                 https://en.wikipedia.org/wiki/RazakSAT       NaN  \n</div>",
                            "datasetInfos": [],
                            "metadata": {},
                            "removedWidgets": [],
                            "type": "html"
                        }
                    },
                    "output_type": "display_data"
                }
            ],
            "source": "# Get the head of the dataframe\nprint(data.head())"
        },
        {
            "cell_type": "markdown",
            "metadata": {
                "application/vnd.databricks.v1+cell": {
                    "cellMetadata": {},
                    "inputWidgets": {},
                    "nuid": "02c4cc46-97fd-45b2-9ed9-35ef6ec433ac",
                    "showTitle": false,
                    "title": ""
                }
            },
            "source": "You will notice that a lot of the data are IDs. For example the rocket column has no information about the rocket just an identification number.\n\nWe will now use the API again to get information about the launches using the IDs given for each launch. Specifically we will be using columns <code>rocket</code>, <code>payloads</code>, <code>launchpad</code>, and <code>cores</code>."
        },
        {
            "cell_type": "code",
            "execution_count": 0,
            "metadata": {
                "application/vnd.databricks.v1+cell": {
                    "cellMetadata": {
                        "byteLimit": 2048000,
                        "rowLimit": 10000
                    },
                    "inputWidgets": {},
                    "nuid": "1ac2f1be-36a8-4d16-95b5-33159369df7f",
                    "showTitle": false,
                    "title": ""
                }
            },
            "outputs": [
                {
                    "data": {
                        "text/html": "<style scoped>\n  .ansiout {\n    display: block;\n    unicode-bidi: embed;\n    white-space: pre-wrap;\n    word-wrap: break-word;\n    word-break: break-all;\n    font-family: \"Source Code Pro\", \"Menlo\", monospace;;\n    font-size: 13px;\n    color: #555;\n    margin-left: 4px;\n    line-height: 19px;\n  }\n</style>\n<div class=\"ansiout\"></div>"
                    },
                    "metadata": {
                        "application/vnd.databricks.v1+output": {
                            "addedWidgets": {},
                            "arguments": {},
                            "data": "<div class=\"ansiout\"></div>",
                            "datasetInfos": [],
                            "metadata": {},
                            "removedWidgets": [],
                            "type": "html"
                        }
                    },
                    "output_type": "display_data"
                }
            ],
            "source": "# Lets take a subset of our dataframe keeping only the features we want and the flight number, and date_utc.\ndata = data[['rocket', 'payloads', 'launchpad', 'cores', 'flight_number', 'date_utc']]\n\n# We will remove rows with multiple cores because those are falcon rockets with 2 extra rocket boosters and rows that have multiple payloads in a single rocket.\ndata = data[data['cores'].map(len)==1]\ndata = data[data['payloads'].map(len)==1]\n\n# Since payloads and cores are lists of size 1 we will also extract the single value in the list and replace the feature.\ndata['cores'] = data['cores'].map(lambda x : x[0])\ndata['payloads'] = data['payloads'].map(lambda x : x[0])\n\n# We also want to convert the date_utc to a datetime datatype and then extracting the date leaving the time\ndata['date'] = pd.to_datetime(data['date_utc']).dt.date\n\n# Using the date we will restrict the dates of the launches\ndata = data[data['date'] <= datetime.date(2020, 11, 13)]"
        },
        {
            "cell_type": "markdown",
            "metadata": {
                "application/vnd.databricks.v1+cell": {
                    "cellMetadata": {},
                    "inputWidgets": {},
                    "nuid": "4314629d-f1a8-4f76-b05d-9ae3ce4014ee",
                    "showTitle": false,
                    "title": ""
                }
            },
            "source": "* From the <code>rocket</code> we would like to learn the booster name\n\n* From the <code>payload</code> we would like to learn the mass of the payload and the orbit that it is going to\n\n* From the <code>launchpad</code> we would like to know the name of the launch site being used, the longitude, and the latitude.\n\n* From <code>cores</code> we would like to learn the outcome of the landing, the type of the landing, number of flights with that core, whether gridfins were used, whether the core is reused, whether legs were used, the landing pad used, the block of the core which is a number used to seperate version of cores, the number of times this specific core has been reused, and the serial of the core.\n\nThe data from these requests will be stored in lists and will be used to create a new dataframe."
        },
        {
            "cell_type": "code",
            "execution_count": 0,
            "metadata": {
                "application/vnd.databricks.v1+cell": {
                    "cellMetadata": {
                        "byteLimit": 2048000,
                        "rowLimit": 10000
                    },
                    "inputWidgets": {},
                    "nuid": "ac906ff8-6882-49ca-a369-d3bbf872e619",
                    "showTitle": false,
                    "title": ""
                }
            },
            "outputs": [
                {
                    "data": {
                        "text/html": "<style scoped>\n  .ansiout {\n    display: block;\n    unicode-bidi: embed;\n    white-space: pre-wrap;\n    word-wrap: break-word;\n    word-break: break-all;\n    font-family: \"Source Code Pro\", \"Menlo\", monospace;;\n    font-size: 13px;\n    color: #555;\n    margin-left: 4px;\n    line-height: 19px;\n  }\n</style>\n<div class=\"ansiout\"></div>"
                    },
                    "metadata": {
                        "application/vnd.databricks.v1+output": {
                            "addedWidgets": {},
                            "arguments": {},
                            "data": "<div class=\"ansiout\"></div>",
                            "datasetInfos": [],
                            "metadata": {},
                            "removedWidgets": [],
                            "type": "html"
                        }
                    },
                    "output_type": "display_data"
                }
            ],
            "source": "#Global variables \nBoosterVersion = []\nPayloadMass = []\nOrbit = []\nLaunchSite = []\nOutcome = []\nFlights = []\nGridFins = []\nReused = []\nLegs = []\nLandingPad = []\nBlock = []\nReusedCount = []\nSerial = []\nLongitude = []\nLatitude = []"
        },
        {
            "cell_type": "markdown",
            "metadata": {
                "application/vnd.databricks.v1+cell": {
                    "cellMetadata": {},
                    "inputWidgets": {},
                    "nuid": "6f5a4938-b9ee-453d-9bfa-2f9f37f6e619",
                    "showTitle": false,
                    "title": ""
                }
            },
            "source": "These functions will apply the outputs globally to the above variables. Let's take a looks at <code>BoosterVersion</code> variable. Before we apply  <code>getBoosterVersion</code> the list is empty:"
        },
        {
            "cell_type": "code",
            "execution_count": 0,
            "metadata": {
                "application/vnd.databricks.v1+cell": {
                    "cellMetadata": {
                        "byteLimit": 2048000,
                        "rowLimit": 10000
                    },
                    "inputWidgets": {},
                    "nuid": "e25aaddd-f7cc-4c43-8d6d-43945f5726b1",
                    "showTitle": false,
                    "title": ""
                }
            },
            "outputs": [
                {
                    "data": {
                        "text/html": "<style scoped>\n  .ansiout {\n    display: block;\n    unicode-bidi: embed;\n    white-space: pre-wrap;\n    word-wrap: break-word;\n    word-break: break-all;\n    font-family: \"Source Code Pro\", \"Menlo\", monospace;;\n    font-size: 13px;\n    color: #555;\n    margin-left: 4px;\n    line-height: 19px;\n  }\n</style>\n<div class=\"ansiout\">Out[20]: []</div>"
                    },
                    "metadata": {
                        "application/vnd.databricks.v1+output": {
                            "addedWidgets": {},
                            "arguments": {},
                            "data": "<div class=\"ansiout\">Out[20]: []</div>",
                            "datasetInfos": [],
                            "metadata": {},
                            "removedWidgets": [],
                            "type": "html"
                        }
                    },
                    "output_type": "display_data"
                }
            ],
            "source": "BoosterVersion"
        },
        {
            "cell_type": "markdown",
            "metadata": {
                "application/vnd.databricks.v1+cell": {
                    "cellMetadata": {},
                    "inputWidgets": {},
                    "nuid": "5932d03d-dfcc-4379-853f-f328757f0a86",
                    "showTitle": false,
                    "title": ""
                }
            },
            "source": "Now, let's apply <code> getBoosterVersion</code> function method to get the booster version"
        },
        {
            "cell_type": "code",
            "execution_count": 0,
            "metadata": {
                "application/vnd.databricks.v1+cell": {
                    "cellMetadata": {
                        "byteLimit": 2048000,
                        "rowLimit": 10000
                    },
                    "inputWidgets": {},
                    "nuid": "00b260ad-af3a-4074-8c6a-ed0928ad5bdf",
                    "showTitle": false,
                    "title": ""
                }
            },
            "outputs": [
                {
                    "data": {
                        "text/html": "<style scoped>\n  .ansiout {\n    display: block;\n    unicode-bidi: embed;\n    white-space: pre-wrap;\n    word-wrap: break-word;\n    word-break: break-all;\n    font-family: \"Source Code Pro\", \"Menlo\", monospace;;\n    font-size: 13px;\n    color: #555;\n    margin-left: 4px;\n    line-height: 19px;\n  }\n</style>\n<div class=\"ansiout\"></div>"
                    },
                    "metadata": {
                        "application/vnd.databricks.v1+output": {
                            "addedWidgets": {},
                            "arguments": {},
                            "data": "<div class=\"ansiout\"></div>",
                            "datasetInfos": [],
                            "metadata": {},
                            "removedWidgets": [],
                            "type": "html"
                        }
                    },
                    "output_type": "display_data"
                }
            ],
            "source": "# Call getBoosterVersion\ngetBoosterVersion(data)"
        },
        {
            "cell_type": "markdown",
            "metadata": {
                "application/vnd.databricks.v1+cell": {
                    "cellMetadata": {},
                    "inputWidgets": {},
                    "nuid": "f8750262-17d3-44a7-b314-f84bd937ab01",
                    "showTitle": false,
                    "title": ""
                }
            },
            "source": "the list has now been update"
        },
        {
            "cell_type": "code",
            "execution_count": 0,
            "metadata": {
                "application/vnd.databricks.v1+cell": {
                    "cellMetadata": {
                        "byteLimit": 2048000,
                        "rowLimit": 10000
                    },
                    "inputWidgets": {},
                    "nuid": "34ba71b4-8ea7-4580-a316-5d63a8d74c4e",
                    "showTitle": false,
                    "title": ""
                }
            },
            "outputs": [
                {
                    "data": {
                        "text/html": "<style scoped>\n  .ansiout {\n    display: block;\n    unicode-bidi: embed;\n    white-space: pre-wrap;\n    word-wrap: break-word;\n    word-break: break-all;\n    font-family: \"Source Code Pro\", \"Menlo\", monospace;;\n    font-size: 13px;\n    color: #555;\n    margin-left: 4px;\n    line-height: 19px;\n  }\n</style>\n<div class=\"ansiout\">Out[22]: [&#39;Falcon 1&#39;, &#39;Falcon 1&#39;, &#39;Falcon 1&#39;, &#39;Falcon 1&#39;, &#39;Falcon 9&#39;]</div>"
                    },
                    "metadata": {
                        "application/vnd.databricks.v1+output": {
                            "addedWidgets": {},
                            "arguments": {},
                            "data": "<div class=\"ansiout\">Out[22]: [&#39;Falcon 1&#39;, &#39;Falcon 1&#39;, &#39;Falcon 1&#39;, &#39;Falcon 1&#39;, &#39;Falcon 9&#39;]</div>",
                            "datasetInfos": [],
                            "metadata": {},
                            "removedWidgets": [],
                            "type": "html"
                        }
                    },
                    "output_type": "display_data"
                }
            ],
            "source": "BoosterVersion[0:5]"
        },
        {
            "cell_type": "markdown",
            "metadata": {
                "application/vnd.databricks.v1+cell": {
                    "cellMetadata": {},
                    "inputWidgets": {},
                    "nuid": "3d93402a-4f2b-46fe-8a4e-2405312a85df",
                    "showTitle": false,
                    "title": ""
                }
            },
            "source": "we can apply the rest of the  functions here:"
        },
        {
            "cell_type": "code",
            "execution_count": 0,
            "metadata": {
                "application/vnd.databricks.v1+cell": {
                    "cellMetadata": {
                        "byteLimit": 2048000,
                        "rowLimit": 10000
                    },
                    "inputWidgets": {},
                    "nuid": "b3fb03d9-e77b-4e8f-a1aa-1dfed430265f",
                    "showTitle": false,
                    "title": ""
                }
            },
            "outputs": [
                {
                    "data": {
                        "text/html": "<style scoped>\n  .ansiout {\n    display: block;\n    unicode-bidi: embed;\n    white-space: pre-wrap;\n    word-wrap: break-word;\n    word-break: break-all;\n    font-family: \"Source Code Pro\", \"Menlo\", monospace;;\n    font-size: 13px;\n    color: #555;\n    margin-left: 4px;\n    line-height: 19px;\n  }\n</style>\n<div class=\"ansiout\"></div>"
                    },
                    "metadata": {
                        "application/vnd.databricks.v1+output": {
                            "addedWidgets": {},
                            "arguments": {},
                            "data": "<div class=\"ansiout\"></div>",
                            "datasetInfos": [],
                            "metadata": {},
                            "removedWidgets": [],
                            "type": "html"
                        }
                    },
                    "output_type": "display_data"
                }
            ],
            "source": "# Call getLaunchSite\ngetLaunchSite(data)"
        },
        {
            "cell_type": "code",
            "execution_count": 0,
            "metadata": {
                "application/vnd.databricks.v1+cell": {
                    "cellMetadata": {
                        "byteLimit": 2048000,
                        "rowLimit": 10000
                    },
                    "inputWidgets": {},
                    "nuid": "89fdad33-fe12-4757-9fa7-67ba2c5c4296",
                    "showTitle": false,
                    "title": ""
                }
            },
            "outputs": [
                {
                    "data": {
                        "text/html": "<style scoped>\n  .ansiout {\n    display: block;\n    unicode-bidi: embed;\n    white-space: pre-wrap;\n    word-wrap: break-word;\n    word-break: break-all;\n    font-family: \"Source Code Pro\", \"Menlo\", monospace;;\n    font-size: 13px;\n    color: #555;\n    margin-left: 4px;\n    line-height: 19px;\n  }\n</style>\n<div class=\"ansiout\"></div>"
                    },
                    "metadata": {
                        "application/vnd.databricks.v1+output": {
                            "addedWidgets": {},
                            "arguments": {},
                            "data": "<div class=\"ansiout\"></div>",
                            "datasetInfos": [],
                            "metadata": {},
                            "removedWidgets": [],
                            "type": "html"
                        }
                    },
                    "output_type": "display_data"
                }
            ],
            "source": "# Call getPayloadData\ngetPayloadData(data)"
        },
        {
            "cell_type": "code",
            "execution_count": 0,
            "metadata": {
                "application/vnd.databricks.v1+cell": {
                    "cellMetadata": {
                        "byteLimit": 2048000,
                        "rowLimit": 10000
                    },
                    "inputWidgets": {},
                    "nuid": "d7f61935-1706-4569-9f69-8791a47337fe",
                    "showTitle": false,
                    "title": ""
                }
            },
            "outputs": [
                {
                    "data": {
                        "text/html": "<style scoped>\n  .ansiout {\n    display: block;\n    unicode-bidi: embed;\n    white-space: pre-wrap;\n    word-wrap: break-word;\n    word-break: break-all;\n    font-family: \"Source Code Pro\", \"Menlo\", monospace;;\n    font-size: 13px;\n    color: #555;\n    margin-left: 4px;\n    line-height: 19px;\n  }\n</style>\n<div class=\"ansiout\"></div>"
                    },
                    "metadata": {
                        "application/vnd.databricks.v1+output": {
                            "addedWidgets": {},
                            "arguments": {},
                            "data": "<div class=\"ansiout\"></div>",
                            "datasetInfos": [],
                            "metadata": {},
                            "removedWidgets": [],
                            "type": "html"
                        }
                    },
                    "output_type": "display_data"
                }
            ],
            "source": "# Call getCoreData\ngetCoreData(data)"
        },
        {
            "cell_type": "markdown",
            "metadata": {
                "application/vnd.databricks.v1+cell": {
                    "cellMetadata": {},
                    "inputWidgets": {},
                    "nuid": "6db1f99b-7704-4fc1-b92b-fb94ac3d8c06",
                    "showTitle": false,
                    "title": ""
                }
            },
            "source": "Finally lets construct our dataset using the data we have obtained. We we combine the columns into a dictionary."
        },
        {
            "cell_type": "code",
            "execution_count": 0,
            "metadata": {
                "application/vnd.databricks.v1+cell": {
                    "cellMetadata": {
                        "byteLimit": 2048000,
                        "rowLimit": 10000
                    },
                    "inputWidgets": {},
                    "nuid": "bb6a0a55-9edf-4bb2-9cc7-3f86063e8b4f",
                    "showTitle": false,
                    "title": ""
                }
            },
            "outputs": [
                {
                    "data": {
                        "text/html": "<style scoped>\n  .ansiout {\n    display: block;\n    unicode-bidi: embed;\n    white-space: pre-wrap;\n    word-wrap: break-word;\n    word-break: break-all;\n    font-family: \"Source Code Pro\", \"Menlo\", monospace;;\n    font-size: 13px;\n    color: #555;\n    margin-left: 4px;\n    line-height: 19px;\n  }\n</style>\n<div class=\"ansiout\"></div>"
                    },
                    "metadata": {
                        "application/vnd.databricks.v1+output": {
                            "addedWidgets": {},
                            "arguments": {},
                            "data": "<div class=\"ansiout\"></div>",
                            "datasetInfos": [],
                            "metadata": {},
                            "removedWidgets": [],
                            "type": "html"
                        }
                    },
                    "output_type": "display_data"
                }
            ],
            "source": "launch_dict = {'FlightNumber': list(data['flight_number']),\n'Date': list(data['date']),\n'BoosterVersion':BoosterVersion,\n'PayloadMass':PayloadMass,\n'Orbit':Orbit,\n'LaunchSite':LaunchSite,\n'Outcome':Outcome,\n'Flights':Flights,\n'GridFins':GridFins,\n'Reused':Reused,\n'Legs':Legs,\n'LandingPad':LandingPad,\n'Block':Block,\n'ReusedCount':ReusedCount,\n'Serial':Serial,\n'Longitude': Longitude,\n'Latitude': Latitude}\n"
        },
        {
            "cell_type": "markdown",
            "metadata": {
                "application/vnd.databricks.v1+cell": {
                    "cellMetadata": {},
                    "inputWidgets": {},
                    "nuid": "43d1bf64-d4f6-4dda-9c86-e8cc826f745b",
                    "showTitle": false,
                    "title": ""
                }
            },
            "source": "Then, we need to create a Pandas data frame from the dictionary launch_dict."
        },
        {
            "cell_type": "code",
            "execution_count": 0,
            "metadata": {
                "application/vnd.databricks.v1+cell": {
                    "cellMetadata": {
                        "byteLimit": 2048000,
                        "rowLimit": 10000
                    },
                    "inputWidgets": {},
                    "nuid": "5a37b933-9bcf-4b2f-9c8d-35809fcaf2c4",
                    "showTitle": false,
                    "title": ""
                }
            },
            "outputs": [
                {
                    "data": {
                        "text/html": "<style scoped>\n  .ansiout {\n    display: block;\n    unicode-bidi: embed;\n    white-space: pre-wrap;\n    word-wrap: break-word;\n    word-break: break-all;\n    font-family: \"Source Code Pro\", \"Menlo\", monospace;;\n    font-size: 13px;\n    color: #555;\n    margin-left: 4px;\n    line-height: 19px;\n  }\n</style>\n<div class=\"ansiout\"></div>"
                    },
                    "metadata": {
                        "application/vnd.databricks.v1+output": {
                            "addedWidgets": {},
                            "arguments": {},
                            "data": "<div class=\"ansiout\"></div>",
                            "datasetInfos": [],
                            "metadata": {},
                            "removedWidgets": [],
                            "type": "html"
                        }
                    },
                    "output_type": "display_data"
                }
            ],
            "source": "# Create a data from launch_dict\ndf = pd.DataFrame(launch_dict)"
        },
        {
            "cell_type": "markdown",
            "metadata": {
                "application/vnd.databricks.v1+cell": {
                    "cellMetadata": {},
                    "inputWidgets": {},
                    "nuid": "8a22894e-102e-439a-91ff-60e85a511cad",
                    "showTitle": false,
                    "title": ""
                }
            },
            "source": "Show the summary of the dataframe"
        },
        {
            "cell_type": "code",
            "execution_count": 0,
            "metadata": {
                "application/vnd.databricks.v1+cell": {
                    "cellMetadata": {
                        "byteLimit": 2048000,
                        "rowLimit": 10000
                    },
                    "inputWidgets": {},
                    "nuid": "d1fa53aa-89af-4a2b-a52c-e4a2cf229438",
                    "showTitle": false,
                    "title": ""
                }
            },
            "outputs": [
                {
                    "data": {
                        "text/html": "<style scoped>\n  .ansiout {\n    display: block;\n    unicode-bidi: embed;\n    white-space: pre-wrap;\n    word-wrap: break-word;\n    word-break: break-all;\n    font-family: \"Source Code Pro\", \"Menlo\", monospace;;\n    font-size: 13px;\n    color: #555;\n    margin-left: 4px;\n    line-height: 19px;\n  }\n</style>\n<div class=\"ansiout\">   FlightNumber        Date BoosterVersion  PayloadMass Orbit  \\\n0             1  2006-03-24       Falcon 1         20.0   LEO   \n1             2  2007-03-21       Falcon 1          NaN   LEO   \n2             4  2008-09-28       Falcon 1        165.0   LEO   \n3             5  2009-07-13       Falcon 1        200.0   LEO   \n4             6  2010-06-04       Falcon 9          NaN   LEO   \n\n        LaunchSite    Outcome  Flights  GridFins  Reused   Legs LandingPad  \\\n0  Kwajalein Atoll  None None        1     False   False  False       None   \n1  Kwajalein Atoll  None None        1     False   False  False       None   \n2  Kwajalein Atoll  None None        1     False   False  False       None   \n3  Kwajalein Atoll  None None        1     False   False  False       None   \n4     CCSFS SLC 40  None None        1     False   False  False       None   \n\n   Block  ReusedCount    Serial   Longitude   Latitude  \n0    NaN            0  Merlin1A  167.743129   9.047721  \n1    NaN            0  Merlin2A  167.743129   9.047721  \n2    NaN            0  Merlin2C  167.743129   9.047721  \n3    NaN            0  Merlin3C  167.743129   9.047721  \n4    1.0            0     B0003  -80.577366  28.561857  \n</div>"
                    },
                    "metadata": {
                        "application/vnd.databricks.v1+output": {
                            "addedWidgets": {},
                            "arguments": {},
                            "data": "<div class=\"ansiout\">   FlightNumber        Date BoosterVersion  PayloadMass Orbit  \\\n0             1  2006-03-24       Falcon 1         20.0   LEO   \n1             2  2007-03-21       Falcon 1          NaN   LEO   \n2             4  2008-09-28       Falcon 1        165.0   LEO   \n3             5  2009-07-13       Falcon 1        200.0   LEO   \n4             6  2010-06-04       Falcon 9          NaN   LEO   \n\n        LaunchSite    Outcome  Flights  GridFins  Reused   Legs LandingPad  \\\n0  Kwajalein Atoll  None None        1     False   False  False       None   \n1  Kwajalein Atoll  None None        1     False   False  False       None   \n2  Kwajalein Atoll  None None        1     False   False  False       None   \n3  Kwajalein Atoll  None None        1     False   False  False       None   \n4     CCSFS SLC 40  None None        1     False   False  False       None   \n\n   Block  ReusedCount    Serial   Longitude   Latitude  \n0    NaN            0  Merlin1A  167.743129   9.047721  \n1    NaN            0  Merlin2A  167.743129   9.047721  \n2    NaN            0  Merlin2C  167.743129   9.047721  \n3    NaN            0  Merlin3C  167.743129   9.047721  \n4    1.0            0     B0003  -80.577366  28.561857  \n</div>",
                            "datasetInfos": [],
                            "metadata": {},
                            "removedWidgets": [],
                            "type": "html"
                        }
                    },
                    "output_type": "display_data"
                }
            ],
            "source": "# Show the head of the dataframe\nprint(df.head())"
        },
        {
            "cell_type": "markdown",
            "metadata": {
                "application/vnd.databricks.v1+cell": {
                    "cellMetadata": {},
                    "inputWidgets": {},
                    "nuid": "f99de66e-96b5-438f-bc19-1bd3dfd76d38",
                    "showTitle": false,
                    "title": ""
                }
            },
            "source": "### Task 2: Filter the dataframe to only include `Falcon 9` launches"
        },
        {
            "cell_type": "markdown",
            "metadata": {
                "application/vnd.databricks.v1+cell": {
                    "cellMetadata": {},
                    "inputWidgets": {},
                    "nuid": "c67bd9e1-22f7-407e-bb27-71f9ebf7d952",
                    "showTitle": false,
                    "title": ""
                }
            },
            "source": "Finally we will remove the Falcon 1 launches keeping only the Falcon 9 launches. Filter the data dataframe using the <code>BoosterVersion</code> column to only keep the Falcon 9 launches. Save the filtered data to a new dataframe called <code>data_falcon9</code>."
        },
        {
            "cell_type": "code",
            "execution_count": 0,
            "metadata": {
                "application/vnd.databricks.v1+cell": {
                    "cellMetadata": {
                        "byteLimit": 2048000,
                        "rowLimit": 10000
                    },
                    "inputWidgets": {},
                    "nuid": "b5194138-66e2-4e48-a6f4-1a2ae315a8f4",
                    "showTitle": false,
                    "title": ""
                }
            },
            "outputs": [
                {
                    "data": {
                        "text/html": "<style scoped>\n  .ansiout {\n    display: block;\n    unicode-bidi: embed;\n    white-space: pre-wrap;\n    word-wrap: break-word;\n    word-break: break-all;\n    font-family: \"Source Code Pro\", \"Menlo\", monospace;;\n    font-size: 13px;\n    color: #555;\n    margin-left: 4px;\n    line-height: 19px;\n  }\n</style>\n<div class=\"ansiout\"></div>"
                    },
                    "metadata": {
                        "application/vnd.databricks.v1+output": {
                            "addedWidgets": {},
                            "arguments": {},
                            "data": "<div class=\"ansiout\"></div>",
                            "datasetInfos": [],
                            "metadata": {},
                            "removedWidgets": [],
                            "type": "html"
                        }
                    },
                    "output_type": "display_data"
                }
            ],
            "source": "# Hint data['BoosterVersion']!='Falcon 1'\ndata_falcon9 = df[df['BoosterVersion'] == 'Falcon 9']"
        },
        {
            "cell_type": "markdown",
            "metadata": {
                "application/vnd.databricks.v1+cell": {
                    "cellMetadata": {},
                    "inputWidgets": {},
                    "nuid": "b420fc03-2ce8-4d39-8249-111f6749763e",
                    "showTitle": false,
                    "title": ""
                }
            },
            "source": "Now that we have removed some values we should reset the FlgihtNumber column"
        },
        {
            "cell_type": "code",
            "execution_count": 0,
            "metadata": {
                "application/vnd.databricks.v1+cell": {
                    "cellMetadata": {
                        "byteLimit": 2048000,
                        "rowLimit": 10000
                    },
                    "inputWidgets": {},
                    "nuid": "ac3183b7-2eef-40d6-9bbc-78f99a1007c0",
                    "showTitle": false,
                    "title": ""
                }
            },
            "outputs": [
                {
                    "data": {
                        "text/html": "<style scoped>\n  .ansiout {\n    display: block;\n    unicode-bidi: embed;\n    white-space: pre-wrap;\n    word-wrap: break-word;\n    word-break: break-all;\n    font-family: \"Source Code Pro\", \"Menlo\", monospace;;\n    font-size: 13px;\n    color: #555;\n    margin-left: 4px;\n    line-height: 19px;\n  }\n</style>\n<div class=\"ansiout\">/databricks/python/lib/python3.8/site-packages/pandas/core/indexing.py:1676: SettingWithCopyWarning: \nA value is trying to be set on a copy of a slice from a DataFrame.\nTry using .loc[row_indexer,col_indexer] = value instead\n\nSee the caveats in the documentation: https://pandas.pydata.org/pandas-docs/stable/user_guide/indexing.html#returning-a-view-versus-a-copy\n  self._setitem_single_column(ilocs[0], value, pi)\nOut[48]: </div>"
                    },
                    "metadata": {
                        "application/vnd.databricks.v1+output": {
                            "addedWidgets": {},
                            "arguments": {},
                            "data": "<div class=\"ansiout\">/databricks/python/lib/python3.8/site-packages/pandas/core/indexing.py:1676: SettingWithCopyWarning: \nA value is trying to be set on a copy of a slice from a DataFrame.\nTry using .loc[row_indexer,col_indexer] = value instead\n\nSee the caveats in the documentation: https://pandas.pydata.org/pandas-docs/stable/user_guide/indexing.html#returning-a-view-versus-a-copy\n  self._setitem_single_column(ilocs[0], value, pi)\nOut[48]: </div>",
                            "datasetInfos": [],
                            "metadata": {},
                            "removedWidgets": [],
                            "type": "html"
                        }
                    },
                    "output_type": "display_data"
                },
                {
                    "data": {
                        "text/html": "<div>\n<style scoped>\n    .dataframe tbody tr th:only-of-type {\n        vertical-align: middle;\n    }\n\n    .dataframe tbody tr th {\n        vertical-align: top;\n    }\n\n    .dataframe thead th {\n        text-align: right;\n    }\n</style>\n<table border=\"1\" class=\"dataframe\">\n  <thead>\n    <tr style=\"text-align: right;\">\n      <th></th>\n      <th>FlightNumber</th>\n      <th>Date</th>\n      <th>BoosterVersion</th>\n      <th>PayloadMass</th>\n      <th>Orbit</th>\n      <th>LaunchSite</th>\n      <th>Outcome</th>\n      <th>Flights</th>\n      <th>GridFins</th>\n      <th>Reused</th>\n      <th>Legs</th>\n      <th>LandingPad</th>\n      <th>Block</th>\n      <th>ReusedCount</th>\n      <th>Serial</th>\n      <th>Longitude</th>\n      <th>Latitude</th>\n    </tr>\n  </thead>\n  <tbody>\n    <tr>\n      <th>4</th>\n      <td>1</td>\n      <td>2010-06-04</td>\n      <td>Falcon 9</td>\n      <td>NaN</td>\n      <td>LEO</td>\n      <td>CCSFS SLC 40</td>\n      <td>None None</td>\n      <td>1</td>\n      <td>False</td>\n      <td>False</td>\n      <td>False</td>\n      <td>None</td>\n      <td>1.0</td>\n      <td>0</td>\n      <td>B0003</td>\n      <td>-80.577366</td>\n      <td>28.561857</td>\n    </tr>\n    <tr>\n      <th>5</th>\n      <td>2</td>\n      <td>2012-05-22</td>\n      <td>Falcon 9</td>\n      <td>525.0</td>\n      <td>LEO</td>\n      <td>CCSFS SLC 40</td>\n      <td>None None</td>\n      <td>1</td>\n      <td>False</td>\n      <td>False</td>\n      <td>False</td>\n      <td>None</td>\n      <td>1.0</td>\n      <td>0</td>\n      <td>B0005</td>\n      <td>-80.577366</td>\n      <td>28.561857</td>\n    </tr>\n    <tr>\n      <th>6</th>\n      <td>3</td>\n      <td>2013-03-01</td>\n      <td>Falcon 9</td>\n      <td>677.0</td>\n      <td>ISS</td>\n      <td>CCSFS SLC 40</td>\n      <td>None None</td>\n      <td>1</td>\n      <td>False</td>\n      <td>False</td>\n      <td>False</td>\n      <td>None</td>\n      <td>1.0</td>\n      <td>0</td>\n      <td>B0007</td>\n      <td>-80.577366</td>\n      <td>28.561857</td>\n    </tr>\n    <tr>\n      <th>7</th>\n      <td>4</td>\n      <td>2013-09-29</td>\n      <td>Falcon 9</td>\n      <td>500.0</td>\n      <td>PO</td>\n      <td>VAFB SLC 4E</td>\n      <td>False Ocean</td>\n      <td>1</td>\n      <td>False</td>\n      <td>False</td>\n      <td>False</td>\n      <td>None</td>\n      <td>1.0</td>\n      <td>0</td>\n      <td>B1003</td>\n      <td>-120.610829</td>\n      <td>34.632093</td>\n    </tr>\n    <tr>\n      <th>8</th>\n      <td>5</td>\n      <td>2013-12-03</td>\n      <td>Falcon 9</td>\n      <td>3170.0</td>\n      <td>GTO</td>\n      <td>CCSFS SLC 40</td>\n      <td>None None</td>\n      <td>1</td>\n      <td>False</td>\n      <td>False</td>\n      <td>False</td>\n      <td>None</td>\n      <td>1.0</td>\n      <td>0</td>\n      <td>B1004</td>\n      <td>-80.577366</td>\n      <td>28.561857</td>\n    </tr>\n    <tr>\n      <th>...</th>\n      <td>...</td>\n      <td>...</td>\n      <td>...</td>\n      <td>...</td>\n      <td>...</td>\n      <td>...</td>\n      <td>...</td>\n      <td>...</td>\n      <td>...</td>\n      <td>...</td>\n      <td>...</td>\n      <td>...</td>\n      <td>...</td>\n      <td>...</td>\n      <td>...</td>\n      <td>...</td>\n      <td>...</td>\n    </tr>\n    <tr>\n      <th>89</th>\n      <td>86</td>\n      <td>2020-09-03</td>\n      <td>Falcon 9</td>\n      <td>15600.0</td>\n      <td>VLEO</td>\n      <td>KSC LC 39A</td>\n      <td>True ASDS</td>\n      <td>2</td>\n      <td>True</td>\n      <td>True</td>\n      <td>True</td>\n      <td>5e9e3032383ecb6bb234e7ca</td>\n      <td>5.0</td>\n      <td>12</td>\n      <td>B1060</td>\n      <td>-80.603956</td>\n      <td>28.608058</td>\n    </tr>\n    <tr>\n      <th>90</th>\n      <td>87</td>\n      <td>2020-10-06</td>\n      <td>Falcon 9</td>\n      <td>15600.0</td>\n      <td>VLEO</td>\n      <td>KSC LC 39A</td>\n      <td>True ASDS</td>\n      <td>3</td>\n      <td>True</td>\n      <td>True</td>\n      <td>True</td>\n      <td>5e9e3032383ecb6bb234e7ca</td>\n      <td>5.0</td>\n      <td>13</td>\n      <td>B1058</td>\n      <td>-80.603956</td>\n      <td>28.608058</td>\n    </tr>\n    <tr>\n      <th>91</th>\n      <td>88</td>\n      <td>2020-10-18</td>\n      <td>Falcon 9</td>\n      <td>15600.0</td>\n      <td>VLEO</td>\n      <td>KSC LC 39A</td>\n      <td>True ASDS</td>\n      <td>6</td>\n      <td>True</td>\n      <td>True</td>\n      <td>True</td>\n      <td>5e9e3032383ecb6bb234e7ca</td>\n      <td>5.0</td>\n      <td>12</td>\n      <td>B1051</td>\n      <td>-80.603956</td>\n      <td>28.608058</td>\n    </tr>\n    <tr>\n      <th>92</th>\n      <td>89</td>\n      <td>2020-10-24</td>\n      <td>Falcon 9</td>\n      <td>15600.0</td>\n      <td>VLEO</td>\n      <td>CCSFS SLC 40</td>\n      <td>True ASDS</td>\n      <td>3</td>\n      <td>True</td>\n      <td>True</td>\n      <td>True</td>\n      <td>5e9e3033383ecbb9e534e7cc</td>\n      <td>5.0</td>\n      <td>12</td>\n      <td>B1060</td>\n      <td>-80.577366</td>\n      <td>28.561857</td>\n    </tr>\n    <tr>\n      <th>93</th>\n      <td>90</td>\n      <td>2020-11-05</td>\n      <td>Falcon 9</td>\n      <td>3681.0</td>\n      <td>MEO</td>\n      <td>CCSFS SLC 40</td>\n      <td>True ASDS</td>\n      <td>1</td>\n      <td>True</td>\n      <td>False</td>\n      <td>True</td>\n      <td>5e9e3032383ecb6bb234e7ca</td>\n      <td>5.0</td>\n      <td>8</td>\n      <td>B1062</td>\n      <td>-80.577366</td>\n      <td>28.561857</td>\n    </tr>\n  </tbody>\n</table>\n<p>90 rows \u00d7 17 columns</p>\n</div>"
                    },
                    "metadata": {
                        "application/vnd.databricks.v1+output": {
                            "addedWidgets": {},
                            "arguments": {},
                            "data": "<div>\n<style scoped>\n    .dataframe tbody tr th:only-of-type {\n        vertical-align: middle;\n    }\n\n    .dataframe tbody tr th {\n        vertical-align: top;\n    }\n\n    .dataframe thead th {\n        text-align: right;\n    }\n</style>\n<table border=\"1\" class=\"dataframe\">\n  <thead>\n    <tr style=\"text-align: right;\">\n      <th></th>\n      <th>FlightNumber</th>\n      <th>Date</th>\n      <th>BoosterVersion</th>\n      <th>PayloadMass</th>\n      <th>Orbit</th>\n      <th>LaunchSite</th>\n      <th>Outcome</th>\n      <th>Flights</th>\n      <th>GridFins</th>\n      <th>Reused</th>\n      <th>Legs</th>\n      <th>LandingPad</th>\n      <th>Block</th>\n      <th>ReusedCount</th>\n      <th>Serial</th>\n      <th>Longitude</th>\n      <th>Latitude</th>\n    </tr>\n  </thead>\n  <tbody>\n    <tr>\n      <th>4</th>\n      <td>1</td>\n      <td>2010-06-04</td>\n      <td>Falcon 9</td>\n      <td>NaN</td>\n      <td>LEO</td>\n      <td>CCSFS SLC 40</td>\n      <td>None None</td>\n      <td>1</td>\n      <td>False</td>\n      <td>False</td>\n      <td>False</td>\n      <td>None</td>\n      <td>1.0</td>\n      <td>0</td>\n      <td>B0003</td>\n      <td>-80.577366</td>\n      <td>28.561857</td>\n    </tr>\n    <tr>\n      <th>5</th>\n      <td>2</td>\n      <td>2012-05-22</td>\n      <td>Falcon 9</td>\n      <td>525.0</td>\n      <td>LEO</td>\n      <td>CCSFS SLC 40</td>\n      <td>None None</td>\n      <td>1</td>\n      <td>False</td>\n      <td>False</td>\n      <td>False</td>\n      <td>None</td>\n      <td>1.0</td>\n      <td>0</td>\n      <td>B0005</td>\n      <td>-80.577366</td>\n      <td>28.561857</td>\n    </tr>\n    <tr>\n      <th>6</th>\n      <td>3</td>\n      <td>2013-03-01</td>\n      <td>Falcon 9</td>\n      <td>677.0</td>\n      <td>ISS</td>\n      <td>CCSFS SLC 40</td>\n      <td>None None</td>\n      <td>1</td>\n      <td>False</td>\n      <td>False</td>\n      <td>False</td>\n      <td>None</td>\n      <td>1.0</td>\n      <td>0</td>\n      <td>B0007</td>\n      <td>-80.577366</td>\n      <td>28.561857</td>\n    </tr>\n    <tr>\n      <th>7</th>\n      <td>4</td>\n      <td>2013-09-29</td>\n      <td>Falcon 9</td>\n      <td>500.0</td>\n      <td>PO</td>\n      <td>VAFB SLC 4E</td>\n      <td>False Ocean</td>\n      <td>1</td>\n      <td>False</td>\n      <td>False</td>\n      <td>False</td>\n      <td>None</td>\n      <td>1.0</td>\n      <td>0</td>\n      <td>B1003</td>\n      <td>-120.610829</td>\n      <td>34.632093</td>\n    </tr>\n    <tr>\n      <th>8</th>\n      <td>5</td>\n      <td>2013-12-03</td>\n      <td>Falcon 9</td>\n      <td>3170.0</td>\n      <td>GTO</td>\n      <td>CCSFS SLC 40</td>\n      <td>None None</td>\n      <td>1</td>\n      <td>False</td>\n      <td>False</td>\n      <td>False</td>\n      <td>None</td>\n      <td>1.0</td>\n      <td>0</td>\n      <td>B1004</td>\n      <td>-80.577366</td>\n      <td>28.561857</td>\n    </tr>\n    <tr>\n      <th>...</th>\n      <td>...</td>\n      <td>...</td>\n      <td>...</td>\n      <td>...</td>\n      <td>...</td>\n      <td>...</td>\n      <td>...</td>\n      <td>...</td>\n      <td>...</td>\n      <td>...</td>\n      <td>...</td>\n      <td>...</td>\n      <td>...</td>\n      <td>...</td>\n      <td>...</td>\n      <td>...</td>\n      <td>...</td>\n    </tr>\n    <tr>\n      <th>89</th>\n      <td>86</td>\n      <td>2020-09-03</td>\n      <td>Falcon 9</td>\n      <td>15600.0</td>\n      <td>VLEO</td>\n      <td>KSC LC 39A</td>\n      <td>True ASDS</td>\n      <td>2</td>\n      <td>True</td>\n      <td>True</td>\n      <td>True</td>\n      <td>5e9e3032383ecb6bb234e7ca</td>\n      <td>5.0</td>\n      <td>12</td>\n      <td>B1060</td>\n      <td>-80.603956</td>\n      <td>28.608058</td>\n    </tr>\n    <tr>\n      <th>90</th>\n      <td>87</td>\n      <td>2020-10-06</td>\n      <td>Falcon 9</td>\n      <td>15600.0</td>\n      <td>VLEO</td>\n      <td>KSC LC 39A</td>\n      <td>True ASDS</td>\n      <td>3</td>\n      <td>True</td>\n      <td>True</td>\n      <td>True</td>\n      <td>5e9e3032383ecb6bb234e7ca</td>\n      <td>5.0</td>\n      <td>13</td>\n      <td>B1058</td>\n      <td>-80.603956</td>\n      <td>28.608058</td>\n    </tr>\n    <tr>\n      <th>91</th>\n      <td>88</td>\n      <td>2020-10-18</td>\n      <td>Falcon 9</td>\n      <td>15600.0</td>\n      <td>VLEO</td>\n      <td>KSC LC 39A</td>\n      <td>True ASDS</td>\n      <td>6</td>\n      <td>True</td>\n      <td>True</td>\n      <td>True</td>\n      <td>5e9e3032383ecb6bb234e7ca</td>\n      <td>5.0</td>\n      <td>12</td>\n      <td>B1051</td>\n      <td>-80.603956</td>\n      <td>28.608058</td>\n    </tr>\n    <tr>\n      <th>92</th>\n      <td>89</td>\n      <td>2020-10-24</td>\n      <td>Falcon 9</td>\n      <td>15600.0</td>\n      <td>VLEO</td>\n      <td>CCSFS SLC 40</td>\n      <td>True ASDS</td>\n      <td>3</td>\n      <td>True</td>\n      <td>True</td>\n      <td>True</td>\n      <td>5e9e3033383ecbb9e534e7cc</td>\n      <td>5.0</td>\n      <td>12</td>\n      <td>B1060</td>\n      <td>-80.577366</td>\n      <td>28.561857</td>\n    </tr>\n    <tr>\n      <th>93</th>\n      <td>90</td>\n      <td>2020-11-05</td>\n      <td>Falcon 9</td>\n      <td>3681.0</td>\n      <td>MEO</td>\n      <td>CCSFS SLC 40</td>\n      <td>True ASDS</td>\n      <td>1</td>\n      <td>True</td>\n      <td>False</td>\n      <td>True</td>\n      <td>5e9e3032383ecb6bb234e7ca</td>\n      <td>5.0</td>\n      <td>8</td>\n      <td>B1062</td>\n      <td>-80.577366</td>\n      <td>28.561857</td>\n    </tr>\n  </tbody>\n</table>\n<p>90 rows \u00d7 17 columns</p>\n</div>",
                            "datasetInfos": [],
                            "metadata": {},
                            "removedWidgets": [],
                            "textData": null,
                            "type": "htmlSandbox"
                        }
                    },
                    "output_type": "display_data"
                }
            ],
            "source": "data_falcon9.loc[:,'FlightNumber'] = list(range(1, data_falcon9.shape[0]+1))\ndata_falcon9"
        },
        {
            "cell_type": "markdown",
            "metadata": {
                "application/vnd.databricks.v1+cell": {
                    "cellMetadata": {},
                    "inputWidgets": {},
                    "nuid": "3f944b89-64a2-41fc-8c1e-35f4769a81f4",
                    "showTitle": false,
                    "title": ""
                }
            },
            "source": "## Data Wrangling"
        },
        {
            "cell_type": "markdown",
            "metadata": {
                "application/vnd.databricks.v1+cell": {
                    "cellMetadata": {},
                    "inputWidgets": {},
                    "nuid": "1e7df768-8839-4cd9-862f-048b87424213",
                    "showTitle": false,
                    "title": ""
                }
            },
            "source": "We can see below that some of the rows are missing values in our dataset."
        },
        {
            "cell_type": "code",
            "execution_count": 0,
            "metadata": {
                "application/vnd.databricks.v1+cell": {
                    "cellMetadata": {
                        "byteLimit": 2048000,
                        "rowLimit": 10000
                    },
                    "inputWidgets": {},
                    "nuid": "3ca4e1b4-9b6d-4c31-ae83-ba7791421c4e",
                    "showTitle": false,
                    "title": ""
                }
            },
            "outputs": [
                {
                    "data": {
                        "text/html": "<style scoped>\n  .ansiout {\n    display: block;\n    unicode-bidi: embed;\n    white-space: pre-wrap;\n    word-wrap: break-word;\n    word-break: break-all;\n    font-family: \"Source Code Pro\", \"Menlo\", monospace;;\n    font-size: 13px;\n    color: #555;\n    margin-left: 4px;\n    line-height: 19px;\n  }\n</style>\n<div class=\"ansiout\">Out[49]: FlightNumber       0\nDate               0\nBoosterVersion     0\nPayloadMass        5\nOrbit              0\nLaunchSite         0\nOutcome            0\nFlights            0\nGridFins           0\nReused             0\nLegs               0\nLandingPad        26\nBlock              0\nReusedCount        0\nSerial             0\nLongitude          0\nLatitude           0\ndtype: int64</div>"
                    },
                    "metadata": {
                        "application/vnd.databricks.v1+output": {
                            "addedWidgets": {},
                            "arguments": {},
                            "data": "<div class=\"ansiout\">Out[49]: FlightNumber       0\nDate               0\nBoosterVersion     0\nPayloadMass        5\nOrbit              0\nLaunchSite         0\nOutcome            0\nFlights            0\nGridFins           0\nReused             0\nLegs               0\nLandingPad        26\nBlock              0\nReusedCount        0\nSerial             0\nLongitude          0\nLatitude           0\ndtype: int64</div>",
                            "datasetInfos": [],
                            "metadata": {},
                            "removedWidgets": [],
                            "type": "html"
                        }
                    },
                    "output_type": "display_data"
                }
            ],
            "source": "data_falcon9.isnull().sum()"
        },
        {
            "cell_type": "markdown",
            "metadata": {
                "application/vnd.databricks.v1+cell": {
                    "cellMetadata": {},
                    "inputWidgets": {},
                    "nuid": "0ff3bb41-e147-48ab-bb98-b3de44903041",
                    "showTitle": false,
                    "title": ""
                }
            },
            "source": "Before we can continue we must deal with these missing values. The <code>LandingPad</code> column will retain None values to represent when landing pads were not used."
        },
        {
            "cell_type": "code",
            "execution_count": 0,
            "metadata": {
                "application/vnd.databricks.v1+cell": {
                    "cellMetadata": {
                        "byteLimit": 2048000,
                        "rowLimit": 10000
                    },
                    "inputWidgets": {},
                    "nuid": "8cb5c1c2-90f0-422a-ae4b-1c4504fdaaff",
                    "showTitle": false,
                    "title": ""
                }
            },
            "outputs": [
                {
                    "data": {
                        "text/html": "<style scoped>\n  .ansiout {\n    display: block;\n    unicode-bidi: embed;\n    white-space: pre-wrap;\n    word-wrap: break-word;\n    word-break: break-all;\n    font-family: \"Source Code Pro\", \"Menlo\", monospace;;\n    font-size: 13px;\n    color: #555;\n    margin-left: 4px;\n    line-height: 19px;\n  }\n</style>\n<div class=\"ansiout\"></div>"
                    },
                    "metadata": {
                        "application/vnd.databricks.v1+output": {
                            "addedWidgets": {},
                            "arguments": {},
                            "data": "<div class=\"ansiout\"></div>",
                            "datasetInfos": [],
                            "metadata": {},
                            "removedWidgets": [],
                            "type": "html"
                        }
                    },
                    "output_type": "display_data"
                },
                {
                    "data": {
                        "text/html": "<style scoped>\n  .ansiout {\n    display: block;\n    unicode-bidi: embed;\n    white-space: pre-wrap;\n    word-wrap: break-word;\n    word-break: break-all;\n    font-family: \"Source Code Pro\", \"Menlo\", monospace;;\n    font-size: 13px;\n    color: #555;\n    margin-left: 4px;\n    line-height: 19px;\n  }\n</style>\n<div class=\"ansiout\"><span class=\"ansi-red-fg\">---------------------------------------------------------------------------</span>\n<span class=\"ansi-red-fg\">KeyError</span>                                  Traceback (most recent call last)\n<span class=\"ansi-green-fg\">&lt;command-787236703488106&gt;</span> in <span class=\"ansi-cyan-fg\">&lt;module&gt;</span>\n<span class=\"ansi-green-fg\">----&gt; 1</span><span class=\"ansi-red-fg\"> </span>data_falcon9<span class=\"ansi-blue-fg\">[</span><span class=\"ansi-blue-fg\">&#39;LandingPad&#39;</span><span class=\"ansi-blue-fg\">]</span><span class=\"ansi-blue-fg\">.</span>isnull<span class=\"ansi-blue-fg\">(</span><span class=\"ansi-blue-fg\">)</span><span class=\"ansi-blue-fg\">.</span>sum<span class=\"ansi-blue-fg\">(</span><span class=\"ansi-blue-fg\">)</span>\n\n<span class=\"ansi-green-fg\">/databricks/python/lib/python3.8/site-packages/pandas/core/series.py</span> in <span class=\"ansi-cyan-fg\">__getitem__</span><span class=\"ansi-blue-fg\">(self, key)</span>\n<span class=\"ansi-green-intense-fg ansi-bold\">    851</span> \n<span class=\"ansi-green-intense-fg ansi-bold\">    852</span>         <span class=\"ansi-green-fg\">elif</span> key_is_scalar<span class=\"ansi-blue-fg\">:</span>\n<span class=\"ansi-green-fg\">--&gt; 853</span><span class=\"ansi-red-fg\">             </span><span class=\"ansi-green-fg\">return</span> self<span class=\"ansi-blue-fg\">.</span>_get_value<span class=\"ansi-blue-fg\">(</span>key<span class=\"ansi-blue-fg\">)</span>\n<span class=\"ansi-green-intense-fg ansi-bold\">    854</span> \n<span class=\"ansi-green-intense-fg ansi-bold\">    855</span>         <span class=\"ansi-green-fg\">if</span> is_hashable<span class=\"ansi-blue-fg\">(</span>key<span class=\"ansi-blue-fg\">)</span><span class=\"ansi-blue-fg\">:</span>\n\n<span class=\"ansi-green-fg\">/databricks/python/lib/python3.8/site-packages/pandas/core/series.py</span> in <span class=\"ansi-cyan-fg\">_get_value</span><span class=\"ansi-blue-fg\">(self, label, takeable)</span>\n<span class=\"ansi-green-intense-fg ansi-bold\">    959</span> \n<span class=\"ansi-green-intense-fg ansi-bold\">    960</span>         <span class=\"ansi-red-fg\"># Similar to Index.get_value, but we do not fall back to positional</span>\n<span class=\"ansi-green-fg\">--&gt; 961</span><span class=\"ansi-red-fg\">         </span>loc <span class=\"ansi-blue-fg\">=</span> self<span class=\"ansi-blue-fg\">.</span>index<span class=\"ansi-blue-fg\">.</span>get_loc<span class=\"ansi-blue-fg\">(</span>label<span class=\"ansi-blue-fg\">)</span>\n<span class=\"ansi-green-intense-fg ansi-bold\">    962</span>         <span class=\"ansi-green-fg\">return</span> self<span class=\"ansi-blue-fg\">.</span>index<span class=\"ansi-blue-fg\">.</span>_get_values_for_loc<span class=\"ansi-blue-fg\">(</span>self<span class=\"ansi-blue-fg\">,</span> loc<span class=\"ansi-blue-fg\">,</span> label<span class=\"ansi-blue-fg\">)</span>\n<span class=\"ansi-green-intense-fg ansi-bold\">    963</span> \n\n<span class=\"ansi-green-fg\">/databricks/python/lib/python3.8/site-packages/pandas/core/indexes/range.py</span> in <span class=\"ansi-cyan-fg\">get_loc</span><span class=\"ansi-blue-fg\">(self, key, method, tolerance)</span>\n<span class=\"ansi-green-intense-fg ansi-bold\">    352</span>                 <span class=\"ansi-green-fg\">except</span> ValueError <span class=\"ansi-green-fg\">as</span> err<span class=\"ansi-blue-fg\">:</span>\n<span class=\"ansi-green-intense-fg ansi-bold\">    353</span>                     <span class=\"ansi-green-fg\">raise</span> KeyError<span class=\"ansi-blue-fg\">(</span>key<span class=\"ansi-blue-fg\">)</span> <span class=\"ansi-green-fg\">from</span> err\n<span class=\"ansi-green-fg\">--&gt; 354</span><span class=\"ansi-red-fg\">             </span><span class=\"ansi-green-fg\">raise</span> KeyError<span class=\"ansi-blue-fg\">(</span>key<span class=\"ansi-blue-fg\">)</span>\n<span class=\"ansi-green-intense-fg ansi-bold\">    355</span>         <span class=\"ansi-green-fg\">return</span> super<span class=\"ansi-blue-fg\">(</span><span class=\"ansi-blue-fg\">)</span><span class=\"ansi-blue-fg\">.</span>get_loc<span class=\"ansi-blue-fg\">(</span>key<span class=\"ansi-blue-fg\">,</span> method<span class=\"ansi-blue-fg\">=</span>method<span class=\"ansi-blue-fg\">,</span> tolerance<span class=\"ansi-blue-fg\">=</span>tolerance<span class=\"ansi-blue-fg\">)</span>\n<span class=\"ansi-green-intense-fg ansi-bold\">    356</span> \n\n<span class=\"ansi-red-fg\">KeyError</span>: &#39;LandingPad&#39;</div>"
                    },
                    "metadata": {
                        "application/vnd.databricks.v1+output": {
                            "arguments": {},
                            "data": "<div class=\"ansiout\"><span class=\"ansi-red-fg\">---------------------------------------------------------------------------</span>\n<span class=\"ansi-red-fg\">KeyError</span>                                  Traceback (most recent call last)\n<span class=\"ansi-green-fg\">&lt;command-787236703488106&gt;</span> in <span class=\"ansi-cyan-fg\">&lt;module&gt;</span>\n<span class=\"ansi-green-fg\">----&gt; 1</span><span class=\"ansi-red-fg\"> </span>data_falcon9<span class=\"ansi-blue-fg\">[</span><span class=\"ansi-blue-fg\">&#39;LandingPad&#39;</span><span class=\"ansi-blue-fg\">]</span><span class=\"ansi-blue-fg\">.</span>isnull<span class=\"ansi-blue-fg\">(</span><span class=\"ansi-blue-fg\">)</span><span class=\"ansi-blue-fg\">.</span>sum<span class=\"ansi-blue-fg\">(</span><span class=\"ansi-blue-fg\">)</span>\n\n<span class=\"ansi-green-fg\">/databricks/python/lib/python3.8/site-packages/pandas/core/series.py</span> in <span class=\"ansi-cyan-fg\">__getitem__</span><span class=\"ansi-blue-fg\">(self, key)</span>\n<span class=\"ansi-green-intense-fg ansi-bold\">    851</span> \n<span class=\"ansi-green-intense-fg ansi-bold\">    852</span>         <span class=\"ansi-green-fg\">elif</span> key_is_scalar<span class=\"ansi-blue-fg\">:</span>\n<span class=\"ansi-green-fg\">--&gt; 853</span><span class=\"ansi-red-fg\">             </span><span class=\"ansi-green-fg\">return</span> self<span class=\"ansi-blue-fg\">.</span>_get_value<span class=\"ansi-blue-fg\">(</span>key<span class=\"ansi-blue-fg\">)</span>\n<span class=\"ansi-green-intense-fg ansi-bold\">    854</span> \n<span class=\"ansi-green-intense-fg ansi-bold\">    855</span>         <span class=\"ansi-green-fg\">if</span> is_hashable<span class=\"ansi-blue-fg\">(</span>key<span class=\"ansi-blue-fg\">)</span><span class=\"ansi-blue-fg\">:</span>\n\n<span class=\"ansi-green-fg\">/databricks/python/lib/python3.8/site-packages/pandas/core/series.py</span> in <span class=\"ansi-cyan-fg\">_get_value</span><span class=\"ansi-blue-fg\">(self, label, takeable)</span>\n<span class=\"ansi-green-intense-fg ansi-bold\">    959</span> \n<span class=\"ansi-green-intense-fg ansi-bold\">    960</span>         <span class=\"ansi-red-fg\"># Similar to Index.get_value, but we do not fall back to positional</span>\n<span class=\"ansi-green-fg\">--&gt; 961</span><span class=\"ansi-red-fg\">         </span>loc <span class=\"ansi-blue-fg\">=</span> self<span class=\"ansi-blue-fg\">.</span>index<span class=\"ansi-blue-fg\">.</span>get_loc<span class=\"ansi-blue-fg\">(</span>label<span class=\"ansi-blue-fg\">)</span>\n<span class=\"ansi-green-intense-fg ansi-bold\">    962</span>         <span class=\"ansi-green-fg\">return</span> self<span class=\"ansi-blue-fg\">.</span>index<span class=\"ansi-blue-fg\">.</span>_get_values_for_loc<span class=\"ansi-blue-fg\">(</span>self<span class=\"ansi-blue-fg\">,</span> loc<span class=\"ansi-blue-fg\">,</span> label<span class=\"ansi-blue-fg\">)</span>\n<span class=\"ansi-green-intense-fg ansi-bold\">    963</span> \n\n<span class=\"ansi-green-fg\">/databricks/python/lib/python3.8/site-packages/pandas/core/indexes/range.py</span> in <span class=\"ansi-cyan-fg\">get_loc</span><span class=\"ansi-blue-fg\">(self, key, method, tolerance)</span>\n<span class=\"ansi-green-intense-fg ansi-bold\">    352</span>                 <span class=\"ansi-green-fg\">except</span> ValueError <span class=\"ansi-green-fg\">as</span> err<span class=\"ansi-blue-fg\">:</span>\n<span class=\"ansi-green-intense-fg ansi-bold\">    353</span>                     <span class=\"ansi-green-fg\">raise</span> KeyError<span class=\"ansi-blue-fg\">(</span>key<span class=\"ansi-blue-fg\">)</span> <span class=\"ansi-green-fg\">from</span> err\n<span class=\"ansi-green-fg\">--&gt; 354</span><span class=\"ansi-red-fg\">             </span><span class=\"ansi-green-fg\">raise</span> KeyError<span class=\"ansi-blue-fg\">(</span>key<span class=\"ansi-blue-fg\">)</span>\n<span class=\"ansi-green-intense-fg ansi-bold\">    355</span>         <span class=\"ansi-green-fg\">return</span> super<span class=\"ansi-blue-fg\">(</span><span class=\"ansi-blue-fg\">)</span><span class=\"ansi-blue-fg\">.</span>get_loc<span class=\"ansi-blue-fg\">(</span>key<span class=\"ansi-blue-fg\">,</span> method<span class=\"ansi-blue-fg\">=</span>method<span class=\"ansi-blue-fg\">,</span> tolerance<span class=\"ansi-blue-fg\">=</span>tolerance<span class=\"ansi-blue-fg\">)</span>\n<span class=\"ansi-green-intense-fg ansi-bold\">    356</span> \n\n<span class=\"ansi-red-fg\">KeyError</span>: &#39;LandingPad&#39;</div>",
                            "errorSummary": "<span class=\"ansi-red-fg\">KeyError</span>: &#39;LandingPad&#39;",
                            "errorTraceType": "html",
                            "metadata": {},
                            "type": "ipynbError"
                        }
                    },
                    "output_type": "display_data"
                }
            ],
            "source": "data_falcon9['LandingPad'].isnull().sum()"
        },
        {
            "cell_type": "markdown",
            "metadata": {
                "application/vnd.databricks.v1+cell": {
                    "cellMetadata": {},
                    "inputWidgets": {},
                    "nuid": "46957362-c63c-4ed1-a057-2a787c6824d2",
                    "showTitle": false,
                    "title": ""
                }
            },
            "source": "### Task 3: Dealing with Missing Values"
        },
        {
            "cell_type": "markdown",
            "metadata": {
                "application/vnd.databricks.v1+cell": {
                    "cellMetadata": {},
                    "inputWidgets": {},
                    "nuid": "e0604f6a-d2fb-46f6-b23c-9036b2f67db5",
                    "showTitle": false,
                    "title": ""
                }
            },
            "source": "Calculate below the mean for the <code>PayloadMass</code> using the <code>.mean()</code>. Then use the mean and the <code>.replace()</code> function to replace `np.nan` values in the data with the mean you calculated."
        },
        {
            "cell_type": "code",
            "execution_count": 0,
            "metadata": {
                "application/vnd.databricks.v1+cell": {
                    "cellMetadata": {
                        "byteLimit": 2048000,
                        "rowLimit": 10000
                    },
                    "inputWidgets": {},
                    "nuid": "c9048985-e90b-47bd-96d7-81f9a9a313e0",
                    "showTitle": false,
                    "title": ""
                }
            },
            "outputs": [
                {
                    "data": {
                        "text/html": "<style scoped>\n  .ansiout {\n    display: block;\n    unicode-bidi: embed;\n    white-space: pre-wrap;\n    word-wrap: break-word;\n    word-break: break-all;\n    font-family: \"Source Code Pro\", \"Menlo\", monospace;;\n    font-size: 13px;\n    color: #555;\n    margin-left: 4px;\n    line-height: 19px;\n  }\n</style>\n<div class=\"ansiout\"></div>"
                    },
                    "metadata": {
                        "application/vnd.databricks.v1+output": {
                            "addedWidgets": {},
                            "arguments": {},
                            "data": "<div class=\"ansiout\"></div>",
                            "datasetInfos": [],
                            "metadata": {},
                            "removedWidgets": [],
                            "type": "html"
                        }
                    },
                    "output_type": "display_data"
                }
            ],
            "source": "# Calculate the mean value of PayloadMass column\nm = df.PayloadMass.mean()\n# Replace the np.nan values with its mean value"
        },
        {
            "cell_type": "markdown",
            "metadata": {
                "application/vnd.databricks.v1+cell": {
                    "cellMetadata": {},
                    "inputWidgets": {},
                    "nuid": "961c5a10-ddbd-4f8a-9c2e-fccf09170ffb",
                    "showTitle": false,
                    "title": ""
                }
            },
            "source": "You should see the number of missing values of the <code>PayLoadMass</code> change to zero."
        },
        {
            "cell_type": "markdown",
            "metadata": {
                "application/vnd.databricks.v1+cell": {
                    "cellMetadata": {},
                    "inputWidgets": {},
                    "nuid": "a63d47f8-b17f-446c-a9a4-4c111a6a00f7",
                    "showTitle": false,
                    "title": ""
                }
            },
            "source": "Now we should have no missing values in our dataset except for in <code>LandingPad</code>."
        },
        {
            "cell_type": "markdown",
            "metadata": {
                "application/vnd.databricks.v1+cell": {
                    "cellMetadata": {},
                    "inputWidgets": {},
                    "nuid": "fd2f6ab1-3ed7-47b1-8718-cff808c78fb4",
                    "showTitle": false,
                    "title": ""
                }
            },
            "source": "We can now export it to a <b>CSV</b> for the next section,but to make the answers consistent, in the next lab we will provide data in a pre-selected date range."
        },
        {
            "cell_type": "markdown",
            "metadata": {
                "application/vnd.databricks.v1+cell": {
                    "cellMetadata": {},
                    "inputWidgets": {},
                    "nuid": "2e885fcd-935e-4118-841a-f5db111b85be",
                    "showTitle": false,
                    "title": ""
                }
            },
            "source": "<code>data_falcon9.to_csv('dataset_part_1.csv', index=False)</code>"
        },
        {
            "cell_type": "markdown",
            "metadata": {
                "application/vnd.databricks.v1+cell": {
                    "cellMetadata": {},
                    "inputWidgets": {},
                    "nuid": "56f93812-0c5e-44df-bb10-9a8bb75a2833",
                    "showTitle": false,
                    "title": ""
                }
            },
            "source": "## Authors"
        },
        {
            "cell_type": "markdown",
            "metadata": {
                "application/vnd.databricks.v1+cell": {
                    "cellMetadata": {},
                    "inputWidgets": {},
                    "nuid": "f6714d66-5abf-49a5-afa9-42b9c6444bbe",
                    "showTitle": false,
                    "title": ""
                }
            },
            "source": "<a href=\"https://www.linkedin.com/in/joseph-s-50398b136/?utm_medium=Exinfluencer&utm_source=Exinfluencer&utm_content=000026UJ&utm_term=10006555&utm_id=NA-SkillsNetwork-Channel-SkillsNetworkCoursesIBMDS0321ENSkillsNetwork865-2022-01-01\">Joseph Santarcangelo</a> has a PhD in Electrical Engineering, his research focused on using machine learning, signal processing, and computer vision to determine how videos impact human cognition. Joseph has been working for IBM since he completed his PhD."
        },
        {
            "cell_type": "markdown",
            "metadata": {
                "application/vnd.databricks.v1+cell": {
                    "cellMetadata": {},
                    "inputWidgets": {},
                    "nuid": "777c1f8b-6072-486c-adda-c8ca1257758d",
                    "showTitle": false,
                    "title": ""
                }
            },
            "source": "## Change Log"
        },
        {
            "cell_type": "markdown",
            "metadata": {
                "application/vnd.databricks.v1+cell": {
                    "cellMetadata": {},
                    "inputWidgets": {},
                    "nuid": "ae71365f-660d-4c13-85e3-2fbd5ad144ca",
                    "showTitle": false,
                    "title": ""
                }
            },
            "source": "|Date (YYYY-MM-DD)|Version|Changed By|Change Description|\n|-|-|-|-|\n|2020-09-20|1.1|Joseph|get result each time you run|\n|2020-09-20|1.1|Azim |Created Part 1 Lab using SpaceX API|\n|2020-09-20|1.0|Joseph |Modified Multiple Areas|"
        },
        {
            "cell_type": "markdown",
            "metadata": {
                "application/vnd.databricks.v1+cell": {
                    "cellMetadata": {},
                    "inputWidgets": {},
                    "nuid": "6e3045bb-e0ed-4505-945c-09e81335cfa4",
                    "showTitle": false,
                    "title": ""
                }
            },
            "source": "Copyright \u00a9 2021 IBM Corporation. All rights reserved."
        }
    ],
    "metadata": {
        "application/vnd.databricks.v1+notebook": {
            "dashboards": [],
            "language": "python",
            "notebookMetadata": {
                "pythonIndentUnit": 4
            },
            "notebookName": "jupyter-labs-spacex-data-collection-api",
            "notebookOrigID": 787236703487929,
            "widgets": {}
        },
        "kernelspec": {
            "display_name": "Python",
            "language": "python",
            "name": "conda-env-python-py"
        },
        "language_info": {
            "name": ""
        }
    },
    "nbformat": 4,
    "nbformat_minor": 0
}