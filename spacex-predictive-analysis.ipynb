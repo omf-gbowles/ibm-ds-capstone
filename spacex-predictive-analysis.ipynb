{
    "cells": [
        {
            "cell_type": "markdown",
            "metadata": {
                "application/vnd.databricks.v1+cell": {
                    "cellMetadata": {},
                    "inputWidgets": {},
                    "nuid": "bd294500-7aaf-45eb-bc49-d7d3ad1c64e4",
                    "showTitle": false,
                    "title": ""
                }
            },
            "source": "<p style=\"text-align:center\">\n    <a href=\"https://skills.network/?utm_medium=Exinfluencer&utm_source=Exinfluencer&utm_content=000026UJ&utm_term=10006555&utm_id=NA-SkillsNetwork-Channel-SkillsNetworkCoursesIBMDS0321ENSkillsNetwork865-2023-01-01\">\n    <img src=\"https://cf-courses-data.s3.us.cloud-object-storage.appdomain.cloud/assets/logos/SN_web_lightmode.png\" width=\"200\" alt=\"Skills Network Logo\"  />\n    </a>\n</p>"
        },
        {
            "cell_type": "markdown",
            "metadata": {
                "application/vnd.databricks.v1+cell": {
                    "cellMetadata": {},
                    "inputWidgets": {},
                    "nuid": "61fb319e-599b-4712-8f42-d576c6d228ae",
                    "showTitle": false,
                    "title": ""
                }
            },
            "source": "# **Space X  Falcon 9 First Stage Landing Prediction**"
        },
        {
            "cell_type": "markdown",
            "metadata": {
                "application/vnd.databricks.v1+cell": {
                    "cellMetadata": {},
                    "inputWidgets": {},
                    "nuid": "fe9fdf8c-812c-4a5b-bcc0-1e13473d6717",
                    "showTitle": false,
                    "title": ""
                }
            },
            "source": "## Assignment:  Machine Learning Prediction"
        },
        {
            "cell_type": "markdown",
            "metadata": {
                "application/vnd.databricks.v1+cell": {
                    "cellMetadata": {},
                    "inputWidgets": {},
                    "nuid": "ee952b38-4c06-45a1-9ec9-65ab10e00cc8",
                    "showTitle": false,
                    "title": ""
                }
            },
            "source": "Estimated time needed: **60** minutes"
        },
        {
            "cell_type": "markdown",
            "metadata": {
                "application/vnd.databricks.v1+cell": {
                    "cellMetadata": {},
                    "inputWidgets": {},
                    "nuid": "0ae3f6cf-681e-4147-8d8e-f7f70ee324d0",
                    "showTitle": false,
                    "title": ""
                }
            },
            "source": "Space X advertises Falcon 9 rocket launches on its website with a cost of 62 million dollars; other providers cost upward of 165 million dollars each, much of the savings is because Space X can reuse the first stage. Therefore if we can determine if the first stage will land, we can determine the cost of a launch. This information can be used if an alternate company wants to bid against space X for a rocket launch.   In this lab, you will create a machine learning pipeline  to predict if the first stage will land given the data from the preceding labs."
        },
        {
            "cell_type": "markdown",
            "metadata": {
                "application/vnd.databricks.v1+cell": {
                    "cellMetadata": {},
                    "inputWidgets": {},
                    "nuid": "92596cb1-f50f-4ae3-b944-57258a750b88",
                    "showTitle": false,
                    "title": ""
                }
            },
            "source": "![](https://cf-courses-data.s3.us.cloud-object-storage.appdomain.cloud/IBMDeveloperSkillsNetwork-DS0701EN-SkillsNetwork/api/Images/landing_1.gif)"
        },
        {
            "cell_type": "markdown",
            "metadata": {
                "application/vnd.databricks.v1+cell": {
                    "cellMetadata": {},
                    "inputWidgets": {},
                    "nuid": "ddc658e7-dac7-489a-9050-89315de8a4ab",
                    "showTitle": false,
                    "title": ""
                }
            },
            "source": "Several examples of an unsuccessful landing are shown here:"
        },
        {
            "cell_type": "markdown",
            "metadata": {
                "application/vnd.databricks.v1+cell": {
                    "cellMetadata": {},
                    "inputWidgets": {},
                    "nuid": "8616e84f-6fcf-4b68-b2e0-61b911173dcc",
                    "showTitle": false,
                    "title": ""
                }
            },
            "source": "![](https://cf-courses-data.s3.us.cloud-object-storage.appdomain.cloud/IBMDeveloperSkillsNetwork-DS0701EN-SkillsNetwork/api/Images/crash.gif)"
        },
        {
            "cell_type": "markdown",
            "metadata": {
                "application/vnd.databricks.v1+cell": {
                    "cellMetadata": {},
                    "inputWidgets": {},
                    "nuid": "c8effaa5-82e2-4f8b-808b-1e23ac9d3f33",
                    "showTitle": false,
                    "title": ""
                }
            },
            "source": "Most unsuccessful landings are planed. Space X; performs a controlled landing in the oceans."
        },
        {
            "cell_type": "markdown",
            "metadata": {
                "application/vnd.databricks.v1+cell": {
                    "cellMetadata": {},
                    "inputWidgets": {},
                    "nuid": "430fd630-9fe6-4420-bf59-f1fd5c151bec",
                    "showTitle": false,
                    "title": ""
                }
            },
            "source": "## Objectives"
        },
        {
            "cell_type": "markdown",
            "metadata": {
                "application/vnd.databricks.v1+cell": {
                    "cellMetadata": {},
                    "inputWidgets": {},
                    "nuid": "b5792632-a7d2-4e1d-9e3c-a353aed54478",
                    "showTitle": false,
                    "title": ""
                }
            },
            "source": "Perform exploratory  Data Analysis and determine Training Labels \n\n- create a column for the class\n- Standardize the data\n- Split into training data and test data\n-Find best Hyperparameter for SVM, Classification Trees and Logistic Regression\n- Find the method performs best using test data"
        },
        {
            "cell_type": "markdown",
            "metadata": {
                "application/vnd.databricks.v1+cell": {
                    "cellMetadata": {},
                    "inputWidgets": {},
                    "nuid": "dc5d55c7-5e08-437a-90bc-1309b8ce098f",
                    "showTitle": false,
                    "title": ""
                }
            },
            "source": ""
        },
        {
            "cell_type": "markdown",
            "metadata": {
                "application/vnd.databricks.v1+cell": {
                    "cellMetadata": {},
                    "inputWidgets": {},
                    "nuid": "c68c7d7d-be77-492c-9ba5-59f3ff9bdf54",
                    "showTitle": false,
                    "title": ""
                }
            },
            "source": "----"
        },
        {
            "cell_type": "markdown",
            "metadata": {
                "application/vnd.databricks.v1+cell": {
                    "cellMetadata": {},
                    "inputWidgets": {},
                    "nuid": "81d2d384-f79d-41d2-9d61-f08c2e5f6a80",
                    "showTitle": false,
                    "title": ""
                }
            },
            "source": "## Import Libraries and Define Auxiliary Functions"
        },
        {
            "cell_type": "markdown",
            "metadata": {
                "application/vnd.databricks.v1+cell": {
                    "cellMetadata": {},
                    "inputWidgets": {},
                    "nuid": "94b33a3e-198d-4b04-bd34-82efc09b7f2b",
                    "showTitle": false,
                    "title": ""
                }
            },
            "source": "We will import the following libraries for the lab"
        },
        {
            "cell_type": "code",
            "execution_count": 0,
            "metadata": {
                "application/vnd.databricks.v1+cell": {
                    "cellMetadata": {
                        "byteLimit": 2048000,
                        "rowLimit": 10000
                    },
                    "inputWidgets": {},
                    "nuid": "21b45eab-6753-4eed-ac1a-6a8fbc16b4f7",
                    "showTitle": false,
                    "title": ""
                }
            },
            "outputs": [
                {
                    "data": {
                        "text/html": "<style scoped>\n  .ansiout {\n    display: block;\n    unicode-bidi: embed;\n    white-space: pre-wrap;\n    word-wrap: break-word;\n    word-break: break-all;\n    font-family: \"Source Code Pro\", \"Menlo\", monospace;;\n    font-size: 13px;\n    color: #555;\n    margin-left: 4px;\n    line-height: 19px;\n  }\n</style>\n<div class=\"ansiout\"></div>"
                    },
                    "metadata": {
                        "application/vnd.databricks.v1+output": {
                            "addedWidgets": {},
                            "arguments": {},
                            "data": "<div class=\"ansiout\"></div>",
                            "datasetInfos": [],
                            "metadata": {},
                            "removedWidgets": [],
                            "type": "html"
                        }
                    },
                    "output_type": "display_data"
                }
            ],
            "source": "# Pandas is a software library written for the Python programming language for data manipulation and analysis.\nimport pandas as pd\n# NumPy is a library for the Python programming language, adding support for large, multi-dimensional arrays and matrices, along with a large collection of high-level mathematical functions to operate on these arrays\nimport numpy as np\n# Matplotlib is a plotting library for python and pyplot gives us a MatLab like plotting framework. We will use this in our plotter function to plot data.\nimport matplotlib.pyplot as plt\n#Seaborn is a Python data visualization library based on matplotlib. It provides a high-level interface for drawing attractive and informative statistical graphics\nimport seaborn as sns\n# Preprocessing allows us to standarsize our data\nfrom sklearn import preprocessing\n# Allows us to split our data into training and testing data\nfrom sklearn.model_selection import train_test_split\n# Allows us to test parameters of classification algorithms and find the best one\nfrom sklearn.model_selection import GridSearchCV\n# Logistic Regression classification algorithm\nfrom sklearn.linear_model import LogisticRegression\n# Support Vector Machine classification algorithm\nfrom sklearn.svm import SVC\n# Decision Tree classification algorithm\nfrom sklearn.tree import DecisionTreeClassifier\n# K Nearest Neighbors classification algorithm\nfrom sklearn.neighbors import KNeighborsClassifier"
        },
        {
            "cell_type": "markdown",
            "metadata": {
                "application/vnd.databricks.v1+cell": {
                    "cellMetadata": {},
                    "inputWidgets": {},
                    "nuid": "6b117f79-c95e-4c23-9d75-36bd97075a3f",
                    "showTitle": false,
                    "title": ""
                }
            },
            "source": "This function is to plot the confusion matrix."
        },
        {
            "cell_type": "code",
            "execution_count": 0,
            "metadata": {
                "application/vnd.databricks.v1+cell": {
                    "cellMetadata": {
                        "byteLimit": 2048000,
                        "rowLimit": 10000
                    },
                    "inputWidgets": {},
                    "nuid": "3ef2469b-ebb4-40ec-91f3-f0a730c75a08",
                    "showTitle": false,
                    "title": ""
                }
            },
            "outputs": [
                {
                    "data": {
                        "text/html": "<style scoped>\n  .ansiout {\n    display: block;\n    unicode-bidi: embed;\n    white-space: pre-wrap;\n    word-wrap: break-word;\n    word-break: break-all;\n    font-family: \"Source Code Pro\", \"Menlo\", monospace;;\n    font-size: 13px;\n    color: #555;\n    margin-left: 4px;\n    line-height: 19px;\n  }\n</style>\n<div class=\"ansiout\"></div>"
                    },
                    "metadata": {
                        "application/vnd.databricks.v1+output": {
                            "addedWidgets": {},
                            "arguments": {},
                            "data": "<div class=\"ansiout\"></div>",
                            "datasetInfos": [],
                            "metadata": {},
                            "removedWidgets": [],
                            "type": "html"
                        }
                    },
                    "output_type": "display_data"
                }
            ],
            "source": "def plot_confusion_matrix(y,y_predict):\n    \"this function plots the confusion matrix\"\n    from sklearn.metrics import confusion_matrix\n\n    cm = confusion_matrix(y, y_predict)\n    ax= plt.subplot()\n    sns.heatmap(cm, annot=True, ax = ax); #annot=True to annotate cells\n    ax.set_xlabel('Predicted labels')\n    ax.set_ylabel('True labels')\n    ax.set_title('Confusion Matrix'); \n    ax.xaxis.set_ticklabels(['did not land', 'land']); ax.yaxis.set_ticklabels(['did not land', 'landed'])"
        },
        {
            "cell_type": "markdown",
            "metadata": {
                "application/vnd.databricks.v1+cell": {
                    "cellMetadata": {},
                    "inputWidgets": {},
                    "nuid": "15823420-44a7-4e8b-8769-abfce302e309",
                    "showTitle": false,
                    "title": ""
                }
            },
            "source": "## Load the dataframe"
        },
        {
            "cell_type": "markdown",
            "metadata": {
                "application/vnd.databricks.v1+cell": {
                    "cellMetadata": {},
                    "inputWidgets": {},
                    "nuid": "e9fb9e7c-c38e-4d9a-8134-9949a8385ca1",
                    "showTitle": false,
                    "title": ""
                }
            },
            "source": "Load the data"
        },
        {
            "cell_type": "code",
            "execution_count": 0,
            "metadata": {
                "application/vnd.databricks.v1+cell": {
                    "cellMetadata": {
                        "byteLimit": 2048000,
                        "rowLimit": 10000
                    },
                    "inputWidgets": {},
                    "nuid": "1866f183-73e0-4a62-b966-8c6a17ac3707",
                    "showTitle": false,
                    "title": ""
                }
            },
            "outputs": [
                {
                    "data": {
                        "text/html": "<style scoped>\n  .ansiout {\n    display: block;\n    unicode-bidi: embed;\n    white-space: pre-wrap;\n    word-wrap: break-word;\n    word-break: break-all;\n    font-family: \"Source Code Pro\", \"Menlo\", monospace;;\n    font-size: 13px;\n    color: #555;\n    margin-left: 4px;\n    line-height: 19px;\n  }\n</style>\n<div class=\"ansiout\">Out[3]: </div>"
                    },
                    "metadata": {
                        "application/vnd.databricks.v1+output": {
                            "addedWidgets": {},
                            "arguments": {},
                            "data": "<div class=\"ansiout\">Out[3]: </div>",
                            "datasetInfos": [],
                            "metadata": {},
                            "removedWidgets": [],
                            "type": "html"
                        }
                    },
                    "output_type": "display_data"
                },
                {
                    "data": {
                        "text/html": "<div>\n<style scoped>\n    .dataframe tbody tr th:only-of-type {\n        vertical-align: middle;\n    }\n\n    .dataframe tbody tr th {\n        vertical-align: top;\n    }\n\n    .dataframe thead th {\n        text-align: right;\n    }\n</style>\n<table border=\"1\" class=\"dataframe\">\n  <thead>\n    <tr style=\"text-align: right;\">\n      <th></th>\n      <th>FlightNumber</th>\n      <th>Date</th>\n      <th>BoosterVersion</th>\n      <th>PayloadMass</th>\n      <th>Orbit</th>\n      <th>LaunchSite</th>\n      <th>Outcome</th>\n      <th>Flights</th>\n      <th>GridFins</th>\n      <th>Reused</th>\n      <th>Legs</th>\n      <th>LandingPad</th>\n      <th>Block</th>\n      <th>ReusedCount</th>\n      <th>Serial</th>\n      <th>Longitude</th>\n      <th>Latitude</th>\n      <th>Class</th>\n    </tr>\n  </thead>\n  <tbody>\n    <tr>\n      <th>0</th>\n      <td>1</td>\n      <td>2010-06-04</td>\n      <td>Falcon 9</td>\n      <td>6104.959412</td>\n      <td>LEO</td>\n      <td>CCAFS SLC 40</td>\n      <td>None None</td>\n      <td>1</td>\n      <td>False</td>\n      <td>False</td>\n      <td>False</td>\n      <td>NaN</td>\n      <td>1.0</td>\n      <td>0</td>\n      <td>B0003</td>\n      <td>-80.577366</td>\n      <td>28.561857</td>\n      <td>0</td>\n    </tr>\n    <tr>\n      <th>1</th>\n      <td>2</td>\n      <td>2012-05-22</td>\n      <td>Falcon 9</td>\n      <td>525.000000</td>\n      <td>LEO</td>\n      <td>CCAFS SLC 40</td>\n      <td>None None</td>\n      <td>1</td>\n      <td>False</td>\n      <td>False</td>\n      <td>False</td>\n      <td>NaN</td>\n      <td>1.0</td>\n      <td>0</td>\n      <td>B0005</td>\n      <td>-80.577366</td>\n      <td>28.561857</td>\n      <td>0</td>\n    </tr>\n    <tr>\n      <th>2</th>\n      <td>3</td>\n      <td>2013-03-01</td>\n      <td>Falcon 9</td>\n      <td>677.000000</td>\n      <td>ISS</td>\n      <td>CCAFS SLC 40</td>\n      <td>None None</td>\n      <td>1</td>\n      <td>False</td>\n      <td>False</td>\n      <td>False</td>\n      <td>NaN</td>\n      <td>1.0</td>\n      <td>0</td>\n      <td>B0007</td>\n      <td>-80.577366</td>\n      <td>28.561857</td>\n      <td>0</td>\n    </tr>\n    <tr>\n      <th>3</th>\n      <td>4</td>\n      <td>2013-09-29</td>\n      <td>Falcon 9</td>\n      <td>500.000000</td>\n      <td>PO</td>\n      <td>VAFB SLC 4E</td>\n      <td>False Ocean</td>\n      <td>1</td>\n      <td>False</td>\n      <td>False</td>\n      <td>False</td>\n      <td>NaN</td>\n      <td>1.0</td>\n      <td>0</td>\n      <td>B1003</td>\n      <td>-120.610829</td>\n      <td>34.632093</td>\n      <td>0</td>\n    </tr>\n    <tr>\n      <th>4</th>\n      <td>5</td>\n      <td>2013-12-03</td>\n      <td>Falcon 9</td>\n      <td>3170.000000</td>\n      <td>GTO</td>\n      <td>CCAFS SLC 40</td>\n      <td>None None</td>\n      <td>1</td>\n      <td>False</td>\n      <td>False</td>\n      <td>False</td>\n      <td>NaN</td>\n      <td>1.0</td>\n      <td>0</td>\n      <td>B1004</td>\n      <td>-80.577366</td>\n      <td>28.561857</td>\n      <td>0</td>\n    </tr>\n  </tbody>\n</table>\n</div>"
                    },
                    "metadata": {
                        "application/vnd.databricks.v1+output": {
                            "addedWidgets": {},
                            "arguments": {},
                            "data": "<div>\n<style scoped>\n    .dataframe tbody tr th:only-of-type {\n        vertical-align: middle;\n    }\n\n    .dataframe tbody tr th {\n        vertical-align: top;\n    }\n\n    .dataframe thead th {\n        text-align: right;\n    }\n</style>\n<table border=\"1\" class=\"dataframe\">\n  <thead>\n    <tr style=\"text-align: right;\">\n      <th></th>\n      <th>FlightNumber</th>\n      <th>Date</th>\n      <th>BoosterVersion</th>\n      <th>PayloadMass</th>\n      <th>Orbit</th>\n      <th>LaunchSite</th>\n      <th>Outcome</th>\n      <th>Flights</th>\n      <th>GridFins</th>\n      <th>Reused</th>\n      <th>Legs</th>\n      <th>LandingPad</th>\n      <th>Block</th>\n      <th>ReusedCount</th>\n      <th>Serial</th>\n      <th>Longitude</th>\n      <th>Latitude</th>\n      <th>Class</th>\n    </tr>\n  </thead>\n  <tbody>\n    <tr>\n      <th>0</th>\n      <td>1</td>\n      <td>2010-06-04</td>\n      <td>Falcon 9</td>\n      <td>6104.959412</td>\n      <td>LEO</td>\n      <td>CCAFS SLC 40</td>\n      <td>None None</td>\n      <td>1</td>\n      <td>False</td>\n      <td>False</td>\n      <td>False</td>\n      <td>NaN</td>\n      <td>1.0</td>\n      <td>0</td>\n      <td>B0003</td>\n      <td>-80.577366</td>\n      <td>28.561857</td>\n      <td>0</td>\n    </tr>\n    <tr>\n      <th>1</th>\n      <td>2</td>\n      <td>2012-05-22</td>\n      <td>Falcon 9</td>\n      <td>525.000000</td>\n      <td>LEO</td>\n      <td>CCAFS SLC 40</td>\n      <td>None None</td>\n      <td>1</td>\n      <td>False</td>\n      <td>False</td>\n      <td>False</td>\n      <td>NaN</td>\n      <td>1.0</td>\n      <td>0</td>\n      <td>B0005</td>\n      <td>-80.577366</td>\n      <td>28.561857</td>\n      <td>0</td>\n    </tr>\n    <tr>\n      <th>2</th>\n      <td>3</td>\n      <td>2013-03-01</td>\n      <td>Falcon 9</td>\n      <td>677.000000</td>\n      <td>ISS</td>\n      <td>CCAFS SLC 40</td>\n      <td>None None</td>\n      <td>1</td>\n      <td>False</td>\n      <td>False</td>\n      <td>False</td>\n      <td>NaN</td>\n      <td>1.0</td>\n      <td>0</td>\n      <td>B0007</td>\n      <td>-80.577366</td>\n      <td>28.561857</td>\n      <td>0</td>\n    </tr>\n    <tr>\n      <th>3</th>\n      <td>4</td>\n      <td>2013-09-29</td>\n      <td>Falcon 9</td>\n      <td>500.000000</td>\n      <td>PO</td>\n      <td>VAFB SLC 4E</td>\n      <td>False Ocean</td>\n      <td>1</td>\n      <td>False</td>\n      <td>False</td>\n      <td>False</td>\n      <td>NaN</td>\n      <td>1.0</td>\n      <td>0</td>\n      <td>B1003</td>\n      <td>-120.610829</td>\n      <td>34.632093</td>\n      <td>0</td>\n    </tr>\n    <tr>\n      <th>4</th>\n      <td>5</td>\n      <td>2013-12-03</td>\n      <td>Falcon 9</td>\n      <td>3170.000000</td>\n      <td>GTO</td>\n      <td>CCAFS SLC 40</td>\n      <td>None None</td>\n      <td>1</td>\n      <td>False</td>\n      <td>False</td>\n      <td>False</td>\n      <td>NaN</td>\n      <td>1.0</td>\n      <td>0</td>\n      <td>B1004</td>\n      <td>-80.577366</td>\n      <td>28.561857</td>\n      <td>0</td>\n    </tr>\n  </tbody>\n</table>\n</div>",
                            "datasetInfos": [],
                            "metadata": {},
                            "removedWidgets": [],
                            "textData": null,
                            "type": "htmlSandbox"
                        }
                    },
                    "output_type": "display_data"
                }
            ],
            "source": "data = pd.read_csv(\"https://cf-courses-data.s3.us.cloud-object-storage.appdomain.cloud/IBM-DS0321EN-SkillsNetwork/datasets/dataset_part_2.csv\")\n\n# If you were unable to complete the previous lab correctly you can uncomment and load this csv\n\n# data = pd.read_csv('https://cf-courses-data.s3.us.cloud-object-storage.appdomain.cloud/IBMDeveloperSkillsNetwork-DS0701EN-SkillsNetwork/api/dataset_part_2.csv')\n\ndata.head()"
        },
        {
            "cell_type": "code",
            "execution_count": 0,
            "metadata": {
                "application/vnd.databricks.v1+cell": {
                    "cellMetadata": {
                        "byteLimit": 2048000,
                        "rowLimit": 10000
                    },
                    "inputWidgets": {},
                    "nuid": "5ce3686e-48b6-4ef9-b363-511d85054af6",
                    "showTitle": false,
                    "title": ""
                }
            },
            "outputs": [
                {
                    "data": {
                        "text/html": "<style scoped>\n  .ansiout {\n    display: block;\n    unicode-bidi: embed;\n    white-space: pre-wrap;\n    word-wrap: break-word;\n    word-break: break-all;\n    font-family: \"Source Code Pro\", \"Menlo\", monospace;;\n    font-size: 13px;\n    color: #555;\n    margin-left: 4px;\n    line-height: 19px;\n  }\n</style>\n<div class=\"ansiout\">Out[4]: </div>"
                    },
                    "metadata": {
                        "application/vnd.databricks.v1+output": {
                            "addedWidgets": {},
                            "arguments": {},
                            "data": "<div class=\"ansiout\">Out[4]: </div>",
                            "datasetInfos": [],
                            "metadata": {},
                            "removedWidgets": [],
                            "type": "html"
                        }
                    },
                    "output_type": "display_data"
                },
                {
                    "data": {
                        "text/html": "<div>\n<style scoped>\n    .dataframe tbody tr th:only-of-type {\n        vertical-align: middle;\n    }\n\n    .dataframe tbody tr th {\n        vertical-align: top;\n    }\n\n    .dataframe thead th {\n        text-align: right;\n    }\n</style>\n<table border=\"1\" class=\"dataframe\">\n  <thead>\n    <tr style=\"text-align: right;\">\n      <th></th>\n      <th>FlightNumber</th>\n      <th>PayloadMass</th>\n      <th>Flights</th>\n      <th>Block</th>\n      <th>ReusedCount</th>\n      <th>Orbit_ES-L1</th>\n      <th>Orbit_GEO</th>\n      <th>Orbit_GTO</th>\n      <th>Orbit_HEO</th>\n      <th>Orbit_ISS</th>\n      <th>Orbit_LEO</th>\n      <th>Orbit_MEO</th>\n      <th>Orbit_PO</th>\n      <th>Orbit_SO</th>\n      <th>Orbit_SSO</th>\n      <th>Orbit_VLEO</th>\n      <th>LaunchSite_CCAFS SLC 40</th>\n      <th>LaunchSite_KSC LC 39A</th>\n      <th>LaunchSite_VAFB SLC 4E</th>\n      <th>LandingPad_5e9e3032383ecb267a34e7c7</th>\n      <th>LandingPad_5e9e3032383ecb554034e7c9</th>\n      <th>LandingPad_5e9e3032383ecb6bb234e7ca</th>\n      <th>LandingPad_5e9e3032383ecb761634e7cb</th>\n      <th>LandingPad_5e9e3033383ecbb9e534e7cc</th>\n      <th>Serial_B0003</th>\n      <th>Serial_B0005</th>\n      <th>Serial_B0007</th>\n      <th>Serial_B1003</th>\n      <th>Serial_B1004</th>\n      <th>Serial_B1005</th>\n      <th>Serial_B1006</th>\n      <th>Serial_B1007</th>\n      <th>Serial_B1008</th>\n      <th>Serial_B1010</th>\n      <th>Serial_B1011</th>\n      <th>Serial_B1012</th>\n      <th>Serial_B1013</th>\n      <th>Serial_B1015</th>\n      <th>Serial_B1016</th>\n      <th>Serial_B1017</th>\n      <th>...</th>\n      <th>Serial_B1021</th>\n      <th>Serial_B1022</th>\n      <th>Serial_B1023</th>\n      <th>Serial_B1025</th>\n      <th>Serial_B1026</th>\n      <th>Serial_B1028</th>\n      <th>Serial_B1029</th>\n      <th>Serial_B1030</th>\n      <th>Serial_B1031</th>\n      <th>Serial_B1032</th>\n      <th>Serial_B1034</th>\n      <th>Serial_B1035</th>\n      <th>Serial_B1036</th>\n      <th>Serial_B1037</th>\n      <th>Serial_B1038</th>\n      <th>Serial_B1039</th>\n      <th>Serial_B1040</th>\n      <th>Serial_B1041</th>\n      <th>Serial_B1042</th>\n      <th>Serial_B1043</th>\n      <th>Serial_B1044</th>\n      <th>Serial_B1045</th>\n      <th>Serial_B1046</th>\n      <th>Serial_B1047</th>\n      <th>Serial_B1048</th>\n      <th>Serial_B1049</th>\n      <th>Serial_B1050</th>\n      <th>Serial_B1051</th>\n      <th>Serial_B1054</th>\n      <th>Serial_B1056</th>\n      <th>Serial_B1058</th>\n      <th>Serial_B1059</th>\n      <th>Serial_B1060</th>\n      <th>Serial_B1062</th>\n      <th>GridFins_False</th>\n      <th>GridFins_True</th>\n      <th>Reused_False</th>\n      <th>Reused_True</th>\n      <th>Legs_False</th>\n      <th>Legs_True</th>\n    </tr>\n  </thead>\n  <tbody>\n    <tr>\n      <th>0</th>\n      <td>1.0</td>\n      <td>6104.959412</td>\n      <td>1.0</td>\n      <td>1.0</td>\n      <td>0.0</td>\n      <td>0.0</td>\n      <td>0.0</td>\n      <td>0.0</td>\n      <td>0.0</td>\n      <td>0.0</td>\n      <td>1.0</td>\n      <td>0.0</td>\n      <td>0.0</td>\n      <td>0.0</td>\n      <td>0.0</td>\n      <td>0.0</td>\n      <td>1.0</td>\n      <td>0.0</td>\n      <td>0.0</td>\n      <td>0.0</td>\n      <td>0.0</td>\n      <td>0.0</td>\n      <td>0.0</td>\n      <td>0.0</td>\n      <td>1.0</td>\n      <td>0.0</td>\n      <td>0.0</td>\n      <td>0.0</td>\n      <td>0.0</td>\n      <td>0.0</td>\n      <td>0.0</td>\n      <td>0.0</td>\n      <td>0.0</td>\n      <td>0.0</td>\n      <td>0.0</td>\n      <td>0.0</td>\n      <td>0.0</td>\n      <td>0.0</td>\n      <td>0.0</td>\n      <td>0.0</td>\n      <td>...</td>\n      <td>0.0</td>\n      <td>0.0</td>\n      <td>0.0</td>\n      <td>0.0</td>\n      <td>0.0</td>\n      <td>0.0</td>\n      <td>0.0</td>\n      <td>0.0</td>\n      <td>0.0</td>\n      <td>0.0</td>\n      <td>0.0</td>\n      <td>0.0</td>\n      <td>0.0</td>\n      <td>0.0</td>\n      <td>0.0</td>\n      <td>0.0</td>\n      <td>0.0</td>\n      <td>0.0</td>\n      <td>0.0</td>\n      <td>0.0</td>\n      <td>0.0</td>\n      <td>0.0</td>\n      <td>0.0</td>\n      <td>0.0</td>\n      <td>0.0</td>\n      <td>0.0</td>\n      <td>0.0</td>\n      <td>0.0</td>\n      <td>0.0</td>\n      <td>0.0</td>\n      <td>0.0</td>\n      <td>0.0</td>\n      <td>0.0</td>\n      <td>0.0</td>\n      <td>1.0</td>\n      <td>0.0</td>\n      <td>1.0</td>\n      <td>0.0</td>\n      <td>1.0</td>\n      <td>0.0</td>\n    </tr>\n    <tr>\n      <th>1</th>\n      <td>2.0</td>\n      <td>525.000000</td>\n      <td>1.0</td>\n      <td>1.0</td>\n      <td>0.0</td>\n      <td>0.0</td>\n      <td>0.0</td>\n      <td>0.0</td>\n      <td>0.0</td>\n      <td>0.0</td>\n      <td>1.0</td>\n      <td>0.0</td>\n      <td>0.0</td>\n      <td>0.0</td>\n      <td>0.0</td>\n      <td>0.0</td>\n      <td>1.0</td>\n      <td>0.0</td>\n      <td>0.0</td>\n      <td>0.0</td>\n      <td>0.0</td>\n      <td>0.0</td>\n      <td>0.0</td>\n      <td>0.0</td>\n      <td>0.0</td>\n      <td>1.0</td>\n      <td>0.0</td>\n      <td>0.0</td>\n      <td>0.0</td>\n      <td>0.0</td>\n      <td>0.0</td>\n      <td>0.0</td>\n      <td>0.0</td>\n      <td>0.0</td>\n      <td>0.0</td>\n      <td>0.0</td>\n      <td>0.0</td>\n      <td>0.0</td>\n      <td>0.0</td>\n      <td>0.0</td>\n      <td>...</td>\n      <td>0.0</td>\n      <td>0.0</td>\n      <td>0.0</td>\n      <td>0.0</td>\n      <td>0.0</td>\n      <td>0.0</td>\n      <td>0.0</td>\n      <td>0.0</td>\n      <td>0.0</td>\n      <td>0.0</td>\n      <td>0.0</td>\n      <td>0.0</td>\n      <td>0.0</td>\n      <td>0.0</td>\n      <td>0.0</td>\n      <td>0.0</td>\n      <td>0.0</td>\n      <td>0.0</td>\n      <td>0.0</td>\n      <td>0.0</td>\n      <td>0.0</td>\n      <td>0.0</td>\n      <td>0.0</td>\n      <td>0.0</td>\n      <td>0.0</td>\n      <td>0.0</td>\n      <td>0.0</td>\n      <td>0.0</td>\n      <td>0.0</td>\n      <td>0.0</td>\n      <td>0.0</td>\n      <td>0.0</td>\n      <td>0.0</td>\n      <td>0.0</td>\n      <td>1.0</td>\n      <td>0.0</td>\n      <td>1.0</td>\n      <td>0.0</td>\n      <td>1.0</td>\n      <td>0.0</td>\n    </tr>\n    <tr>\n      <th>2</th>\n      <td>3.0</td>\n      <td>677.000000</td>\n      <td>1.0</td>\n      <td>1.0</td>\n      <td>0.0</td>\n      <td>0.0</td>\n      <td>0.0</td>\n      <td>0.0</td>\n      <td>0.0</td>\n      <td>1.0</td>\n      <td>0.0</td>\n      <td>0.0</td>\n      <td>0.0</td>\n      <td>0.0</td>\n      <td>0.0</td>\n      <td>0.0</td>\n      <td>1.0</td>\n      <td>0.0</td>\n      <td>0.0</td>\n      <td>0.0</td>\n      <td>0.0</td>\n      <td>0.0</td>\n      <td>0.0</td>\n      <td>0.0</td>\n      <td>0.0</td>\n      <td>0.0</td>\n      <td>1.0</td>\n      <td>0.0</td>\n      <td>0.0</td>\n      <td>0.0</td>\n      <td>0.0</td>\n      <td>0.0</td>\n      <td>0.0</td>\n      <td>0.0</td>\n      <td>0.0</td>\n      <td>0.0</td>\n      <td>0.0</td>\n      <td>0.0</td>\n      <td>0.0</td>\n      <td>0.0</td>\n      <td>...</td>\n      <td>0.0</td>\n      <td>0.0</td>\n      <td>0.0</td>\n      <td>0.0</td>\n      <td>0.0</td>\n      <td>0.0</td>\n      <td>0.0</td>\n      <td>0.0</td>\n      <td>0.0</td>\n      <td>0.0</td>\n      <td>0.0</td>\n      <td>0.0</td>\n      <td>0.0</td>\n      <td>0.0</td>\n      <td>0.0</td>\n      <td>0.0</td>\n      <td>0.0</td>\n      <td>0.0</td>\n      <td>0.0</td>\n      <td>0.0</td>\n      <td>0.0</td>\n      <td>0.0</td>\n      <td>0.0</td>\n      <td>0.0</td>\n      <td>0.0</td>\n      <td>0.0</td>\n      <td>0.0</td>\n      <td>0.0</td>\n      <td>0.0</td>\n      <td>0.0</td>\n      <td>0.0</td>\n      <td>0.0</td>\n      <td>0.0</td>\n      <td>0.0</td>\n      <td>1.0</td>\n      <td>0.0</td>\n      <td>1.0</td>\n      <td>0.0</td>\n      <td>1.0</td>\n      <td>0.0</td>\n    </tr>\n    <tr>\n      <th>3</th>\n      <td>4.0</td>\n      <td>500.000000</td>\n      <td>1.0</td>\n      <td>1.0</td>\n      <td>0.0</td>\n      <td>0.0</td>\n      <td>0.0</td>\n      <td>0.0</td>\n      <td>0.0</td>\n      <td>0.0</td>\n      <td>0.0</td>\n      <td>0.0</td>\n      <td>1.0</td>\n      <td>0.0</td>\n      <td>0.0</td>\n      <td>0.0</td>\n      <td>0.0</td>\n      <td>0.0</td>\n      <td>1.0</td>\n      <td>0.0</td>\n      <td>0.0</td>\n      <td>0.0</td>\n      <td>0.0</td>\n      <td>0.0</td>\n      <td>0.0</td>\n      <td>0.0</td>\n      <td>0.0</td>\n      <td>1.0</td>\n      <td>0.0</td>\n      <td>0.0</td>\n      <td>0.0</td>\n      <td>0.0</td>\n      <td>0.0</td>\n      <td>0.0</td>\n      <td>0.0</td>\n      <td>0.0</td>\n      <td>0.0</td>\n      <td>0.0</td>\n      <td>0.0</td>\n      <td>0.0</td>\n      <td>...</td>\n      <td>0.0</td>\n      <td>0.0</td>\n      <td>0.0</td>\n      <td>0.0</td>\n      <td>0.0</td>\n      <td>0.0</td>\n      <td>0.0</td>\n      <td>0.0</td>\n      <td>0.0</td>\n      <td>0.0</td>\n      <td>0.0</td>\n      <td>0.0</td>\n      <td>0.0</td>\n      <td>0.0</td>\n      <td>0.0</td>\n      <td>0.0</td>\n      <td>0.0</td>\n      <td>0.0</td>\n      <td>0.0</td>\n      <td>0.0</td>\n      <td>0.0</td>\n      <td>0.0</td>\n      <td>0.0</td>\n      <td>0.0</td>\n      <td>0.0</td>\n      <td>0.0</td>\n      <td>0.0</td>\n      <td>0.0</td>\n      <td>0.0</td>\n      <td>0.0</td>\n      <td>0.0</td>\n      <td>0.0</td>\n      <td>0.0</td>\n      <td>0.0</td>\n      <td>1.0</td>\n      <td>0.0</td>\n      <td>1.0</td>\n      <td>0.0</td>\n      <td>1.0</td>\n      <td>0.0</td>\n    </tr>\n    <tr>\n      <th>4</th>\n      <td>5.0</td>\n      <td>3170.000000</td>\n      <td>1.0</td>\n      <td>1.0</td>\n      <td>0.0</td>\n      <td>0.0</td>\n      <td>0.0</td>\n      <td>1.0</td>\n      <td>0.0</td>\n      <td>0.0</td>\n      <td>0.0</td>\n      <td>0.0</td>\n      <td>0.0</td>\n      <td>0.0</td>\n      <td>0.0</td>\n      <td>0.0</td>\n      <td>1.0</td>\n      <td>0.0</td>\n      <td>0.0</td>\n      <td>0.0</td>\n      <td>0.0</td>\n      <td>0.0</td>\n      <td>0.0</td>\n      <td>0.0</td>\n      <td>0.0</td>\n      <td>0.0</td>\n      <td>0.0</td>\n      <td>0.0</td>\n      <td>1.0</td>\n      <td>0.0</td>\n      <td>0.0</td>\n      <td>0.0</td>\n      <td>0.0</td>\n      <td>0.0</td>\n      <td>0.0</td>\n      <td>0.0</td>\n      <td>0.0</td>\n      <td>0.0</td>\n      <td>0.0</td>\n      <td>0.0</td>\n      <td>...</td>\n      <td>0.0</td>\n      <td>0.0</td>\n      <td>0.0</td>\n      <td>0.0</td>\n      <td>0.0</td>\n      <td>0.0</td>\n      <td>0.0</td>\n      <td>0.0</td>\n      <td>0.0</td>\n      <td>0.0</td>\n      <td>0.0</td>\n      <td>0.0</td>\n      <td>0.0</td>\n      <td>0.0</td>\n      <td>0.0</td>\n      <td>0.0</td>\n      <td>0.0</td>\n      <td>0.0</td>\n      <td>0.0</td>\n      <td>0.0</td>\n      <td>0.0</td>\n      <td>0.0</td>\n      <td>0.0</td>\n      <td>0.0</td>\n      <td>0.0</td>\n      <td>0.0</td>\n      <td>0.0</td>\n      <td>0.0</td>\n      <td>0.0</td>\n      <td>0.0</td>\n      <td>0.0</td>\n      <td>0.0</td>\n      <td>0.0</td>\n      <td>0.0</td>\n      <td>1.0</td>\n      <td>0.0</td>\n      <td>1.0</td>\n      <td>0.0</td>\n      <td>1.0</td>\n      <td>0.0</td>\n    </tr>\n    <tr>\n      <th>...</th>\n      <td>...</td>\n      <td>...</td>\n      <td>...</td>\n      <td>...</td>\n      <td>...</td>\n      <td>...</td>\n      <td>...</td>\n      <td>...</td>\n      <td>...</td>\n      <td>...</td>\n      <td>...</td>\n      <td>...</td>\n      <td>...</td>\n      <td>...</td>\n      <td>...</td>\n      <td>...</td>\n      <td>...</td>\n      <td>...</td>\n      <td>...</td>\n      <td>...</td>\n      <td>...</td>\n      <td>...</td>\n      <td>...</td>\n      <td>...</td>\n      <td>...</td>\n      <td>...</td>\n      <td>...</td>\n      <td>...</td>\n      <td>...</td>\n      <td>...</td>\n      <td>...</td>\n      <td>...</td>\n      <td>...</td>\n      <td>...</td>\n      <td>...</td>\n      <td>...</td>\n      <td>...</td>\n      <td>...</td>\n      <td>...</td>\n      <td>...</td>\n      <td>...</td>\n      <td>...</td>\n      <td>...</td>\n      <td>...</td>\n      <td>...</td>\n      <td>...</td>\n      <td>...</td>\n      <td>...</td>\n      <td>...</td>\n      <td>...</td>\n      <td>...</td>\n      <td>...</td>\n      <td>...</td>\n      <td>...</td>\n      <td>...</td>\n      <td>...</td>\n      <td>...</td>\n      <td>...</td>\n      <td>...</td>\n      <td>...</td>\n      <td>...</td>\n      <td>...</td>\n      <td>...</td>\n      <td>...</td>\n      <td>...</td>\n      <td>...</td>\n      <td>...</td>\n      <td>...</td>\n      <td>...</td>\n      <td>...</td>\n      <td>...</td>\n      <td>...</td>\n      <td>...</td>\n      <td>...</td>\n      <td>...</td>\n      <td>...</td>\n      <td>...</td>\n      <td>...</td>\n      <td>...</td>\n      <td>...</td>\n      <td>...</td>\n    </tr>\n    <tr>\n      <th>85</th>\n      <td>86.0</td>\n      <td>15400.000000</td>\n      <td>2.0</td>\n      <td>5.0</td>\n      <td>2.0</td>\n      <td>0.0</td>\n      <td>0.0</td>\n      <td>0.0</td>\n      <td>0.0</td>\n      <td>0.0</td>\n      <td>0.0</td>\n      <td>0.0</td>\n      <td>0.0</td>\n      <td>0.0</td>\n      <td>0.0</td>\n      <td>1.0</td>\n      <td>0.0</td>\n      <td>1.0</td>\n      <td>0.0</td>\n      <td>0.0</td>\n      <td>0.0</td>\n      <td>1.0</td>\n      <td>0.0</td>\n      <td>0.0</td>\n      <td>0.0</td>\n      <td>0.0</td>\n      <td>0.0</td>\n      <td>0.0</td>\n      <td>0.0</td>\n      <td>0.0</td>\n      <td>0.0</td>\n      <td>0.0</td>\n      <td>0.0</td>\n      <td>0.0</td>\n      <td>0.0</td>\n      <td>0.0</td>\n      <td>0.0</td>\n      <td>0.0</td>\n      <td>0.0</td>\n      <td>0.0</td>\n      <td>...</td>\n      <td>0.0</td>\n      <td>0.0</td>\n      <td>0.0</td>\n      <td>0.0</td>\n      <td>0.0</td>\n      <td>0.0</td>\n      <td>0.0</td>\n      <td>0.0</td>\n      <td>0.0</td>\n      <td>0.0</td>\n      <td>0.0</td>\n      <td>0.0</td>\n      <td>0.0</td>\n      <td>0.0</td>\n      <td>0.0</td>\n      <td>0.0</td>\n      <td>0.0</td>\n      <td>0.0</td>\n      <td>0.0</td>\n      <td>0.0</td>\n      <td>0.0</td>\n      <td>0.0</td>\n      <td>0.0</td>\n      <td>0.0</td>\n      <td>0.0</td>\n      <td>0.0</td>\n      <td>0.0</td>\n      <td>0.0</td>\n      <td>0.0</td>\n      <td>0.0</td>\n      <td>0.0</td>\n      <td>0.0</td>\n      <td>1.0</td>\n      <td>0.0</td>\n      <td>0.0</td>\n      <td>1.0</td>\n      <td>0.0</td>\n      <td>1.0</td>\n      <td>0.0</td>\n      <td>1.0</td>\n    </tr>\n    <tr>\n      <th>86</th>\n      <td>87.0</td>\n      <td>15400.000000</td>\n      <td>3.0</td>\n      <td>5.0</td>\n      <td>2.0</td>\n      <td>0.0</td>\n      <td>0.0</td>\n      <td>0.0</td>\n      <td>0.0</td>\n      <td>0.0</td>\n      <td>0.0</td>\n      <td>0.0</td>\n      <td>0.0</td>\n      <td>0.0</td>\n      <td>0.0</td>\n      <td>1.0</td>\n      <td>0.0</td>\n      <td>1.0</td>\n      <td>0.0</td>\n      <td>0.0</td>\n      <td>0.0</td>\n      <td>1.0</td>\n      <td>0.0</td>\n      <td>0.0</td>\n      <td>0.0</td>\n      <td>0.0</td>\n      <td>0.0</td>\n      <td>0.0</td>\n      <td>0.0</td>\n      <td>0.0</td>\n      <td>0.0</td>\n      <td>0.0</td>\n      <td>0.0</td>\n      <td>0.0</td>\n      <td>0.0</td>\n      <td>0.0</td>\n      <td>0.0</td>\n      <td>0.0</td>\n      <td>0.0</td>\n      <td>0.0</td>\n      <td>...</td>\n      <td>0.0</td>\n      <td>0.0</td>\n      <td>0.0</td>\n      <td>0.0</td>\n      <td>0.0</td>\n      <td>0.0</td>\n      <td>0.0</td>\n      <td>0.0</td>\n      <td>0.0</td>\n      <td>0.0</td>\n      <td>0.0</td>\n      <td>0.0</td>\n      <td>0.0</td>\n      <td>0.0</td>\n      <td>0.0</td>\n      <td>0.0</td>\n      <td>0.0</td>\n      <td>0.0</td>\n      <td>0.0</td>\n      <td>0.0</td>\n      <td>0.0</td>\n      <td>0.0</td>\n      <td>0.0</td>\n      <td>0.0</td>\n      <td>0.0</td>\n      <td>0.0</td>\n      <td>0.0</td>\n      <td>0.0</td>\n      <td>0.0</td>\n      <td>0.0</td>\n      <td>1.0</td>\n      <td>0.0</td>\n      <td>0.0</td>\n      <td>0.0</td>\n      <td>0.0</td>\n      <td>1.0</td>\n      <td>0.0</td>\n      <td>1.0</td>\n      <td>0.0</td>\n      <td>1.0</td>\n    </tr>\n    <tr>\n      <th>87</th>\n      <td>88.0</td>\n      <td>15400.000000</td>\n      <td>6.0</td>\n      <td>5.0</td>\n      <td>5.0</td>\n      <td>0.0</td>\n      <td>0.0</td>\n      <td>0.0</td>\n      <td>0.0</td>\n      <td>0.0</td>\n      <td>0.0</td>\n      <td>0.0</td>\n      <td>0.0</td>\n      <td>0.0</td>\n      <td>0.0</td>\n      <td>1.0</td>\n      <td>0.0</td>\n      <td>1.0</td>\n      <td>0.0</td>\n      <td>0.0</td>\n      <td>0.0</td>\n      <td>1.0</td>\n      <td>0.0</td>\n      <td>0.0</td>\n      <td>0.0</td>\n      <td>0.0</td>\n      <td>0.0</td>\n      <td>0.0</td>\n      <td>0.0</td>\n      <td>0.0</td>\n      <td>0.0</td>\n      <td>0.0</td>\n      <td>0.0</td>\n      <td>0.0</td>\n      <td>0.0</td>\n      <td>0.0</td>\n      <td>0.0</td>\n      <td>0.0</td>\n      <td>0.0</td>\n      <td>0.0</td>\n      <td>...</td>\n      <td>0.0</td>\n      <td>0.0</td>\n      <td>0.0</td>\n      <td>0.0</td>\n      <td>0.0</td>\n      <td>0.0</td>\n      <td>0.0</td>\n      <td>0.0</td>\n      <td>0.0</td>\n      <td>0.0</td>\n      <td>0.0</td>\n      <td>0.0</td>\n      <td>0.0</td>\n      <td>0.0</td>\n      <td>0.0</td>\n      <td>0.0</td>\n      <td>0.0</td>\n      <td>0.0</td>\n      <td>0.0</td>\n      <td>0.0</td>\n      <td>0.0</td>\n      <td>0.0</td>\n      <td>0.0</td>\n      <td>0.0</td>\n      <td>0.0</td>\n      <td>0.0</td>\n      <td>0.0</td>\n      <td>1.0</td>\n      <td>0.0</td>\n      <td>0.0</td>\n      <td>0.0</td>\n      <td>0.0</td>\n      <td>0.0</td>\n      <td>0.0</td>\n      <td>0.0</td>\n      <td>1.0</td>\n      <td>0.0</td>\n      <td>1.0</td>\n      <td>0.0</td>\n      <td>1.0</td>\n    </tr>\n    <tr>\n      <th>88</th>\n      <td>89.0</td>\n      <td>15400.000000</td>\n      <td>3.0</td>\n      <td>5.0</td>\n      <td>2.0</td>\n      <td>0.0</td>\n      <td>0.0</td>\n      <td>0.0</td>\n      <td>0.0</td>\n      <td>0.0</td>\n      <td>0.0</td>\n      <td>0.0</td>\n      <td>0.0</td>\n      <td>0.0</td>\n      <td>0.0</td>\n      <td>1.0</td>\n      <td>1.0</td>\n      <td>0.0</td>\n      <td>0.0</td>\n      <td>0.0</td>\n      <td>0.0</td>\n      <td>0.0</td>\n      <td>0.0</td>\n      <td>1.0</td>\n      <td>0.0</td>\n      <td>0.0</td>\n      <td>0.0</td>\n      <td>0.0</td>\n      <td>0.0</td>\n      <td>0.0</td>\n      <td>0.0</td>\n      <td>0.0</td>\n      <td>0.0</td>\n      <td>0.0</td>\n      <td>0.0</td>\n      <td>0.0</td>\n      <td>0.0</td>\n      <td>0.0</td>\n      <td>0.0</td>\n      <td>0.0</td>\n      <td>...</td>\n      <td>0.0</td>\n      <td>0.0</td>\n      <td>0.0</td>\n      <td>0.0</td>\n      <td>0.0</td>\n      <td>0.0</td>\n      <td>0.0</td>\n      <td>0.0</td>\n      <td>0.0</td>\n      <td>0.0</td>\n      <td>0.0</td>\n      <td>0.0</td>\n      <td>0.0</td>\n      <td>0.0</td>\n      <td>0.0</td>\n      <td>0.0</td>\n      <td>0.0</td>\n      <td>0.0</td>\n      <td>0.0</td>\n      <td>0.0</td>\n      <td>0.0</td>\n      <td>0.0</td>\n      <td>0.0</td>\n      <td>0.0</td>\n      <td>0.0</td>\n      <td>0.0</td>\n      <td>0.0</td>\n      <td>0.0</td>\n      <td>0.0</td>\n      <td>0.0</td>\n      <td>0.0</td>\n      <td>0.0</td>\n      <td>1.0</td>\n      <td>0.0</td>\n      <td>0.0</td>\n      <td>1.0</td>\n      <td>0.0</td>\n      <td>1.0</td>\n      <td>0.0</td>\n      <td>1.0</td>\n    </tr>\n    <tr>\n      <th>89</th>\n      <td>90.0</td>\n      <td>3681.000000</td>\n      <td>1.0</td>\n      <td>5.0</td>\n      <td>0.0</td>\n      <td>0.0</td>\n      <td>0.0</td>\n      <td>0.0</td>\n      <td>0.0</td>\n      <td>0.0</td>\n      <td>0.0</td>\n      <td>1.0</td>\n      <td>0.0</td>\n      <td>0.0</td>\n      <td>0.0</td>\n      <td>0.0</td>\n      <td>1.0</td>\n      <td>0.0</td>\n      <td>0.0</td>\n      <td>0.0</td>\n      <td>0.0</td>\n      <td>1.0</td>\n      <td>0.0</td>\n      <td>0.0</td>\n      <td>0.0</td>\n      <td>0.0</td>\n      <td>0.0</td>\n      <td>0.0</td>\n      <td>0.0</td>\n      <td>0.0</td>\n      <td>0.0</td>\n      <td>0.0</td>\n      <td>0.0</td>\n      <td>0.0</td>\n      <td>0.0</td>\n      <td>0.0</td>\n      <td>0.0</td>\n      <td>0.0</td>\n      <td>0.0</td>\n      <td>0.0</td>\n      <td>...</td>\n      <td>0.0</td>\n      <td>0.0</td>\n      <td>0.0</td>\n      <td>0.0</td>\n      <td>0.0</td>\n      <td>0.0</td>\n      <td>0.0</td>\n      <td>0.0</td>\n      <td>0.0</td>\n      <td>0.0</td>\n      <td>0.0</td>\n      <td>0.0</td>\n      <td>0.0</td>\n      <td>0.0</td>\n      <td>0.0</td>\n      <td>0.0</td>\n      <td>0.0</td>\n      <td>0.0</td>\n      <td>0.0</td>\n      <td>0.0</td>\n      <td>0.0</td>\n      <td>0.0</td>\n      <td>0.0</td>\n      <td>0.0</td>\n      <td>0.0</td>\n      <td>0.0</td>\n      <td>0.0</td>\n      <td>0.0</td>\n      <td>0.0</td>\n      <td>0.0</td>\n      <td>0.0</td>\n      <td>0.0</td>\n      <td>0.0</td>\n      <td>1.0</td>\n      <td>0.0</td>\n      <td>1.0</td>\n      <td>1.0</td>\n      <td>0.0</td>\n      <td>0.0</td>\n      <td>1.0</td>\n    </tr>\n  </tbody>\n</table>\n<p>90 rows \u00d7 83 columns</p>\n</div>"
                    },
                    "metadata": {
                        "application/vnd.databricks.v1+output": {
                            "addedWidgets": {},
                            "arguments": {},
                            "data": "<div>\n<style scoped>\n    .dataframe tbody tr th:only-of-type {\n        vertical-align: middle;\n    }\n\n    .dataframe tbody tr th {\n        vertical-align: top;\n    }\n\n    .dataframe thead th {\n        text-align: right;\n    }\n</style>\n<table border=\"1\" class=\"dataframe\">\n  <thead>\n    <tr style=\"text-align: right;\">\n      <th></th>\n      <th>FlightNumber</th>\n      <th>PayloadMass</th>\n      <th>Flights</th>\n      <th>Block</th>\n      <th>ReusedCount</th>\n      <th>Orbit_ES-L1</th>\n      <th>Orbit_GEO</th>\n      <th>Orbit_GTO</th>\n      <th>Orbit_HEO</th>\n      <th>Orbit_ISS</th>\n      <th>Orbit_LEO</th>\n      <th>Orbit_MEO</th>\n      <th>Orbit_PO</th>\n      <th>Orbit_SO</th>\n      <th>Orbit_SSO</th>\n      <th>Orbit_VLEO</th>\n      <th>LaunchSite_CCAFS SLC 40</th>\n      <th>LaunchSite_KSC LC 39A</th>\n      <th>LaunchSite_VAFB SLC 4E</th>\n      <th>LandingPad_5e9e3032383ecb267a34e7c7</th>\n      <th>LandingPad_5e9e3032383ecb554034e7c9</th>\n      <th>LandingPad_5e9e3032383ecb6bb234e7ca</th>\n      <th>LandingPad_5e9e3032383ecb761634e7cb</th>\n      <th>LandingPad_5e9e3033383ecbb9e534e7cc</th>\n      <th>Serial_B0003</th>\n      <th>Serial_B0005</th>\n      <th>Serial_B0007</th>\n      <th>Serial_B1003</th>\n      <th>Serial_B1004</th>\n      <th>Serial_B1005</th>\n      <th>Serial_B1006</th>\n      <th>Serial_B1007</th>\n      <th>Serial_B1008</th>\n      <th>Serial_B1010</th>\n      <th>Serial_B1011</th>\n      <th>Serial_B1012</th>\n      <th>Serial_B1013</th>\n      <th>Serial_B1015</th>\n      <th>Serial_B1016</th>\n      <th>Serial_B1017</th>\n      <th>...</th>\n      <th>Serial_B1021</th>\n      <th>Serial_B1022</th>\n      <th>Serial_B1023</th>\n      <th>Serial_B1025</th>\n      <th>Serial_B1026</th>\n      <th>Serial_B1028</th>\n      <th>Serial_B1029</th>\n      <th>Serial_B1030</th>\n      <th>Serial_B1031</th>\n      <th>Serial_B1032</th>\n      <th>Serial_B1034</th>\n      <th>Serial_B1035</th>\n      <th>Serial_B1036</th>\n      <th>Serial_B1037</th>\n      <th>Serial_B1038</th>\n      <th>Serial_B1039</th>\n      <th>Serial_B1040</th>\n      <th>Serial_B1041</th>\n      <th>Serial_B1042</th>\n      <th>Serial_B1043</th>\n      <th>Serial_B1044</th>\n      <th>Serial_B1045</th>\n      <th>Serial_B1046</th>\n      <th>Serial_B1047</th>\n      <th>Serial_B1048</th>\n      <th>Serial_B1049</th>\n      <th>Serial_B1050</th>\n      <th>Serial_B1051</th>\n      <th>Serial_B1054</th>\n      <th>Serial_B1056</th>\n      <th>Serial_B1058</th>\n      <th>Serial_B1059</th>\n      <th>Serial_B1060</th>\n      <th>Serial_B1062</th>\n      <th>GridFins_False</th>\n      <th>GridFins_True</th>\n      <th>Reused_False</th>\n      <th>Reused_True</th>\n      <th>Legs_False</th>\n      <th>Legs_True</th>\n    </tr>\n  </thead>\n  <tbody>\n    <tr>\n      <th>0</th>\n      <td>1.0</td>\n      <td>6104.959412</td>\n      <td>1.0</td>\n      <td>1.0</td>\n      <td>0.0</td>\n      <td>0.0</td>\n      <td>0.0</td>\n      <td>0.0</td>\n      <td>0.0</td>\n      <td>0.0</td>\n      <td>1.0</td>\n      <td>0.0</td>\n      <td>0.0</td>\n      <td>0.0</td>\n      <td>0.0</td>\n      <td>0.0</td>\n      <td>1.0</td>\n      <td>0.0</td>\n      <td>0.0</td>\n      <td>0.0</td>\n      <td>0.0</td>\n      <td>0.0</td>\n      <td>0.0</td>\n      <td>0.0</td>\n      <td>1.0</td>\n      <td>0.0</td>\n      <td>0.0</td>\n      <td>0.0</td>\n      <td>0.0</td>\n      <td>0.0</td>\n      <td>0.0</td>\n      <td>0.0</td>\n      <td>0.0</td>\n      <td>0.0</td>\n      <td>0.0</td>\n      <td>0.0</td>\n      <td>0.0</td>\n      <td>0.0</td>\n      <td>0.0</td>\n      <td>0.0</td>\n      <td>...</td>\n      <td>0.0</td>\n      <td>0.0</td>\n      <td>0.0</td>\n      <td>0.0</td>\n      <td>0.0</td>\n      <td>0.0</td>\n      <td>0.0</td>\n      <td>0.0</td>\n      <td>0.0</td>\n      <td>0.0</td>\n      <td>0.0</td>\n      <td>0.0</td>\n      <td>0.0</td>\n      <td>0.0</td>\n      <td>0.0</td>\n      <td>0.0</td>\n      <td>0.0</td>\n      <td>0.0</td>\n      <td>0.0</td>\n      <td>0.0</td>\n      <td>0.0</td>\n      <td>0.0</td>\n      <td>0.0</td>\n      <td>0.0</td>\n      <td>0.0</td>\n      <td>0.0</td>\n      <td>0.0</td>\n      <td>0.0</td>\n      <td>0.0</td>\n      <td>0.0</td>\n      <td>0.0</td>\n      <td>0.0</td>\n      <td>0.0</td>\n      <td>0.0</td>\n      <td>1.0</td>\n      <td>0.0</td>\n      <td>1.0</td>\n      <td>0.0</td>\n      <td>1.0</td>\n      <td>0.0</td>\n    </tr>\n    <tr>\n      <th>1</th>\n      <td>2.0</td>\n      <td>525.000000</td>\n      <td>1.0</td>\n      <td>1.0</td>\n      <td>0.0</td>\n      <td>0.0</td>\n      <td>0.0</td>\n      <td>0.0</td>\n      <td>0.0</td>\n      <td>0.0</td>\n      <td>1.0</td>\n      <td>0.0</td>\n      <td>0.0</td>\n      <td>0.0</td>\n      <td>0.0</td>\n      <td>0.0</td>\n      <td>1.0</td>\n      <td>0.0</td>\n      <td>0.0</td>\n      <td>0.0</td>\n      <td>0.0</td>\n      <td>0.0</td>\n      <td>0.0</td>\n      <td>0.0</td>\n      <td>0.0</td>\n      <td>1.0</td>\n      <td>0.0</td>\n      <td>0.0</td>\n      <td>0.0</td>\n      <td>0.0</td>\n      <td>0.0</td>\n      <td>0.0</td>\n      <td>0.0</td>\n      <td>0.0</td>\n      <td>0.0</td>\n      <td>0.0</td>\n      <td>0.0</td>\n      <td>0.0</td>\n      <td>0.0</td>\n      <td>0.0</td>\n      <td>...</td>\n      <td>0.0</td>\n      <td>0.0</td>\n      <td>0.0</td>\n      <td>0.0</td>\n      <td>0.0</td>\n      <td>0.0</td>\n      <td>0.0</td>\n      <td>0.0</td>\n      <td>0.0</td>\n      <td>0.0</td>\n      <td>0.0</td>\n      <td>0.0</td>\n      <td>0.0</td>\n      <td>0.0</td>\n      <td>0.0</td>\n      <td>0.0</td>\n      <td>0.0</td>\n      <td>0.0</td>\n      <td>0.0</td>\n      <td>0.0</td>\n      <td>0.0</td>\n      <td>0.0</td>\n      <td>0.0</td>\n      <td>0.0</td>\n      <td>0.0</td>\n      <td>0.0</td>\n      <td>0.0</td>\n      <td>0.0</td>\n      <td>0.0</td>\n      <td>0.0</td>\n      <td>0.0</td>\n      <td>0.0</td>\n      <td>0.0</td>\n      <td>0.0</td>\n      <td>1.0</td>\n      <td>0.0</td>\n      <td>1.0</td>\n      <td>0.0</td>\n      <td>1.0</td>\n      <td>0.0</td>\n    </tr>\n    <tr>\n      <th>2</th>\n      <td>3.0</td>\n      <td>677.000000</td>\n      <td>1.0</td>\n      <td>1.0</td>\n      <td>0.0</td>\n      <td>0.0</td>\n      <td>0.0</td>\n      <td>0.0</td>\n      <td>0.0</td>\n      <td>1.0</td>\n      <td>0.0</td>\n      <td>0.0</td>\n      <td>0.0</td>\n      <td>0.0</td>\n      <td>0.0</td>\n      <td>0.0</td>\n      <td>1.0</td>\n      <td>0.0</td>\n      <td>0.0</td>\n      <td>0.0</td>\n      <td>0.0</td>\n      <td>0.0</td>\n      <td>0.0</td>\n      <td>0.0</td>\n      <td>0.0</td>\n      <td>0.0</td>\n      <td>1.0</td>\n      <td>0.0</td>\n      <td>0.0</td>\n      <td>0.0</td>\n      <td>0.0</td>\n      <td>0.0</td>\n      <td>0.0</td>\n      <td>0.0</td>\n      <td>0.0</td>\n      <td>0.0</td>\n      <td>0.0</td>\n      <td>0.0</td>\n      <td>0.0</td>\n      <td>0.0</td>\n      <td>...</td>\n      <td>0.0</td>\n      <td>0.0</td>\n      <td>0.0</td>\n      <td>0.0</td>\n      <td>0.0</td>\n      <td>0.0</td>\n      <td>0.0</td>\n      <td>0.0</td>\n      <td>0.0</td>\n      <td>0.0</td>\n      <td>0.0</td>\n      <td>0.0</td>\n      <td>0.0</td>\n      <td>0.0</td>\n      <td>0.0</td>\n      <td>0.0</td>\n      <td>0.0</td>\n      <td>0.0</td>\n      <td>0.0</td>\n      <td>0.0</td>\n      <td>0.0</td>\n      <td>0.0</td>\n      <td>0.0</td>\n      <td>0.0</td>\n      <td>0.0</td>\n      <td>0.0</td>\n      <td>0.0</td>\n      <td>0.0</td>\n      <td>0.0</td>\n      <td>0.0</td>\n      <td>0.0</td>\n      <td>0.0</td>\n      <td>0.0</td>\n      <td>0.0</td>\n      <td>1.0</td>\n      <td>0.0</td>\n      <td>1.0</td>\n      <td>0.0</td>\n      <td>1.0</td>\n      <td>0.0</td>\n    </tr>\n    <tr>\n      <th>3</th>\n      <td>4.0</td>\n      <td>500.000000</td>\n      <td>1.0</td>\n      <td>1.0</td>\n      <td>0.0</td>\n      <td>0.0</td>\n      <td>0.0</td>\n      <td>0.0</td>\n      <td>0.0</td>\n      <td>0.0</td>\n      <td>0.0</td>\n      <td>0.0</td>\n      <td>1.0</td>\n      <td>0.0</td>\n      <td>0.0</td>\n      <td>0.0</td>\n      <td>0.0</td>\n      <td>0.0</td>\n      <td>1.0</td>\n      <td>0.0</td>\n      <td>0.0</td>\n      <td>0.0</td>\n      <td>0.0</td>\n      <td>0.0</td>\n      <td>0.0</td>\n      <td>0.0</td>\n      <td>0.0</td>\n      <td>1.0</td>\n      <td>0.0</td>\n      <td>0.0</td>\n      <td>0.0</td>\n      <td>0.0</td>\n      <td>0.0</td>\n      <td>0.0</td>\n      <td>0.0</td>\n      <td>0.0</td>\n      <td>0.0</td>\n      <td>0.0</td>\n      <td>0.0</td>\n      <td>0.0</td>\n      <td>...</td>\n      <td>0.0</td>\n      <td>0.0</td>\n      <td>0.0</td>\n      <td>0.0</td>\n      <td>0.0</td>\n      <td>0.0</td>\n      <td>0.0</td>\n      <td>0.0</td>\n      <td>0.0</td>\n      <td>0.0</td>\n      <td>0.0</td>\n      <td>0.0</td>\n      <td>0.0</td>\n      <td>0.0</td>\n      <td>0.0</td>\n      <td>0.0</td>\n      <td>0.0</td>\n      <td>0.0</td>\n      <td>0.0</td>\n      <td>0.0</td>\n      <td>0.0</td>\n      <td>0.0</td>\n      <td>0.0</td>\n      <td>0.0</td>\n      <td>0.0</td>\n      <td>0.0</td>\n      <td>0.0</td>\n      <td>0.0</td>\n      <td>0.0</td>\n      <td>0.0</td>\n      <td>0.0</td>\n      <td>0.0</td>\n      <td>0.0</td>\n      <td>0.0</td>\n      <td>1.0</td>\n      <td>0.0</td>\n      <td>1.0</td>\n      <td>0.0</td>\n      <td>1.0</td>\n      <td>0.0</td>\n    </tr>\n    <tr>\n      <th>4</th>\n      <td>5.0</td>\n      <td>3170.000000</td>\n      <td>1.0</td>\n      <td>1.0</td>\n      <td>0.0</td>\n      <td>0.0</td>\n      <td>0.0</td>\n      <td>1.0</td>\n      <td>0.0</td>\n      <td>0.0</td>\n      <td>0.0</td>\n      <td>0.0</td>\n      <td>0.0</td>\n      <td>0.0</td>\n      <td>0.0</td>\n      <td>0.0</td>\n      <td>1.0</td>\n      <td>0.0</td>\n      <td>0.0</td>\n      <td>0.0</td>\n      <td>0.0</td>\n      <td>0.0</td>\n      <td>0.0</td>\n      <td>0.0</td>\n      <td>0.0</td>\n      <td>0.0</td>\n      <td>0.0</td>\n      <td>0.0</td>\n      <td>1.0</td>\n      <td>0.0</td>\n      <td>0.0</td>\n      <td>0.0</td>\n      <td>0.0</td>\n      <td>0.0</td>\n      <td>0.0</td>\n      <td>0.0</td>\n      <td>0.0</td>\n      <td>0.0</td>\n      <td>0.0</td>\n      <td>0.0</td>\n      <td>...</td>\n      <td>0.0</td>\n      <td>0.0</td>\n      <td>0.0</td>\n      <td>0.0</td>\n      <td>0.0</td>\n      <td>0.0</td>\n      <td>0.0</td>\n      <td>0.0</td>\n      <td>0.0</td>\n      <td>0.0</td>\n      <td>0.0</td>\n      <td>0.0</td>\n      <td>0.0</td>\n      <td>0.0</td>\n      <td>0.0</td>\n      <td>0.0</td>\n      <td>0.0</td>\n      <td>0.0</td>\n      <td>0.0</td>\n      <td>0.0</td>\n      <td>0.0</td>\n      <td>0.0</td>\n      <td>0.0</td>\n      <td>0.0</td>\n      <td>0.0</td>\n      <td>0.0</td>\n      <td>0.0</td>\n      <td>0.0</td>\n      <td>0.0</td>\n      <td>0.0</td>\n      <td>0.0</td>\n      <td>0.0</td>\n      <td>0.0</td>\n      <td>0.0</td>\n      <td>1.0</td>\n      <td>0.0</td>\n      <td>1.0</td>\n      <td>0.0</td>\n      <td>1.0</td>\n      <td>0.0</td>\n    </tr>\n    <tr>\n      <th>...</th>\n      <td>...</td>\n      <td>...</td>\n      <td>...</td>\n      <td>...</td>\n      <td>...</td>\n      <td>...</td>\n      <td>...</td>\n      <td>...</td>\n      <td>...</td>\n      <td>...</td>\n      <td>...</td>\n      <td>...</td>\n      <td>...</td>\n      <td>...</td>\n      <td>...</td>\n      <td>...</td>\n      <td>...</td>\n      <td>...</td>\n      <td>...</td>\n      <td>...</td>\n      <td>...</td>\n      <td>...</td>\n      <td>...</td>\n      <td>...</td>\n      <td>...</td>\n      <td>...</td>\n      <td>...</td>\n      <td>...</td>\n      <td>...</td>\n      <td>...</td>\n      <td>...</td>\n      <td>...</td>\n      <td>...</td>\n      <td>...</td>\n      <td>...</td>\n      <td>...</td>\n      <td>...</td>\n      <td>...</td>\n      <td>...</td>\n      <td>...</td>\n      <td>...</td>\n      <td>...</td>\n      <td>...</td>\n      <td>...</td>\n      <td>...</td>\n      <td>...</td>\n      <td>...</td>\n      <td>...</td>\n      <td>...</td>\n      <td>...</td>\n      <td>...</td>\n      <td>...</td>\n      <td>...</td>\n      <td>...</td>\n      <td>...</td>\n      <td>...</td>\n      <td>...</td>\n      <td>...</td>\n      <td>...</td>\n      <td>...</td>\n      <td>...</td>\n      <td>...</td>\n      <td>...</td>\n      <td>...</td>\n      <td>...</td>\n      <td>...</td>\n      <td>...</td>\n      <td>...</td>\n      <td>...</td>\n      <td>...</td>\n      <td>...</td>\n      <td>...</td>\n      <td>...</td>\n      <td>...</td>\n      <td>...</td>\n      <td>...</td>\n      <td>...</td>\n      <td>...</td>\n      <td>...</td>\n      <td>...</td>\n      <td>...</td>\n    </tr>\n    <tr>\n      <th>85</th>\n      <td>86.0</td>\n      <td>15400.000000</td>\n      <td>2.0</td>\n      <td>5.0</td>\n      <td>2.0</td>\n      <td>0.0</td>\n      <td>0.0</td>\n      <td>0.0</td>\n      <td>0.0</td>\n      <td>0.0</td>\n      <td>0.0</td>\n      <td>0.0</td>\n      <td>0.0</td>\n      <td>0.0</td>\n      <td>0.0</td>\n      <td>1.0</td>\n      <td>0.0</td>\n      <td>1.0</td>\n      <td>0.0</td>\n      <td>0.0</td>\n      <td>0.0</td>\n      <td>1.0</td>\n      <td>0.0</td>\n      <td>0.0</td>\n      <td>0.0</td>\n      <td>0.0</td>\n      <td>0.0</td>\n      <td>0.0</td>\n      <td>0.0</td>\n      <td>0.0</td>\n      <td>0.0</td>\n      <td>0.0</td>\n      <td>0.0</td>\n      <td>0.0</td>\n      <td>0.0</td>\n      <td>0.0</td>\n      <td>0.0</td>\n      <td>0.0</td>\n      <td>0.0</td>\n      <td>0.0</td>\n      <td>...</td>\n      <td>0.0</td>\n      <td>0.0</td>\n      <td>0.0</td>\n      <td>0.0</td>\n      <td>0.0</td>\n      <td>0.0</td>\n      <td>0.0</td>\n      <td>0.0</td>\n      <td>0.0</td>\n      <td>0.0</td>\n      <td>0.0</td>\n      <td>0.0</td>\n      <td>0.0</td>\n      <td>0.0</td>\n      <td>0.0</td>\n      <td>0.0</td>\n      <td>0.0</td>\n      <td>0.0</td>\n      <td>0.0</td>\n      <td>0.0</td>\n      <td>0.0</td>\n      <td>0.0</td>\n      <td>0.0</td>\n      <td>0.0</td>\n      <td>0.0</td>\n      <td>0.0</td>\n      <td>0.0</td>\n      <td>0.0</td>\n      <td>0.0</td>\n      <td>0.0</td>\n      <td>0.0</td>\n      <td>0.0</td>\n      <td>1.0</td>\n      <td>0.0</td>\n      <td>0.0</td>\n      <td>1.0</td>\n      <td>0.0</td>\n      <td>1.0</td>\n      <td>0.0</td>\n      <td>1.0</td>\n    </tr>\n    <tr>\n      <th>86</th>\n      <td>87.0</td>\n      <td>15400.000000</td>\n      <td>3.0</td>\n      <td>5.0</td>\n      <td>2.0</td>\n      <td>0.0</td>\n      <td>0.0</td>\n      <td>0.0</td>\n      <td>0.0</td>\n      <td>0.0</td>\n      <td>0.0</td>\n      <td>0.0</td>\n      <td>0.0</td>\n      <td>0.0</td>\n      <td>0.0</td>\n      <td>1.0</td>\n      <td>0.0</td>\n      <td>1.0</td>\n      <td>0.0</td>\n      <td>0.0</td>\n      <td>0.0</td>\n      <td>1.0</td>\n      <td>0.0</td>\n      <td>0.0</td>\n      <td>0.0</td>\n      <td>0.0</td>\n      <td>0.0</td>\n      <td>0.0</td>\n      <td>0.0</td>\n      <td>0.0</td>\n      <td>0.0</td>\n      <td>0.0</td>\n      <td>0.0</td>\n      <td>0.0</td>\n      <td>0.0</td>\n      <td>0.0</td>\n      <td>0.0</td>\n      <td>0.0</td>\n      <td>0.0</td>\n      <td>0.0</td>\n      <td>...</td>\n      <td>0.0</td>\n      <td>0.0</td>\n      <td>0.0</td>\n      <td>0.0</td>\n      <td>0.0</td>\n      <td>0.0</td>\n      <td>0.0</td>\n      <td>0.0</td>\n      <td>0.0</td>\n      <td>0.0</td>\n      <td>0.0</td>\n      <td>0.0</td>\n      <td>0.0</td>\n      <td>0.0</td>\n      <td>0.0</td>\n      <td>0.0</td>\n      <td>0.0</td>\n      <td>0.0</td>\n      <td>0.0</td>\n      <td>0.0</td>\n      <td>0.0</td>\n      <td>0.0</td>\n      <td>0.0</td>\n      <td>0.0</td>\n      <td>0.0</td>\n      <td>0.0</td>\n      <td>0.0</td>\n      <td>0.0</td>\n      <td>0.0</td>\n      <td>0.0</td>\n      <td>1.0</td>\n      <td>0.0</td>\n      <td>0.0</td>\n      <td>0.0</td>\n      <td>0.0</td>\n      <td>1.0</td>\n      <td>0.0</td>\n      <td>1.0</td>\n      <td>0.0</td>\n      <td>1.0</td>\n    </tr>\n    <tr>\n      <th>87</th>\n      <td>88.0</td>\n      <td>15400.000000</td>\n      <td>6.0</td>\n      <td>5.0</td>\n      <td>5.0</td>\n      <td>0.0</td>\n      <td>0.0</td>\n      <td>0.0</td>\n      <td>0.0</td>\n      <td>0.0</td>\n      <td>0.0</td>\n      <td>0.0</td>\n      <td>0.0</td>\n      <td>0.0</td>\n      <td>0.0</td>\n      <td>1.0</td>\n      <td>0.0</td>\n      <td>1.0</td>\n      <td>0.0</td>\n      <td>0.0</td>\n      <td>0.0</td>\n      <td>1.0</td>\n      <td>0.0</td>\n      <td>0.0</td>\n      <td>0.0</td>\n      <td>0.0</td>\n      <td>0.0</td>\n      <td>0.0</td>\n      <td>0.0</td>\n      <td>0.0</td>\n      <td>0.0</td>\n      <td>0.0</td>\n      <td>0.0</td>\n      <td>0.0</td>\n      <td>0.0</td>\n      <td>0.0</td>\n      <td>0.0</td>\n      <td>0.0</td>\n      <td>0.0</td>\n      <td>0.0</td>\n      <td>...</td>\n      <td>0.0</td>\n      <td>0.0</td>\n      <td>0.0</td>\n      <td>0.0</td>\n      <td>0.0</td>\n      <td>0.0</td>\n      <td>0.0</td>\n      <td>0.0</td>\n      <td>0.0</td>\n      <td>0.0</td>\n      <td>0.0</td>\n      <td>0.0</td>\n      <td>0.0</td>\n      <td>0.0</td>\n      <td>0.0</td>\n      <td>0.0</td>\n      <td>0.0</td>\n      <td>0.0</td>\n      <td>0.0</td>\n      <td>0.0</td>\n      <td>0.0</td>\n      <td>0.0</td>\n      <td>0.0</td>\n      <td>0.0</td>\n      <td>0.0</td>\n      <td>0.0</td>\n      <td>0.0</td>\n      <td>1.0</td>\n      <td>0.0</td>\n      <td>0.0</td>\n      <td>0.0</td>\n      <td>0.0</td>\n      <td>0.0</td>\n      <td>0.0</td>\n      <td>0.0</td>\n      <td>1.0</td>\n      <td>0.0</td>\n      <td>1.0</td>\n      <td>0.0</td>\n      <td>1.0</td>\n    </tr>\n    <tr>\n      <th>88</th>\n      <td>89.0</td>\n      <td>15400.000000</td>\n      <td>3.0</td>\n      <td>5.0</td>\n      <td>2.0</td>\n      <td>0.0</td>\n      <td>0.0</td>\n      <td>0.0</td>\n      <td>0.0</td>\n      <td>0.0</td>\n      <td>0.0</td>\n      <td>0.0</td>\n      <td>0.0</td>\n      <td>0.0</td>\n      <td>0.0</td>\n      <td>1.0</td>\n      <td>1.0</td>\n      <td>0.0</td>\n      <td>0.0</td>\n      <td>0.0</td>\n      <td>0.0</td>\n      <td>0.0</td>\n      <td>0.0</td>\n      <td>1.0</td>\n      <td>0.0</td>\n      <td>0.0</td>\n      <td>0.0</td>\n      <td>0.0</td>\n      <td>0.0</td>\n      <td>0.0</td>\n      <td>0.0</td>\n      <td>0.0</td>\n      <td>0.0</td>\n      <td>0.0</td>\n      <td>0.0</td>\n      <td>0.0</td>\n      <td>0.0</td>\n      <td>0.0</td>\n      <td>0.0</td>\n      <td>0.0</td>\n      <td>...</td>\n      <td>0.0</td>\n      <td>0.0</td>\n      <td>0.0</td>\n      <td>0.0</td>\n      <td>0.0</td>\n      <td>0.0</td>\n      <td>0.0</td>\n      <td>0.0</td>\n      <td>0.0</td>\n      <td>0.0</td>\n      <td>0.0</td>\n      <td>0.0</td>\n      <td>0.0</td>\n      <td>0.0</td>\n      <td>0.0</td>\n      <td>0.0</td>\n      <td>0.0</td>\n      <td>0.0</td>\n      <td>0.0</td>\n      <td>0.0</td>\n      <td>0.0</td>\n      <td>0.0</td>\n      <td>0.0</td>\n      <td>0.0</td>\n      <td>0.0</td>\n      <td>0.0</td>\n      <td>0.0</td>\n      <td>0.0</td>\n      <td>0.0</td>\n      <td>0.0</td>\n      <td>0.0</td>\n      <td>0.0</td>\n      <td>1.0</td>\n      <td>0.0</td>\n      <td>0.0</td>\n      <td>1.0</td>\n      <td>0.0</td>\n      <td>1.0</td>\n      <td>0.0</td>\n      <td>1.0</td>\n    </tr>\n    <tr>\n      <th>89</th>\n      <td>90.0</td>\n      <td>3681.000000</td>\n      <td>1.0</td>\n      <td>5.0</td>\n      <td>0.0</td>\n      <td>0.0</td>\n      <td>0.0</td>\n      <td>0.0</td>\n      <td>0.0</td>\n      <td>0.0</td>\n      <td>0.0</td>\n      <td>1.0</td>\n      <td>0.0</td>\n      <td>0.0</td>\n      <td>0.0</td>\n      <td>0.0</td>\n      <td>1.0</td>\n      <td>0.0</td>\n      <td>0.0</td>\n      <td>0.0</td>\n      <td>0.0</td>\n      <td>1.0</td>\n      <td>0.0</td>\n      <td>0.0</td>\n      <td>0.0</td>\n      <td>0.0</td>\n      <td>0.0</td>\n      <td>0.0</td>\n      <td>0.0</td>\n      <td>0.0</td>\n      <td>0.0</td>\n      <td>0.0</td>\n      <td>0.0</td>\n      <td>0.0</td>\n      <td>0.0</td>\n      <td>0.0</td>\n      <td>0.0</td>\n      <td>0.0</td>\n      <td>0.0</td>\n      <td>0.0</td>\n      <td>...</td>\n      <td>0.0</td>\n      <td>0.0</td>\n      <td>0.0</td>\n      <td>0.0</td>\n      <td>0.0</td>\n      <td>0.0</td>\n      <td>0.0</td>\n      <td>0.0</td>\n      <td>0.0</td>\n      <td>0.0</td>\n      <td>0.0</td>\n      <td>0.0</td>\n      <td>0.0</td>\n      <td>0.0</td>\n      <td>0.0</td>\n      <td>0.0</td>\n      <td>0.0</td>\n      <td>0.0</td>\n      <td>0.0</td>\n      <td>0.0</td>\n      <td>0.0</td>\n      <td>0.0</td>\n      <td>0.0</td>\n      <td>0.0</td>\n      <td>0.0</td>\n      <td>0.0</td>\n      <td>0.0</td>\n      <td>0.0</td>\n      <td>0.0</td>\n      <td>0.0</td>\n      <td>0.0</td>\n      <td>0.0</td>\n      <td>0.0</td>\n      <td>1.0</td>\n      <td>0.0</td>\n      <td>1.0</td>\n      <td>1.0</td>\n      <td>0.0</td>\n      <td>0.0</td>\n      <td>1.0</td>\n    </tr>\n  </tbody>\n</table>\n<p>90 rows \u00d7 83 columns</p>\n</div>",
                            "datasetInfos": [],
                            "metadata": {},
                            "removedWidgets": [],
                            "textData": null,
                            "type": "htmlSandbox"
                        }
                    },
                    "output_type": "display_data"
                }
            ],
            "source": "X = pd.read_csv('https://cf-courses-data.s3.us.cloud-object-storage.appdomain.cloud/IBM-DS0321EN-SkillsNetwork/datasets/dataset_part_3.csv')\n\n# If you were unable to complete the previous lab correctly you can uncomment and load this csv\n\n# X = pd.read_csv('https://cf-courses-data.s3.us.cloud-object-storage.appdomain.cloud/IBMDeveloperSkillsNetwork-DS0701EN-SkillsNetwork/api/dataset_part_3.csv')\n\nX.head(100)"
        },
        {
            "cell_type": "markdown",
            "metadata": {
                "application/vnd.databricks.v1+cell": {
                    "cellMetadata": {},
                    "inputWidgets": {},
                    "nuid": "a10858c6-5a78-47fc-b2e5-9e67d72ee6fa",
                    "showTitle": false,
                    "title": ""
                }
            },
            "source": "## TASK  1"
        },
        {
            "cell_type": "markdown",
            "metadata": {
                "application/vnd.databricks.v1+cell": {
                    "cellMetadata": {},
                    "inputWidgets": {},
                    "nuid": "2a234188-8abb-4f9e-958b-5984211cc89c",
                    "showTitle": false,
                    "title": ""
                }
            },
            "source": "Create a NumPy array from the column <code>Class</code> in <code>data</code>, by applying the method <code>to_numpy()</code>  then \nassign it  to the variable <code>Y</code>,make sure the output is a  Pandas series (only one bracket df['name of  column'])."
        },
        {
            "cell_type": "code",
            "execution_count": 0,
            "metadata": {
                "application/vnd.databricks.v1+cell": {
                    "cellMetadata": {
                        "byteLimit": 2048000,
                        "rowLimit": 10000
                    },
                    "inputWidgets": {},
                    "nuid": "bc12160f-c9df-418a-af4f-9a8f608277a0",
                    "showTitle": false,
                    "title": ""
                }
            },
            "outputs": [
                {
                    "data": {
                        "text/html": "<style scoped>\n  .ansiout {\n    display: block;\n    unicode-bidi: embed;\n    white-space: pre-wrap;\n    word-wrap: break-word;\n    word-break: break-all;\n    font-family: \"Source Code Pro\", \"Menlo\", monospace;;\n    font-size: 13px;\n    color: #555;\n    margin-left: 4px;\n    line-height: 19px;\n  }\n</style>\n<div class=\"ansiout\"></div>"
                    },
                    "metadata": {
                        "application/vnd.databricks.v1+output": {
                            "addedWidgets": {},
                            "arguments": {},
                            "data": "<div class=\"ansiout\"></div>",
                            "datasetInfos": [],
                            "metadata": {},
                            "removedWidgets": [],
                            "type": "html"
                        }
                    },
                    "output_type": "display_data"
                }
            ],
            "source": "y = data.Class.to_numpy()"
        },
        {
            "cell_type": "markdown",
            "metadata": {
                "application/vnd.databricks.v1+cell": {
                    "cellMetadata": {},
                    "inputWidgets": {},
                    "nuid": "bf97d2ea-fa28-47a6-b30b-70d62be07958",
                    "showTitle": false,
                    "title": ""
                }
            },
            "source": "## TASK  2"
        },
        {
            "cell_type": "markdown",
            "metadata": {
                "application/vnd.databricks.v1+cell": {
                    "cellMetadata": {},
                    "inputWidgets": {},
                    "nuid": "a7ae99f7-2f58-4e37-bf68-93ab332596d3",
                    "showTitle": false,
                    "title": ""
                }
            },
            "source": "Standardize the data in <code>X</code> then reassign it to the variable  <code>X</code> using the transform provided below."
        },
        {
            "cell_type": "code",
            "execution_count": 0,
            "metadata": {
                "application/vnd.databricks.v1+cell": {
                    "cellMetadata": {
                        "byteLimit": 2048000,
                        "rowLimit": 10000
                    },
                    "inputWidgets": {},
                    "nuid": "b6c81aa8-104a-4ced-97a1-3c258b7ea0b0",
                    "showTitle": false,
                    "title": ""
                }
            },
            "outputs": [
                {
                    "data": {
                        "text/html": "<style scoped>\n  .ansiout {\n    display: block;\n    unicode-bidi: embed;\n    white-space: pre-wrap;\n    word-wrap: break-word;\n    word-break: break-all;\n    font-family: \"Source Code Pro\", \"Menlo\", monospace;;\n    font-size: 13px;\n    color: #555;\n    margin-left: 4px;\n    line-height: 19px;\n  }\n</style>\n<div class=\"ansiout\"></div>"
                    },
                    "metadata": {
                        "application/vnd.databricks.v1+output": {
                            "addedWidgets": {},
                            "arguments": {},
                            "data": "<div class=\"ansiout\"></div>",
                            "datasetInfos": [],
                            "metadata": {},
                            "removedWidgets": [],
                            "type": "html"
                        }
                    },
                    "output_type": "display_data"
                }
            ],
            "source": "# students get this \ntransform = preprocessing.StandardScaler()"
        },
        {
            "cell_type": "code",
            "execution_count": 0,
            "metadata": {
                "application/vnd.databricks.v1+cell": {
                    "cellMetadata": {
                        "byteLimit": 2048000,
                        "rowLimit": 10000
                    },
                    "inputWidgets": {},
                    "nuid": "90f1949a-9312-4ad2-9cd9-a9f341b228e0",
                    "showTitle": false,
                    "title": ""
                }
            },
            "outputs": [
                {
                    "data": {
                        "text/html": "<style scoped>\n  .ansiout {\n    display: block;\n    unicode-bidi: embed;\n    white-space: pre-wrap;\n    word-wrap: break-word;\n    word-break: break-all;\n    font-family: \"Source Code Pro\", \"Menlo\", monospace;;\n    font-size: 13px;\n    color: #555;\n    margin-left: 4px;\n    line-height: 19px;\n  }\n</style>\n<div class=\"ansiout\">/databricks/python/lib/python3.8/site-packages/sklearn/utils/validation.py:70: FutureWarning: Pass copy=    FlightNumber   PayloadMass  Flights  ...  Reused_True  Legs_False  Legs_True\n0            1.0   6104.959412      1.0  ...          0.0         1.0        0.0\n1            2.0    525.000000      1.0  ...          0.0         1.0        0.0\n2            3.0    677.000000      1.0  ...          0.0         1.0        0.0\n3            4.0    500.000000      1.0  ...          0.0         1.0        0.0\n4            5.0   3170.000000      1.0  ...          0.0         1.0        0.0\n..           ...           ...      ...  ...          ...         ...        ...\n85          86.0  15400.000000      2.0  ...          1.0         0.0        1.0\n86          87.0  15400.000000      3.0  ...          1.0         0.0        1.0\n87          88.0  15400.000000      6.0  ...          1.0         0.0        1.0\n88          89.0  15400.000000      3.0  ...          1.0         0.0        1.0\n89          90.0   3681.000000      1.0  ...          0.0         0.0        1.0\n\n[90 rows x 83 columns] as keyword args. From version 1.0 (renaming of 0.25) passing these as positional arguments will result in an error\n  warnings.warn(f&#34;Pass {args_msg} as keyword args. From version &#34;\n</div>"
                    },
                    "metadata": {
                        "application/vnd.databricks.v1+output": {
                            "addedWidgets": {},
                            "arguments": {},
                            "data": "<div class=\"ansiout\">/databricks/python/lib/python3.8/site-packages/sklearn/utils/validation.py:70: FutureWarning: Pass copy=    FlightNumber   PayloadMass  Flights  ...  Reused_True  Legs_False  Legs_True\n0            1.0   6104.959412      1.0  ...          0.0         1.0        0.0\n1            2.0    525.000000      1.0  ...          0.0         1.0        0.0\n2            3.0    677.000000      1.0  ...          0.0         1.0        0.0\n3            4.0    500.000000      1.0  ...          0.0         1.0        0.0\n4            5.0   3170.000000      1.0  ...          0.0         1.0        0.0\n..           ...           ...      ...  ...          ...         ...        ...\n85          86.0  15400.000000      2.0  ...          1.0         0.0        1.0\n86          87.0  15400.000000      3.0  ...          1.0         0.0        1.0\n87          88.0  15400.000000      6.0  ...          1.0         0.0        1.0\n88          89.0  15400.000000      3.0  ...          1.0         0.0        1.0\n89          90.0   3681.000000      1.0  ...          0.0         0.0        1.0\n\n[90 rows x 83 columns] as keyword args. From version 1.0 (renaming of 0.25) passing these as positional arguments will result in an error\n  warnings.warn(f&#34;Pass {args_msg} as keyword args. From version &#34;\n</div>",
                            "datasetInfos": [],
                            "metadata": {},
                            "removedWidgets": [],
                            "type": "html"
                        }
                    },
                    "output_type": "display_data"
                }
            ],
            "source": "x = preprocessing.StandardScaler(X)"
        },
        {
            "cell_type": "markdown",
            "metadata": {
                "application/vnd.databricks.v1+cell": {
                    "cellMetadata": {},
                    "inputWidgets": {},
                    "nuid": "0583a4a8-678f-423c-a28a-2b7b09e5923a",
                    "showTitle": false,
                    "title": ""
                }
            },
            "source": "We split the data into training and testing data using the  function  <code>train_test_split</code>.   The training data is divided into validation data, a second set used for training  data; then the models are trained and hyperparameters are selected using the function <code>GridSearchCV</code>."
        },
        {
            "cell_type": "markdown",
            "metadata": {
                "application/vnd.databricks.v1+cell": {
                    "cellMetadata": {},
                    "inputWidgets": {},
                    "nuid": "d5f1e182-8270-4bce-9b74-042a9ecb5063",
                    "showTitle": false,
                    "title": ""
                }
            },
            "source": "## TASK  3"
        },
        {
            "cell_type": "markdown",
            "metadata": {
                "application/vnd.databricks.v1+cell": {
                    "cellMetadata": {},
                    "inputWidgets": {},
                    "nuid": "502f773b-e4e8-4c4e-9ff8-eb5c3af6d579",
                    "showTitle": false,
                    "title": ""
                }
            },
            "source": "Use the function train_test_split to split the data X and Y into training and test data. Set the parameter test_size to  0.2 and random_state to 2. The training data and test data should be assigned to the following labels."
        },
        {
            "cell_type": "markdown",
            "metadata": {
                "application/vnd.databricks.v1+cell": {
                    "cellMetadata": {},
                    "inputWidgets": {},
                    "nuid": "0f1313f5-f7ab-4b6c-831a-2c1858ff0d08",
                    "showTitle": false,
                    "title": ""
                }
            },
            "source": "<code>X_train, X_test, Y_train, Y_test</code>"
        },
        {
            "cell_type": "code",
            "execution_count": 0,
            "metadata": {
                "application/vnd.databricks.v1+cell": {
                    "cellMetadata": {
                        "byteLimit": 2048000,
                        "rowLimit": 10000
                    },
                    "inputWidgets": {},
                    "nuid": "7b6e4be2-0e05-4101-a614-12306851ee31",
                    "showTitle": false,
                    "title": ""
                }
            },
            "outputs": [
                {
                    "data": {
                        "text/html": "<style scoped>\n  .ansiout {\n    display: block;\n    unicode-bidi: embed;\n    white-space: pre-wrap;\n    word-wrap: break-word;\n    word-break: break-all;\n    font-family: \"Source Code Pro\", \"Menlo\", monospace;;\n    font-size: 13px;\n    color: #555;\n    margin-left: 4px;\n    line-height: 19px;\n  }\n</style>\n<div class=\"ansiout\"></div>"
                    },
                    "metadata": {
                        "application/vnd.databricks.v1+output": {
                            "addedWidgets": {},
                            "arguments": {},
                            "data": "<div class=\"ansiout\"></div>",
                            "datasetInfos": [],
                            "metadata": {},
                            "removedWidgets": [],
                            "type": "html"
                        }
                    },
                    "output_type": "display_data"
                }
            ],
            "source": "X_train, X_test, Y_train, Y_test = train_test_split(X, y, test_size=0.2, random_state=2)"
        },
        {
            "cell_type": "markdown",
            "metadata": {
                "application/vnd.databricks.v1+cell": {
                    "cellMetadata": {},
                    "inputWidgets": {},
                    "nuid": "3e11b4ac-37c2-4aa8-8528-af1087c1ec8d",
                    "showTitle": false,
                    "title": ""
                }
            },
            "source": "we can see we only have 18 test samples."
        },
        {
            "cell_type": "code",
            "execution_count": 0,
            "metadata": {
                "application/vnd.databricks.v1+cell": {
                    "cellMetadata": {
                        "byteLimit": 2048000,
                        "rowLimit": 10000
                    },
                    "inputWidgets": {},
                    "nuid": "7d9f5fd2-6932-4fc8-bf35-6c84f21951fb",
                    "showTitle": false,
                    "title": ""
                }
            },
            "outputs": [
                {
                    "data": {
                        "text/html": "<style scoped>\n  .ansiout {\n    display: block;\n    unicode-bidi: embed;\n    white-space: pre-wrap;\n    word-wrap: break-word;\n    word-break: break-all;\n    font-family: \"Source Code Pro\", \"Menlo\", monospace;;\n    font-size: 13px;\n    color: #555;\n    margin-left: 4px;\n    line-height: 19px;\n  }\n</style>\n<div class=\"ansiout\">Out[9]: (18,)</div>"
                    },
                    "metadata": {
                        "application/vnd.databricks.v1+output": {
                            "addedWidgets": {},
                            "arguments": {},
                            "data": "<div class=\"ansiout\">Out[9]: (18,)</div>",
                            "datasetInfos": [],
                            "metadata": {},
                            "removedWidgets": [],
                            "type": "html"
                        }
                    },
                    "output_type": "display_data"
                }
            ],
            "source": "Y_test.shape"
        },
        {
            "cell_type": "markdown",
            "metadata": {
                "application/vnd.databricks.v1+cell": {
                    "cellMetadata": {},
                    "inputWidgets": {},
                    "nuid": "69d7a2f6-37c6-430f-8919-00cc5306901e",
                    "showTitle": false,
                    "title": ""
                }
            },
            "source": "## TASK  4"
        },
        {
            "cell_type": "markdown",
            "metadata": {
                "application/vnd.databricks.v1+cell": {
                    "cellMetadata": {},
                    "inputWidgets": {},
                    "nuid": "a172e015-1095-4343-8c5e-19d590073e65",
                    "showTitle": false,
                    "title": ""
                }
            },
            "source": "Create a logistic regression object  then create a  GridSearchCV object  <code>logreg_cv</code> with cv = 10.  Fit the object to find the best parameters from the dictionary <code>parameters</code>."
        },
        {
            "cell_type": "code",
            "execution_count": 0,
            "metadata": {
                "application/vnd.databricks.v1+cell": {
                    "cellMetadata": {
                        "byteLimit": 2048000,
                        "rowLimit": 10000
                    },
                    "inputWidgets": {},
                    "nuid": "6266ff6c-daba-4d01-8fb1-45382560d1a0",
                    "showTitle": false,
                    "title": ""
                }
            },
            "outputs": [
                {
                    "data": {
                        "text/html": "<style scoped>\n  .ansiout {\n    display: block;\n    unicode-bidi: embed;\n    white-space: pre-wrap;\n    word-wrap: break-word;\n    word-break: break-all;\n    font-family: \"Source Code Pro\", \"Menlo\", monospace;;\n    font-size: 13px;\n    color: #555;\n    margin-left: 4px;\n    line-height: 19px;\n  }\n</style>\n<div class=\"ansiout\"></div>"
                    },
                    "metadata": {
                        "application/vnd.databricks.v1+output": {
                            "addedWidgets": {},
                            "arguments": {},
                            "data": "<div class=\"ansiout\"></div>",
                            "datasetInfos": [],
                            "metadata": {},
                            "removedWidgets": [],
                            "type": "html"
                        }
                    },
                    "output_type": "display_data"
                }
            ],
            "source": "parameters ={'C':[0.01,0.1,1],\n             'penalty':['l2'],\n             'solver':['lbfgs']}"
        },
        {
            "cell_type": "code",
            "execution_count": 0,
            "metadata": {
                "application/vnd.databricks.v1+cell": {
                    "cellMetadata": {
                        "byteLimit": 2048000,
                        "rowLimit": 10000
                    },
                    "inputWidgets": {},
                    "nuid": "e524351e-1c3f-45fe-8f84-d40875e20a7a",
                    "showTitle": false,
                    "title": ""
                }
            },
            "outputs": [
                {
                    "data": {
                        "text/html": "<style scoped>\n  .ansiout {\n    display: block;\n    unicode-bidi: embed;\n    white-space: pre-wrap;\n    word-wrap: break-word;\n    word-break: break-all;\n    font-family: \"Source Code Pro\", \"Menlo\", monospace;;\n    font-size: 13px;\n    color: #555;\n    margin-left: 4px;\n    line-height: 19px;\n  }\n</style>\n<div class=\"ansiout\"></div>"
                    },
                    "metadata": {
                        "application/vnd.databricks.v1+output": {
                            "addedWidgets": {},
                            "arguments": {},
                            "data": "<div class=\"ansiout\"></div>",
                            "datasetInfos": [],
                            "metadata": {},
                            "removedWidgets": [],
                            "type": "html"
                        }
                    },
                    "output_type": "display_data"
                }
            ],
            "source": "logreg = LogisticRegression()\nlogreg_cv = GridSearchCV(logreg, param_grid=parameters, cv=10)"
        },
        {
            "cell_type": "code",
            "execution_count": 0,
            "metadata": {
                "application/vnd.databricks.v1+cell": {
                    "cellMetadata": {
                        "byteLimit": 2048000,
                        "rowLimit": 10000
                    },
                    "inputWidgets": {},
                    "nuid": "d33737fa-c842-41ad-b87b-01a067421fe5",
                    "showTitle": false,
                    "title": ""
                }
            },
            "outputs": [
                {
                    "data": {
                        "text/html": "<style scoped>\n  .ansiout {\n    display: block;\n    unicode-bidi: embed;\n    white-space: pre-wrap;\n    word-wrap: break-word;\n    word-break: break-all;\n    font-family: \"Source Code Pro\", \"Menlo\", monospace;;\n    font-size: 13px;\n    color: #555;\n    margin-left: 4px;\n    line-height: 19px;\n  }\n</style>\n<div class=\"ansiout\">/databricks/python/lib/python3.8/site-packages/sklearn/linear_model/_logistic.py:763: ConvergenceWarning: lbfgs failed to converge (status=1):\nSTOP: TOTAL NO. of ITERATIONS REACHED LIMIT.\n\nIncrease the number of iterations (max_iter) or scale the data as shown in:\n    https://scikit-learn.org/stable/modules/preprocessing.html\nPlease also refer to the documentation for alternative solver options:\n    https://scikit-learn.org/stable/modules/linear_model.html#logistic-regression\n  n_iter_i = _check_optimize_result(\n/databricks/python/lib/python3.8/site-packages/sklearn/linear_model/_logistic.py:763: ConvergenceWarning: lbfgs failed to converge (status=1):\nSTOP: TOTAL NO. of ITERATIONS REACHED LIMIT.\n\nIncrease the number of iterations (max_iter) or scale the data as shown in:\n    https://scikit-learn.org/stable/modules/preprocessing.html\nPlease also refer to the documentation for alternative solver options:\n    https://scikit-learn.org/stable/modules/linear_model.html#logistic-regression\n  n_iter_i = _check_optimize_result(\n/databricks/python/lib/python3.8/site-packages/sklearn/linear_model/_logistic.py:763: ConvergenceWarning: lbfgs failed to converge (status=1):\nSTOP: TOTAL NO. of ITERATIONS REACHED LIMIT.\n\nIncrease the number of iterations (max_iter) or scale the data as shown in:\n    https://scikit-learn.org/stable/modules/preprocessing.html\nPlease also refer to the documentation for alternative solver options:\n    https://scikit-learn.org/stable/modules/linear_model.html#logistic-regression\n  n_iter_i = _check_optimize_result(\n/databricks/python/lib/python3.8/site-packages/sklearn/linear_model/_logistic.py:763: ConvergenceWarning: lbfgs failed to converge (status=1):\nSTOP: TOTAL NO. of ITERATIONS REACHED LIMIT.\n\nIncrease the number of iterations (max_iter) or scale the data as shown in:\n    https://scikit-learn.org/stable/modules/preprocessing.html\nPlease also refer to the documentation for alternative solver options:\n    https://scikit-learn.org/stable/modules/linear_model.html#logistic-regression\n  n_iter_i = _check_optimize_result(\n/databricks/python/lib/python3.8/site-packages/sklearn/linear_model/_logistic.py:763: ConvergenceWarning: lbfgs failed to converge (status=1):\nSTOP: TOTAL NO. of ITERATIONS REACHED LIMIT.\n\nIncrease the number of iterations (max_iter) or scale the data as shown in:\n    https://scikit-learn.org/stable/modules/preprocessing.html\nPlease also refer to the documentation for alternative solver options:\n    https://scikit-learn.org/stable/modules/linear_model.html#logistic-regression\n  n_iter_i = _check_optimize_result(\n/databricks/python/lib/python3.8/site-packages/sklearn/linear_model/_logistic.py:763: ConvergenceWarning: lbfgs failed to converge (status=1):\nSTOP: TOTAL NO. of ITERATIONS REACHED LIMIT.\n\nIncrease the number of iterations (max_iter) or scale the data as shown in:\n    https://scikit-learn.org/stable/modules/preprocessing.html\nPlease also refer to the documentation for alternative solver options:\n    https://scikit-learn.org/stable/modules/linear_model.html#logistic-regression\n  n_iter_i = _check_optimize_result(\n/databricks/python/lib/python3.8/site-packages/sklearn/linear_model/_logistic.py:763: ConvergenceWarning: lbfgs failed to converge (status=1):\nSTOP: TOTAL NO. of ITERATIONS REACHED LIMIT.\n\nIncrease the number of iterations (max_iter) or scale the data as shown in:\n    https://scikit-learn.org/stable/modules/preprocessing.html\nPlease also refer to the documentation for alternative solver options:\n    https://scikit-learn.org/stable/modules/linear_model.html#logistic-regression\n  n_iter_i = _check_optimize_result(\n/databricks/python/lib/python3.8/site-packages/sklearn/linear_model/_logistic.py:763: ConvergenceWarning: lbfgs failed to converge (status=1):\nSTOP: TOTAL NO. of ITERATIONS REACHED LIMIT.\n\nIncrease the number of iterations (max_iter) or scale the data as shown in:\n    https://scikit-learn.org/stable/modules/preprocessing.html\nPlease also refer to the documentation for alternative solver options:\n    https://scikit-learn.org/stable/modules/linear_model.html#logistic-regression\n  n_iter_i = _check_optimize_result(\n/databricks/python/lib/python3.8/site-packages/sklearn/linear_model/_logistic.py:763: ConvergenceWarning: lbfgs failed to converge (status=1):\nSTOP: TOTAL NO. of ITERATIONS REACHED LIMIT.\n\nIncrease the number of iterations (max_iter) or scale the data as shown in:\n    https://scikit-learn.org/stable/modules/preprocessing.html\nPlease also refer to the documentation for alternative solver options:\n    https://scikit-learn.org/stable/modules/linear_model.html#logistic-regression\n  n_iter_i = _check_optimize_result(\n/databricks/python/lib/python3.8/site-packages/sklearn/linear_model/_logistic.py:763: ConvergenceWarning: lbfgs failed to converge (status=1):\nSTOP: TOTAL NO. of ITERATIONS REACHED LIMIT.\n\nIncrease the number of iterations (max_iter) or scale the data as shown in:\n    https://scikit-learn.org/stable/modules/preprocessing.html\nPlease also refer to the documentation for alternative solver options:\n    https://scikit-learn.org/stable/modules/linear_model.html#logistic-regression\n  n_iter_i = _check_optimize_result(\n/databricks/python/lib/python3.8/site-packages/sklearn/linear_model/_logistic.py:763: ConvergenceWarning: lbfgs failed to converge (status=1):\nSTOP: TOTAL NO. of ITERATIONS REACHED LIMIT.\n\nIncrease the number of iterations (max_iter) or scale the data as shown in:\n    https://scikit-learn.org/stable/modules/preprocessing.html\nPlease also refer to the documentation for alternative solver options:\n    https://scikit-learn.org/stable/modules/linear_model.html#logistic-regression\n  n_iter_i = _check_optimize_result(\n/databricks/python/lib/python3.8/site-packages/sklearn/linear_model/_logistic.py:763: ConvergenceWarning: lbfgs failed to converge (status=1):\nSTOP: TOTAL NO. of ITERATIONS REACHED LIMIT.\n\nIncrease the number of iterations (max_iter) or scale the data as shown in:\n    https://scikit-learn.org/stable/modules/preprocessing.html\nPlease also refer to the documentation for alternative solver options:\n    https://scikit-learn.org/stable/modules/linear_model.html#logistic-regression\n  n_iter_i = _check_optimize_result(\n/databricks/python/lib/python3.8/site-packages/sklearn/linear_model/_logistic.py:763: ConvergenceWarning: lbfgs failed to converge (status=1):\nSTOP: TOTAL NO. of ITERATIONS REACHED LIMIT.\n\nIncrease the number of iterations (max_iter) or scale the data as shown in:\n    https://scikit-learn.org/stable/modules/preprocessing.html\nPlease also refer to the documentation for alternative solver options:\n    https://scikit-learn.org/stable/modules/linear_model.html#logistic-regression\n  n_iter_i = _check_optimize_result(\n/databricks/python/lib/python3.8/site-packages/sklearn/linear_model/_logistic.py:763: ConvergenceWarning: lbfgs failed to converge (status=1):\nSTOP: TOTAL NO. of ITERATIONS REACHED LIMIT.\n\nIncrease the number of iterations (max_iter) or scale the data as shown in:\n    https://scikit-learn.org/stable/modules/preprocessing.html\nPlease also refer to the documentation for alternative solver options:\n    https://scikit-learn.org/stable/modules/linear_model.html#logistic-regression\n  n_iter_i = _check_optimize_result(\n/databricks/python/lib/python3.8/site-packages/sklearn/linear_model/_logistic.py:763: ConvergenceWarning: lbfgs failed to converge (status=1):\nSTOP: TOTAL NO. of ITERATIONS REACHED LIMIT.\n\nIncrease the number of iterations (max_iter) or scale the data as shown in:\n    https://scikit-learn.org/stable/modules/preprocessing.html\nPlease also refer to the documentation for alternative solver options:\n    https://scikit-learn.org/stable/modules/linear_model.html#logistic-regression\n  n_iter_i = _check_optimize_result(\n/databricks/python/lib/python3.8/site-packages/sklearn/linear_model/_logistic.py:763: ConvergenceWarning: lbfgs failed to converge (status=1):\nSTOP: TOTAL NO. of ITERATIONS REACHED LIMIT.\n\nIncrease the number of iterations (max_iter) or scale the data as shown in:\n    https://scikit-learn.org/stable/modules/preprocessing.html\nPlease also refer to the documentation for alternative solver options:\n    https://scikit-learn.org/stable/modules/linear_model.html#logistic-regression\n  n_iter_i = _check_optimize_result(\n/databricks/python/lib/python3.8/site-packages/sklearn/linear_model/_logistic.py:763: ConvergenceWarning: lbfgs failed to converge (status=1):\nSTOP: TOTAL NO. of ITERATIONS REACHED LIMIT.\n\nIncrease the number of iterations (max_iter) or scale the data as shown in:\n    https://scikit-learn.org/stable/modules/preprocessing.html\nPlease also refer to the documentation for alternative solver options:\n    https://scikit-learn.org/stable/modules/linear_model.html#logistic-regression\n  n_iter_i = _check_optimize_result(\nOut[20]: GridSearchCV(cv=10, estimator=LogisticRegression(),\n             param_grid={&#39;C&#39;: [0.01, 0.1, 1], &#39;penalty&#39;: [&#39;l2&#39;],\n                         &#39;solver&#39;: [&#39;lbfgs&#39;]})</div>"
                    },
                    "metadata": {
                        "application/vnd.databricks.v1+output": {
                            "addedWidgets": {},
                            "arguments": {},
                            "data": "<div class=\"ansiout\">/databricks/python/lib/python3.8/site-packages/sklearn/linear_model/_logistic.py:763: ConvergenceWarning: lbfgs failed to converge (status=1):\nSTOP: TOTAL NO. of ITERATIONS REACHED LIMIT.\n\nIncrease the number of iterations (max_iter) or scale the data as shown in:\n    https://scikit-learn.org/stable/modules/preprocessing.html\nPlease also refer to the documentation for alternative solver options:\n    https://scikit-learn.org/stable/modules/linear_model.html#logistic-regression\n  n_iter_i = _check_optimize_result(\n/databricks/python/lib/python3.8/site-packages/sklearn/linear_model/_logistic.py:763: ConvergenceWarning: lbfgs failed to converge (status=1):\nSTOP: TOTAL NO. of ITERATIONS REACHED LIMIT.\n\nIncrease the number of iterations (max_iter) or scale the data as shown in:\n    https://scikit-learn.org/stable/modules/preprocessing.html\nPlease also refer to the documentation for alternative solver options:\n    https://scikit-learn.org/stable/modules/linear_model.html#logistic-regression\n  n_iter_i = _check_optimize_result(\n/databricks/python/lib/python3.8/site-packages/sklearn/linear_model/_logistic.py:763: ConvergenceWarning: lbfgs failed to converge (status=1):\nSTOP: TOTAL NO. of ITERATIONS REACHED LIMIT.\n\nIncrease the number of iterations (max_iter) or scale the data as shown in:\n    https://scikit-learn.org/stable/modules/preprocessing.html\nPlease also refer to the documentation for alternative solver options:\n    https://scikit-learn.org/stable/modules/linear_model.html#logistic-regression\n  n_iter_i = _check_optimize_result(\n/databricks/python/lib/python3.8/site-packages/sklearn/linear_model/_logistic.py:763: ConvergenceWarning: lbfgs failed to converge (status=1):\nSTOP: TOTAL NO. of ITERATIONS REACHED LIMIT.\n\nIncrease the number of iterations (max_iter) or scale the data as shown in:\n    https://scikit-learn.org/stable/modules/preprocessing.html\nPlease also refer to the documentation for alternative solver options:\n    https://scikit-learn.org/stable/modules/linear_model.html#logistic-regression\n  n_iter_i = _check_optimize_result(\n/databricks/python/lib/python3.8/site-packages/sklearn/linear_model/_logistic.py:763: ConvergenceWarning: lbfgs failed to converge (status=1):\nSTOP: TOTAL NO. of ITERATIONS REACHED LIMIT.\n\nIncrease the number of iterations (max_iter) or scale the data as shown in:\n    https://scikit-learn.org/stable/modules/preprocessing.html\nPlease also refer to the documentation for alternative solver options:\n    https://scikit-learn.org/stable/modules/linear_model.html#logistic-regression\n  n_iter_i = _check_optimize_result(\n/databricks/python/lib/python3.8/site-packages/sklearn/linear_model/_logistic.py:763: ConvergenceWarning: lbfgs failed to converge (status=1):\nSTOP: TOTAL NO. of ITERATIONS REACHED LIMIT.\n\nIncrease the number of iterations (max_iter) or scale the data as shown in:\n    https://scikit-learn.org/stable/modules/preprocessing.html\nPlease also refer to the documentation for alternative solver options:\n    https://scikit-learn.org/stable/modules/linear_model.html#logistic-regression\n  n_iter_i = _check_optimize_result(\n/databricks/python/lib/python3.8/site-packages/sklearn/linear_model/_logistic.py:763: ConvergenceWarning: lbfgs failed to converge (status=1):\nSTOP: TOTAL NO. of ITERATIONS REACHED LIMIT.\n\nIncrease the number of iterations (max_iter) or scale the data as shown in:\n    https://scikit-learn.org/stable/modules/preprocessing.html\nPlease also refer to the documentation for alternative solver options:\n    https://scikit-learn.org/stable/modules/linear_model.html#logistic-regression\n  n_iter_i = _check_optimize_result(\n/databricks/python/lib/python3.8/site-packages/sklearn/linear_model/_logistic.py:763: ConvergenceWarning: lbfgs failed to converge (status=1):\nSTOP: TOTAL NO. of ITERATIONS REACHED LIMIT.\n\nIncrease the number of iterations (max_iter) or scale the data as shown in:\n    https://scikit-learn.org/stable/modules/preprocessing.html\nPlease also refer to the documentation for alternative solver options:\n    https://scikit-learn.org/stable/modules/linear_model.html#logistic-regression\n  n_iter_i = _check_optimize_result(\n/databricks/python/lib/python3.8/site-packages/sklearn/linear_model/_logistic.py:763: ConvergenceWarning: lbfgs failed to converge (status=1):\nSTOP: TOTAL NO. of ITERATIONS REACHED LIMIT.\n\nIncrease the number of iterations (max_iter) or scale the data as shown in:\n    https://scikit-learn.org/stable/modules/preprocessing.html\nPlease also refer to the documentation for alternative solver options:\n    https://scikit-learn.org/stable/modules/linear_model.html#logistic-regression\n  n_iter_i = _check_optimize_result(\n/databricks/python/lib/python3.8/site-packages/sklearn/linear_model/_logistic.py:763: ConvergenceWarning: lbfgs failed to converge (status=1):\nSTOP: TOTAL NO. of ITERATIONS REACHED LIMIT.\n\nIncrease the number of iterations (max_iter) or scale the data as shown in:\n    https://scikit-learn.org/stable/modules/preprocessing.html\nPlease also refer to the documentation for alternative solver options:\n    https://scikit-learn.org/stable/modules/linear_model.html#logistic-regression\n  n_iter_i = _check_optimize_result(\n/databricks/python/lib/python3.8/site-packages/sklearn/linear_model/_logistic.py:763: ConvergenceWarning: lbfgs failed to converge (status=1):\nSTOP: TOTAL NO. of ITERATIONS REACHED LIMIT.\n\nIncrease the number of iterations (max_iter) or scale the data as shown in:\n    https://scikit-learn.org/stable/modules/preprocessing.html\nPlease also refer to the documentation for alternative solver options:\n    https://scikit-learn.org/stable/modules/linear_model.html#logistic-regression\n  n_iter_i = _check_optimize_result(\n/databricks/python/lib/python3.8/site-packages/sklearn/linear_model/_logistic.py:763: ConvergenceWarning: lbfgs failed to converge (status=1):\nSTOP: TOTAL NO. of ITERATIONS REACHED LIMIT.\n\nIncrease the number of iterations (max_iter) or scale the data as shown in:\n    https://scikit-learn.org/stable/modules/preprocessing.html\nPlease also refer to the documentation for alternative solver options:\n    https://scikit-learn.org/stable/modules/linear_model.html#logistic-regression\n  n_iter_i = _check_optimize_result(\n/databricks/python/lib/python3.8/site-packages/sklearn/linear_model/_logistic.py:763: ConvergenceWarning: lbfgs failed to converge (status=1):\nSTOP: TOTAL NO. of ITERATIONS REACHED LIMIT.\n\nIncrease the number of iterations (max_iter) or scale the data as shown in:\n    https://scikit-learn.org/stable/modules/preprocessing.html\nPlease also refer to the documentation for alternative solver options:\n    https://scikit-learn.org/stable/modules/linear_model.html#logistic-regression\n  n_iter_i = _check_optimize_result(\n/databricks/python/lib/python3.8/site-packages/sklearn/linear_model/_logistic.py:763: ConvergenceWarning: lbfgs failed to converge (status=1):\nSTOP: TOTAL NO. of ITERATIONS REACHED LIMIT.\n\nIncrease the number of iterations (max_iter) or scale the data as shown in:\n    https://scikit-learn.org/stable/modules/preprocessing.html\nPlease also refer to the documentation for alternative solver options:\n    https://scikit-learn.org/stable/modules/linear_model.html#logistic-regression\n  n_iter_i = _check_optimize_result(\n/databricks/python/lib/python3.8/site-packages/sklearn/linear_model/_logistic.py:763: ConvergenceWarning: lbfgs failed to converge (status=1):\nSTOP: TOTAL NO. of ITERATIONS REACHED LIMIT.\n\nIncrease the number of iterations (max_iter) or scale the data as shown in:\n    https://scikit-learn.org/stable/modules/preprocessing.html\nPlease also refer to the documentation for alternative solver options:\n    https://scikit-learn.org/stable/modules/linear_model.html#logistic-regression\n  n_iter_i = _check_optimize_result(\n/databricks/python/lib/python3.8/site-packages/sklearn/linear_model/_logistic.py:763: ConvergenceWarning: lbfgs failed to converge (status=1):\nSTOP: TOTAL NO. of ITERATIONS REACHED LIMIT.\n\nIncrease the number of iterations (max_iter) or scale the data as shown in:\n    https://scikit-learn.org/stable/modules/preprocessing.html\nPlease also refer to the documentation for alternative solver options:\n    https://scikit-learn.org/stable/modules/linear_model.html#logistic-regression\n  n_iter_i = _check_optimize_result(\n/databricks/python/lib/python3.8/site-packages/sklearn/linear_model/_logistic.py:763: ConvergenceWarning: lbfgs failed to converge (status=1):\nSTOP: TOTAL NO. of ITERATIONS REACHED LIMIT.\n\nIncrease the number of iterations (max_iter) or scale the data as shown in:\n    https://scikit-learn.org/stable/modules/preprocessing.html\nPlease also refer to the documentation for alternative solver options:\n    https://scikit-learn.org/stable/modules/linear_model.html#logistic-regression\n  n_iter_i = _check_optimize_result(\nOut[20]: GridSearchCV(cv=10, estimator=LogisticRegression(),\n             param_grid={&#39;C&#39;: [0.01, 0.1, 1], &#39;penalty&#39;: [&#39;l2&#39;],\n                         &#39;solver&#39;: [&#39;lbfgs&#39;]})</div>",
                            "datasetInfos": [],
                            "metadata": {},
                            "removedWidgets": [],
                            "type": "html"
                        }
                    },
                    "output_type": "display_data"
                }
            ],
            "source": "logreg_cv.fit(X, y)"
        },
        {
            "cell_type": "markdown",
            "metadata": {
                "application/vnd.databricks.v1+cell": {
                    "cellMetadata": {},
                    "inputWidgets": {},
                    "nuid": "e6ecb647-552d-421d-be08-1aa895bcec8d",
                    "showTitle": false,
                    "title": ""
                }
            },
            "source": "We output the <code>GridSearchCV</code> object for logistic regression. We display the best parameters using the data attribute <code>best_params_</code> and the accuracy on the validation data using the data attribute <code>best_score_</code>."
        },
        {
            "cell_type": "code",
            "execution_count": 0,
            "metadata": {
                "application/vnd.databricks.v1+cell": {
                    "cellMetadata": {
                        "byteLimit": 2048000,
                        "rowLimit": 10000
                    },
                    "inputWidgets": {},
                    "nuid": "55c43fc2-b83b-4176-b710-19b3942d09ba",
                    "showTitle": false,
                    "title": ""
                }
            },
            "outputs": [
                {
                    "data": {
                        "text/html": "<style scoped>\n  .ansiout {\n    display: block;\n    unicode-bidi: embed;\n    white-space: pre-wrap;\n    word-wrap: break-word;\n    word-break: break-all;\n    font-family: \"Source Code Pro\", \"Menlo\", monospace;;\n    font-size: 13px;\n    color: #555;\n    margin-left: 4px;\n    line-height: 19px;\n  }\n</style>\n<div class=\"ansiout\">tuned hpyerparameters :(best parameters)  {&#39;C&#39;: 1, &#39;penalty&#39;: &#39;l2&#39;, &#39;solver&#39;: &#39;lbfgs&#39;}\naccuracy : 0.7777777777777777\n</div>"
                    },
                    "metadata": {
                        "application/vnd.databricks.v1+output": {
                            "addedWidgets": {},
                            "arguments": {},
                            "data": "<div class=\"ansiout\">tuned hpyerparameters :(best parameters)  {&#39;C&#39;: 1, &#39;penalty&#39;: &#39;l2&#39;, &#39;solver&#39;: &#39;lbfgs&#39;}\naccuracy : 0.7777777777777777\n</div>",
                            "datasetInfos": [],
                            "metadata": {},
                            "removedWidgets": [],
                            "type": "html"
                        }
                    },
                    "output_type": "display_data"
                }
            ],
            "source": "print(\"tuned hpyerparameters :(best parameters) \",logreg_cv.best_params_)\nprint(\"accuracy :\",logreg_cv.best_score_)"
        },
        {
            "cell_type": "markdown",
            "metadata": {
                "application/vnd.databricks.v1+cell": {
                    "cellMetadata": {},
                    "inputWidgets": {},
                    "nuid": "659b885c-7495-465a-bb25-b918988c7c39",
                    "showTitle": false,
                    "title": ""
                }
            },
            "source": "## TASK  5"
        },
        {
            "cell_type": "markdown",
            "metadata": {
                "application/vnd.databricks.v1+cell": {
                    "cellMetadata": {},
                    "inputWidgets": {},
                    "nuid": "83f4daa2-54ff-4043-a9c4-cbb50503765f",
                    "showTitle": false,
                    "title": ""
                }
            },
            "source": "Calculate the accuracy on the test data using the method <code>score</code>:"
        },
        {
            "cell_type": "code",
            "execution_count": 0,
            "metadata": {
                "application/vnd.databricks.v1+cell": {
                    "cellMetadata": {
                        "byteLimit": 2048000,
                        "rowLimit": 10000
                    },
                    "inputWidgets": {},
                    "nuid": "f8372af0-3000-470a-9127-4289a7a2d2ee",
                    "showTitle": false,
                    "title": ""
                }
            },
            "outputs": [
                {
                    "data": {
                        "text/html": "<style scoped>\n  .ansiout {\n    display: block;\n    unicode-bidi: embed;\n    white-space: pre-wrap;\n    word-wrap: break-word;\n    word-break: break-all;\n    font-family: \"Source Code Pro\", \"Menlo\", monospace;;\n    font-size: 13px;\n    color: #555;\n    margin-left: 4px;\n    line-height: 19px;\n  }\n</style>\n<div class=\"ansiout\"></div>"
                    },
                    "metadata": {
                        "application/vnd.databricks.v1+output": {
                            "addedWidgets": {},
                            "arguments": {},
                            "data": "<div class=\"ansiout\"></div>",
                            "datasetInfos": [],
                            "metadata": {},
                            "removedWidgets": [],
                            "type": "html"
                        }
                    },
                    "output_type": "display_data"
                }
            ],
            "source": "best_estimator = logreg_cv.best_estimator_\ny_pred = best_estimator.predict(X_test)\n\n# Calculate the accuracy on the test data using the score method of the best estimator\ntest_accuracy = best_estimator.score(X_test, Y_test)"
        },
        {
            "cell_type": "markdown",
            "metadata": {
                "application/vnd.databricks.v1+cell": {
                    "cellMetadata": {},
                    "inputWidgets": {},
                    "nuid": "e337c618-7f94-4772-91f5-9659bc86571c",
                    "showTitle": false,
                    "title": ""
                }
            },
            "source": "Lets look at the confusion matrix:"
        },
        {
            "cell_type": "code",
            "execution_count": 0,
            "metadata": {
                "application/vnd.databricks.v1+cell": {
                    "cellMetadata": {
                        "byteLimit": 2048000,
                        "rowLimit": 10000
                    },
                    "inputWidgets": {},
                    "nuid": "12ae611e-4fc6-4a68-b42d-96845d4cde42",
                    "showTitle": false,
                    "title": ""
                }
            },
            "outputs": [
                {
                    "data": {
                        "image/png": "[encoded data removed]"
                    },
                    "metadata": {
                        "application/vnd.databricks.v1+output": {
                            "addedWidgets": {},
                            "arguments": {},
                            "data": "data:image/png;base64,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",
                            "datasetInfos": [],
                            "metadata": {
                                "imageDimensions": {
                                    "height": 278,
                                    "width": 360
                                }
                            },
                            "removedWidgets": [],
                            "type": "image"
                        },
                        "image/png": {
                            "height": 278,
                            "width": 360
                        }
                    },
                    "output_type": "display_data"
                }
            ],
            "source": "yhat=logreg_cv.predict(X_test)\nplot_confusion_matrix(Y_test,yhat)"
        },
        {
            "cell_type": "markdown",
            "metadata": {
                "application/vnd.databricks.v1+cell": {
                    "cellMetadata": {},
                    "inputWidgets": {},
                    "nuid": "78c6abc1-e2b1-452f-bc41-386abed1f0fb",
                    "showTitle": false,
                    "title": ""
                }
            },
            "source": "Examining the confusion matrix, we see that logistic regression can distinguish between the different classes.  We see that the major problem is false positives."
        },
        {
            "cell_type": "markdown",
            "metadata": {
                "application/vnd.databricks.v1+cell": {
                    "cellMetadata": {},
                    "inputWidgets": {},
                    "nuid": "076b25d0-c96e-49dd-bc09-8926d1541de1",
                    "showTitle": false,
                    "title": ""
                }
            },
            "source": "## TASK  6"
        },
        {
            "cell_type": "markdown",
            "metadata": {
                "application/vnd.databricks.v1+cell": {
                    "cellMetadata": {},
                    "inputWidgets": {},
                    "nuid": "71a5e2f7-63fc-430f-96a6-72a44be8285c",
                    "showTitle": false,
                    "title": ""
                }
            },
            "source": "Create a support vector machine object then  create a  <code>GridSearchCV</code> object  <code>svm_cv</code> with cv - 10.  Fit the object to find the best parameters from the dictionary <code>parameters</code>."
        },
        {
            "cell_type": "code",
            "execution_count": 0,
            "metadata": {
                "application/vnd.databricks.v1+cell": {
                    "cellMetadata": {
                        "byteLimit": 2048000,
                        "rowLimit": 10000
                    },
                    "inputWidgets": {},
                    "nuid": "1368f122-0fc5-4b39-ab2e-b9c08038fddf",
                    "showTitle": false,
                    "title": ""
                }
            },
            "outputs": [
                {
                    "data": {
                        "text/html": "<style scoped>\n  .ansiout {\n    display: block;\n    unicode-bidi: embed;\n    white-space: pre-wrap;\n    word-wrap: break-word;\n    word-break: break-all;\n    font-family: \"Source Code Pro\", \"Menlo\", monospace;;\n    font-size: 13px;\n    color: #555;\n    margin-left: 4px;\n    line-height: 19px;\n  }\n</style>\n<div class=\"ansiout\"></div>"
                    },
                    "metadata": {
                        "application/vnd.databricks.v1+output": {
                            "addedWidgets": {},
                            "arguments": {},
                            "data": "<div class=\"ansiout\"></div>",
                            "datasetInfos": [],
                            "metadata": {},
                            "removedWidgets": [],
                            "type": "html"
                        }
                    },
                    "output_type": "display_data"
                }
            ],
            "source": "parameters = {'kernel':('linear', 'rbf','poly','rbf', 'sigmoid'),\n              'C': np.logspace(-3, 3, 5),\n              'gamma':np.logspace(-3, 3, 5)}\nsvm = SVC()"
        },
        {
            "cell_type": "code",
            "execution_count": 0,
            "metadata": {
                "application/vnd.databricks.v1+cell": {
                    "cellMetadata": {
                        "byteLimit": 2048000,
                        "rowLimit": 10000
                    },
                    "inputWidgets": {},
                    "nuid": "523e08c5-9417-4638-ba81-c48a5d1466cf",
                    "showTitle": false,
                    "title": ""
                }
            },
            "outputs": [
                {
                    "data": {
                        "text/html": "<style scoped>\n  .ansiout {\n    display: block;\n    unicode-bidi: embed;\n    white-space: pre-wrap;\n    word-wrap: break-word;\n    word-break: break-all;\n    font-family: \"Source Code Pro\", \"Menlo\", monospace;;\n    font-size: 13px;\n    color: #555;\n    margin-left: 4px;\n    line-height: 19px;\n  }\n</style>\n<div class=\"ansiout\"></div>"
                    },
                    "metadata": {
                        "application/vnd.databricks.v1+output": {
                            "addedWidgets": {},
                            "arguments": {},
                            "data": "<div class=\"ansiout\"></div>",
                            "datasetInfos": [],
                            "metadata": {},
                            "removedWidgets": [],
                            "type": "html"
                        }
                    },
                    "output_type": "display_data"
                }
            ],
            "source": "svm_cv = GridSearchCV(svm, parameters, cv=10)"
        },
        {
            "cell_type": "code",
            "execution_count": 0,
            "metadata": {
                "application/vnd.databricks.v1+cell": {
                    "cellMetadata": {
                        "byteLimit": 2048000,
                        "rowLimit": 10000
                    },
                    "inputWidgets": {},
                    "nuid": "12f8443a-7541-47bc-a003-2286115e91e4",
                    "showTitle": false,
                    "title": ""
                }
            },
            "outputs": [
                {
                    "data": {
                        "text/html": "<style scoped>\n  .ansiout {\n    display: block;\n    unicode-bidi: embed;\n    white-space: pre-wrap;\n    word-wrap: break-word;\n    word-break: break-all;\n    font-family: \"Source Code Pro\", \"Menlo\", monospace;;\n    font-size: 13px;\n    color: #555;\n    margin-left: 4px;\n    line-height: 19px;\n  }\n</style>\n<div class=\"ansiout\"></div>"
                    },
                    "metadata": {
                        "application/vnd.databricks.v1+output": {
                            "addedWidgets": {},
                            "arguments": {},
                            "data": "<div class=\"ansiout\"></div>",
                            "datasetInfos": [],
                            "metadata": {},
                            "removedWidgets": [],
                            "type": "html"
                        }
                    },
                    "output_type": "display_data"
                }
            ],
            "source": "svm_cv.fit(X_train, Y_train)"
        },
        {
            "cell_type": "code",
            "execution_count": 0,
            "metadata": {
                "application/vnd.databricks.v1+cell": {
                    "cellMetadata": {
                        "byteLimit": 2048000,
                        "rowLimit": 10000
                    },
                    "inputWidgets": {},
                    "nuid": "6e3801d7-4471-4ea5-b535-f3fcdb33245f",
                    "showTitle": false,
                    "title": ""
                }
            },
            "outputs": [],
            "source": "print(\"tuned hpyerparameters :(best parameters) \",svm_cv.best_params_)\nprint(\"accuracy :\",svm_cv.best_score_)"
        },
        {
            "cell_type": "markdown",
            "metadata": {
                "application/vnd.databricks.v1+cell": {
                    "cellMetadata": {},
                    "inputWidgets": {},
                    "nuid": "3cb69c5c-ff64-464e-8ad0-f56cc5f3fbd1",
                    "showTitle": false,
                    "title": ""
                }
            },
            "source": "## TASK  7"
        },
        {
            "cell_type": "markdown",
            "metadata": {
                "application/vnd.databricks.v1+cell": {
                    "cellMetadata": {},
                    "inputWidgets": {},
                    "nuid": "dee6361b-1cd4-45dd-88ab-1d9eb2fffabd",
                    "showTitle": false,
                    "title": ""
                }
            },
            "source": "Calculate the accuracy on the test data using the method <code>score</code>:"
        },
        {
            "cell_type": "code",
            "execution_count": 0,
            "metadata": {
                "application/vnd.databricks.v1+cell": {
                    "cellMetadata": {
                        "byteLimit": 2048000,
                        "rowLimit": 10000
                    },
                    "inputWidgets": {},
                    "nuid": "ac62183f-2056-4949-9092-0f6bd83add75",
                    "showTitle": false,
                    "title": ""
                }
            },
            "outputs": [],
            "source": "accuracy = svm_cv.score(X_test, y_test)"
        },
        {
            "cell_type": "markdown",
            "metadata": {
                "application/vnd.databricks.v1+cell": {
                    "cellMetadata": {},
                    "inputWidgets": {},
                    "nuid": "a1121296-ae72-46ac-89d5-24123ca52db4",
                    "showTitle": false,
                    "title": ""
                }
            },
            "source": "We can plot the confusion matrix"
        },
        {
            "cell_type": "code",
            "execution_count": 0,
            "metadata": {
                "application/vnd.databricks.v1+cell": {
                    "cellMetadata": {
                        "byteLimit": 2048000,
                        "rowLimit": 10000
                    },
                    "inputWidgets": {},
                    "nuid": "343ea007-c544-4077-8b6d-e599be8a38ad",
                    "showTitle": false,
                    "title": ""
                }
            },
            "outputs": [],
            "source": "yhat=svm_cv.predict(X_test)\nplot_confusion_matrix(Y_test,yhat)"
        },
        {
            "cell_type": "markdown",
            "metadata": {
                "application/vnd.databricks.v1+cell": {
                    "cellMetadata": {},
                    "inputWidgets": {},
                    "nuid": "658b77f3-46cb-4bda-984d-c3c542a94b42",
                    "showTitle": false,
                    "title": ""
                }
            },
            "source": "## TASK  8"
        },
        {
            "cell_type": "markdown",
            "metadata": {
                "application/vnd.databricks.v1+cell": {
                    "cellMetadata": {},
                    "inputWidgets": {},
                    "nuid": "91e654ef-246a-496c-b453-8477c0de85cd",
                    "showTitle": false,
                    "title": ""
                }
            },
            "source": "Create a decision tree classifier object then  create a  <code>GridSearchCV</code> object  <code>tree_cv</code> with cv = 10.  Fit the object to find the best parameters from the dictionary <code>parameters</code>."
        },
        {
            "cell_type": "code",
            "execution_count": 0,
            "metadata": {
                "application/vnd.databricks.v1+cell": {
                    "cellMetadata": {},
                    "inputWidgets": {},
                    "nuid": "278edeac-a755-4624-9829-9ed599422b63",
                    "showTitle": false,
                    "title": ""
                }
            },
            "outputs": [],
            "source": "parameters = {'criterion': ['gini', 'entropy'],\n     'splitter': ['best', 'random'],\n     'max_depth': [2*n for n in range(1,10)],\n     'max_features': ['auto', 'sqrt'],\n     'min_samples_leaf': [1, 2, 4],\n     'min_samples_split': [2, 5, 10]}\n\ntree = DecisionTreeClassifier()"
        },
        {
            "cell_type": "code",
            "execution_count": 0,
            "metadata": {
                "application/vnd.databricks.v1+cell": {
                    "cellMetadata": {},
                    "inputWidgets": {},
                    "nuid": "1d099afe-a2ab-49f7-a1e5-9cac48c7ad96",
                    "showTitle": false,
                    "title": ""
                }
            },
            "outputs": [],
            "source": ""
        },
        {
            "cell_type": "code",
            "execution_count": 0,
            "metadata": {
                "application/vnd.databricks.v1+cell": {
                    "cellMetadata": {},
                    "inputWidgets": {},
                    "nuid": "5855c887-6b8d-4f99-a3b4-e86d2a9f37fd",
                    "showTitle": false,
                    "title": ""
                }
            },
            "outputs": [],
            "source": "print(\"tuned hpyerparameters :(best parameters) \",tree_cv.best_params_)\nprint(\"accuracy :\",tree_cv.best_score_)"
        },
        {
            "cell_type": "markdown",
            "metadata": {
                "application/vnd.databricks.v1+cell": {
                    "cellMetadata": {},
                    "inputWidgets": {},
                    "nuid": "b64a4e55-50ae-43bd-9cba-a35cbd4f7eb3",
                    "showTitle": false,
                    "title": ""
                }
            },
            "source": "## TASK  9"
        },
        {
            "cell_type": "markdown",
            "metadata": {
                "application/vnd.databricks.v1+cell": {
                    "cellMetadata": {},
                    "inputWidgets": {},
                    "nuid": "a7ac58c7-af3a-4ff5-8337-902f86ff5f58",
                    "showTitle": false,
                    "title": ""
                }
            },
            "source": "Calculate the accuracy of tree_cv on the test data using the method <code>score</code>:"
        },
        {
            "cell_type": "code",
            "execution_count": 0,
            "metadata": {
                "application/vnd.databricks.v1+cell": {
                    "cellMetadata": {},
                    "inputWidgets": {},
                    "nuid": "15dca573-3e29-4633-a9e9-4e2c628c3054",
                    "showTitle": false,
                    "title": ""
                }
            },
            "outputs": [],
            "source": ""
        },
        {
            "cell_type": "markdown",
            "metadata": {
                "application/vnd.databricks.v1+cell": {
                    "cellMetadata": {},
                    "inputWidgets": {},
                    "nuid": "53d58653-1fe8-4706-a221-18b3339d7185",
                    "showTitle": false,
                    "title": ""
                }
            },
            "source": "We can plot the confusion matrix"
        },
        {
            "cell_type": "code",
            "execution_count": 0,
            "metadata": {
                "application/vnd.databricks.v1+cell": {
                    "cellMetadata": {},
                    "inputWidgets": {},
                    "nuid": "e4acdf52-537b-46a6-a1a6-20c5bb39d14e",
                    "showTitle": false,
                    "title": ""
                }
            },
            "outputs": [],
            "source": "yhat = svm_cv.predict(X_test)\nplot_confusion_matrix(Y_test,yhat)"
        },
        {
            "cell_type": "markdown",
            "metadata": {
                "application/vnd.databricks.v1+cell": {
                    "cellMetadata": {},
                    "inputWidgets": {},
                    "nuid": "7dd9ecce-fa39-410c-ba54-7a79ea7dd30c",
                    "showTitle": false,
                    "title": ""
                }
            },
            "source": "## TASK  10"
        },
        {
            "cell_type": "markdown",
            "metadata": {
                "application/vnd.databricks.v1+cell": {
                    "cellMetadata": {},
                    "inputWidgets": {},
                    "nuid": "2e91df1a-f184-4e21-990a-ec5d0a604b23",
                    "showTitle": false,
                    "title": ""
                }
            },
            "source": "Create a k nearest neighbors object then  create a  <code>GridSearchCV</code> object  <code>knn_cv</code> with cv = 10.  Fit the object to find the best parameters from the dictionary <code>parameters</code>."
        },
        {
            "cell_type": "code",
            "execution_count": 0,
            "metadata": {
                "application/vnd.databricks.v1+cell": {
                    "cellMetadata": {},
                    "inputWidgets": {},
                    "nuid": "25537966-2fb3-48d6-9cbb-0cee4ba4920e",
                    "showTitle": false,
                    "title": ""
                }
            },
            "outputs": [],
            "source": "parameters = {'n_neighbors': [1, 2, 3, 4, 5, 6, 7, 8, 9, 10],\n              'algorithm': ['auto', 'ball_tree', 'kd_tree', 'brute'],\n              'p': [1,2]}\n\nKNN = KNeighborsClassifier()"
        },
        {
            "cell_type": "code",
            "execution_count": 0,
            "metadata": {
                "application/vnd.databricks.v1+cell": {
                    "cellMetadata": {},
                    "inputWidgets": {},
                    "nuid": "844b78fb-4086-4d7a-aac1-c3594340c731",
                    "showTitle": false,
                    "title": ""
                }
            },
            "outputs": [],
            "source": "\n"
        },
        {
            "cell_type": "code",
            "execution_count": 0,
            "metadata": {
                "application/vnd.databricks.v1+cell": {
                    "cellMetadata": {},
                    "inputWidgets": {},
                    "nuid": "2503f0b7-34ac-4018-a0f8-cda2976699ee",
                    "showTitle": false,
                    "title": ""
                }
            },
            "outputs": [],
            "source": "print(\"tuned hpyerparameters :(best parameters) \",knn_cv.best_params_)\nprint(\"accuracy :\",knn_cv.best_score_)"
        },
        {
            "cell_type": "markdown",
            "metadata": {
                "application/vnd.databricks.v1+cell": {
                    "cellMetadata": {},
                    "inputWidgets": {},
                    "nuid": "70352890-9aa7-4470-9337-5f355ac21b2e",
                    "showTitle": false,
                    "title": ""
                }
            },
            "source": "## TASK  11"
        },
        {
            "cell_type": "markdown",
            "metadata": {
                "application/vnd.databricks.v1+cell": {
                    "cellMetadata": {},
                    "inputWidgets": {},
                    "nuid": "68efc092-6291-4393-8021-dd8895fe97f5",
                    "showTitle": false,
                    "title": ""
                }
            },
            "source": "Calculate the accuracy of tree_cv on the test data using the method <code>score</code>:"
        },
        {
            "cell_type": "code",
            "execution_count": 0,
            "metadata": {
                "application/vnd.databricks.v1+cell": {
                    "cellMetadata": {},
                    "inputWidgets": {},
                    "nuid": "504185a5-4c6b-4aed-b758-5d469157854c",
                    "showTitle": false,
                    "title": ""
                }
            },
            "outputs": [],
            "source": ""
        },
        {
            "cell_type": "markdown",
            "metadata": {
                "application/vnd.databricks.v1+cell": {
                    "cellMetadata": {},
                    "inputWidgets": {},
                    "nuid": "b2b5f23d-8bd5-42af-9da4-684f0c503c38",
                    "showTitle": false,
                    "title": ""
                }
            },
            "source": "We can plot the confusion matrix"
        },
        {
            "cell_type": "code",
            "execution_count": 0,
            "metadata": {
                "application/vnd.databricks.v1+cell": {
                    "cellMetadata": {},
                    "inputWidgets": {},
                    "nuid": "ebc15297-9262-42c3-93b8-faadb6e4216e",
                    "showTitle": false,
                    "title": ""
                }
            },
            "outputs": [],
            "source": "yhat = knn_cv.predict(X_test)\nplot_confusion_matrix(Y_test,yhat)"
        },
        {
            "cell_type": "markdown",
            "metadata": {
                "application/vnd.databricks.v1+cell": {
                    "cellMetadata": {},
                    "inputWidgets": {},
                    "nuid": "926e075f-5101-4513-a612-626181a68d66",
                    "showTitle": false,
                    "title": ""
                }
            },
            "source": "## TASK  12"
        },
        {
            "cell_type": "markdown",
            "metadata": {
                "application/vnd.databricks.v1+cell": {
                    "cellMetadata": {},
                    "inputWidgets": {},
                    "nuid": "a1f90fb6-3624-4f49-ac6a-5e4afa9b08a3",
                    "showTitle": false,
                    "title": ""
                }
            },
            "source": "Find the method performs best:"
        },
        {
            "cell_type": "code",
            "execution_count": 0,
            "metadata": {
                "application/vnd.databricks.v1+cell": {
                    "cellMetadata": {},
                    "inputWidgets": {},
                    "nuid": "61231232-c7d4-41aa-8b30-54259c18f53a",
                    "showTitle": false,
                    "title": ""
                }
            },
            "outputs": [],
            "source": ""
        },
        {
            "cell_type": "markdown",
            "metadata": {
                "application/vnd.databricks.v1+cell": {
                    "cellMetadata": {},
                    "inputWidgets": {},
                    "nuid": "862d1401-f82d-4a05-8c61-41d18edd77c9",
                    "showTitle": false,
                    "title": ""
                }
            },
            "source": "## Authors"
        },
        {
            "cell_type": "markdown",
            "metadata": {
                "application/vnd.databricks.v1+cell": {
                    "cellMetadata": {},
                    "inputWidgets": {},
                    "nuid": "34bc1aa3-e561-40ce-acc0-5d6aa06ffdfb",
                    "showTitle": false,
                    "title": ""
                }
            },
            "source": "<a href=\"https://www.linkedin.com/in/joseph-s-50398b136/?utm_medium=Exinfluencer&utm_source=Exinfluencer&utm_content=000026UJ&utm_term=10006555&utm_id=NA-SkillsNetwork-Channel-SkillsNetworkCoursesIBMDS0321ENSkillsNetwork865-2023-01-01\">Joseph Santarcangelo</a> has a PhD in Electrical Engineering, his research focused on using machine learning, signal processing, and computer vision to determine how videos impact human cognition. Joseph has been working for IBM since he completed his PhD."
        },
        {
            "cell_type": "markdown",
            "metadata": {
                "application/vnd.databricks.v1+cell": {
                    "cellMetadata": {},
                    "inputWidgets": {},
                    "nuid": "531126e9-67b5-43e0-9f6b-96ae15efcd25",
                    "showTitle": false,
                    "title": ""
                }
            },
            "source": "## Change Log"
        },
        {
            "cell_type": "markdown",
            "metadata": {
                "application/vnd.databricks.v1+cell": {
                    "cellMetadata": {},
                    "inputWidgets": {},
                    "nuid": "829b32a3-d28c-4ecd-84b4-ad816553fd79",
                    "showTitle": false,
                    "title": ""
                }
            },
            "source": "| Date (YYYY-MM-DD) | Version | Changed By | Change Description      |\n| ----------------- | ------- | ---------- | ----------------------- |\n| 2021-08-31       | 1.1     | Lakshmi Holla   | Modified markdown |\n| 2020-09-20        | 1.0     | Joseph     | Modified Multiple Areas |"
        },
        {
            "cell_type": "markdown",
            "metadata": {
                "application/vnd.databricks.v1+cell": {
                    "cellMetadata": {},
                    "inputWidgets": {},
                    "nuid": "a51066a9-5d1e-4f78-9a53-5a5ba4075f27",
                    "showTitle": false,
                    "title": ""
                }
            },
            "source": "Copyright \u00a9 2020 IBM Corporation. All rights reserved."
        }
    ],
    "metadata": {
        "application/vnd.databricks.v1+notebook": {
            "dashboards": [],
            "language": "python",
            "notebookMetadata": {
                "pythonIndentUnit": 4
            },
            "notebookName": "SpaceX_Machine Learning Prediction_Part_5",
            "notebookOrigID": 1334548862841529,
            "widgets": {}
        },
        "kernelspec": {
            "display_name": "Python",
            "language": "python",
            "name": "conda-env-python-py"
        },
        "language_info": {
            "name": ""
        }
    },
    "nbformat": 4,
    "nbformat_minor": 0
}