{
    "cells": [
        {
            "cell_type": "markdown",
            "metadata": {
                "application/vnd.databricks.v1+cell": {
                    "cellMetadata": {},
                    "inputWidgets": {},
                    "nuid": "97f91078-d77c-40d8-9347-7cdc653734c8",
                    "showTitle": false,
                    "title": ""
                },
                "id": "3n3ltmfnrqpi",
                "outputId": "a2d4f52a-2fb7-4668-f5f0-fe862aab8eb0",
                "papermill": {
                    "duration": 1.489571,
                    "end_time": "2020-09-19T06:26:57.168979",
                    "exception": false,
                    "start_time": "2020-09-19T06:26:55.679408",
                    "status": "completed"
                },
                "tags": []
            },
            "source": "<p style=\"text-align:center\">\n    <a href=\"https://skills.network/?utm_medium=Exinfluencer&utm_source=Exinfluencer&utm_content=000026UJ&utm_term=10006555&utm_id=NA-SkillsNetwork-Channel-SkillsNetworkCoursesIBMDS0321ENSkillsNetwork26802033-2022-01-01\" target=\"_blank\">\n    <img src=\"https://cf-courses-data.s3.us.cloud-object-storage.appdomain.cloud/assets/logos/SN_web_lightmode.png\" width=\"200\" alt=\"Skills Network Logo\"  />\n    </a>\n</p>"
        },
        {
            "cell_type": "markdown",
            "metadata": {
                "application/vnd.databricks.v1+cell": {
                    "cellMetadata": {},
                    "inputWidgets": {},
                    "nuid": "4f7cfa30-6ebd-4122-bcd7-c8317bac07e3",
                    "showTitle": false,
                    "title": ""
                }
            },
            "source": "# **Launch Sites Locations Analysis with Folium**"
        },
        {
            "cell_type": "markdown",
            "metadata": {
                "application/vnd.databricks.v1+cell": {
                    "cellMetadata": {},
                    "inputWidgets": {},
                    "nuid": "0f0557b7-8257-4010-a864-667689057d02",
                    "showTitle": false,
                    "title": ""
                }
            },
            "source": "Estimated time needed: **40** minutes"
        },
        {
            "cell_type": "markdown",
            "metadata": {
                "application/vnd.databricks.v1+cell": {
                    "cellMetadata": {},
                    "inputWidgets": {},
                    "nuid": "9e595a9e-f8c2-450e-a801-c6e69ff63cf3",
                    "showTitle": false,
                    "title": ""
                }
            },
            "source": "The launch success rate may depend on many factors such as payload mass, orbit type, and so on. It may also depend on the location and proximities of a launch site, i.e., the initial position of rocket trajectories. Finding an optimal location for building a launch site certainly involves many factors and hopefully we could discover some of the factors by analyzing the existing launch site locations."
        },
        {
            "cell_type": "markdown",
            "metadata": {
                "application/vnd.databricks.v1+cell": {
                    "cellMetadata": {},
                    "inputWidgets": {},
                    "nuid": "fdffefe4-bbb8-498e-baf5-d406f8ea6474",
                    "showTitle": false,
                    "title": ""
                }
            },
            "source": "In the previous exploratory data analysis labs, you have visualized the SpaceX launch dataset using `matplotlib` and `seaborn` and discovered some preliminary correlations between the launch site and success rates. In this lab, you will be performing more interactive visual analytics using `Folium`."
        },
        {
            "cell_type": "markdown",
            "metadata": {
                "application/vnd.databricks.v1+cell": {
                    "cellMetadata": {},
                    "inputWidgets": {},
                    "nuid": "2427d247-e922-4824-9bda-88529ab036b1",
                    "showTitle": false,
                    "title": ""
                }
            },
            "source": "## Objectives"
        },
        {
            "cell_type": "markdown",
            "metadata": {
                "application/vnd.databricks.v1+cell": {
                    "cellMetadata": {},
                    "inputWidgets": {},
                    "nuid": "00f1a98a-632c-4c49-863e-2b819f6b6a70",
                    "showTitle": false,
                    "title": ""
                }
            },
            "source": "This lab contains the following tasks:\n\n*   **TASK 1:** Mark all launch sites on a map\n*   **TASK 2:** Mark the success/failed launches for each site on the map\n*   **TASK 3:** Calculate the distances between a launch site to its proximities\n\nAfter completed the above tasks, you should be able to find some geographical patterns about launch sites."
        },
        {
            "cell_type": "markdown",
            "metadata": {
                "application/vnd.databricks.v1+cell": {
                    "cellMetadata": {},
                    "inputWidgets": {},
                    "nuid": "fc5a4013-3e9c-4c7c-b5b4-c4b56e64bfe7",
                    "showTitle": false,
                    "title": ""
                }
            },
            "source": "Let's first import required Python packages for this lab:"
        },
        {
            "cell_type": "code",
            "execution_count": 0,
            "metadata": {
                "application/vnd.databricks.v1+cell": {
                    "cellMetadata": {
                        "byteLimit": 2048000,
                        "rowLimit": 10000
                    },
                    "inputWidgets": {},
                    "nuid": "797760e1-0f02-4d2e-b0e2-b1bb2febda25",
                    "showTitle": false,
                    "title": ""
                }
            },
            "outputs": [
                {
                    "data": {
                        "text/html": "<style scoped>\n  .ansiout {\n    display: block;\n    unicode-bidi: embed;\n    white-space: pre-wrap;\n    word-wrap: break-word;\n    word-break: break-all;\n    font-family: \"Source Code Pro\", \"Menlo\", monospace;;\n    font-size: 13px;\n    color: #555;\n    margin-left: 4px;\n    line-height: 19px;\n  }\n</style>\n<div class=\"ansiout\">Collecting folium\r\n  Downloading folium-0.14.0-py2.py3-none-any.whl (102 kB)\r\n\u2588\u2588\u2588\u258f                            | 10 kB 34.5 MB/s eta 0:00:01\r     |\u2588\u2588\u2588\u2588\u2588\u2588\u258d                         | 20 kB 21.4 MB/s eta 0:00:01\r     |\u2588\u2588\u2588\u2588\u2588\u2588\u2588\u2588\u2588\u258b                      | 30 kB 27.2 MB/s eta 0:00:01\r     |\u2588\u2588\u2588\u2588\u2588\u2588\u2588\u2588\u2588\u2588\u2588\u2588\u2589                   | 40 kB 12.5 MB/s eta 0:00:01\r     |\u2588\u2588\u2588\u2588\u2588\u2588\u2588\u2588\u2588\u2588\u2588\u2588\u2588\u2588\u2588\u2588                | 51 kB 11.4 MB/s eta 0:00:01\r     |\u2588\u2588\u2588\u2588\u2588\u2588\u2588\u2588\u2588\u2588\u2588\u2588\u2588\u2588\u2588\u2588\u2588\u2588\u2588\u258f            | 61 kB 13.2 MB/s eta 0:00:01\r     |\u2588\u2588\u2588\u2588\u2588\u2588\u2588\u2588\u2588\u2588\u2588\u2588\u2588\u2588\u2588\u2588\u2588\u2588\u2588\u2588\u2588\u2588\u258d         | 71 kB 14.0 MB/s eta 0:00:01\r     |\u2588\u2588\u2588\u2588\u2588\u2588\u2588\u2588\u2588\u2588\u2588\u2588\u2588\u2588\u2588\u2588\u2588\u2588\u2588\u2588\u2588\u2588\u2588\u2588\u2588\u258b      | 81 kB 15.5 MB/s eta 0:00:01\r     |\u2588\u2588\u2588\u2588\u2588\u2588\u2588\u2588\u2588\u2588\u2588\u2588\u2588\u2588\u2588\u2588\u2588\u2588\u2588\u2588\u2588\u2588\u2588\u2588\u2588\u2588\u2588\u2588\u2589   | 92 kB 17.0 MB/s eta 0:00:01\r     |\u2588\u2588\u2588\u2588\u2588\u2588\u2588\u2588\u2588\u2588\u2588\u2588\u2588\u2588\u2588\u2588\u2588\u2588\u2588\u2588\u2588\u2588\u2588\u2588\u2588\u2588\u2588\u2588\u2588\u2588\u2588\u2588| 102 kB 8.4 MB/s \r\nRequirement already satisfied: requests in /databricks/python3/lib/python3.8/site-packages (from folium) (2.28.2)\r\nRequirement already satisfied: numpy in /databricks/python3/lib/python3.8/site-packages (from folium) (1.19.2)\r\nRequirement already satisfied: jinja2&gt;=2.9 in /databricks/python3/lib/python3.8/site-packages (from folium) (3.1.2)\r\nCollecting branca&gt;=0.6.0\r\n  Downloading branca-0.6.0-py3-none-any.whl (24 kB)\r\nRequirement already satisfied: MarkupSafe&gt;=2.0 in /databricks/python3/lib/python3.8/site-packages (from jinja2&gt;=2.9-&gt;folium) (2.1.2)\r\nRequirement already satisfied: urllib3&lt;1.27,&gt;=1.21.1 in /databricks/python3/lib/python3.8/site-packages (from requests-&gt;folium) (1.25.11)\r\nRequirement already satisfied: certifi&gt;=2017.4.17 in /databricks/python3/lib/python3.8/site-packages (from requests-&gt;folium) (2020.12.5)\r\nRequirement already satisfied: charset-normalizer&lt;4,&gt;=2 in /databricks/python3/lib/python3.8/site-packages (from requests-&gt;folium) (3.1.0)\r\nRequirement already satisfied: idna&lt;4,&gt;=2.5 in /databricks/python3/lib/python3.8/site-packages (from requests-&gt;folium) (2.10)\r\nInstalling collected packages: branca, folium\r\nSuccessfully installed branca-0.6.0 folium-0.14.0\r\n<span class=\"ansi-yellow-fg\">WARNING: You are using pip version 21.0.1; however, version 23.0.1 is available.\r\nYou should consider upgrading via the &#39;/databricks/python3/bin/python -m pip install --upgrade pip&#39; command.</span>\r\nCollecting wget\r\n  Downloading wget-3.2.zip (10 kB)\r\nBuilding wheels for collected packages: wget\r\n  Building wheel for wget (setup.py) ... -\b \b\\\b \bdone\r\n  Created wheel for wget: filename=wget-3.2-py3-none-any.whl size=9680 sha256=09635e6be82e75c789c0452b23a8bb86fad62e9250a322be274eca17e2170f36\r\n  Stored in directory: /root/.cache/pip/wheels/bd/a8/c3/3cf2c14a1837a4e04bd98631724e81f33f462d86a1d895fae0\r\nSuccessfully built wget\r\nInstalling collected packages: wget\r\nSuccessfully installed wget-3.2\r\n<span class=\"ansi-yellow-fg\">WARNING: You are using pip version 21.0.1; however, version 23.0.1 is available.\r\nYou should consider upgrading via the &#39;/databricks/python3/bin/python -m pip install --upgrade pip&#39; command.</span>\r\n</div>"
                    },
                    "metadata": {
                        "application/vnd.databricks.v1+output": {
                            "addedWidgets": {},
                            "arguments": {},
                            "data": "<div class=\"ansiout\">Collecting folium\r\n  Downloading folium-0.14.0-py2.py3-none-any.whl (102 kB)\r\n\r     |\u2588\u2588\u2588\u258f                            | 10 kB 34.5 MB/s eta 0:00:01\r     |\u2588\u2588\u2588\u2588\u2588\u2588\u258d                         | 20 kB 21.4 MB/s eta 0:00:01\r     |\u2588\u2588\u2588\u2588\u2588\u2588\u2588\u2588\u2588\u258b                      | 30 kB 27.2 MB/s eta 0:00:01\r     |\u2588\u2588\u2588\u2588\u2588\u2588\u2588\u2588\u2588\u2588\u2588\u2588\u2589                   | 40 kB 12.5 MB/s eta 0:00:01\r     |\u2588\u2588\u2588\u2588\u2588\u2588\u2588\u2588\u2588\u2588\u2588\u2588\u2588\u2588\u2588\u2588                | 51 kB 11.4 MB/s eta 0:00:01\r     |\u2588\u2588\u2588\u2588\u2588\u2588\u2588\u2588\u2588\u2588\u2588\u2588\u2588\u2588\u2588\u2588\u2588\u2588\u2588\u258f            | 61 kB 13.2 MB/s eta 0:00:01\r     |\u2588\u2588\u2588\u2588\u2588\u2588\u2588\u2588\u2588\u2588\u2588\u2588\u2588\u2588\u2588\u2588\u2588\u2588\u2588\u2588\u2588\u2588\u258d         | 71 kB 14.0 MB/s eta 0:00:01\r     |\u2588\u2588\u2588\u2588\u2588\u2588\u2588\u2588\u2588\u2588\u2588\u2588\u2588\u2588\u2588\u2588\u2588\u2588\u2588\u2588\u2588\u2588\u2588\u2588\u2588\u258b      | 81 kB 15.5 MB/s eta 0:00:01\r     |\u2588\u2588\u2588\u2588\u2588\u2588\u2588\u2588\u2588\u2588\u2588\u2588\u2588\u2588\u2588\u2588\u2588\u2588\u2588\u2588\u2588\u2588\u2588\u2588\u2588\u2588\u2588\u2588\u2589   | 92 kB 17.0 MB/s eta 0:00:01\r     |\u2588\u2588\u2588\u2588\u2588\u2588\u2588\u2588\u2588\u2588\u2588\u2588\u2588\u2588\u2588\u2588\u2588\u2588\u2588\u2588\u2588\u2588\u2588\u2588\u2588\u2588\u2588\u2588\u2588\u2588\u2588\u2588| 102 kB 8.4 MB/s \r\nRequirement already satisfied: requests in /databricks/python3/lib/python3.8/site-packages (from folium) (2.28.2)\r\nRequirement already satisfied: numpy in /databricks/python3/lib/python3.8/site-packages (from folium) (1.19.2)\r\nRequirement already satisfied: jinja2&gt;=2.9 in /databricks/python3/lib/python3.8/site-packages (from folium) (3.1.2)\r\nCollecting branca&gt;=0.6.0\r\n  Downloading branca-0.6.0-py3-none-any.whl (24 kB)\r\nRequirement already satisfied: MarkupSafe&gt;=2.0 in /databricks/python3/lib/python3.8/site-packages (from jinja2&gt;=2.9-&gt;folium) (2.1.2)\r\nRequirement already satisfied: urllib3&lt;1.27,&gt;=1.21.1 in /databricks/python3/lib/python3.8/site-packages (from requests-&gt;folium) (1.25.11)\r\nRequirement already satisfied: certifi&gt;=2017.4.17 in /databricks/python3/lib/python3.8/site-packages (from requests-&gt;folium) (2020.12.5)\r\nRequirement already satisfied: charset-normalizer&lt;4,&gt;=2 in /databricks/python3/lib/python3.8/site-packages (from requests-&gt;folium) (3.1.0)\r\nRequirement already satisfied: idna&lt;4,&gt;=2.5 in /databricks/python3/lib/python3.8/site-packages (from requests-&gt;folium) (2.10)\r\nInstalling collected packages: branca, folium\r\nSuccessfully installed branca-0.6.0 folium-0.14.0\r\n<span class=\"ansi-yellow-fg\">WARNING: You are using pip version 21.0.1; however, version 23.0.1 is available.\r\nYou should consider upgrading via the &#39;/databricks/python3/bin/python -m pip install --upgrade pip&#39; command.</span>\r\nCollecting wget\r\n  Downloading wget-3.2.zip (10 kB)\r\nBuilding wheels for collected packages: wget\r\n  Building wheel for wget (setup.py) ... -\b \b\\\b \bdone\r\n  Created wheel for wget: filename=wget-3.2-py3-none-any.whl size=9680 sha256=09635e6be82e75c789c0452b23a8bb86fad62e9250a322be274eca17e2170f36\r\n  Stored in directory: /root/.cache/pip/wheels/bd/a8/c3/3cf2c14a1837a4e04bd98631724e81f33f462d86a1d895fae0\r\nSuccessfully built wget\r\nInstalling collected packages: wget\r\nSuccessfully installed wget-3.2\r\n<span class=\"ansi-yellow-fg\">WARNING: You are using pip version 21.0.1; however, version 23.0.1 is available.\r\nYou should consider upgrading via the &#39;/databricks/python3/bin/python -m pip install --upgrade pip&#39; command.</span>\r\n</div>",
                            "datasetInfos": [],
                            "metadata": {},
                            "removedWidgets": [],
                            "type": "html"
                        }
                    },
                    "output_type": "display_data"
                }
            ],
            "source": "!pip3 install folium\n!pip3 install wget"
        },
        {
            "cell_type": "code",
            "execution_count": 0,
            "metadata": {
                "application/vnd.databricks.v1+cell": {
                    "cellMetadata": {
                        "byteLimit": 2048000,
                        "rowLimit": 10000
                    },
                    "inputWidgets": {},
                    "nuid": "c091e21a-68b1-4669-b285-021a7b62b412",
                    "showTitle": false,
                    "title": ""
                }
            },
            "outputs": [
                {
                    "data": {
                        "text/html": "<style scoped>\n  .ansiout {\n    display: block;\n    unicode-bidi: embed;\n    white-space: pre-wrap;\n    word-wrap: break-word;\n    word-break: break-all;\n    font-family: \"Source Code Pro\", \"Menlo\", monospace;;\n    font-size: 13px;\n    color: #555;\n    margin-left: 4px;\n    line-height: 19px;\n  }\n</style>\n<div class=\"ansiout\"></div>"
                    },
                    "metadata": {
                        "application/vnd.databricks.v1+output": {
                            "addedWidgets": {},
                            "arguments": {},
                            "data": "<div class=\"ansiout\"></div>",
                            "datasetInfos": [],
                            "metadata": {},
                            "removedWidgets": [],
                            "type": "html"
                        }
                    },
                    "output_type": "display_data"
                }
            ],
            "source": "import folium\nimport wget\nimport pandas as pd"
        },
        {
            "cell_type": "code",
            "execution_count": 0,
            "metadata": {
                "application/vnd.databricks.v1+cell": {
                    "cellMetadata": {
                        "byteLimit": 2048000,
                        "rowLimit": 10000
                    },
                    "inputWidgets": {},
                    "nuid": "0245d478-139f-4de4-891f-3d7d05ed4cb5",
                    "showTitle": false,
                    "title": ""
                }
            },
            "outputs": [
                {
                    "data": {
                        "text/html": "<style scoped>\n  .ansiout {\n    display: block;\n    unicode-bidi: embed;\n    white-space: pre-wrap;\n    word-wrap: break-word;\n    word-break: break-all;\n    font-family: \"Source Code Pro\", \"Menlo\", monospace;;\n    font-size: 13px;\n    color: #555;\n    margin-left: 4px;\n    line-height: 19px;\n  }\n</style>\n<div class=\"ansiout\"></div>"
                    },
                    "metadata": {
                        "application/vnd.databricks.v1+output": {
                            "addedWidgets": {},
                            "arguments": {},
                            "data": "<div class=\"ansiout\"></div>",
                            "datasetInfos": [],
                            "metadata": {},
                            "removedWidgets": [],
                            "type": "html"
                        }
                    },
                    "output_type": "display_data"
                }
            ],
            "source": "# Import folium MarkerCluster plugin\nfrom folium.plugins import MarkerCluster\n# Import folium MousePosition plugin\nfrom folium.plugins import MousePosition\n# Import folium DivIcon plugin\nfrom folium.features import DivIcon"
        },
        {
            "cell_type": "markdown",
            "metadata": {
                "application/vnd.databricks.v1+cell": {
                    "cellMetadata": {},
                    "inputWidgets": {},
                    "nuid": "82380841-8067-4537-92c6-47c27a0d36ec",
                    "showTitle": false,
                    "title": ""
                }
            },
            "source": "If you need to refresh your memory about folium, you may download and refer to this previous folium lab:"
        },
        {
            "cell_type": "markdown",
            "metadata": {
                "application/vnd.databricks.v1+cell": {
                    "cellMetadata": {},
                    "inputWidgets": {},
                    "nuid": "49d67828-5c1e-4220-9fc1-f4e604952ba4",
                    "showTitle": false,
                    "title": ""
                }
            },
            "source": "[Generating Maps with Python](https://cf-courses-data.s3.us.cloud-object-storage.appdomain.cloud/IBM-DS0321EN-SkillsNetwork/labs/module\\_3/DV0101EN-3-5-1-Generating-Maps-in-Python-py-v2.0.ipynb)"
        },
        {
            "cell_type": "markdown",
            "metadata": {
                "application/vnd.databricks.v1+cell": {
                    "cellMetadata": {},
                    "inputWidgets": {},
                    "nuid": "d54249ee-c145-47e7-9795-22476e85a35a",
                    "showTitle": false,
                    "title": ""
                }
            },
            "source": "## Task 1: Mark all launch sites on a map"
        },
        {
            "cell_type": "markdown",
            "metadata": {
                "application/vnd.databricks.v1+cell": {
                    "cellMetadata": {},
                    "inputWidgets": {},
                    "nuid": "4816d72b-0b23-48d9-96f9-c87e15a24592",
                    "showTitle": false,
                    "title": ""
                }
            },
            "source": "First, let's try to add each site's location on a map using site's latitude and longitude coordinates"
        },
        {
            "cell_type": "markdown",
            "metadata": {
                "application/vnd.databricks.v1+cell": {
                    "cellMetadata": {},
                    "inputWidgets": {},
                    "nuid": "0d86bdae-7ca3-4bfa-a642-e2f73ae96bce",
                    "showTitle": false,
                    "title": ""
                }
            },
            "source": "The following dataset with the name `spacex_launch_geo.csv` is an augmented dataset with latitude and longitude added for each site."
        },
        {
            "cell_type": "code",
            "execution_count": 0,
            "metadata": {
                "application/vnd.databricks.v1+cell": {
                    "cellMetadata": {},
                    "inputWidgets": {},
                    "nuid": "de62ecf6-7abe-4f87-85f7-d33bb4cfdba1",
                    "showTitle": false,
                    "title": ""
                }
            },
            "outputs": [],
            "source": "# Download and read the `spacex_launch_geo.csv`\nspacex_csv_file = wget.download('https://cf-courses-data.s3.us.cloud-object-storage.appdomain.cloud/IBM-DS0321EN-SkillsNetwork/datasets/spacex_launch_geo.csv')\nspacex_df=pd.read_csv(spacex_csv_file)"
        },
        {
            "cell_type": "markdown",
            "metadata": {
                "application/vnd.databricks.v1+cell": {
                    "cellMetadata": {},
                    "inputWidgets": {},
                    "nuid": "8eb69910-5596-4b0e-b12c-f494b014c1e6",
                    "showTitle": false,
                    "title": ""
                }
            },
            "source": "Now, you can take a look at what are the coordinates for each site."
        },
        {
            "cell_type": "code",
            "execution_count": 0,
            "metadata": {
                "application/vnd.databricks.v1+cell": {
                    "cellMetadata": {},
                    "inputWidgets": {},
                    "nuid": "168c8fef-ddb6-4ae3-a440-e7ad2f107a30",
                    "showTitle": false,
                    "title": ""
                }
            },
            "outputs": [],
            "source": "# Select relevant sub-columns: `Launch Site`, `Lat(Latitude)`, `Long(Longitude)`, `class`\nspacex_df = spacex_df[['Launch Site', 'Lat', 'Long', 'class']]\nlaunch_sites_df = spacex_df.groupby(['Launch Site'], as_index=False).first()\nlaunch_sites_df = launch_sites_df[['Launch Site', 'Lat', 'Long']]\nlaunch_sites_df"
        },
        {
            "cell_type": "markdown",
            "metadata": {
                "application/vnd.databricks.v1+cell": {
                    "cellMetadata": {},
                    "inputWidgets": {},
                    "nuid": "86fb6304-bc22-4d9c-93a6-8ea33b24789d",
                    "showTitle": false,
                    "title": ""
                }
            },
            "source": "Above coordinates are just plain numbers that can not give you any intuitive insights about where are those launch sites. If you are very good at geography, you can interpret those numbers directly in your mind. If not, that's fine too. Let's visualize those locations by pinning them on a map."
        },
        {
            "cell_type": "markdown",
            "metadata": {
                "application/vnd.databricks.v1+cell": {
                    "cellMetadata": {},
                    "inputWidgets": {},
                    "nuid": "1e0badc1-61cb-4b32-a282-f2064d5934d4",
                    "showTitle": false,
                    "title": ""
                }
            },
            "source": "We first need to create a folium `Map` object, with an initial center location to be NASA Johnson Space Center at Houston, Texas."
        },
        {
            "cell_type": "code",
            "execution_count": 0,
            "metadata": {
                "application/vnd.databricks.v1+cell": {
                    "cellMetadata": {},
                    "inputWidgets": {},
                    "nuid": "4bda49df-e797-46d4-a211-2f8124cb33fe",
                    "showTitle": false,
                    "title": ""
                }
            },
            "outputs": [],
            "source": "# Start location is NASA Johnson Space Center\nnasa_coordinate = [29.559684888503615, -95.0830971930759]\nsite_map = folium.Map(location=nasa_coordinate, zoom_start=10)"
        },
        {
            "cell_type": "markdown",
            "metadata": {
                "application/vnd.databricks.v1+cell": {
                    "cellMetadata": {},
                    "inputWidgets": {},
                    "nuid": "ac4b8e0c-1781-460a-8939-0aeb1da987ae",
                    "showTitle": false,
                    "title": ""
                }
            },
            "source": "We could use `folium.Circle` to add a highlighted circle area with a text label on a specific coordinate. For example,"
        },
        {
            "cell_type": "code",
            "execution_count": 0,
            "metadata": {
                "application/vnd.databricks.v1+cell": {
                    "cellMetadata": {},
                    "inputWidgets": {},
                    "nuid": "a202c7fc-a6e7-468f-84eb-1b0e002ab333",
                    "showTitle": false,
                    "title": ""
                }
            },
            "outputs": [],
            "source": "# Create a blue circle at NASA Johnson Space Center's coordinate with a popup label showing its name\ncircle = folium.Circle(nasa_coordinate, radius=1000, color='#d35400', fill=True).add_child(folium.Popup('NASA Johnson Space Center'))\n# Create a blue circle at NASA Johnson Space Center's coordinate with a icon showing its name\nmarker = folium.map.Marker(\n    nasa_coordinate,\n    # Create an icon as a text label\n    icon=DivIcon(\n        icon_size=(20,20),\n        icon_anchor=(0,0),\n        html='<div style=\"font-size: 12; color:#d35400;\"><b>%s</b></div>' % 'NASA JSC',\n        )\n    )\nsite_map.add_child(circle)\nsite_map.add_child(marker)"
        },
        {
            "cell_type": "markdown",
            "metadata": {
                "application/vnd.databricks.v1+cell": {
                    "cellMetadata": {},
                    "inputWidgets": {},
                    "nuid": "ea0a10d0-3a46-41fb-af84-0e75ae645f0e",
                    "showTitle": false,
                    "title": ""
                }
            },
            "source": "and you should find a small yellow circle near the city of Houston and you can zoom-in to see a larger circle."
        },
        {
            "cell_type": "markdown",
            "metadata": {
                "application/vnd.databricks.v1+cell": {
                    "cellMetadata": {},
                    "inputWidgets": {},
                    "nuid": "96ecf2fa-4b2b-429e-9fb4-dee332447bfc",
                    "showTitle": false,
                    "title": ""
                }
            },
            "source": "Now, let's add a circle for each launch site in data frame `launch_sites`"
        },
        {
            "cell_type": "markdown",
            "metadata": {
                "application/vnd.databricks.v1+cell": {
                    "cellMetadata": {},
                    "inputWidgets": {},
                    "nuid": "dcd6c7fa-8572-4b8f-8ac9-89c183eb1bea",
                    "showTitle": false,
                    "title": ""
                }
            },
            "source": "*TODO:*  Create and add `folium.Circle` and `folium.Marker` for each launch site on the site map"
        },
        {
            "cell_type": "markdown",
            "metadata": {
                "application/vnd.databricks.v1+cell": {
                    "cellMetadata": {},
                    "inputWidgets": {},
                    "nuid": "ab7b76f5-77b1-445e-87d1-7279844096c7",
                    "showTitle": false,
                    "title": ""
                }
            },
            "source": "An example of folium.Circle:"
        },
        {
            "cell_type": "markdown",
            "metadata": {
                "application/vnd.databricks.v1+cell": {
                    "cellMetadata": {},
                    "inputWidgets": {},
                    "nuid": "7f4672cf-438a-47e4-bf75-d580b43f85b3",
                    "showTitle": false,
                    "title": ""
                }
            },
            "source": "`folium.Circle(coordinate, radius=1000, color='#000000', fill=True).add_child(folium.Popup(...))`"
        },
        {
            "cell_type": "markdown",
            "metadata": {
                "application/vnd.databricks.v1+cell": {
                    "cellMetadata": {},
                    "inputWidgets": {},
                    "nuid": "8b4b2ebe-fdd1-4e05-b1f6-8db57f0522c1",
                    "showTitle": false,
                    "title": ""
                }
            },
            "source": "An example of folium.Marker:"
        },
        {
            "cell_type": "markdown",
            "metadata": {
                "application/vnd.databricks.v1+cell": {
                    "cellMetadata": {},
                    "inputWidgets": {},
                    "nuid": "7ba2efdb-8040-4ed5-8e2f-7caacc834f85",
                    "showTitle": false,
                    "title": ""
                }
            },
            "source": "`folium.map.Marker(coordinate, icon=DivIcon(icon_size=(20,20),icon_anchor=(0,0), html='<div style=\"font-size: 12; color:#d35400;\"><b>%s</b></div>' % 'label', ))`"
        },
        {
            "cell_type": "code",
            "execution_count": 0,
            "metadata": {
                "application/vnd.databricks.v1+cell": {
                    "cellMetadata": {},
                    "inputWidgets": {},
                    "nuid": "8be065ae-167d-489d-b684-c514b9af49eb",
                    "showTitle": false,
                    "title": ""
                }
            },
            "outputs": [],
            "source": "# Initial the map\nsite_map = folium.Map(location=nasa_coordinate, zoom_start=5)\n# For each launch site, add a Circle object based on its coordinate (Lat, Long) values. In addition, add Launch site name as a popup label\n"
        },
        {
            "cell_type": "markdown",
            "metadata": {
                "application/vnd.databricks.v1+cell": {
                    "cellMetadata": {},
                    "inputWidgets": {},
                    "nuid": "1d6cdcd1-58d3-4e39-a0fd-ca764d5d3574",
                    "showTitle": false,
                    "title": ""
                }
            },
            "source": "The generated map with marked launch sites should look similar to the following:"
        },
        {
            "cell_type": "markdown",
            "metadata": {
                "application/vnd.databricks.v1+cell": {
                    "cellMetadata": {},
                    "inputWidgets": {},
                    "nuid": "bc1efef7-ea7c-49f3-89c4-9e36d62f37ff",
                    "showTitle": false,
                    "title": ""
                }
            },
            "source": "<center>\n    <img src=\"https://cf-courses-data.s3.us.cloud-object-storage.appdomain.cloud/IBM-DS0321EN-SkillsNetwork/labs/module_3/images/launch_site_markers.png\" />\n</center>"
        },
        {
            "cell_type": "markdown",
            "metadata": {
                "application/vnd.databricks.v1+cell": {
                    "cellMetadata": {},
                    "inputWidgets": {},
                    "nuid": "bbc7e314-857b-45a8-87b5-7418a6dfd666",
                    "showTitle": false,
                    "title": ""
                }
            },
            "source": "Now, you can explore the map by zoom-in/out the marked areas\n, and try to answer the following questions:\n\n*   Are all launch sites in proximity to the Equator line?\n*   Are all launch sites in very close proximity to the coast?\n\nAlso please try to explain your findings."
        },
        {
            "cell_type": "markdown",
            "metadata": {
                "application/vnd.databricks.v1+cell": {
                    "cellMetadata": {},
                    "inputWidgets": {},
                    "nuid": "65d9a2f1-3b3a-4c18-bdcb-4bfe838ca014",
                    "showTitle": false,
                    "title": ""
                }
            },
            "source": "# Task 2: Mark the success/failed launches for each site on the map"
        },
        {
            "cell_type": "markdown",
            "metadata": {
                "application/vnd.databricks.v1+cell": {
                    "cellMetadata": {},
                    "inputWidgets": {},
                    "nuid": "be8aab9f-7396-4bfd-9fe6-e28788c2fe65",
                    "showTitle": false,
                    "title": ""
                }
            },
            "source": "Next, let's try to enhance the map by adding the launch outcomes for each site, and see which sites have high success rates.\nRecall that data frame spacex_df has detailed launch records, and the `class` column indicates if this launch was successful or not"
        },
        {
            "cell_type": "code",
            "execution_count": 0,
            "metadata": {
                "application/vnd.databricks.v1+cell": {
                    "cellMetadata": {},
                    "inputWidgets": {},
                    "nuid": "4eb77984-b879-4409-96d5-4753918abc53",
                    "showTitle": false,
                    "title": ""
                }
            },
            "outputs": [],
            "source": "spacex_df.tail(10)"
        },
        {
            "cell_type": "markdown",
            "metadata": {
                "application/vnd.databricks.v1+cell": {
                    "cellMetadata": {},
                    "inputWidgets": {},
                    "nuid": "53bb33e9-cf90-4493-846c-9e6d850de0f6",
                    "showTitle": false,
                    "title": ""
                }
            },
            "source": "Next, let's create markers for all launch records.\nIf a launch was successful `(class=1)`, then we use a green marker and if a launch was failed, we use a red marker `(class=0)`"
        },
        {
            "cell_type": "markdown",
            "metadata": {
                "application/vnd.databricks.v1+cell": {
                    "cellMetadata": {},
                    "inputWidgets": {},
                    "nuid": "d0e3d035-351e-4084-8d9a-e2b323863611",
                    "showTitle": false,
                    "title": ""
                }
            },
            "source": "Note that a launch only happens in one of the four launch sites, which means many launch records will have the exact same coordinate. Marker clusters can be a good way to simplify a map containing many markers having the same coordinate."
        },
        {
            "cell_type": "markdown",
            "metadata": {
                "application/vnd.databricks.v1+cell": {
                    "cellMetadata": {},
                    "inputWidgets": {},
                    "nuid": "7b6c1924-1989-48d5-9860-d6b9e0dbe11b",
                    "showTitle": false,
                    "title": ""
                }
            },
            "source": "Let's first create a `MarkerCluster` object"
        },
        {
            "cell_type": "code",
            "execution_count": 0,
            "metadata": {
                "application/vnd.databricks.v1+cell": {
                    "cellMetadata": {},
                    "inputWidgets": {},
                    "nuid": "6457297a-bc46-41aa-ad46-d8ef23cec774",
                    "showTitle": false,
                    "title": ""
                },
                "id": "wP9PVUZ7Jfjt",
                "outputId": "6a3b8164-940c-4b93-9f3d-c655c4a0c683",
                "papermill": {
                    "duration": 0.904519,
                    "end_time": "2020-09-19T06:27:38.357041",
                    "exception": false,
                    "start_time": "2020-09-19T06:27:37.452522",
                    "status": "completed"
                },
                "tags": []
            },
            "outputs": [],
            "source": "marker_cluster = MarkerCluster()\n"
        },
        {
            "cell_type": "markdown",
            "metadata": {
                "application/vnd.databricks.v1+cell": {
                    "cellMetadata": {},
                    "inputWidgets": {},
                    "nuid": "2b8e3ed1-3e4d-4e17-b6cb-d5b29efb4426",
                    "showTitle": false,
                    "title": ""
                }
            },
            "source": "*TODO:* Create a new column in `launch_sites` dataframe called `marker_color` to store the marker colors based on the `class` value"
        },
        {
            "cell_type": "code",
            "execution_count": 0,
            "metadata": {
                "application/vnd.databricks.v1+cell": {
                    "cellMetadata": {},
                    "inputWidgets": {},
                    "nuid": "2678c9e8-ea54-4ba1-918e-cded29651739",
                    "showTitle": false,
                    "title": ""
                }
            },
            "outputs": [],
            "source": "\n# Apply a function to check the value of `class` column\n# If class=1, marker_color value will be green\n# If class=0, marker_color value will be red\n"
        },
        {
            "cell_type": "code",
            "execution_count": 0,
            "metadata": {
                "application/vnd.databricks.v1+cell": {
                    "cellMetadata": {},
                    "inputWidgets": {},
                    "nuid": "59e042c9-e6c7-4bd5-9f6c-1106a878f35e",
                    "showTitle": false,
                    "title": ""
                }
            },
            "outputs": [],
            "source": "# Function to assign color to launch outcome\ndef assign_marker_color(launch_outcome):\n    if launch_outcome == 1:\n        return 'green'\n    else:\n        return 'red'\n    \nspacex_df['marker_color'] = spacex_df['class'].apply(assign_marker_color)\nspacex_df.tail(10)"
        },
        {
            "cell_type": "markdown",
            "metadata": {
                "application/vnd.databricks.v1+cell": {
                    "cellMetadata": {},
                    "inputWidgets": {},
                    "nuid": "edd7398c-62fb-45ae-a668-6a1115f8d017",
                    "showTitle": false,
                    "title": ""
                }
            },
            "source": "*TODO:* For each launch result in `spacex_df` data frame, add a `folium.Marker` to `marker_cluster`"
        },
        {
            "cell_type": "code",
            "execution_count": 0,
            "metadata": {
                "application/vnd.databricks.v1+cell": {
                    "cellMetadata": {},
                    "inputWidgets": {},
                    "nuid": "963e0669-7d25-46e0-a0ec-5e198a2d1c0c",
                    "showTitle": false,
                    "title": ""
                }
            },
            "outputs": [],
            "source": "# Add marker_cluster to current site_map\nsite_map.add_child(marker_cluster)\n\n# for each row in spacex_df data frame\n# create a Marker object with its coordinate\n# and customize the Marker's icon property to indicate if this launch was successed or failed, \n# e.g., icon=folium.Icon(color='white', icon_color=row['marker_color']\nfor index, record in spacex_df.iterrows():\n    # TODO: Create and add a Marker cluster to the site map\n    # marker = folium.Marker(...)\n    marker_cluster.add_child(marker)\n\nsite_map"
        },
        {
            "cell_type": "markdown",
            "metadata": {
                "application/vnd.databricks.v1+cell": {
                    "cellMetadata": {},
                    "inputWidgets": {},
                    "nuid": "5574d299-2ee0-4ef7-bda2-4c610c798726",
                    "showTitle": false,
                    "title": ""
                }
            },
            "source": "Your updated map may look like the following screenshots:"
        },
        {
            "cell_type": "markdown",
            "metadata": {
                "application/vnd.databricks.v1+cell": {
                    "cellMetadata": {},
                    "inputWidgets": {},
                    "nuid": "effc64b8-c8f9-46b1-aca2-6c10b1304de0",
                    "showTitle": false,
                    "title": ""
                }
            },
            "source": "<center>\n    <img src=\"https://cf-courses-data.s3.us.cloud-object-storage.appdomain.cloud/IBM-DS0321EN-SkillsNetwork/labs/module_3/images/launch_site_marker_cluster.png\" />\n</center>"
        },
        {
            "cell_type": "markdown",
            "metadata": {
                "application/vnd.databricks.v1+cell": {
                    "cellMetadata": {},
                    "inputWidgets": {},
                    "nuid": "b903787d-402f-4bfb-ab6a-e6e227064e74",
                    "showTitle": false,
                    "title": ""
                }
            },
            "source": "<center>\n    <img src=\"https://cf-courses-data.s3.us.cloud-object-storage.appdomain.cloud/IBM-DS0321EN-SkillsNetwork/labs/module_3/images/launch_site_marker_cluster_zoomed.png\" />\n</center>"
        },
        {
            "cell_type": "markdown",
            "metadata": {
                "application/vnd.databricks.v1+cell": {
                    "cellMetadata": {},
                    "inputWidgets": {},
                    "nuid": "bdaa305c-5e6e-4fcb-87e9-eee43106f538",
                    "showTitle": false,
                    "title": ""
                }
            },
            "source": "From the color-labeled markers in marker clusters, you should be able to easily identify which launch sites have relatively high success rates."
        },
        {
            "cell_type": "markdown",
            "metadata": {
                "application/vnd.databricks.v1+cell": {
                    "cellMetadata": {},
                    "inputWidgets": {},
                    "nuid": "b9ee75ec-7a04-4d2e-86dd-6b8f9f22a73f",
                    "showTitle": false,
                    "title": ""
                }
            },
            "source": "# TASK 3: Calculate the distances between a launch site to its proximities"
        },
        {
            "cell_type": "markdown",
            "metadata": {
                "application/vnd.databricks.v1+cell": {
                    "cellMetadata": {},
                    "inputWidgets": {},
                    "nuid": "f8262f25-4333-49bc-bf58-f8f074af200b",
                    "showTitle": false,
                    "title": ""
                }
            },
            "source": "Next, we need to explore and analyze the proximities of launch sites."
        },
        {
            "cell_type": "markdown",
            "metadata": {
                "application/vnd.databricks.v1+cell": {
                    "cellMetadata": {},
                    "inputWidgets": {},
                    "nuid": "d2bf6498-e80e-4699-adcb-721adc1d74bc",
                    "showTitle": false,
                    "title": ""
                }
            },
            "source": "Let's first add a `MousePosition` on the map to get coordinate for a mouse over a point on the map. As such, while you are exploring the map, you can easily find the coordinates of any points of interests (such as railway)"
        },
        {
            "cell_type": "code",
            "execution_count": 0,
            "metadata": {
                "application/vnd.databricks.v1+cell": {
                    "cellMetadata": {},
                    "inputWidgets": {},
                    "nuid": "b492dc5b-720e-42cb-ba0f-0316e3daeeb5",
                    "showTitle": false,
                    "title": ""
                }
            },
            "outputs": [],
            "source": "# Add Mouse Position to get the coordinate (Lat, Long) for a mouse over on the map\nformatter = \"function(num) {return L.Util.formatNum(num, 5);};\"\nmouse_position = MousePosition(\n    position='topright',\n    separator=' Long: ',\n    empty_string='NaN',\n    lng_first=False,\n    num_digits=20,\n    prefix='Lat:',\n    lat_formatter=formatter,\n    lng_formatter=formatter,\n)\n\nsite_map.add_child(mouse_position)\nsite_map"
        },
        {
            "cell_type": "markdown",
            "metadata": {
                "application/vnd.databricks.v1+cell": {
                    "cellMetadata": {},
                    "inputWidgets": {},
                    "nuid": "ea849c09-3c5a-4415-9786-39395a9e6bd8",
                    "showTitle": false,
                    "title": ""
                }
            },
            "source": "Now zoom in to a launch site and explore its proximity to see if you can easily find any railway, highway, coastline, etc. Move your mouse to these points and mark down their coordinates (shown on the top-left) in order to the distance to the launch site."
        },
        {
            "cell_type": "markdown",
            "metadata": {
                "application/vnd.databricks.v1+cell": {
                    "cellMetadata": {},
                    "inputWidgets": {},
                    "nuid": "a226e5fb-fb26-4512-9f7b-67b735c53acd",
                    "showTitle": false,
                    "title": ""
                }
            },
            "source": "You can calculate the distance between two points on the map based on their `Lat` and `Long` values using the following method:"
        },
        {
            "cell_type": "code",
            "execution_count": 0,
            "metadata": {
                "application/vnd.databricks.v1+cell": {
                    "cellMetadata": {},
                    "inputWidgets": {},
                    "nuid": "80303bba-0961-4852-a817-4e6941bde351",
                    "showTitle": false,
                    "title": ""
                }
            },
            "outputs": [],
            "source": "from math import sin, cos, sqrt, atan2, radians\n\ndef calculate_distance(lat1, lon1, lat2, lon2):\n    # approximate radius of earth in km\n    R = 6373.0\n\n    lat1 = radians(lat1)\n    lon1 = radians(lon1)\n    lat2 = radians(lat2)\n    lon2 = radians(lon2)\n\n    dlon = lon2 - lon1\n    dlat = lat2 - lat1\n\n    a = sin(dlat / 2)**2 + cos(lat1) * cos(lat2) * sin(dlon / 2)**2\n    c = 2 * atan2(sqrt(a), sqrt(1 - a))\n\n    distance = R * c\n    return distance"
        },
        {
            "cell_type": "markdown",
            "metadata": {
                "application/vnd.databricks.v1+cell": {
                    "cellMetadata": {},
                    "inputWidgets": {},
                    "nuid": "e4646af3-47f1-4fc8-bb85-0d745641244d",
                    "showTitle": false,
                    "title": ""
                }
            },
            "source": "*TODO:* Mark down a point on the closest coastline using MousePosition and calculate the distance between the coastline point and the launch site."
        },
        {
            "cell_type": "code",
            "execution_count": 0,
            "metadata": {
                "application/vnd.databricks.v1+cell": {
                    "cellMetadata": {},
                    "inputWidgets": {},
                    "nuid": "c8a34160-c43d-4133-bdbb-f5aa0e9992c5",
                    "showTitle": false,
                    "title": ""
                }
            },
            "outputs": [],
            "source": "# find coordinate of the closet coastline\n# e.g.,: Lat: 28.56367  Lon: -80.57163\n# distance_coastline = calculate_distance(launch_site_lat, launch_site_lon, coastline_lat, coastline_lon)"
        },
        {
            "cell_type": "markdown",
            "metadata": {
                "application/vnd.databricks.v1+cell": {
                    "cellMetadata": {},
                    "inputWidgets": {},
                    "nuid": "7691d862-ad03-4771-bfa4-404b45ccb384",
                    "showTitle": false,
                    "title": ""
                }
            },
            "source": "*TODO:* After obtained its coordinate, create a `folium.Marker` to show the distance"
        },
        {
            "cell_type": "code",
            "execution_count": 0,
            "metadata": {
                "application/vnd.databricks.v1+cell": {
                    "cellMetadata": {},
                    "inputWidgets": {},
                    "nuid": "3db48ae2-2e78-426f-ae18-26bcab0ec613",
                    "showTitle": false,
                    "title": ""
                }
            },
            "outputs": [],
            "source": "# Create and add a folium.Marker on your selected closest coastline point on the map\n# Display the distance between coastline point and launch site using the icon property \n# for example\n# distance_marker = folium.Marker(\n#    coordinate,\n#    icon=DivIcon(\n#        icon_size=(20,20),\n#        icon_anchor=(0,0),\n#        html='<div style=\"font-size: 12; color:#d35400;\"><b>%s</b></div>' % \"{:10.2f} KM\".format(distance),\n#        )\n#    )"
        },
        {
            "cell_type": "markdown",
            "metadata": {
                "application/vnd.databricks.v1+cell": {
                    "cellMetadata": {},
                    "inputWidgets": {},
                    "nuid": "ae6d4680-ac3b-42a9-8da9-a416d19935f0",
                    "showTitle": false,
                    "title": ""
                }
            },
            "source": "*TODO:* Draw a `PolyLine` between a launch site to the selected coastline point"
        },
        {
            "cell_type": "code",
            "execution_count": 0,
            "metadata": {
                "application/vnd.databricks.v1+cell": {
                    "cellMetadata": {},
                    "inputWidgets": {},
                    "nuid": "f859d8b3-bab3-4c20-8718-d07fb26021f4",
                    "showTitle": false,
                    "title": ""
                }
            },
            "outputs": [],
            "source": "# Create a `folium.PolyLine` object using the coastline coordinates and launch site coordinate\n# lines=folium.PolyLine(locations=coordinates, weight=1)\nsite_map.add_child(lines)"
        },
        {
            "cell_type": "markdown",
            "metadata": {
                "application/vnd.databricks.v1+cell": {
                    "cellMetadata": {},
                    "inputWidgets": {},
                    "nuid": "86a26243-05f3-4e75-a981-e1abbfb87dc1",
                    "showTitle": false,
                    "title": ""
                }
            },
            "source": "Your updated map with distance line should look like the following screenshot:"
        },
        {
            "cell_type": "markdown",
            "metadata": {
                "application/vnd.databricks.v1+cell": {
                    "cellMetadata": {},
                    "inputWidgets": {},
                    "nuid": "f67614f8-a03e-4013-a8b7-6fdaa3f85175",
                    "showTitle": false,
                    "title": ""
                }
            },
            "source": "<center>\n    <img src=\"https://cf-courses-data.s3.us.cloud-object-storage.appdomain.cloud/IBM-DS0321EN-SkillsNetwork/labs/module_3/images/launch_site_marker_distance.png\" />\n</center>"
        },
        {
            "cell_type": "markdown",
            "metadata": {
                "application/vnd.databricks.v1+cell": {
                    "cellMetadata": {},
                    "inputWidgets": {},
                    "nuid": "3740c1e3-83c3-42bc-8360-4fc20167d23e",
                    "showTitle": false,
                    "title": ""
                }
            },
            "source": "*TODO:* Similarly, you can draw a line betwee a launch site to its closest city, railway, highway, etc. You need to use `MousePosition` to find the their coordinates on the map first"
        },
        {
            "cell_type": "markdown",
            "metadata": {
                "application/vnd.databricks.v1+cell": {
                    "cellMetadata": {},
                    "inputWidgets": {},
                    "nuid": "551d20c8-ecfb-4e7b-a022-8b33be3d2702",
                    "showTitle": false,
                    "title": ""
                }
            },
            "source": "A railway map symbol may look like this:"
        },
        {
            "cell_type": "markdown",
            "metadata": {
                "application/vnd.databricks.v1+cell": {
                    "cellMetadata": {},
                    "inputWidgets": {},
                    "nuid": "3b4a8371-3e52-4727-a47b-1f515c2f094b",
                    "showTitle": false,
                    "title": ""
                }
            },
            "source": "<center>\n    <img src=\"https://cf-courses-data.s3.us.cloud-object-storage.appdomain.cloud/IBM-DS0321EN-SkillsNetwork/labs/module_3/images/railway.png\" />\n</center>"
        },
        {
            "cell_type": "markdown",
            "metadata": {
                "application/vnd.databricks.v1+cell": {
                    "cellMetadata": {},
                    "inputWidgets": {},
                    "nuid": "902bacc4-5f1d-4036-9890-2c64b8be8c05",
                    "showTitle": false,
                    "title": ""
                }
            },
            "source": "A highway map symbol may look like this:"
        },
        {
            "cell_type": "markdown",
            "metadata": {
                "application/vnd.databricks.v1+cell": {
                    "cellMetadata": {},
                    "inputWidgets": {},
                    "nuid": "41b64cd5-2b88-470b-9444-b2f641fa582f",
                    "showTitle": false,
                    "title": ""
                }
            },
            "source": "<center>\n    <img src=\"https://cf-courses-data.s3.us.cloud-object-storage.appdomain.cloud/IBM-DS0321EN-SkillsNetwork/labs/module_3/images/highway.png\" />\n</center>"
        },
        {
            "cell_type": "markdown",
            "metadata": {
                "application/vnd.databricks.v1+cell": {
                    "cellMetadata": {},
                    "inputWidgets": {},
                    "nuid": "1ce5a59f-c899-464f-bbd9-34817b981b1b",
                    "showTitle": false,
                    "title": ""
                }
            },
            "source": "A city map symbol may look like this:"
        },
        {
            "cell_type": "markdown",
            "metadata": {
                "application/vnd.databricks.v1+cell": {
                    "cellMetadata": {},
                    "inputWidgets": {},
                    "nuid": "c835ec8e-82a6-42cc-b94f-0546a9c06ce9",
                    "showTitle": false,
                    "title": ""
                }
            },
            "source": "<center>\n    <img src=\"https://cf-courses-data.s3.us.cloud-object-storage.appdomain.cloud/IBM-DS0321EN-SkillsNetwork/labs/module_3/images/city.png\" />\n</center>"
        },
        {
            "cell_type": "code",
            "execution_count": 0,
            "metadata": {
                "application/vnd.databricks.v1+cell": {
                    "cellMetadata": {},
                    "inputWidgets": {},
                    "nuid": "2cca7846-c389-423c-a4af-667427b381a5",
                    "showTitle": false,
                    "title": ""
                }
            },
            "outputs": [],
            "source": "# Create a marker with distance to a closest city, railway, highway, etc.\n# Draw a line between the marker to the launch site\n"
        },
        {
            "cell_type": "code",
            "execution_count": 0,
            "metadata": {
                "application/vnd.databricks.v1+cell": {
                    "cellMetadata": {},
                    "inputWidgets": {},
                    "nuid": "c96611f2-0761-4073-89d6-05b065de29eb",
                    "showTitle": false,
                    "title": ""
                }
            },
            "outputs": [],
            "source": ""
        },
        {
            "cell_type": "code",
            "execution_count": 0,
            "metadata": {
                "application/vnd.databricks.v1+cell": {
                    "cellMetadata": {},
                    "inputWidgets": {},
                    "nuid": "8b066e10-3077-4389-831f-a37aa1f6c72a",
                    "showTitle": false,
                    "title": ""
                }
            },
            "outputs": [],
            "source": ""
        },
        {
            "cell_type": "markdown",
            "metadata": {
                "application/vnd.databricks.v1+cell": {
                    "cellMetadata": {},
                    "inputWidgets": {},
                    "nuid": "9028819f-5a66-4ea8-9f12-9051ff8c18d5",
                    "showTitle": false,
                    "title": ""
                }
            },
            "source": "After you plot distance lines to the proximities, you can answer the following questions easily:\n\n*   Are launch sites in close proximity to railways?\n*   Are launch sites in close proximity to highways?\n*   Are launch sites in close proximity to coastline?\n*   Do launch sites keep certain distance away from cities?\n\nAlso please try to explain your findings."
        },
        {
            "cell_type": "markdown",
            "metadata": {
                "application/vnd.databricks.v1+cell": {
                    "cellMetadata": {},
                    "inputWidgets": {},
                    "nuid": "eec6a0c2-c2d9-4de8-bd2e-72e013224391",
                    "showTitle": false,
                    "title": ""
                }
            },
            "source": "# Next Steps:\n\nNow you have discovered many interesting insights related to the launch sites' location using folium, in a very interactive way. Next, you will need to build a dashboard using Ploty Dash on detailed launch records."
        },
        {
            "cell_type": "markdown",
            "metadata": {
                "application/vnd.databricks.v1+cell": {
                    "cellMetadata": {},
                    "inputWidgets": {},
                    "nuid": "02a893e4-8255-4626-86b2-bd31c0965204",
                    "showTitle": false,
                    "title": ""
                }
            },
            "source": "## Authors"
        },
        {
            "cell_type": "markdown",
            "metadata": {
                "application/vnd.databricks.v1+cell": {
                    "cellMetadata": {},
                    "inputWidgets": {},
                    "nuid": "b1d20a0c-afd4-4383-a005-541f81be726b",
                    "showTitle": false,
                    "title": ""
                }
            },
            "source": "[Yan Luo](https://www.linkedin.com/in/yan-luo-96288783/?utm_medium=Exinfluencer&utm_source=Exinfluencer&utm_content=000026UJ&utm_term=10006555&utm_id=NA-SkillsNetwork-Channel-SkillsNetworkCoursesIBMDS0321ENSkillsNetwork26802033-2022-01-01)"
        },
        {
            "cell_type": "markdown",
            "metadata": {
                "application/vnd.databricks.v1+cell": {
                    "cellMetadata": {},
                    "inputWidgets": {},
                    "nuid": "93785123-b64f-4c6f-8881-656e9e36bcec",
                    "showTitle": false,
                    "title": ""
                }
            },
            "source": "### Other Contributors"
        },
        {
            "cell_type": "markdown",
            "metadata": {
                "application/vnd.databricks.v1+cell": {
                    "cellMetadata": {},
                    "inputWidgets": {},
                    "nuid": "293e0306-50af-467e-8316-16da6c8247ab",
                    "showTitle": false,
                    "title": ""
                }
            },
            "source": "Joseph Santarcangelo"
        },
        {
            "cell_type": "markdown",
            "metadata": {
                "application/vnd.databricks.v1+cell": {
                    "cellMetadata": {},
                    "inputWidgets": {},
                    "nuid": "3cadda49-f0ae-445e-a9f5-01ec0868c1ee",
                    "showTitle": false,
                    "title": ""
                }
            },
            "source": "## Change Log"
        },
        {
            "cell_type": "markdown",
            "metadata": {
                "application/vnd.databricks.v1+cell": {
                    "cellMetadata": {},
                    "inputWidgets": {},
                    "nuid": "665e0e7e-47b5-4b52-b5c9-f22b28e139a5",
                    "showTitle": false,
                    "title": ""
                }
            },
            "source": "| Date (YYYY-MM-DD) | Version | Changed By | Change Description          |\n| ----------------- | ------- | ---------- | --------------------------- |\n| 2021-05-26        | 1.0     | Yan        | Created the initial version |"
        },
        {
            "cell_type": "markdown",
            "metadata": {
                "application/vnd.databricks.v1+cell": {
                    "cellMetadata": {},
                    "inputWidgets": {},
                    "nuid": "7afe17ba-99f2-4996-8570-dfa5689d7be5",
                    "showTitle": false,
                    "title": ""
                }
            },
            "source": "Copyright \u00a9 2021 IBM Corporation. All rights reserved."
        }
    ],
    "metadata": {
        "application/vnd.databricks.v1+notebook": {
            "dashboards": [],
            "language": "python",
            "notebookMetadata": {
                "pythonIndentUnit": 4
            },
            "notebookName": "lab_jupyter_launch_site_location",
            "notebookOrigID": 401683325632765,
            "widgets": {}
        },
        "kernelspec": {
            "display_name": "Python 3",
            "language": "python",
            "name": "python3"
        },
        "language_info": {
            "codemirror_mode": {
                "name": "ipython",
                "version": 3
            },
            "file_extension": ".py",
            "mimetype": "text/x-python",
            "name": "python",
            "nbconvert_exporter": "python",
            "pygments_lexer": "ipython3",
            "version": "3.8.8"
        },
        "papermill": {
            "duration": 142.196942,
            "end_time": "2020-09-19T06:29:13.341578",
            "environment_variables": {},
            "exception": null,
            "input_path": "__notebook__.ipynb",
            "output_path": "__notebook__.ipynb",
            "parameters": {},
            "start_time": "2020-09-19T06:26:51.144636",
            "version": "2.1.0"
        }
    },
    "nbformat": 4,
    "nbformat_minor": 0
}